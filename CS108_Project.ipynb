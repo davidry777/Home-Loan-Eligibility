{
  "cells": [
    {
      "cell_type": "markdown",
      "source": [
        "# **Team BADI - Bias in Home Mortgage Bank Loans**"
      ],
      "metadata": {
        "id": "SckYQrhBq-_b"
      }
    },
    {
      "cell_type": "markdown",
      "source": [
        "Project Goal: Create a CNN model for predicting whether a customer is eligible for a home loan or not using important features like 'ApplicantIncome', 'LoanAmount', 'CoapplicantIncome', 'Loan_Amount_Term', 'Credit_History'. We will also clean the data, create visualizations, describe the importance of our features, and analyze fairness using aequitas. "
      ],
      "metadata": {
        "id": "ICDNxvUeifNE"
      }
    },
    {
      "cell_type": "code",
      "execution_count": null,
      "metadata": {
        "colab": {
          "base_uri": "https://localhost:8080/"
        },
        "id": "ScO5Xbqz7nnP",
        "outputId": "70c1007d-1495-49e7-e80d-e673f7338903"
      },
      "outputs": [
        {
          "output_type": "stream",
          "name": "stdout",
          "text": [
            "Looking in indexes: https://pypi.org/simple, https://us-python.pkg.dev/colab-wheels/public/simple/\n",
            "Requirement already satisfied: opendatasets in /usr/local/lib/python3.9/dist-packages (0.1.22)\n",
            "Requirement already satisfied: click in /usr/local/lib/python3.9/dist-packages (from opendatasets) (8.1.3)\n",
            "Requirement already satisfied: kaggle in /usr/local/lib/python3.9/dist-packages (from opendatasets) (1.5.13)\n",
            "Requirement already satisfied: tqdm in /usr/local/lib/python3.9/dist-packages (from opendatasets) (4.65.0)\n",
            "Requirement already satisfied: requests in /usr/local/lib/python3.9/dist-packages (from kaggle->opendatasets) (2.27.1)\n",
            "Requirement already satisfied: python-slugify in /usr/local/lib/python3.9/dist-packages (from kaggle->opendatasets) (8.0.1)\n",
            "Requirement already satisfied: six>=1.10 in /usr/local/lib/python3.9/dist-packages (from kaggle->opendatasets) (1.15.0)\n",
            "Requirement already satisfied: certifi in /usr/local/lib/python3.9/dist-packages (from kaggle->opendatasets) (2022.12.7)\n",
            "Requirement already satisfied: python-dateutil in /usr/local/lib/python3.9/dist-packages (from kaggle->opendatasets) (2.8.2)\n",
            "Requirement already satisfied: urllib3 in /usr/local/lib/python3.9/dist-packages (from kaggle->opendatasets) (1.26.15)\n",
            "Requirement already satisfied: text-unidecode>=1.3 in /usr/local/lib/python3.9/dist-packages (from python-slugify->kaggle->opendatasets) (1.3)\n",
            "Requirement already satisfied: idna<4,>=2.5 in /usr/local/lib/python3.9/dist-packages (from requests->kaggle->opendatasets) (3.4)\n",
            "Requirement already satisfied: charset-normalizer~=2.0.0 in /usr/local/lib/python3.9/dist-packages (from requests->kaggle->opendatasets) (2.0.12)\n"
          ]
        }
      ],
      "source": [
        "!pip install opendatasets\n",
        "import opendatasets as od"
      ]
    },
    {
      "cell_type": "code",
      "execution_count": null,
      "metadata": {
        "colab": {
          "base_uri": "https://localhost:8080/"
        },
        "id": "DPwrHvjb8GyL",
        "outputId": "98811a06-3d28-4e97-8fa0-abdb19d8c3c5"
      },
      "outputs": [
        {
          "output_type": "stream",
          "name": "stdout",
          "text": [
            "Skipping, found downloaded files in \"./loan-eligible-dataset\" (use force=True to force download)\n"
          ]
        }
      ],
      "source": [
        "od.download('https://www.kaggle.com/datasets/vikasukani/loan-eligible-dataset')"
      ]
    },
    {
      "cell_type": "code",
      "execution_count": null,
      "metadata": {
        "id": "BpfdHLb48cGI"
      },
      "outputs": [],
      "source": [
        "import numpy as np\n",
        "import pandas as pd\n",
        "import matplotlib.pyplot as plt\n",
        "import seaborn as sns"
      ]
    },
    {
      "cell_type": "code",
      "execution_count": null,
      "metadata": {
        "id": "LoLb6Is0-kNn"
      },
      "outputs": [],
      "source": [
        "loans = pd.read_csv('/content/loan-eligible-dataset/loan-train.csv')"
      ]
    },
    {
      "cell_type": "markdown",
      "metadata": {
        "id": "gDrfRaYZDrFu"
      },
      "source": [
        "# **Dataset preview**"
      ]
    },
    {
      "cell_type": "markdown",
      "source": [
        "Dream Housing Finance company deals in all home loans. They have a presence across all urban, semi-urban, and rural areas. Customer-first applies for a home loan after that company validates the customer eligibility for a loan.\n",
        "\n",
        "The company wants to automate the loan eligibility process (real-time) based on customer detail provided while filling the online application form. These details are Gender, Marital Status, Education, Number of Dependents, Income, Loan Amount, Credit History, and others. To automate this process, they have given a problem to identify the customer's segments, those are eligible for loan amount so that they can specifically target these customers. Here they have provided a partial data set.\n",
        "\n",
        "[Loans Eligible Dataset](https://www.kaggle.com/datasets/vikasukani/loan-eligible-dataset?datasetId=831855&searchQuery=random+forest)\n"
      ],
      "metadata": {
        "id": "cJtfWEhtWt3i"
      }
    },
    {
      "cell_type": "code",
      "source": [
        "loans.head()"
      ],
      "metadata": {
        "colab": {
          "base_uri": "https://localhost:8080/",
          "height": 288
        },
        "id": "4iETNHz_hFq5",
        "outputId": "8f1e8dd0-a35a-4e2f-d913-051f86d5209f"
      },
      "execution_count": null,
      "outputs": [
        {
          "output_type": "execute_result",
          "data": {
            "text/plain": [
              "    Loan_ID Gender Married Dependents     Education Self_Employed  \\\n",
              "0  LP001002   Male      No          0      Graduate            No   \n",
              "1  LP001003   Male     Yes          1      Graduate            No   \n",
              "2  LP001005   Male     Yes          0      Graduate           Yes   \n",
              "3  LP001006   Male     Yes          0  Not Graduate            No   \n",
              "4  LP001008   Male      No          0      Graduate            No   \n",
              "\n",
              "   ApplicantIncome  CoapplicantIncome  LoanAmount  Loan_Amount_Term  \\\n",
              "0             5849                0.0         NaN             360.0   \n",
              "1             4583             1508.0       128.0             360.0   \n",
              "2             3000                0.0        66.0             360.0   \n",
              "3             2583             2358.0       120.0             360.0   \n",
              "4             6000                0.0       141.0             360.0   \n",
              "\n",
              "   Credit_History Property_Area Loan_Status  \n",
              "0             1.0         Urban           Y  \n",
              "1             1.0         Rural           N  \n",
              "2             1.0         Urban           Y  \n",
              "3             1.0         Urban           Y  \n",
              "4             1.0         Urban           Y  "
            ],
            "text/html": [
              "\n",
              "  <div id=\"df-96ad6778-17d9-468d-906f-a19d3a3fff50\">\n",
              "    <div class=\"colab-df-container\">\n",
              "      <div>\n",
              "<style scoped>\n",
              "    .dataframe tbody tr th:only-of-type {\n",
              "        vertical-align: middle;\n",
              "    }\n",
              "\n",
              "    .dataframe tbody tr th {\n",
              "        vertical-align: top;\n",
              "    }\n",
              "\n",
              "    .dataframe thead th {\n",
              "        text-align: right;\n",
              "    }\n",
              "</style>\n",
              "<table border=\"1\" class=\"dataframe\">\n",
              "  <thead>\n",
              "    <tr style=\"text-align: right;\">\n",
              "      <th></th>\n",
              "      <th>Loan_ID</th>\n",
              "      <th>Gender</th>\n",
              "      <th>Married</th>\n",
              "      <th>Dependents</th>\n",
              "      <th>Education</th>\n",
              "      <th>Self_Employed</th>\n",
              "      <th>ApplicantIncome</th>\n",
              "      <th>CoapplicantIncome</th>\n",
              "      <th>LoanAmount</th>\n",
              "      <th>Loan_Amount_Term</th>\n",
              "      <th>Credit_History</th>\n",
              "      <th>Property_Area</th>\n",
              "      <th>Loan_Status</th>\n",
              "    </tr>\n",
              "  </thead>\n",
              "  <tbody>\n",
              "    <tr>\n",
              "      <th>0</th>\n",
              "      <td>LP001002</td>\n",
              "      <td>Male</td>\n",
              "      <td>No</td>\n",
              "      <td>0</td>\n",
              "      <td>Graduate</td>\n",
              "      <td>No</td>\n",
              "      <td>5849</td>\n",
              "      <td>0.0</td>\n",
              "      <td>NaN</td>\n",
              "      <td>360.0</td>\n",
              "      <td>1.0</td>\n",
              "      <td>Urban</td>\n",
              "      <td>Y</td>\n",
              "    </tr>\n",
              "    <tr>\n",
              "      <th>1</th>\n",
              "      <td>LP001003</td>\n",
              "      <td>Male</td>\n",
              "      <td>Yes</td>\n",
              "      <td>1</td>\n",
              "      <td>Graduate</td>\n",
              "      <td>No</td>\n",
              "      <td>4583</td>\n",
              "      <td>1508.0</td>\n",
              "      <td>128.0</td>\n",
              "      <td>360.0</td>\n",
              "      <td>1.0</td>\n",
              "      <td>Rural</td>\n",
              "      <td>N</td>\n",
              "    </tr>\n",
              "    <tr>\n",
              "      <th>2</th>\n",
              "      <td>LP001005</td>\n",
              "      <td>Male</td>\n",
              "      <td>Yes</td>\n",
              "      <td>0</td>\n",
              "      <td>Graduate</td>\n",
              "      <td>Yes</td>\n",
              "      <td>3000</td>\n",
              "      <td>0.0</td>\n",
              "      <td>66.0</td>\n",
              "      <td>360.0</td>\n",
              "      <td>1.0</td>\n",
              "      <td>Urban</td>\n",
              "      <td>Y</td>\n",
              "    </tr>\n",
              "    <tr>\n",
              "      <th>3</th>\n",
              "      <td>LP001006</td>\n",
              "      <td>Male</td>\n",
              "      <td>Yes</td>\n",
              "      <td>0</td>\n",
              "      <td>Not Graduate</td>\n",
              "      <td>No</td>\n",
              "      <td>2583</td>\n",
              "      <td>2358.0</td>\n",
              "      <td>120.0</td>\n",
              "      <td>360.0</td>\n",
              "      <td>1.0</td>\n",
              "      <td>Urban</td>\n",
              "      <td>Y</td>\n",
              "    </tr>\n",
              "    <tr>\n",
              "      <th>4</th>\n",
              "      <td>LP001008</td>\n",
              "      <td>Male</td>\n",
              "      <td>No</td>\n",
              "      <td>0</td>\n",
              "      <td>Graduate</td>\n",
              "      <td>No</td>\n",
              "      <td>6000</td>\n",
              "      <td>0.0</td>\n",
              "      <td>141.0</td>\n",
              "      <td>360.0</td>\n",
              "      <td>1.0</td>\n",
              "      <td>Urban</td>\n",
              "      <td>Y</td>\n",
              "    </tr>\n",
              "  </tbody>\n",
              "</table>\n",
              "</div>\n",
              "      <button class=\"colab-df-convert\" onclick=\"convertToInteractive('df-96ad6778-17d9-468d-906f-a19d3a3fff50')\"\n",
              "              title=\"Convert this dataframe to an interactive table.\"\n",
              "              style=\"display:none;\">\n",
              "        \n",
              "  <svg xmlns=\"http://www.w3.org/2000/svg\" height=\"24px\"viewBox=\"0 0 24 24\"\n",
              "       width=\"24px\">\n",
              "    <path d=\"M0 0h24v24H0V0z\" fill=\"none\"/>\n",
              "    <path d=\"M18.56 5.44l.94 2.06.94-2.06 2.06-.94-2.06-.94-.94-2.06-.94 2.06-2.06.94zm-11 1L8.5 8.5l.94-2.06 2.06-.94-2.06-.94L8.5 2.5l-.94 2.06-2.06.94zm10 10l.94 2.06.94-2.06 2.06-.94-2.06-.94-.94-2.06-.94 2.06-2.06.94z\"/><path d=\"M17.41 7.96l-1.37-1.37c-.4-.4-.92-.59-1.43-.59-.52 0-1.04.2-1.43.59L10.3 9.45l-7.72 7.72c-.78.78-.78 2.05 0 2.83L4 21.41c.39.39.9.59 1.41.59.51 0 1.02-.2 1.41-.59l7.78-7.78 2.81-2.81c.8-.78.8-2.07 0-2.86zM5.41 20L4 18.59l7.72-7.72 1.47 1.35L5.41 20z\"/>\n",
              "  </svg>\n",
              "      </button>\n",
              "      \n",
              "  <style>\n",
              "    .colab-df-container {\n",
              "      display:flex;\n",
              "      flex-wrap:wrap;\n",
              "      gap: 12px;\n",
              "    }\n",
              "\n",
              "    .colab-df-convert {\n",
              "      background-color: #E8F0FE;\n",
              "      border: none;\n",
              "      border-radius: 50%;\n",
              "      cursor: pointer;\n",
              "      display: none;\n",
              "      fill: #1967D2;\n",
              "      height: 32px;\n",
              "      padding: 0 0 0 0;\n",
              "      width: 32px;\n",
              "    }\n",
              "\n",
              "    .colab-df-convert:hover {\n",
              "      background-color: #E2EBFA;\n",
              "      box-shadow: 0px 1px 2px rgba(60, 64, 67, 0.3), 0px 1px 3px 1px rgba(60, 64, 67, 0.15);\n",
              "      fill: #174EA6;\n",
              "    }\n",
              "\n",
              "    [theme=dark] .colab-df-convert {\n",
              "      background-color: #3B4455;\n",
              "      fill: #D2E3FC;\n",
              "    }\n",
              "\n",
              "    [theme=dark] .colab-df-convert:hover {\n",
              "      background-color: #434B5C;\n",
              "      box-shadow: 0px 1px 3px 1px rgba(0, 0, 0, 0.15);\n",
              "      filter: drop-shadow(0px 1px 2px rgba(0, 0, 0, 0.3));\n",
              "      fill: #FFFFFF;\n",
              "    }\n",
              "  </style>\n",
              "\n",
              "      <script>\n",
              "        const buttonEl =\n",
              "          document.querySelector('#df-96ad6778-17d9-468d-906f-a19d3a3fff50 button.colab-df-convert');\n",
              "        buttonEl.style.display =\n",
              "          google.colab.kernel.accessAllowed ? 'block' : 'none';\n",
              "\n",
              "        async function convertToInteractive(key) {\n",
              "          const element = document.querySelector('#df-96ad6778-17d9-468d-906f-a19d3a3fff50');\n",
              "          const dataTable =\n",
              "            await google.colab.kernel.invokeFunction('convertToInteractive',\n",
              "                                                     [key], {});\n",
              "          if (!dataTable) return;\n",
              "\n",
              "          const docLinkHtml = 'Like what you see? Visit the ' +\n",
              "            '<a target=\"_blank\" href=https://colab.research.google.com/notebooks/data_table.ipynb>data table notebook</a>'\n",
              "            + ' to learn more about interactive tables.';\n",
              "          element.innerHTML = '';\n",
              "          dataTable['output_type'] = 'display_data';\n",
              "          await google.colab.output.renderOutput(dataTable, element);\n",
              "          const docLink = document.createElement('div');\n",
              "          docLink.innerHTML = docLinkHtml;\n",
              "          element.appendChild(docLink);\n",
              "        }\n",
              "      </script>\n",
              "    </div>\n",
              "  </div>\n",
              "  "
            ]
          },
          "metadata": {},
          "execution_count": 94
        }
      ]
    },
    {
      "cell_type": "code",
      "source": [
        "print(\"Shape: \", loans.shape)"
      ],
      "metadata": {
        "colab": {
          "base_uri": "https://localhost:8080/"
        },
        "id": "6fziQtpcfyDh",
        "outputId": "846d2817-2c1f-4479-dc59-9daf444b8d6d"
      },
      "execution_count": null,
      "outputs": [
        {
          "output_type": "stream",
          "name": "stdout",
          "text": [
            "Shape:  (614, 13)\n"
          ]
        }
      ]
    },
    {
      "cell_type": "code",
      "execution_count": null,
      "metadata": {
        "colab": {
          "base_uri": "https://localhost:8080/"
        },
        "id": "zO22zqLMDv7O",
        "outputId": "c8df9cd1-7f59-4e77-d8a1-65946e5c49ba"
      },
      "outputs": [
        {
          "output_type": "stream",
          "name": "stdout",
          "text": [
            "<class 'pandas.core.frame.DataFrame'>\n",
            "RangeIndex: 614 entries, 0 to 613\n",
            "Data columns (total 13 columns):\n",
            " #   Column             Non-Null Count  Dtype  \n",
            "---  ------             --------------  -----  \n",
            " 0   Loan_ID            614 non-null    object \n",
            " 1   Gender             601 non-null    object \n",
            " 2   Married            611 non-null    object \n",
            " 3   Dependents         599 non-null    object \n",
            " 4   Education          614 non-null    object \n",
            " 5   Self_Employed      582 non-null    object \n",
            " 6   ApplicantIncome    614 non-null    int64  \n",
            " 7   CoapplicantIncome  614 non-null    float64\n",
            " 8   LoanAmount         592 non-null    float64\n",
            " 9   Loan_Amount_Term   600 non-null    float64\n",
            " 10  Credit_History     564 non-null    float64\n",
            " 11  Property_Area      614 non-null    object \n",
            " 12  Loan_Status        614 non-null    object \n",
            "dtypes: float64(4), int64(1), object(8)\n",
            "memory usage: 62.5+ KB\n"
          ]
        }
      ],
      "source": [
        "loans.info()"
      ]
    },
    {
      "cell_type": "code",
      "source": [
        "loans.isnull().sum()"
      ],
      "metadata": {
        "colab": {
          "base_uri": "https://localhost:8080/"
        },
        "id": "rPxX4uZMhxqV",
        "outputId": "b8b578dc-2fd3-4db9-afa2-fc06e30e348c"
      },
      "execution_count": null,
      "outputs": [
        {
          "output_type": "execute_result",
          "data": {
            "text/plain": [
              "Loan_ID               0\n",
              "Gender               13\n",
              "Married               3\n",
              "Dependents           15\n",
              "Education             0\n",
              "Self_Employed        32\n",
              "ApplicantIncome       0\n",
              "CoapplicantIncome     0\n",
              "LoanAmount           22\n",
              "Loan_Amount_Term     14\n",
              "Credit_History       50\n",
              "Property_Area         0\n",
              "Loan_Status           0\n",
              "dtype: int64"
            ]
          },
          "metadata": {},
          "execution_count": 97
        }
      ]
    },
    {
      "cell_type": "markdown",
      "source": [
        "# **Data Cleaning & Manipulation**\n"
      ],
      "metadata": {
        "id": "L7AsuZBNpTNb"
      }
    },
    {
      "cell_type": "code",
      "source": [
        "loans.drop('Loan_ID', axis=1, inplace=True)\n",
        "loans.head()"
      ],
      "metadata": {
        "colab": {
          "base_uri": "https://localhost:8080/",
          "height": 288
        },
        "id": "p2Ld77QDpbzw",
        "outputId": "722221be-ff9c-45f7-9b1b-6005199d9e65"
      },
      "execution_count": null,
      "outputs": [
        {
          "output_type": "execute_result",
          "data": {
            "text/plain": [
              "  Gender Married Dependents     Education Self_Employed  ApplicantIncome  \\\n",
              "0   Male      No          0      Graduate            No             5849   \n",
              "1   Male     Yes          1      Graduate            No             4583   \n",
              "2   Male     Yes          0      Graduate           Yes             3000   \n",
              "3   Male     Yes          0  Not Graduate            No             2583   \n",
              "4   Male      No          0      Graduate            No             6000   \n",
              "\n",
              "   CoapplicantIncome  LoanAmount  Loan_Amount_Term  Credit_History  \\\n",
              "0                0.0         NaN             360.0             1.0   \n",
              "1             1508.0       128.0             360.0             1.0   \n",
              "2                0.0        66.0             360.0             1.0   \n",
              "3             2358.0       120.0             360.0             1.0   \n",
              "4                0.0       141.0             360.0             1.0   \n",
              "\n",
              "  Property_Area Loan_Status  \n",
              "0         Urban           Y  \n",
              "1         Rural           N  \n",
              "2         Urban           Y  \n",
              "3         Urban           Y  \n",
              "4         Urban           Y  "
            ],
            "text/html": [
              "\n",
              "  <div id=\"df-d6b3ef20-f410-40d1-9a42-050842b9f62c\">\n",
              "    <div class=\"colab-df-container\">\n",
              "      <div>\n",
              "<style scoped>\n",
              "    .dataframe tbody tr th:only-of-type {\n",
              "        vertical-align: middle;\n",
              "    }\n",
              "\n",
              "    .dataframe tbody tr th {\n",
              "        vertical-align: top;\n",
              "    }\n",
              "\n",
              "    .dataframe thead th {\n",
              "        text-align: right;\n",
              "    }\n",
              "</style>\n",
              "<table border=\"1\" class=\"dataframe\">\n",
              "  <thead>\n",
              "    <tr style=\"text-align: right;\">\n",
              "      <th></th>\n",
              "      <th>Gender</th>\n",
              "      <th>Married</th>\n",
              "      <th>Dependents</th>\n",
              "      <th>Education</th>\n",
              "      <th>Self_Employed</th>\n",
              "      <th>ApplicantIncome</th>\n",
              "      <th>CoapplicantIncome</th>\n",
              "      <th>LoanAmount</th>\n",
              "      <th>Loan_Amount_Term</th>\n",
              "      <th>Credit_History</th>\n",
              "      <th>Property_Area</th>\n",
              "      <th>Loan_Status</th>\n",
              "    </tr>\n",
              "  </thead>\n",
              "  <tbody>\n",
              "    <tr>\n",
              "      <th>0</th>\n",
              "      <td>Male</td>\n",
              "      <td>No</td>\n",
              "      <td>0</td>\n",
              "      <td>Graduate</td>\n",
              "      <td>No</td>\n",
              "      <td>5849</td>\n",
              "      <td>0.0</td>\n",
              "      <td>NaN</td>\n",
              "      <td>360.0</td>\n",
              "      <td>1.0</td>\n",
              "      <td>Urban</td>\n",
              "      <td>Y</td>\n",
              "    </tr>\n",
              "    <tr>\n",
              "      <th>1</th>\n",
              "      <td>Male</td>\n",
              "      <td>Yes</td>\n",
              "      <td>1</td>\n",
              "      <td>Graduate</td>\n",
              "      <td>No</td>\n",
              "      <td>4583</td>\n",
              "      <td>1508.0</td>\n",
              "      <td>128.0</td>\n",
              "      <td>360.0</td>\n",
              "      <td>1.0</td>\n",
              "      <td>Rural</td>\n",
              "      <td>N</td>\n",
              "    </tr>\n",
              "    <tr>\n",
              "      <th>2</th>\n",
              "      <td>Male</td>\n",
              "      <td>Yes</td>\n",
              "      <td>0</td>\n",
              "      <td>Graduate</td>\n",
              "      <td>Yes</td>\n",
              "      <td>3000</td>\n",
              "      <td>0.0</td>\n",
              "      <td>66.0</td>\n",
              "      <td>360.0</td>\n",
              "      <td>1.0</td>\n",
              "      <td>Urban</td>\n",
              "      <td>Y</td>\n",
              "    </tr>\n",
              "    <tr>\n",
              "      <th>3</th>\n",
              "      <td>Male</td>\n",
              "      <td>Yes</td>\n",
              "      <td>0</td>\n",
              "      <td>Not Graduate</td>\n",
              "      <td>No</td>\n",
              "      <td>2583</td>\n",
              "      <td>2358.0</td>\n",
              "      <td>120.0</td>\n",
              "      <td>360.0</td>\n",
              "      <td>1.0</td>\n",
              "      <td>Urban</td>\n",
              "      <td>Y</td>\n",
              "    </tr>\n",
              "    <tr>\n",
              "      <th>4</th>\n",
              "      <td>Male</td>\n",
              "      <td>No</td>\n",
              "      <td>0</td>\n",
              "      <td>Graduate</td>\n",
              "      <td>No</td>\n",
              "      <td>6000</td>\n",
              "      <td>0.0</td>\n",
              "      <td>141.0</td>\n",
              "      <td>360.0</td>\n",
              "      <td>1.0</td>\n",
              "      <td>Urban</td>\n",
              "      <td>Y</td>\n",
              "    </tr>\n",
              "  </tbody>\n",
              "</table>\n",
              "</div>\n",
              "      <button class=\"colab-df-convert\" onclick=\"convertToInteractive('df-d6b3ef20-f410-40d1-9a42-050842b9f62c')\"\n",
              "              title=\"Convert this dataframe to an interactive table.\"\n",
              "              style=\"display:none;\">\n",
              "        \n",
              "  <svg xmlns=\"http://www.w3.org/2000/svg\" height=\"24px\"viewBox=\"0 0 24 24\"\n",
              "       width=\"24px\">\n",
              "    <path d=\"M0 0h24v24H0V0z\" fill=\"none\"/>\n",
              "    <path d=\"M18.56 5.44l.94 2.06.94-2.06 2.06-.94-2.06-.94-.94-2.06-.94 2.06-2.06.94zm-11 1L8.5 8.5l.94-2.06 2.06-.94-2.06-.94L8.5 2.5l-.94 2.06-2.06.94zm10 10l.94 2.06.94-2.06 2.06-.94-2.06-.94-.94-2.06-.94 2.06-2.06.94z\"/><path d=\"M17.41 7.96l-1.37-1.37c-.4-.4-.92-.59-1.43-.59-.52 0-1.04.2-1.43.59L10.3 9.45l-7.72 7.72c-.78.78-.78 2.05 0 2.83L4 21.41c.39.39.9.59 1.41.59.51 0 1.02-.2 1.41-.59l7.78-7.78 2.81-2.81c.8-.78.8-2.07 0-2.86zM5.41 20L4 18.59l7.72-7.72 1.47 1.35L5.41 20z\"/>\n",
              "  </svg>\n",
              "      </button>\n",
              "      \n",
              "  <style>\n",
              "    .colab-df-container {\n",
              "      display:flex;\n",
              "      flex-wrap:wrap;\n",
              "      gap: 12px;\n",
              "    }\n",
              "\n",
              "    .colab-df-convert {\n",
              "      background-color: #E8F0FE;\n",
              "      border: none;\n",
              "      border-radius: 50%;\n",
              "      cursor: pointer;\n",
              "      display: none;\n",
              "      fill: #1967D2;\n",
              "      height: 32px;\n",
              "      padding: 0 0 0 0;\n",
              "      width: 32px;\n",
              "    }\n",
              "\n",
              "    .colab-df-convert:hover {\n",
              "      background-color: #E2EBFA;\n",
              "      box-shadow: 0px 1px 2px rgba(60, 64, 67, 0.3), 0px 1px 3px 1px rgba(60, 64, 67, 0.15);\n",
              "      fill: #174EA6;\n",
              "    }\n",
              "\n",
              "    [theme=dark] .colab-df-convert {\n",
              "      background-color: #3B4455;\n",
              "      fill: #D2E3FC;\n",
              "    }\n",
              "\n",
              "    [theme=dark] .colab-df-convert:hover {\n",
              "      background-color: #434B5C;\n",
              "      box-shadow: 0px 1px 3px 1px rgba(0, 0, 0, 0.15);\n",
              "      filter: drop-shadow(0px 1px 2px rgba(0, 0, 0, 0.3));\n",
              "      fill: #FFFFFF;\n",
              "    }\n",
              "  </style>\n",
              "\n",
              "      <script>\n",
              "        const buttonEl =\n",
              "          document.querySelector('#df-d6b3ef20-f410-40d1-9a42-050842b9f62c button.colab-df-convert');\n",
              "        buttonEl.style.display =\n",
              "          google.colab.kernel.accessAllowed ? 'block' : 'none';\n",
              "\n",
              "        async function convertToInteractive(key) {\n",
              "          const element = document.querySelector('#df-d6b3ef20-f410-40d1-9a42-050842b9f62c');\n",
              "          const dataTable =\n",
              "            await google.colab.kernel.invokeFunction('convertToInteractive',\n",
              "                                                     [key], {});\n",
              "          if (!dataTable) return;\n",
              "\n",
              "          const docLinkHtml = 'Like what you see? Visit the ' +\n",
              "            '<a target=\"_blank\" href=https://colab.research.google.com/notebooks/data_table.ipynb>data table notebook</a>'\n",
              "            + ' to learn more about interactive tables.';\n",
              "          element.innerHTML = '';\n",
              "          dataTable['output_type'] = 'display_data';\n",
              "          await google.colab.output.renderOutput(dataTable, element);\n",
              "          const docLink = document.createElement('div');\n",
              "          docLink.innerHTML = docLinkHtml;\n",
              "          element.appendChild(docLink);\n",
              "        }\n",
              "      </script>\n",
              "    </div>\n",
              "  </div>\n",
              "  "
            ]
          },
          "metadata": {},
          "execution_count": 98
        }
      ]
    },
    {
      "cell_type": "code",
      "source": [
        "loans['Credit_History'].fillna(0, inplace=True)\n",
        "loans.isnull().sum()"
      ],
      "metadata": {
        "colab": {
          "base_uri": "https://localhost:8080/"
        },
        "id": "BzND8NCApgqn",
        "outputId": "d930d1bf-a94c-48cf-8c4d-23db40643e70"
      },
      "execution_count": null,
      "outputs": [
        {
          "output_type": "execute_result",
          "data": {
            "text/plain": [
              "Gender               13\n",
              "Married               3\n",
              "Dependents           15\n",
              "Education             0\n",
              "Self_Employed        32\n",
              "ApplicantIncome       0\n",
              "CoapplicantIncome     0\n",
              "LoanAmount           22\n",
              "Loan_Amount_Term     14\n",
              "Credit_History        0\n",
              "Property_Area         0\n",
              "Loan_Status           0\n",
              "dtype: int64"
            ]
          },
          "metadata": {},
          "execution_count": 99
        }
      ]
    },
    {
      "cell_type": "code",
      "source": [
        "loans['Dependents'].fillna('0', inplace=True)\n",
        "loans.isnull().sum()"
      ],
      "metadata": {
        "colab": {
          "base_uri": "https://localhost:8080/"
        },
        "id": "r09ReDetp_9g",
        "outputId": "fdd9b170-9d18-445e-b0d8-676cfcacd7aa"
      },
      "execution_count": null,
      "outputs": [
        {
          "output_type": "execute_result",
          "data": {
            "text/plain": [
              "Gender               13\n",
              "Married               3\n",
              "Dependents            0\n",
              "Education             0\n",
              "Self_Employed        32\n",
              "ApplicantIncome       0\n",
              "CoapplicantIncome     0\n",
              "LoanAmount           22\n",
              "Loan_Amount_Term     14\n",
              "Credit_History        0\n",
              "Property_Area         0\n",
              "Loan_Status           0\n",
              "dtype: int64"
            ]
          },
          "metadata": {},
          "execution_count": 100
        }
      ]
    },
    {
      "cell_type": "code",
      "source": [
        "loans['Self_Employed'].fillna('No', inplace=True)\n",
        "loans.isnull().sum()"
      ],
      "metadata": {
        "colab": {
          "base_uri": "https://localhost:8080/"
        },
        "id": "72XG2c-5rsba",
        "outputId": "5d992c1a-e2a9-46cb-bd5e-ccb553869bc3"
      },
      "execution_count": null,
      "outputs": [
        {
          "output_type": "execute_result",
          "data": {
            "text/plain": [
              "Gender               13\n",
              "Married               3\n",
              "Dependents            0\n",
              "Education             0\n",
              "Self_Employed         0\n",
              "ApplicantIncome       0\n",
              "CoapplicantIncome     0\n",
              "LoanAmount           22\n",
              "Loan_Amount_Term     14\n",
              "Credit_History        0\n",
              "Property_Area         0\n",
              "Loan_Status           0\n",
              "dtype: int64"
            ]
          },
          "metadata": {},
          "execution_count": 101
        }
      ]
    },
    {
      "cell_type": "code",
      "source": [
        "loans['Gender'].fillna('unknown', inplace=True)\n",
        "loans['Married'].fillna('unknown', inplace=True)\n",
        "loans.isnull().sum()"
      ],
      "metadata": {
        "id": "aq3SU_FSSLdv",
        "colab": {
          "base_uri": "https://localhost:8080/"
        },
        "outputId": "6ad3c699-4921-43dd-8502-337b8b36a978"
      },
      "execution_count": null,
      "outputs": [
        {
          "output_type": "execute_result",
          "data": {
            "text/plain": [
              "Gender                0\n",
              "Married               0\n",
              "Dependents            0\n",
              "Education             0\n",
              "Self_Employed         0\n",
              "ApplicantIncome       0\n",
              "CoapplicantIncome     0\n",
              "LoanAmount           22\n",
              "Loan_Amount_Term     14\n",
              "Credit_History        0\n",
              "Property_Area         0\n",
              "Loan_Status           0\n",
              "dtype: int64"
            ]
          },
          "metadata": {},
          "execution_count": 102
        }
      ]
    },
    {
      "cell_type": "code",
      "source": [
        "len(loans)"
      ],
      "metadata": {
        "colab": {
          "base_uri": "https://localhost:8080/"
        },
        "id": "cBFx3LChzQZ1",
        "outputId": "bb05e925-c8b4-422b-c7ef-9ee58fccebf1"
      },
      "execution_count": null,
      "outputs": [
        {
          "output_type": "execute_result",
          "data": {
            "text/plain": [
              "614"
            ]
          },
          "metadata": {},
          "execution_count": 103
        }
      ]
    },
    {
      "cell_type": "markdown",
      "source": [
        "# **Data Visualization**"
      ],
      "metadata": {
        "id": "-65rSS6xo5my"
      }
    },
    {
      "cell_type": "code",
      "execution_count": null,
      "metadata": {
        "id": "gTBMelhcPPjk",
        "colab": {
          "base_uri": "https://localhost:8080/",
          "height": 1000
        },
        "outputId": "6ceb0c30-a5ae-4130-8b7f-d500d1a5c8e3"
      },
      "outputs": [
        {
          "output_type": "execute_result",
          "data": {
            "text/plain": [
              "<Axes: >"
            ]
          },
          "metadata": {},
          "execution_count": 104
        },
        {
          "output_type": "display_data",
          "data": {
            "text/plain": [
              "<Figure size 720x1440 with 2 Axes>"
            ],
            "image/png": "[encoded data removed]"
          },
          "metadata": {
            "needs_background": "light"
          }
        }
      ],
      "source": [
        "sns.heatmap(loans.corr(), annot = True)"
      ]
    },
    {
      "cell_type": "code",
      "execution_count": null,
      "metadata": {
        "id": "0aA3fVRdT9zb",
        "colab": {
          "base_uri": "https://localhost:8080/"
        },
        "outputId": "f491a611-68e2-4a82-a632-937542882527"
      },
      "outputs": [
        {
          "output_type": "stream",
          "name": "stdout",
          "text": [
            "Looking in indexes: https://pypi.org/simple, https://us-python.pkg.dev/colab-wheels/public/simple/\n",
            "Requirement already satisfied: association-metrics in /usr/local/lib/python3.9/dist-packages (0.0.1)\n"
          ]
        }
      ],
      "source": [
        "pip install association-metrics"
      ]
    },
    {
      "cell_type": "code",
      "execution_count": null,
      "metadata": {
        "id": "4Pjb5Bi7T-FW",
        "colab": {
          "base_uri": "https://localhost:8080/",
          "height": 1000
        },
        "outputId": "d94ee79b-ebae-4aca-eeb9-59604b12bca2"
      },
      "outputs": [
        {
          "output_type": "execute_result",
          "data": {
            "text/plain": [
              "<Axes: >"
            ]
          },
          "metadata": {},
          "execution_count": 106
        },
        {
          "output_type": "display_data",
          "data": {
            "text/plain": [
              "<Figure size 720x1440 with 2 Axes>"
            ],
            "image/png": "[encoded data removed]"
          },
          "metadata": {
            "needs_background": "light"
          }
        }
      ],
      "source": [
        "import association_metrics as am\n",
        "loans2 = loans.apply(lambda x: x.astype(\"category\") if x.dtype == \"O\" else x)\n",
        "cramersv = am.CramersV(loans2) \n",
        "sns.heatmap(cramersv.fit(), annot = True)"
      ]
    },
    {
      "cell_type": "code",
      "execution_count": null,
      "metadata": {
        "id": "_RlHj9x9ScRi",
        "colab": {
          "base_uri": "https://localhost:8080/",
          "height": 175
        },
        "outputId": "42a076a0-1598-4993-d2fc-da3a493ed9d8"
      },
      "outputs": [
        {
          "output_type": "execute_result",
          "data": {
            "text/plain": [
              "Loan_Status    N    Y\n",
              "Gender               \n",
              "Female        37   75\n",
              "Male         150  339\n",
              "unknown        5    8"
            ],
            "text/html": [
              "\n",
              "  <div id=\"df-c6619beb-ed30-4501-a9de-3f9dba568680\">\n",
              "    <div class=\"colab-df-container\">\n",
              "      <div>\n",
              "<style scoped>\n",
              "    .dataframe tbody tr th:only-of-type {\n",
              "        vertical-align: middle;\n",
              "    }\n",
              "\n",
              "    .dataframe tbody tr th {\n",
              "        vertical-align: top;\n",
              "    }\n",
              "\n",
              "    .dataframe thead th {\n",
              "        text-align: right;\n",
              "    }\n",
              "</style>\n",
              "<table border=\"1\" class=\"dataframe\">\n",
              "  <thead>\n",
              "    <tr style=\"text-align: right;\">\n",
              "      <th>Loan_Status</th>\n",
              "      <th>N</th>\n",
              "      <th>Y</th>\n",
              "    </tr>\n",
              "    <tr>\n",
              "      <th>Gender</th>\n",
              "      <th></th>\n",
              "      <th></th>\n",
              "    </tr>\n",
              "  </thead>\n",
              "  <tbody>\n",
              "    <tr>\n",
              "      <th>Female</th>\n",
              "      <td>37</td>\n",
              "      <td>75</td>\n",
              "    </tr>\n",
              "    <tr>\n",
              "      <th>Male</th>\n",
              "      <td>150</td>\n",
              "      <td>339</td>\n",
              "    </tr>\n",
              "    <tr>\n",
              "      <th>unknown</th>\n",
              "      <td>5</td>\n",
              "      <td>8</td>\n",
              "    </tr>\n",
              "  </tbody>\n",
              "</table>\n",
              "</div>\n",
              "      <button class=\"colab-df-convert\" onclick=\"convertToInteractive('df-c6619beb-ed30-4501-a9de-3f9dba568680')\"\n",
              "              title=\"Convert this dataframe to an interactive table.\"\n",
              "              style=\"display:none;\">\n",
              "        \n",
              "  <svg xmlns=\"http://www.w3.org/2000/svg\" height=\"24px\"viewBox=\"0 0 24 24\"\n",
              "       width=\"24px\">\n",
              "    <path d=\"M0 0h24v24H0V0z\" fill=\"none\"/>\n",
              "    <path d=\"M18.56 5.44l.94 2.06.94-2.06 2.06-.94-2.06-.94-.94-2.06-.94 2.06-2.06.94zm-11 1L8.5 8.5l.94-2.06 2.06-.94-2.06-.94L8.5 2.5l-.94 2.06-2.06.94zm10 10l.94 2.06.94-2.06 2.06-.94-2.06-.94-.94-2.06-.94 2.06-2.06.94z\"/><path d=\"M17.41 7.96l-1.37-1.37c-.4-.4-.92-.59-1.43-.59-.52 0-1.04.2-1.43.59L10.3 9.45l-7.72 7.72c-.78.78-.78 2.05 0 2.83L4 21.41c.39.39.9.59 1.41.59.51 0 1.02-.2 1.41-.59l7.78-7.78 2.81-2.81c.8-.78.8-2.07 0-2.86zM5.41 20L4 18.59l7.72-7.72 1.47 1.35L5.41 20z\"/>\n",
              "  </svg>\n",
              "      </button>\n",
              "      \n",
              "  <style>\n",
              "    .colab-df-container {\n",
              "      display:flex;\n",
              "      flex-wrap:wrap;\n",
              "      gap: 12px;\n",
              "    }\n",
              "\n",
              "    .colab-df-convert {\n",
              "      background-color: #E8F0FE;\n",
              "      border: none;\n",
              "      border-radius: 50%;\n",
              "      cursor: pointer;\n",
              "      display: none;\n",
              "      fill: #1967D2;\n",
              "      height: 32px;\n",
              "      padding: 0 0 0 0;\n",
              "      width: 32px;\n",
              "    }\n",
              "\n",
              "    .colab-df-convert:hover {\n",
              "      background-color: #E2EBFA;\n",
              "      box-shadow: 0px 1px 2px rgba(60, 64, 67, 0.3), 0px 1px 3px 1px rgba(60, 64, 67, 0.15);\n",
              "      fill: #174EA6;\n",
              "    }\n",
              "\n",
              "    [theme=dark] .colab-df-convert {\n",
              "      background-color: #3B4455;\n",
              "      fill: #D2E3FC;\n",
              "    }\n",
              "\n",
              "    [theme=dark] .colab-df-convert:hover {\n",
              "      background-color: #434B5C;\n",
              "      box-shadow: 0px 1px 3px 1px rgba(0, 0, 0, 0.15);\n",
              "      filter: drop-shadow(0px 1px 2px rgba(0, 0, 0, 0.3));\n",
              "      fill: #FFFFFF;\n",
              "    }\n",
              "  </style>\n",
              "\n",
              "      <script>\n",
              "        const buttonEl =\n",
              "          document.querySelector('#df-c6619beb-ed30-4501-a9de-3f9dba568680 button.colab-df-convert');\n",
              "        buttonEl.style.display =\n",
              "          google.colab.kernel.accessAllowed ? 'block' : 'none';\n",
              "\n",
              "        async function convertToInteractive(key) {\n",
              "          const element = document.querySelector('#df-c6619beb-ed30-4501-a9de-3f9dba568680');\n",
              "          const dataTable =\n",
              "            await google.colab.kernel.invokeFunction('convertToInteractive',\n",
              "                                                     [key], {});\n",
              "          if (!dataTable) return;\n",
              "\n",
              "          const docLinkHtml = 'Like what you see? Visit the ' +\n",
              "            '<a target=\"_blank\" href=https://colab.research.google.com/notebooks/data_table.ipynb>data table notebook</a>'\n",
              "            + ' to learn more about interactive tables.';\n",
              "          element.innerHTML = '';\n",
              "          dataTable['output_type'] = 'display_data';\n",
              "          await google.colab.output.renderOutput(dataTable, element);\n",
              "          const docLink = document.createElement('div');\n",
              "          docLink.innerHTML = docLinkHtml;\n",
              "          element.appendChild(docLink);\n",
              "        }\n",
              "      </script>\n",
              "    </div>\n",
              "  </div>\n",
              "  "
            ]
          },
          "metadata": {},
          "execution_count": 107
        }
      ],
      "source": [
        "ct = pd.crosstab(index = loans.Gender, columns = loans.Loan_Status)\n",
        "ct"
      ]
    },
    {
      "cell_type": "code",
      "execution_count": null,
      "metadata": {
        "id": "yhF1qQMaSvCb",
        "colab": {
          "base_uri": "https://localhost:8080/"
        },
        "outputId": "2c8138e6-b0ab-4021-c989-d25635b99d73"
      },
      "outputs": [
        {
          "output_type": "execute_result",
          "data": {
            "text/plain": [
              "0.7573361980618397"
            ]
          },
          "metadata": {},
          "execution_count": 108
        }
      ],
      "source": [
        "from scipy.stats import chi2_contingency\n",
        "chisq = chi2_contingency(ct)\n",
        "chisq[1]"
      ]
    },
    {
      "cell_type": "code",
      "execution_count": null,
      "metadata": {
        "colab": {
          "base_uri": "https://localhost:8080/",
          "height": 1000
        },
        "id": "3DDXL1rItPBv",
        "outputId": "18d1d367-41b4-452f-d9a6-fb7733b5f9a6"
      },
      "outputs": [
        {
          "output_type": "execute_result",
          "data": {
            "text/plain": [
              "<Axes: xlabel='Loan_Status', ylabel='count'>"
            ]
          },
          "metadata": {},
          "execution_count": 109
        },
        {
          "output_type": "display_data",
          "data": {
            "text/plain": [
              "<Figure size 720x1440 with 1 Axes>"
            ],
            "image/png": "[encoded data removed]"
          },
          "metadata": {
            "needs_background": "light"
          }
        }
      ],
      "source": [
        "sns.countplot(data = loans, x = 'Loan_Status')"
      ]
    },
    {
      "cell_type": "code",
      "source": [
        "sns.countplot(data = loans, x = 'Gender')"
      ],
      "metadata": {
        "colab": {
          "base_uri": "https://localhost:8080/",
          "height": 1000
        },
        "id": "nnG4h0Pw9oTN",
        "outputId": "b7cbe4bc-6421-45a3-f20e-2ebb67a366b1"
      },
      "execution_count": null,
      "outputs": [
        {
          "output_type": "execute_result",
          "data": {
            "text/plain": [
              "<Axes: xlabel='Gender', ylabel='count'>"
            ]
          },
          "metadata": {},
          "execution_count": 110
        },
        {
          "output_type": "display_data",
          "data": {
            "text/plain": [
              "<Figure size 720x1440 with 1 Axes>"
            ],
            "image/png": "[encoded data removed]"
          },
          "metadata": {
            "needs_background": "light"
          }
        }
      ]
    },
    {
      "cell_type": "code",
      "execution_count": null,
      "metadata": {
        "id": "PFQ8jTVFBYmx",
        "colab": {
          "base_uri": "https://localhost:8080/",
          "height": 1000
        },
        "outputId": "f0fb066b-484f-4701-c87f-58edf412de55"
      },
      "outputs": [
        {
          "output_type": "execute_result",
          "data": {
            "text/plain": [
              "<Axes: xlabel='Loan_Status', ylabel='count'>"
            ]
          },
          "metadata": {},
          "execution_count": 111
        },
        {
          "output_type": "display_data",
          "data": {
            "text/plain": [
              "<Figure size 720x1440 with 1 Axes>"
            ],
            "image/png": "[encoded data removed]"
          },
          "metadata": {
            "needs_background": "light"
          }
        }
      ],
      "source": [
        "sns.countplot(data = loans, x = 'Loan_Status', hue = 'Gender')"
      ]
    },
    {
      "cell_type": "code",
      "source": [
        "sns.countplot(data = loans, x = 'Loan_Status', hue = 'Married')"
      ],
      "metadata": {
        "colab": {
          "base_uri": "https://localhost:8080/",
          "height": 1000
        },
        "id": "u6HxvfMZRmO3",
        "outputId": "193448fa-a390-47c7-8553-1aa1bae48635"
      },
      "execution_count": null,
      "outputs": [
        {
          "output_type": "execute_result",
          "data": {
            "text/plain": [
              "<Axes: xlabel='Loan_Status', ylabel='count'>"
            ]
          },
          "metadata": {},
          "execution_count": 112
        },
        {
          "output_type": "display_data",
          "data": {
            "text/plain": [
              "<Figure size 720x1440 with 1 Axes>"
            ],
            "image/png": "[encoded data removed]"
          },
          "metadata": {
            "needs_background": "light"
          }
        }
      ]
    },
    {
      "cell_type": "code",
      "execution_count": null,
      "metadata": {
        "id": "Zb1vlHjYFqiO",
        "colab": {
          "base_uri": "https://localhost:8080/",
          "height": 1000
        },
        "outputId": "d6687105-20c7-428e-b76a-8918bcdaac80"
      },
      "outputs": [
        {
          "output_type": "execute_result",
          "data": {
            "text/plain": [
              "<Axes: xlabel='Education', ylabel='count'>"
            ]
          },
          "metadata": {},
          "execution_count": 113
        },
        {
          "output_type": "display_data",
          "data": {
            "text/plain": [
              "<Figure size 720x1440 with 1 Axes>"
            ],
            "image/png": "[encoded data removed]"
          },
          "metadata": {
            "needs_background": "light"
          }
        }
      ],
      "source": [
        "sns.countplot(data = loans, x = 'Education', hue = 'Loan_Status')"
      ]
    },
    {
      "cell_type": "code",
      "source": [
        "sns.histplot(data = loans, x = 'LoanAmount', hue = 'Loan_Status')"
      ],
      "metadata": {
        "colab": {
          "base_uri": "https://localhost:8080/",
          "height": 1000
        },
        "id": "n1fqR1iWG3Gn",
        "outputId": "1b224104-0cac-401d-a884-001ae02d5a91"
      },
      "execution_count": null,
      "outputs": [
        {
          "output_type": "execute_result",
          "data": {
            "text/plain": [
              "<Axes: xlabel='LoanAmount', ylabel='Count'>"
            ]
          },
          "metadata": {},
          "execution_count": 114
        },
        {
          "output_type": "display_data",
          "data": {
            "text/plain": [
              "<Figure size 720x1440 with 1 Axes>"
            ],
            "image/png": "[encoded data removed]"
          },
          "metadata": {
            "needs_background": "light"
          }
        }
      ]
    },
    {
      "cell_type": "code",
      "source": [
        "sns.histplot(data = loans, x = 'ApplicantIncome', hue = 'Loan_Status')"
      ],
      "metadata": {
        "colab": {
          "base_uri": "https://localhost:8080/",
          "height": 1000
        },
        "id": "0Q9AER9hL4FN",
        "outputId": "d9532173-ee5c-4f9e-ca39-414175033e41"
      },
      "execution_count": null,
      "outputs": [
        {
          "output_type": "execute_result",
          "data": {
            "text/plain": [
              "<Axes: xlabel='ApplicantIncome', ylabel='Count'>"
            ]
          },
          "metadata": {},
          "execution_count": 115
        },
        {
          "output_type": "display_data",
          "data": {
            "text/plain": [
              "<Figure size 720x1440 with 1 Axes>"
            ],
            "image/png": "[encoded data removed]"
          },
          "metadata": {
            "needs_background": "light"
          }
        }
      ]
    },
    {
      "cell_type": "code",
      "source": [
        "sns.countplot(data = loans, x = 'Dependents', hue = 'Loan_Status')"
      ],
      "metadata": {
        "colab": {
          "base_uri": "https://localhost:8080/",
          "height": 1000
        },
        "outputId": "e8050ddf-ed99-4856-ca65-c0ef28055359",
        "id": "xdT1scgNNXDx"
      },
      "execution_count": null,
      "outputs": [
        {
          "output_type": "execute_result",
          "data": {
            "text/plain": [
              "<Axes: xlabel='Dependents', ylabel='count'>"
            ]
          },
          "metadata": {},
          "execution_count": 116
        },
        {
          "output_type": "display_data",
          "data": {
            "text/plain": [
              "<Figure size 720x1440 with 1 Axes>"
            ],
            "image/png": "[encoded data removed]"
          },
          "metadata": {
            "needs_background": "light"
          }
        }
      ]
    },
    {
      "cell_type": "code",
      "execution_count": null,
      "metadata": {
        "id": "9wKG26ZX9ow3",
        "colab": {
          "base_uri": "https://localhost:8080/",
          "height": 387
        },
        "outputId": "95685f71-ae91-479b-e015-4c924f78fc8d"
      },
      "outputs": [
        {
          "output_type": "execute_result",
          "data": {
            "text/plain": [
              "<seaborn.axisgrid.FacetGrid at 0x7f6118cd17c0>"
            ]
          },
          "metadata": {},
          "execution_count": 117
        },
        {
          "output_type": "display_data",
          "data": {
            "text/plain": [
              "<Figure size 428.625x360 with 1 Axes>"
            ],
            "image/png": "[encoded data removed]"
          },
          "metadata": {
            "needs_background": "light"
          }
        }
      ],
      "source": [
        "sns.lmplot(data = loans, x = 'LoanAmount', y = 'ApplicantIncome', hue = 'Loan_Status')"
      ]
    },
    {
      "cell_type": "code",
      "execution_count": null,
      "metadata": {
        "id": "quWaYOl5Wb93",
        "colab": {
          "base_uri": "https://localhost:8080/",
          "height": 1000
        },
        "outputId": "72388a56-5698-4694-e8fe-051bdad9eae3"
      },
      "outputs": [
        {
          "output_type": "execute_result",
          "data": {
            "text/plain": [
              "<Axes: xlabel='Property_Area', ylabel='count'>"
            ]
          },
          "metadata": {},
          "execution_count": 118
        },
        {
          "output_type": "display_data",
          "data": {
            "text/plain": [
              "<Figure size 720x1440 with 1 Axes>"
            ],
            "image/png": "[encoded data removed]"
          },
          "metadata": {
            "needs_background": "light"
          }
        }
      ],
      "source": [
        "sns.countplot(data = loans, x = 'Property_Area', hue = 'Loan_Status')"
      ]
    },
    {
      "cell_type": "code",
      "execution_count": null,
      "metadata": {
        "id": "03OIPAHY_YFK",
        "colab": {
          "base_uri": "https://localhost:8080/",
          "height": 1000
        },
        "outputId": "f1883382-f3ac-4b19-d1fd-2fd2d22a778d"
      },
      "outputs": [
        {
          "output_type": "execute_result",
          "data": {
            "text/plain": [
              "<Axes: xlabel='LoanAmount', ylabel='Loan_Amount_Term'>"
            ]
          },
          "metadata": {},
          "execution_count": 119
        },
        {
          "output_type": "display_data",
          "data": {
            "text/plain": [
              "<Figure size 720x1440 with 1 Axes>"
            ],
            "image/png": "[encoded data removed]"
          },
          "metadata": {
            "needs_background": "light"
          }
        }
      ],
      "source": [
        "sns.histplot(data = loans, x = 'LoanAmount', y = 'Loan_Amount_Term', hue = 'Loan_Status')"
      ]
    },
    {
      "cell_type": "code",
      "source": [
        "sns.countplot(data = loans, x = 'Credit_History', hue = 'Loan_Status')"
      ],
      "metadata": {
        "colab": {
          "base_uri": "https://localhost:8080/",
          "height": 1000
        },
        "id": "HpNd7JyDF3V2",
        "outputId": "df67b888-cebc-4599-8daf-c8749420c66b"
      },
      "execution_count": null,
      "outputs": [
        {
          "output_type": "execute_result",
          "data": {
            "text/plain": [
              "<Axes: xlabel='Credit_History', ylabel='count'>"
            ]
          },
          "metadata": {},
          "execution_count": 120
        },
        {
          "output_type": "display_data",
          "data": {
            "text/plain": [
              "<Figure size 720x1440 with 1 Axes>"
            ],
            "image/png": "[encoded data removed]"
          },
          "metadata": {
            "needs_background": "light"
          }
        }
      ]
    },
    {
      "cell_type": "code",
      "source": [
        "sns.countplot(data = loans, x = 'Self_Employed', hue = 'Loan_Status')"
      ],
      "metadata": {
        "colab": {
          "base_uri": "https://localhost:8080/",
          "height": 1000
        },
        "outputId": "629f5ed8-af21-4d17-bf07-340105f86452",
        "id": "IMpfGhC2NYKa"
      },
      "execution_count": null,
      "outputs": [
        {
          "output_type": "execute_result",
          "data": {
            "text/plain": [
              "<Axes: xlabel='Self_Employed', ylabel='count'>"
            ]
          },
          "metadata": {},
          "execution_count": 121
        },
        {
          "output_type": "display_data",
          "data": {
            "text/plain": [
              "<Figure size 720x1440 with 1 Axes>"
            ],
            "image/png": "[encoded data removed]"
          },
          "metadata": {
            "needs_background": "light"
          }
        }
      ]
    },
    {
      "cell_type": "code",
      "source": [
        "sns.scatterplot(data = loans, x = 'ApplicantIncome', y = 'CoapplicantIncome', hue = 'Loan_Status')"
      ],
      "metadata": {
        "colab": {
          "base_uri": "https://localhost:8080/",
          "height": 1000
        },
        "id": "2f39tB_vIjGP",
        "outputId": "143388f4-21b8-4c9a-caad-bca193bb15f4"
      },
      "execution_count": null,
      "outputs": [
        {
          "output_type": "execute_result",
          "data": {
            "text/plain": [
              "<Axes: xlabel='ApplicantIncome', ylabel='CoapplicantIncome'>"
            ]
          },
          "metadata": {},
          "execution_count": 122
        },
        {
          "output_type": "display_data",
          "data": {
            "text/plain": [
              "<Figure size 720x1440 with 1 Axes>"
            ],
            "image/png": "[encoded data removed]"
          },
          "metadata": {
            "needs_background": "light"
          }
        }
      ]
    },
    {
      "cell_type": "markdown",
      "source": [
        "# **Feature Importance**\n"
      ],
      "metadata": {
        "id": "FqkCwj4G0aX_"
      }
    },
    {
      "cell_type": "code",
      "source": [
        "!pip install xgboost"
      ],
      "metadata": {
        "id": "9_YO4CnP2bUR",
        "colab": {
          "base_uri": "https://localhost:8080/"
        },
        "outputId": "240f454f-5845-49db-d511-4191789ba159"
      },
      "execution_count": null,
      "outputs": [
        {
          "output_type": "stream",
          "name": "stdout",
          "text": [
            "Looking in indexes: https://pypi.org/simple, https://us-python.pkg.dev/colab-wheels/public/simple/\n",
            "Requirement already satisfied: xgboost in /usr/local/lib/python3.9/dist-packages (1.7.4)\n",
            "Requirement already satisfied: scipy in /usr/local/lib/python3.9/dist-packages (from xgboost) (1.10.1)\n",
            "Requirement already satisfied: numpy in /usr/local/lib/python3.9/dist-packages (from xgboost) (1.22.4)\n"
          ]
        }
      ]
    },
    {
      "cell_type": "markdown",
      "source": [
        "To better understand which features on our dataset are best at predicting the target `Loan_Status`, we decided to use XGBoost Classifier to determine which features have higher importance for predicting the target `Loan_Status` "
      ],
      "metadata": {
        "id": "H37OF0emXu8O"
      }
    },
    {
      "cell_type": "code",
      "source": [
        "from sklearn.compose import ColumnTransformer\n",
        "from sklearn.preprocessing import OneHotEncoder\n",
        "from sklearn.linear_model import LogisticRegression\n",
        "from sklearn.preprocessing import LabelEncoder\n",
        "from sklearn.model_selection import train_test_split\n",
        "from sklearn.metrics import accuracy_score\n",
        "\n",
        "import xgboost\n",
        "from xgboost import plot_importance"
      ],
      "metadata": {
        "id": "wL-6ArvS2aT7"
      },
      "execution_count": null,
      "outputs": []
    },
    {
      "cell_type": "code",
      "source": [
        "feature_names = loans.columns[:-1]"
      ],
      "metadata": {
        "id": "QRVwWXl8XYzZ"
      },
      "execution_count": null,
      "outputs": []
    },
    {
      "cell_type": "code",
      "source": [
        "feature_names"
      ],
      "metadata": {
        "colab": {
          "base_uri": "https://localhost:8080/"
        },
        "id": "tKHSfu3KXgwX",
        "outputId": "cf29a96b-1b0d-424a-971b-16201b7b0b56"
      },
      "execution_count": null,
      "outputs": [
        {
          "output_type": "execute_result",
          "data": {
            "text/plain": [
              "Index(['Gender', 'Married', 'Dependents', 'Education', 'Self_Employed',\n",
              "       'ApplicantIncome', 'CoapplicantIncome', 'LoanAmount',\n",
              "       'Loan_Amount_Term', 'Credit_History', 'Property_Area'],\n",
              "      dtype='object')"
            ]
          },
          "metadata": {},
          "execution_count": 126
        }
      ]
    },
    {
      "cell_type": "markdown",
      "source": [
        "Here, we mapped our labels for the target:"
      ],
      "metadata": {
        "id": "tcdu802KYKOu"
      }
    },
    {
      "cell_type": "code",
      "source": [
        "labels = loans.iloc[:,-1]\n",
        "le = LabelEncoder()\n",
        "le.fit(labels)\n",
        "labels = le.transform(labels)\n",
        "class_names = le.classes_\n",
        "data = loans.iloc[:,:-1]\n",
        "le_label_mapping = dict(zip(le.classes_, le.transform(le.classes_)))\n",
        "print(\"Class names: \", class_names)\n",
        "print(\"Label mapping: \", le_label_mapping)"
      ],
      "metadata": {
        "id": "aJnMHRZUItNV",
        "colab": {
          "base_uri": "https://localhost:8080/"
        },
        "outputId": "fd26ae67-4d0a-4fb3-deaf-45e56f5eb591"
      },
      "execution_count": null,
      "outputs": [
        {
          "output_type": "stream",
          "name": "stdout",
          "text": [
            "Class names:  ['N' 'Y']\n",
            "Label mapping:  {'N': 0, 'Y': 1}\n"
          ]
        }
      ]
    },
    {
      "cell_type": "code",
      "source": [
        "labels"
      ],
      "metadata": {
        "colab": {
          "base_uri": "https://localhost:8080/"
        },
        "id": "72wf7jNAX-EP",
        "outputId": "432d6b32-6f51-4e59-f600-5b1c2d51b279"
      },
      "execution_count": null,
      "outputs": [
        {
          "output_type": "execute_result",
          "data": {
            "text/plain": [
              "array([1, 0, 1, 1, 1, 1, 1, 0, 1, 0, 1, 1, 1, 0, 1, 1, 1, 0, 0, 1, 0, 1,\n",
              "       0, 0, 0, 1, 1, 1, 0, 1, 0, 0, 0, 1, 0, 1, 0, 1, 1, 1, 0, 1, 1, 1,\n",
              "       1, 1, 1, 1, 0, 1, 1, 1, 0, 0, 0, 1, 1, 0, 1, 1, 1, 1, 0, 0, 0, 0,\n",
              "       0, 1, 1, 0, 1, 1, 1, 0, 1, 0, 0, 0, 0, 1, 1, 1, 0, 0, 1, 1, 1, 1,\n",
              "       1, 1, 1, 1, 1, 1, 1, 0, 1, 1, 1, 1, 1, 1, 1, 1, 1, 1, 1, 0, 0, 1,\n",
              "       1, 1, 0, 1, 1, 1, 1, 1, 0, 1, 1, 1, 1, 1, 1, 1, 1, 1, 0, 0, 1, 1,\n",
              "       1, 1, 1, 0, 0, 1, 0, 0, 0, 1, 1, 1, 1, 1, 1, 1, 0, 1, 0, 1, 0, 0,\n",
              "       1, 1, 1, 1, 1, 1, 1, 0, 0, 1, 1, 1, 0, 1, 0, 1, 1, 1, 0, 1, 0, 1,\n",
              "       1, 0, 1, 0, 0, 0, 1, 0, 1, 1, 0, 1, 1, 1, 1, 0, 0, 1, 1, 0, 1, 1,\n",
              "       1, 0, 1, 1, 0, 1, 1, 1, 1, 1, 1, 0, 0, 0, 1, 1, 1, 1, 0, 1, 0, 1,\n",
              "       0, 1, 1, 1, 1, 0, 0, 1, 1, 1, 1, 1, 1, 1, 1, 1, 0, 1, 1, 1, 1, 0,\n",
              "       1, 1, 1, 0, 1, 1, 1, 1, 0, 0, 1, 1, 0, 1, 0, 0, 0, 0, 1, 1, 0, 1,\n",
              "       1, 1, 1, 1, 0, 1, 1, 1, 1, 1, 1, 1, 1, 1, 1, 1, 0, 1, 1, 1, 0, 1,\n",
              "       0, 1, 1, 1, 1, 0, 1, 0, 1, 1, 1, 1, 0, 0, 0, 1, 1, 1, 1, 0, 1, 0,\n",
              "       0, 1, 1, 1, 1, 1, 0, 1, 1, 1, 1, 0, 1, 1, 1, 1, 1, 0, 1, 1, 0, 1,\n",
              "       1, 1, 1, 1, 1, 1, 1, 1, 0, 1, 0, 0, 1, 1, 1, 1, 0, 1, 1, 1, 1, 0,\n",
              "       1, 0, 1, 1, 1, 0, 0, 1, 0, 1, 1, 1, 1, 0, 0, 0, 1, 0, 1, 1, 1, 0,\n",
              "       1, 1, 1, 1, 0, 1, 1, 1, 1, 1, 0, 1, 1, 0, 1, 1, 1, 1, 1, 1, 1, 1,\n",
              "       0, 1, 1, 0, 0, 0, 1, 1, 0, 1, 1, 1, 0, 0, 0, 1, 0, 1, 0, 1, 0, 0,\n",
              "       1, 1, 1, 0, 1, 0, 1, 1, 0, 1, 1, 1, 1, 0, 1, 1, 1, 1, 1, 1, 0, 1,\n",
              "       1, 1, 1, 1, 1, 1, 1, 0, 0, 0, 0, 1, 0, 1, 1, 1, 1, 0, 1, 0, 1, 1,\n",
              "       1, 1, 0, 1, 0, 1, 1, 0, 1, 0, 1, 1, 1, 1, 1, 0, 1, 0, 1, 1, 1, 1,\n",
              "       1, 1, 0, 0, 1, 0, 1, 1, 1, 1, 0, 1, 1, 1, 1, 0, 1, 1, 1, 0, 1, 1,\n",
              "       1, 0, 1, 1, 0, 1, 1, 0, 0, 1, 1, 0, 0, 0, 1, 1, 1, 1, 0, 1, 1, 1,\n",
              "       1, 1, 1, 1, 0, 0, 1, 1, 1, 1, 0, 1, 1, 0, 1, 1, 1, 1, 0, 1, 0, 1,\n",
              "       0, 1, 1, 0, 0, 1, 1, 1, 1, 1, 1, 1, 1, 1, 0, 1, 1, 0, 0, 0, 1, 0,\n",
              "       1, 0, 0, 1, 0, 1, 1, 1, 1, 0, 1, 0, 0, 0, 1, 1, 1, 0, 1, 0, 1, 1,\n",
              "       1, 1, 0, 0, 1, 1, 0, 1, 1, 1, 1, 0, 1, 1, 1, 1, 1, 1, 1, 0])"
            ]
          },
          "metadata": {},
          "execution_count": 128
        }
      ]
    },
    {
      "cell_type": "markdown",
      "source": [
        "Here, we checked if there are categorical varibles that we need to make dummies for, and generated a list of which variables are categorical"
      ],
      "metadata": {
        "id": "TBi7JXoXYP8t"
      }
    },
    {
      "cell_type": "code",
      "source": [
        "print(data.dtypes)\n",
        "\n",
        "categorical_features  = [i for i in range(len(data.dtypes)) if data.dtypes[i]=='object']\n",
        "print(\"Indices of categorical features: \", categorical_features)"
      ],
      "metadata": {
        "id": "bJuhArnrKE-w",
        "colab": {
          "base_uri": "https://localhost:8080/"
        },
        "outputId": "b8ea3f7a-c97a-4988-eb1b-8252610d27c1"
      },
      "execution_count": null,
      "outputs": [
        {
          "output_type": "stream",
          "name": "stdout",
          "text": [
            "Gender                object\n",
            "Married               object\n",
            "Dependents            object\n",
            "Education             object\n",
            "Self_Employed         object\n",
            "ApplicantIncome        int64\n",
            "CoapplicantIncome    float64\n",
            "LoanAmount           float64\n",
            "Loan_Amount_Term     float64\n",
            "Credit_History       float64\n",
            "Property_Area         object\n",
            "dtype: object\n",
            "Indices of categorical features:  [0, 1, 2, 3, 4, 10]\n"
          ]
        }
      ]
    },
    {
      "cell_type": "code",
      "source": [],
      "metadata": {
        "id": "lJFoMEt6YZRF"
      },
      "execution_count": null,
      "outputs": []
    },
    {
      "cell_type": "markdown",
      "source": [
        "Here, we used LabelEncoder to map categories to numbers, and replaced the categories with corresponding numbers in the original data"
      ],
      "metadata": {
        "id": "RCmU0Z_GYfht"
      }
    },
    {
      "cell_type": "code",
      "source": [
        "categorical_names = {}\n",
        "for feature in categorical_features:\n",
        "    print(\"Feature: \", feature)\n",
        "    le = LabelEncoder()\n",
        "    le.fit(loans.iloc[:, feature])\n",
        "    loans.iloc[:, feature] = le.transform(loans.iloc[:, feature])\n",
        "    categorical_names[feature] = le.classes_\n",
        "    print(categorical_names[feature])\n",
        "    print(\"==================================================\")"
      ],
      "metadata": {
        "id": "FKfCx4qlG6kU",
        "colab": {
          "base_uri": "https://localhost:8080/"
        },
        "outputId": "bd519c6a-fb4e-4729-e2f9-b725e536d827"
      },
      "execution_count": null,
      "outputs": [
        {
          "output_type": "stream",
          "name": "stdout",
          "text": [
            "Feature:  0\n",
            "['Female' 'Male' 'unknown']\n",
            "==================================================\n",
            "Feature:  1\n",
            "['No' 'Yes' 'unknown']\n",
            "==================================================\n",
            "Feature:  2\n",
            "['0' '1' '2' '3+']\n",
            "==================================================\n",
            "Feature:  3\n",
            "['Graduate' 'Not Graduate']\n",
            "==================================================\n",
            "Feature:  4\n",
            "['No' 'Yes']\n",
            "==================================================\n",
            "Feature:  10\n",
            "['Rural' 'Semiurban' 'Urban']\n",
            "==================================================\n"
          ]
        }
      ]
    },
    {
      "cell_type": "code",
      "source": [
        "categorical_names"
      ],
      "metadata": {
        "colab": {
          "base_uri": "https://localhost:8080/"
        },
        "id": "HetE1ZF3Z4Y4",
        "outputId": "bd2c74be-50ed-4b34-d04d-6b2a3a301105"
      },
      "execution_count": null,
      "outputs": [
        {
          "output_type": "execute_result",
          "data": {
            "text/plain": [
              "{0: array(['Female', 'Male', 'unknown'], dtype=object),\n",
              " 1: array(['No', 'Yes', 'unknown'], dtype=object),\n",
              " 2: array(['0', '1', '2', '3+'], dtype=object),\n",
              " 3: array(['Graduate', 'Not Graduate'], dtype=object),\n",
              " 4: array(['No', 'Yes'], dtype=object),\n",
              " 10: array(['Rural', 'Semiurban', 'Urban'], dtype=object)}"
            ]
          },
          "metadata": {},
          "execution_count": 131
        }
      ]
    },
    {
      "cell_type": "markdown",
      "source": [
        "Here, we fit our encoder, using the adjusted `loan` data (we stored the adjusted version into `data`)"
      ],
      "metadata": {
        "id": "o_18YE9IYswl"
      }
    },
    {
      "cell_type": "code",
      "source": [
        "encoder = ColumnTransformer(transformers=[('get_dummies', OneHotEncoder(), categorical_features)], remainder='passthrough')\n",
        "encoder = encoder.fit(data)"
      ],
      "metadata": {
        "id": "3mPylU7mIBN3"
      },
      "execution_count": null,
      "outputs": []
    },
    {
      "cell_type": "code",
      "source": [
        "train, test, labels_train, labels_test = train_test_split(data, labels, train_size=0.90, random_state=10)\n",
        "print(\"Train shape: \", train.shape)\n",
        "print(\"Test shape: \", test.shape)"
      ],
      "metadata": {
        "id": "rlcDf1fL70Ff",
        "colab": {
          "base_uri": "https://localhost:8080/"
        },
        "outputId": "d5336ffe-be92-4c97-c0fe-8b7e504ddbd2"
      },
      "execution_count": null,
      "outputs": [
        {
          "output_type": "stream",
          "name": "stdout",
          "text": [
            "Train shape:  (552, 11)\n",
            "Test shape:  (62, 11)\n"
          ]
        }
      ]
    },
    {
      "cell_type": "code",
      "source": [
        "labels_train[1:100]"
      ],
      "metadata": {
        "colab": {
          "base_uri": "https://localhost:8080/"
        },
        "id": "k5vTy6HraNUk",
        "outputId": "87a49bd0-06ca-40ef-ff4f-982a5ea0d02b"
      },
      "execution_count": null,
      "outputs": [
        {
          "output_type": "execute_result",
          "data": {
            "text/plain": [
              "array([1, 1, 0, 0, 1, 1, 0, 1, 1, 1, 0, 1, 1, 1, 1, 0, 1, 1, 0, 1, 1, 1,\n",
              "       1, 0, 0, 0, 0, 1, 1, 0, 1, 1, 1, 1, 1, 0, 0, 1, 1, 1, 1, 1, 1, 1,\n",
              "       1, 0, 0, 0, 1, 1, 1, 1, 1, 1, 1, 0, 1, 1, 0, 1, 1, 1, 1, 1, 1, 1,\n",
              "       1, 1, 1, 1, 1, 0, 1, 0, 0, 1, 1, 1, 1, 1, 0, 1, 1, 1, 1, 1, 1, 1,\n",
              "       0, 1, 1, 0, 0, 1, 1, 0, 0, 1, 1])"
            ]
          },
          "metadata": {},
          "execution_count": 134
        }
      ]
    },
    {
      "cell_type": "markdown",
      "source": [
        "Here, we fit the XGBoost Tree Classifier with our data, performed an accuracy test, and checked which features are important to help us determine the target. "
      ],
      "metadata": {
        "id": "ceOdj1y-Y4Sx"
      }
    },
    {
      "cell_type": "code",
      "source": [
        "gbtree = xgboost.XGBClassifier(n_estimators=100, max_depth=5)\n",
        "gbtree.fit(encoder.transform(train), labels_train)"
      ],
      "metadata": {
        "id": "BwrAr_soJHC0",
        "colab": {
          "base_uri": "https://localhost:8080/",
          "height": 248
        },
        "outputId": "159a010e-e6a3-42c1-c7fd-3aab7e6d7d46"
      },
      "execution_count": null,
      "outputs": [
        {
          "output_type": "execute_result",
          "data": {
            "text/plain": [
              "XGBClassifier(base_score=None, booster=None, callbacks=None,\n",
              "              colsample_bylevel=None, colsample_bynode=None,\n",
              "              colsample_bytree=None, early_stopping_rounds=None,\n",
              "              enable_categorical=False, eval_metric=None, feature_types=None,\n",
              "              gamma=None, gpu_id=None, grow_policy=None, importance_type=None,\n",
              "              interaction_constraints=None, learning_rate=None, max_bin=None,\n",
              "              max_cat_threshold=None, max_cat_to_onehot=None,\n",
              "              max_delta_step=None, max_depth=5, max_leaves=None,\n",
              "              min_child_weight=None, missing=nan, monotone_constraints=None,\n",
              "              n_estimators=100, n_jobs=None, num_parallel_tree=None,\n",
              "              predictor=None, random_state=None, ...)"
            ],
            "text/html": [
              "<style>#sk-container-id-2 {color: black;background-color: white;}#sk-container-id-2 pre{padding: 0;}#sk-container-id-2 div.sk-toggleable {background-color: white;}#sk-container-id-2 label.sk-toggleable__label {cursor: pointer;display: block;width: 100%;margin-bottom: 0;padding: 0.3em;box-sizing: border-box;text-align: center;}#sk-container-id-2 label.sk-toggleable__label-arrow:before {content: \"▸\";float: left;margin-right: 0.25em;color: #696969;}#sk-container-id-2 label.sk-toggleable__label-arrow:hover:before {color: black;}#sk-container-id-2 div.sk-estimator:hover label.sk-toggleable__label-arrow:before {color: black;}#sk-container-id-2 div.sk-toggleable__content {max-height: 0;max-width: 0;overflow: hidden;text-align: left;background-color: #f0f8ff;}#sk-container-id-2 div.sk-toggleable__content pre {margin: 0.2em;color: black;border-radius: 0.25em;background-color: #f0f8ff;}#sk-container-id-2 input.sk-toggleable__control:checked~div.sk-toggleable__content {max-height: 200px;max-width: 100%;overflow: auto;}#sk-container-id-2 input.sk-toggleable__control:checked~label.sk-toggleable__label-arrow:before {content: \"▾\";}#sk-container-id-2 div.sk-estimator input.sk-toggleable__control:checked~label.sk-toggleable__label {background-color: #d4ebff;}#sk-container-id-2 div.sk-label input.sk-toggleable__control:checked~label.sk-toggleable__label {background-color: #d4ebff;}#sk-container-id-2 input.sk-hidden--visually {border: 0;clip: rect(1px 1px 1px 1px);clip: rect(1px, 1px, 1px, 1px);height: 1px;margin: -1px;overflow: hidden;padding: 0;position: absolute;width: 1px;}#sk-container-id-2 div.sk-estimator {font-family: monospace;background-color: #f0f8ff;border: 1px dotted black;border-radius: 0.25em;box-sizing: border-box;margin-bottom: 0.5em;}#sk-container-id-2 div.sk-estimator:hover {background-color: #d4ebff;}#sk-container-id-2 div.sk-parallel-item::after {content: \"\";width: 100%;border-bottom: 1px solid gray;flex-grow: 1;}#sk-container-id-2 div.sk-label:hover label.sk-toggleable__label {background-color: #d4ebff;}#sk-container-id-2 div.sk-serial::before {content: \"\";position: absolute;border-left: 1px solid gray;box-sizing: border-box;top: 0;bottom: 0;left: 50%;z-index: 0;}#sk-container-id-2 div.sk-serial {display: flex;flex-direction: column;align-items: center;background-color: white;padding-right: 0.2em;padding-left: 0.2em;position: relative;}#sk-container-id-2 div.sk-item {position: relative;z-index: 1;}#sk-container-id-2 div.sk-parallel {display: flex;align-items: stretch;justify-content: center;background-color: white;position: relative;}#sk-container-id-2 div.sk-item::before, #sk-container-id-2 div.sk-parallel-item::before {content: \"\";position: absolute;border-left: 1px solid gray;box-sizing: border-box;top: 0;bottom: 0;left: 50%;z-index: -1;}#sk-container-id-2 div.sk-parallel-item {display: flex;flex-direction: column;z-index: 1;position: relative;background-color: white;}#sk-container-id-2 div.sk-parallel-item:first-child::after {align-self: flex-end;width: 50%;}#sk-container-id-2 div.sk-parallel-item:last-child::after {align-self: flex-start;width: 50%;}#sk-container-id-2 div.sk-parallel-item:only-child::after {width: 0;}#sk-container-id-2 div.sk-dashed-wrapped {border: 1px dashed gray;margin: 0 0.4em 0.5em 0.4em;box-sizing: border-box;padding-bottom: 0.4em;background-color: white;}#sk-container-id-2 div.sk-label label {font-family: monospace;font-weight: bold;display: inline-block;line-height: 1.2em;}#sk-container-id-2 div.sk-label-container {text-align: center;}#sk-container-id-2 div.sk-container {/* jupyter's `normalize.less` sets `[hidden] { display: none; }` but bootstrap.min.css set `[hidden] { display: none !important; }` so we also need the `!important` here to be able to override the default hidden behavior on the sphinx rendered scikit-learn.org. See: https://github.com/scikit-learn/scikit-learn/issues/21755 */display: inline-block !important;position: relative;}#sk-container-id-2 div.sk-text-repr-fallback {display: none;}</style><div id=\"sk-container-id-2\" class=\"sk-top-container\"><div class=\"sk-text-repr-fallback\"><pre>XGBClassifier(base_score=None, booster=None, callbacks=None,\n",
              "              colsample_bylevel=None, colsample_bynode=None,\n",
              "              colsample_bytree=None, early_stopping_rounds=None,\n",
              "              enable_categorical=False, eval_metric=None, feature_types=None,\n",
              "              gamma=None, gpu_id=None, grow_policy=None, importance_type=None,\n",
              "              interaction_constraints=None, learning_rate=None, max_bin=None,\n",
              "              max_cat_threshold=None, max_cat_to_onehot=None,\n",
              "              max_delta_step=None, max_depth=5, max_leaves=None,\n",
              "              min_child_weight=None, missing=nan, monotone_constraints=None,\n",
              "              n_estimators=100, n_jobs=None, num_parallel_tree=None,\n",
              "              predictor=None, random_state=None, ...)</pre><b>In a Jupyter environment, please rerun this cell to show the HTML representation or trust the notebook. <br />On GitHub, the HTML representation is unable to render, please try loading this page with nbviewer.org.</b></div><div class=\"sk-container\" hidden><div class=\"sk-item\"><div class=\"sk-estimator sk-toggleable\"><input class=\"sk-toggleable__control sk-hidden--visually\" id=\"sk-estimator-id-2\" type=\"checkbox\" checked><label for=\"sk-estimator-id-2\" class=\"sk-toggleable__label sk-toggleable__label-arrow\">XGBClassifier</label><div class=\"sk-toggleable__content\"><pre>XGBClassifier(base_score=None, booster=None, callbacks=None,\n",
              "              colsample_bylevel=None, colsample_bynode=None,\n",
              "              colsample_bytree=None, early_stopping_rounds=None,\n",
              "              enable_categorical=False, eval_metric=None, feature_types=None,\n",
              "              gamma=None, gpu_id=None, grow_policy=None, importance_type=None,\n",
              "              interaction_constraints=None, learning_rate=None, max_bin=None,\n",
              "              max_cat_threshold=None, max_cat_to_onehot=None,\n",
              "              max_delta_step=None, max_depth=5, max_leaves=None,\n",
              "              min_child_weight=None, missing=nan, monotone_constraints=None,\n",
              "              n_estimators=100, n_jobs=None, num_parallel_tree=None,\n",
              "              predictor=None, random_state=None, ...)</pre></div></div></div></div></div>"
            ]
          },
          "metadata": {},
          "execution_count": 135
        }
      ]
    },
    {
      "cell_type": "code",
      "source": [
        "pred_labels_test = gbtree.predict(encoder.transform(test))\n",
        "\n",
        "print(\"Test set accuracy: \", accuracy_score(labels_test, pred_labels_test))"
      ],
      "metadata": {
        "colab": {
          "base_uri": "https://localhost:8080/"
        },
        "id": "L4OnaANZP2Iq",
        "outputId": "68cb6284-f9f9-476c-ca42-611a921a146c"
      },
      "execution_count": null,
      "outputs": [
        {
          "output_type": "stream",
          "name": "stdout",
          "text": [
            "Test set accuracy:  0.7419354838709677\n"
          ]
        }
      ]
    },
    {
      "cell_type": "code",
      "source": [
        "gbtree_features_orig = gbtree.get_booster().feature_names\n",
        "gbtree_features = []\n",
        "\n",
        "for cat_var in categorical_names:\n",
        "  print(cat_var)\n",
        "  cat_var_names = [feature_names[cat_var] +\" = \" + cat for cat in categorical_names[cat_var]]\n",
        "  gbtree_features.extend(cat_var_names)\n",
        "gbtree_features.extend([feature_names[i] for i in range(len(feature_names)) if i not in categorical_features])\n",
        "gbtree.get_booster().feature_names = gbtree_features\n",
        "\n",
        "plt.rcParams[\"figure.figsize\"] = (10,20)\n",
        "plot_importance(gbtree.get_booster(), )"
      ],
      "metadata": {
        "colab": {
          "base_uri": "https://localhost:8080/",
          "height": 1000
        },
        "id": "jxQSq-2yQWHi",
        "outputId": "56e4aee3-a208-46f9-ee8f-bc9c40e2a029"
      },
      "execution_count": null,
      "outputs": [
        {
          "output_type": "stream",
          "name": "stdout",
          "text": [
            "0\n",
            "1\n",
            "2\n",
            "3\n",
            "4\n",
            "10\n"
          ]
        },
        {
          "output_type": "execute_result",
          "data": {
            "text/plain": [
              "<Axes: title={'center': 'Feature importance'}, xlabel='F score', ylabel='Features'>"
            ]
          },
          "metadata": {},
          "execution_count": 137
        },
        {
          "output_type": "display_data",
          "data": {
            "text/plain": [
              "<Figure size 720x1440 with 1 Axes>"
            ],
            "image/png": "[encoded data removed]"
          },
          "metadata": {
            "needs_background": "light"
          }
        }
      ]
    },
    {
      "cell_type": "markdown",
      "metadata": {
        "id": "ziKLPD8t311H"
      },
      "source": [
        "# **Training the CNN Model**"
      ]
    },
    {
      "cell_type": "markdown",
      "source": [
        "After using XGBoost Classifier to find important features, we decided to train a Convolutional Neural Network(CNN) model where we train it using important features such as `ApplicantIncome`, `LoanAmount`, `CoapplicantIncome`, `Loan_Amount_Term`, and `Credit_History` in order to predict whether a customer is eligible for a home loan."
      ],
      "metadata": {
        "id": "_OTwbDcxbeJ5"
      }
    },
    {
      "cell_type": "code",
      "execution_count": null,
      "metadata": {
        "id": "MzYnkJ5W3y6j"
      },
      "outputs": [],
      "source": [
        "from sklearn.model_selection import train_test_split\n",
        "from sklearn.preprocessing import MinMaxScaler\n",
        "from sklearn.metrics import classification_report,confusion_matrix\n",
        "\n",
        "import tensorflow as tf\n",
        "from tensorflow.keras.models import Sequential\n",
        "from tensorflow.keras.layers import Dense,Dropout\n",
        "from tensorflow.keras.models import load_model"
      ]
    },
    {
      "cell_type": "code",
      "source": [
        "data2 = data[['ApplicantIncome', 'LoanAmount', 'CoapplicantIncome', 'Loan_Amount_Term', 'Credit_History']]\n",
        "data2.head()"
      ],
      "metadata": {
        "colab": {
          "base_uri": "https://localhost:8080/",
          "height": 206
        },
        "id": "728NSt4OrFys",
        "outputId": "d6d781b1-2a4f-4626-a25d-1f237cc73492"
      },
      "execution_count": null,
      "outputs": [
        {
          "output_type": "execute_result",
          "data": {
            "text/plain": [
              "   ApplicantIncome  LoanAmount  CoapplicantIncome  Loan_Amount_Term  \\\n",
              "0             5849         NaN                0.0             360.0   \n",
              "1             4583       128.0             1508.0             360.0   \n",
              "2             3000        66.0                0.0             360.0   \n",
              "3             2583       120.0             2358.0             360.0   \n",
              "4             6000       141.0                0.0             360.0   \n",
              "\n",
              "   Credit_History  \n",
              "0             1.0  \n",
              "1             1.0  \n",
              "2             1.0  \n",
              "3             1.0  \n",
              "4             1.0  "
            ],
            "text/html": [
              "\n",
              "  <div id=\"df-b195ba04-b5d6-4201-b48d-51ff103b6a8d\">\n",
              "    <div class=\"colab-df-container\">\n",
              "      <div>\n",
              "<style scoped>\n",
              "    .dataframe tbody tr th:only-of-type {\n",
              "        vertical-align: middle;\n",
              "    }\n",
              "\n",
              "    .dataframe tbody tr th {\n",
              "        vertical-align: top;\n",
              "    }\n",
              "\n",
              "    .dataframe thead th {\n",
              "        text-align: right;\n",
              "    }\n",
              "</style>\n",
              "<table border=\"1\" class=\"dataframe\">\n",
              "  <thead>\n",
              "    <tr style=\"text-align: right;\">\n",
              "      <th></th>\n",
              "      <th>ApplicantIncome</th>\n",
              "      <th>LoanAmount</th>\n",
              "      <th>CoapplicantIncome</th>\n",
              "      <th>Loan_Amount_Term</th>\n",
              "      <th>Credit_History</th>\n",
              "    </tr>\n",
              "  </thead>\n",
              "  <tbody>\n",
              "    <tr>\n",
              "      <th>0</th>\n",
              "      <td>5849</td>\n",
              "      <td>NaN</td>\n",
              "      <td>0.0</td>\n",
              "      <td>360.0</td>\n",
              "      <td>1.0</td>\n",
              "    </tr>\n",
              "    <tr>\n",
              "      <th>1</th>\n",
              "      <td>4583</td>\n",
              "      <td>128.0</td>\n",
              "      <td>1508.0</td>\n",
              "      <td>360.0</td>\n",
              "      <td>1.0</td>\n",
              "    </tr>\n",
              "    <tr>\n",
              "      <th>2</th>\n",
              "      <td>3000</td>\n",
              "      <td>66.0</td>\n",
              "      <td>0.0</td>\n",
              "      <td>360.0</td>\n",
              "      <td>1.0</td>\n",
              "    </tr>\n",
              "    <tr>\n",
              "      <th>3</th>\n",
              "      <td>2583</td>\n",
              "      <td>120.0</td>\n",
              "      <td>2358.0</td>\n",
              "      <td>360.0</td>\n",
              "      <td>1.0</td>\n",
              "    </tr>\n",
              "    <tr>\n",
              "      <th>4</th>\n",
              "      <td>6000</td>\n",
              "      <td>141.0</td>\n",
              "      <td>0.0</td>\n",
              "      <td>360.0</td>\n",
              "      <td>1.0</td>\n",
              "    </tr>\n",
              "  </tbody>\n",
              "</table>\n",
              "</div>\n",
              "      <button class=\"colab-df-convert\" onclick=\"convertToInteractive('df-b195ba04-b5d6-4201-b48d-51ff103b6a8d')\"\n",
              "              title=\"Convert this dataframe to an interactive table.\"\n",
              "              style=\"display:none;\">\n",
              "        \n",
              "  <svg xmlns=\"http://www.w3.org/2000/svg\" height=\"24px\"viewBox=\"0 0 24 24\"\n",
              "       width=\"24px\">\n",
              "    <path d=\"M0 0h24v24H0V0z\" fill=\"none\"/>\n",
              "    <path d=\"M18.56 5.44l.94 2.06.94-2.06 2.06-.94-2.06-.94-.94-2.06-.94 2.06-2.06.94zm-11 1L8.5 8.5l.94-2.06 2.06-.94-2.06-.94L8.5 2.5l-.94 2.06-2.06.94zm10 10l.94 2.06.94-2.06 2.06-.94-2.06-.94-.94-2.06-.94 2.06-2.06.94z\"/><path d=\"M17.41 7.96l-1.37-1.37c-.4-.4-.92-.59-1.43-.59-.52 0-1.04.2-1.43.59L10.3 9.45l-7.72 7.72c-.78.78-.78 2.05 0 2.83L4 21.41c.39.39.9.59 1.41.59.51 0 1.02-.2 1.41-.59l7.78-7.78 2.81-2.81c.8-.78.8-2.07 0-2.86zM5.41 20L4 18.59l7.72-7.72 1.47 1.35L5.41 20z\"/>\n",
              "  </svg>\n",
              "      </button>\n",
              "      \n",
              "  <style>\n",
              "    .colab-df-container {\n",
              "      display:flex;\n",
              "      flex-wrap:wrap;\n",
              "      gap: 12px;\n",
              "    }\n",
              "\n",
              "    .colab-df-convert {\n",
              "      background-color: #E8F0FE;\n",
              "      border: none;\n",
              "      border-radius: 50%;\n",
              "      cursor: pointer;\n",
              "      display: none;\n",
              "      fill: #1967D2;\n",
              "      height: 32px;\n",
              "      padding: 0 0 0 0;\n",
              "      width: 32px;\n",
              "    }\n",
              "\n",
              "    .colab-df-convert:hover {\n",
              "      background-color: #E2EBFA;\n",
              "      box-shadow: 0px 1px 2px rgba(60, 64, 67, 0.3), 0px 1px 3px 1px rgba(60, 64, 67, 0.15);\n",
              "      fill: #174EA6;\n",
              "    }\n",
              "\n",
              "    [theme=dark] .colab-df-convert {\n",
              "      background-color: #3B4455;\n",
              "      fill: #D2E3FC;\n",
              "    }\n",
              "\n",
              "    [theme=dark] .colab-df-convert:hover {\n",
              "      background-color: #434B5C;\n",
              "      box-shadow: 0px 1px 3px 1px rgba(0, 0, 0, 0.15);\n",
              "      filter: drop-shadow(0px 1px 2px rgba(0, 0, 0, 0.3));\n",
              "      fill: #FFFFFF;\n",
              "    }\n",
              "  </style>\n",
              "\n",
              "      <script>\n",
              "        const buttonEl =\n",
              "          document.querySelector('#df-b195ba04-b5d6-4201-b48d-51ff103b6a8d button.colab-df-convert');\n",
              "        buttonEl.style.display =\n",
              "          google.colab.kernel.accessAllowed ? 'block' : 'none';\n",
              "\n",
              "        async function convertToInteractive(key) {\n",
              "          const element = document.querySelector('#df-b195ba04-b5d6-4201-b48d-51ff103b6a8d');\n",
              "          const dataTable =\n",
              "            await google.colab.kernel.invokeFunction('convertToInteractive',\n",
              "                                                     [key], {});\n",
              "          if (!dataTable) return;\n",
              "\n",
              "          const docLinkHtml = 'Like what you see? Visit the ' +\n",
              "            '<a target=\"_blank\" href=https://colab.research.google.com/notebooks/data_table.ipynb>data table notebook</a>'\n",
              "            + ' to learn more about interactive tables.';\n",
              "          element.innerHTML = '';\n",
              "          dataTable['output_type'] = 'display_data';\n",
              "          await google.colab.output.renderOutput(dataTable, element);\n",
              "          const docLink = document.createElement('div');\n",
              "          docLink.innerHTML = docLinkHtml;\n",
              "          element.appendChild(docLink);\n",
              "        }\n",
              "      </script>\n",
              "    </div>\n",
              "  </div>\n",
              "  "
            ]
          },
          "metadata": {},
          "execution_count": 139
        }
      ]
    },
    {
      "cell_type": "markdown",
      "source": [
        "I realize the remaining missing values will cause issues later on, so I removed the rows correlating to missing values. I did it both for the `data` and `label` and stored the results in `data2` and `label2`."
      ],
      "metadata": {
        "id": "AT3OS0CqNX4S"
      }
    },
    {
      "cell_type": "code",
      "source": [
        "indices_with_missing_data = data2[data2.isnull().any(axis=1)].index\n",
        "print(indices_with_missing_data)"
      ],
      "metadata": {
        "colab": {
          "base_uri": "https://localhost:8080/"
        },
        "id": "bzyEBrhDvZku",
        "outputId": "db240ea1-0e67-4661-8d8e-5cc36b05eb77"
      },
      "execution_count": null,
      "outputs": [
        {
          "output_type": "stream",
          "name": "stdout",
          "text": [
            "Int64Index([  0,  19,  35,  36,  44,  45,  63,  73,  81,  95, 102, 103, 112,\n",
            "            113, 127, 165, 197, 202, 223, 232, 284, 305, 322, 335, 338, 367,\n",
            "            387, 421, 423, 435, 437, 479, 524, 550, 551, 605],\n",
            "           dtype='int64')\n"
          ]
        }
      ]
    },
    {
      "cell_type": "code",
      "source": [
        "data2.dropna(subset=['LoanAmount', 'Loan_Amount_Term'], inplace=True)\n",
        "data2.shape"
      ],
      "metadata": {
        "colab": {
          "base_uri": "https://localhost:8080/"
        },
        "id": "duI10wLhzxsm",
        "outputId": "31996fa9-1e62-4797-cd25-c7154893f5a3"
      },
      "execution_count": null,
      "outputs": [
        {
          "output_type": "stream",
          "name": "stderr",
          "text": [
            "<ipython-input-141-316d79359c2b>:1: SettingWithCopyWarning: \n",
            "A value is trying to be set on a copy of a slice from a DataFrame\n",
            "\n",
            "See the caveats in the documentation: https://pandas.pydata.org/pandas-docs/stable/user_guide/indexing.html#returning-a-view-versus-a-copy\n",
            "  data2.dropna(subset=['LoanAmount', 'Loan_Amount_Term'], inplace=True)\n"
          ]
        },
        {
          "output_type": "execute_result",
          "data": {
            "text/plain": [
              "(578, 5)"
            ]
          },
          "metadata": {},
          "execution_count": 141
        }
      ]
    },
    {
      "cell_type": "code",
      "source": [
        "labels2 = np.delete(labels, indices_with_missing_data)\n",
        "len(labels2)"
      ],
      "metadata": {
        "colab": {
          "base_uri": "https://localhost:8080/"
        },
        "id": "7PQU4IHk2N87",
        "outputId": "93e90cda-b64d-4af4-f7ea-41682ec69b45"
      },
      "execution_count": null,
      "outputs": [
        {
          "output_type": "execute_result",
          "data": {
            "text/plain": [
              "578"
            ]
          },
          "metadata": {},
          "execution_count": 142
        }
      ]
    },
    {
      "cell_type": "markdown",
      "source": [
        "We decided on splitting the data again, with 10% of the data being used for testing. We've then normalized the data using `MinMaxScaler()` to transform the data into something thats suitable for our model."
      ],
      "metadata": {
        "id": "DH2OSc8GNwNV"
      }
    },
    {
      "cell_type": "code",
      "source": [
        "X_train, X_test, y_train, y_test = train_test_split(data2, labels2, test_size=0.20, random_state=101)"
      ],
      "metadata": {
        "id": "1jy8_B4fs8rr"
      },
      "execution_count": null,
      "outputs": []
    },
    {
      "cell_type": "code",
      "execution_count": null,
      "metadata": {
        "id": "5edqBmvx-Stt"
      },
      "outputs": [],
      "source": [
        "scaler = MinMaxScaler()\n",
        "X_train = scaler.fit_transform(X_train)\n",
        "X_test = scaler.transform(X_test)"
      ]
    },
    {
      "cell_type": "markdown",
      "source": [
        "There's only an input layer and an output layer for our CNN model. Usually its a rule of thumb that the number of neurons in the input layer equates to the number of features that you're inputting. That's 5 neurons, and to simulate a bias term, I used 6 neurons.\n",
        "\n",
        "The output layer consists of just 1 neuron. We compile the model with the `binary_crossentropy` loss and the `adam` optimizer, and then fitted the model for 10 epochs."
      ],
      "metadata": {
        "id": "aN8ddq35WwC5"
      }
    },
    {
      "cell_type": "code",
      "execution_count": null,
      "metadata": {
        "id": "qGSQRxKF5V9r"
      },
      "outputs": [],
      "source": [
        "model = Sequential()\n",
        "\n",
        "# input layer\n",
        "model.add(Dense(6, activation='relu'))\n",
        "model.add(Dropout(0.2))\n",
        "\n",
        "# output layer\n",
        "model.add(Dense(units=1,activation='sigmoid'))\n",
        "\n",
        "# Compile model\n",
        "model.compile(loss='binary_crossentropy', optimizer='adam')"
      ]
    },
    {
      "cell_type": "code",
      "execution_count": null,
      "metadata": {
        "id": "1ZyKnSS66XEQ",
        "colab": {
          "base_uri": "https://localhost:8080/"
        },
        "outputId": "5c802be8-ba10-46b1-f2ff-4adb1dccb06e"
      },
      "outputs": [
        {
          "output_type": "stream",
          "name": "stdout",
          "text": [
            "Epoch 1/10\n",
            "15/15 [==============================] - 1s 13ms/step - loss: 0.6352 - val_loss: 0.6445\n",
            "Epoch 2/10\n",
            "15/15 [==============================] - 0s 4ms/step - loss: 0.6307 - val_loss: 0.6287\n",
            "Epoch 3/10\n",
            "15/15 [==============================] - 0s 5ms/step - loss: 0.6214 - val_loss: 0.6161\n",
            "Epoch 4/10\n",
            "15/15 [==============================] - 0s 7ms/step - loss: 0.6110 - val_loss: 0.6071\n",
            "Epoch 5/10\n",
            "15/15 [==============================] - 0s 6ms/step - loss: 0.6047 - val_loss: 0.5995\n",
            "Epoch 6/10\n",
            "15/15 [==============================] - 0s 6ms/step - loss: 0.5972 - val_loss: 0.5934\n",
            "Epoch 7/10\n",
            "15/15 [==============================] - 0s 6ms/step - loss: 0.5873 - val_loss: 0.5874\n",
            "Epoch 8/10\n",
            "15/15 [==============================] - 0s 6ms/step - loss: 0.5895 - val_loss: 0.5826\n",
            "Epoch 9/10\n",
            "15/15 [==============================] - 0s 11ms/step - loss: 0.5818 - val_loss: 0.5789\n",
            "Epoch 10/10\n",
            "15/15 [==============================] - 0s 21ms/step - loss: 0.5874 - val_loss: 0.5758\n"
          ]
        },
        {
          "output_type": "execute_result",
          "data": {
            "text/plain": [
              "<keras.callbacks.History at 0x7f611fd40910>"
            ]
          },
          "metadata": {},
          "execution_count": 146
        }
      ],
      "source": [
        "model.fit(x=X_train, y=y_train, epochs=10, batch_size=32, validation_data=(X_test, y_test))"
      ]
    },
    {
      "cell_type": "code",
      "execution_count": null,
      "metadata": {
        "id": "x9OOYn8MFVo3",
        "colab": {
          "base_uri": "https://localhost:8080/",
          "height": 1000
        },
        "outputId": "c1574cd7-3044-4967-b2ac-af62ad72bcf6"
      },
      "outputs": [
        {
          "output_type": "execute_result",
          "data": {
            "text/plain": [
              "<Axes: >"
            ]
          },
          "metadata": {},
          "execution_count": 147
        },
        {
          "output_type": "display_data",
          "data": {
            "text/plain": [
              "<Figure size 720x1440 with 1 Axes>"
            ],
            "image/png": "[encoded data removed]"
          },
          "metadata": {
            "needs_background": "light"
          }
        }
      ],
      "source": [
        "losses = pd.DataFrame(model.history.history)\n",
        "losses.plot()"
      ]
    },
    {
      "cell_type": "markdown",
      "source": [
        "Overall, our accuracy for our model lies at 68%, which isn't too shabby, but there's definitely room for improvement."
      ],
      "metadata": {
        "id": "ItB-ba8KXfnL"
      }
    },
    {
      "cell_type": "code",
      "execution_count": null,
      "metadata": {
        "id": "PpASKKfAItYG",
        "colab": {
          "base_uri": "https://localhost:8080/"
        },
        "outputId": "47fe039e-0112-42da-e577-f603d1389e62"
      },
      "outputs": [
        {
          "output_type": "stream",
          "name": "stdout",
          "text": [
            "4/4 [==============================] - 0s 9ms/step\n",
            "              precision    recall  f1-score   support\n",
            "\n",
            "           0       0.00      0.00      0.00        37\n",
            "           1       0.68      1.00      0.81        79\n",
            "\n",
            "    accuracy                           0.68       116\n",
            "   macro avg       0.34      0.50      0.41       116\n",
            "weighted avg       0.46      0.68      0.55       116\n",
            "\n"
          ]
        },
        {
          "output_type": "stream",
          "name": "stderr",
          "text": [
            "/usr/local/lib/python3.9/dist-packages/sklearn/metrics/_classification.py:1344: UndefinedMetricWarning: Precision and F-score are ill-defined and being set to 0.0 in labels with no predicted samples. Use `zero_division` parameter to control this behavior.\n",
            "  _warn_prf(average, modifier, msg_start, len(result))\n",
            "/usr/local/lib/python3.9/dist-packages/sklearn/metrics/_classification.py:1344: UndefinedMetricWarning: Precision and F-score are ill-defined and being set to 0.0 in labels with no predicted samples. Use `zero_division` parameter to control this behavior.\n",
            "  _warn_prf(average, modifier, msg_start, len(result))\n",
            "/usr/local/lib/python3.9/dist-packages/sklearn/metrics/_classification.py:1344: UndefinedMetricWarning: Precision and F-score are ill-defined and being set to 0.0 in labels with no predicted samples. Use `zero_division` parameter to control this behavior.\n",
            "  _warn_prf(average, modifier, msg_start, len(result))\n"
          ]
        }
      ],
      "source": [
        "predictions = (model.predict(X_test) > 0.5).astype(\"int32\")\n",
        "print(classification_report(y_test,predictions))"
      ]
    },
    {
      "cell_type": "code",
      "execution_count": null,
      "metadata": {
        "id": "gUgVVOJQ-_T6"
      },
      "outputs": [],
      "source": [
        "from tensorflow.keras.models import load_model\n",
        "model.save('synthethic_loan_model.h5')"
      ]
    },
    {
      "cell_type": "markdown",
      "metadata": {
        "id": "mt3u_BmTc5Cd"
      },
      "source": [
        "# **Analyzing Fairness using Aequitas** "
      ]
    },
    {
      "cell_type": "markdown",
      "metadata": {
        "id": "MroIruURBzCn"
      },
      "source": [
        "\n",
        "\n",
        "We will analyze fairness with respect to different metrics in order to evaluate whether our CNN model produces biased or unbiased results across the different features. The fairness of the model is being analyzed by examining the aequitas libraries' results of the model's predictions of the test data based on the different features.\n",
        "\n"
      ]
    },
    {
      "cell_type": "code",
      "source": [
        "pip install aequitas"
      ],
      "metadata": {
        "id": "OSeXOal3Z_wT",
        "colab": {
          "base_uri": "https://localhost:8080/"
        },
        "outputId": "ce50aaa0-7bf8-4ad6-f671-df60192b771e"
      },
      "execution_count": null,
      "outputs": [
        {
          "output_type": "stream",
          "name": "stdout",
          "text": [
            "Looking in indexes: https://pypi.org/simple, https://us-python.pkg.dev/colab-wheels/public/simple/\n",
            "Requirement already satisfied: aequitas in /usr/local/lib/python3.9/dist-packages (0.42.0)\n",
            "Requirement already satisfied: ohio>=0.2.0 in /usr/local/lib/python3.9/dist-packages (from aequitas) (0.5.0)\n",
            "Requirement already satisfied: Flask==0.12.2 in /usr/local/lib/python3.9/dist-packages (from aequitas) (0.12.2)\n",
            "Requirement already satisfied: pandas>=0.24.1 in /usr/local/lib/python3.9/dist-packages (from aequitas) (1.4.4)\n",
            "Requirement already satisfied: xhtml2pdf==0.2.2 in /usr/local/lib/python3.9/dist-packages (from aequitas) (0.2.2)\n",
            "Requirement already satisfied: tabulate==0.8.2 in /usr/local/lib/python3.9/dist-packages (from aequitas) (0.8.2)\n",
            "Requirement already satisfied: altair==4.1.0 in /usr/local/lib/python3.9/dist-packages (from aequitas) (4.1.0)\n",
            "Requirement already satisfied: SQLAlchemy>=1.1.1 in /usr/local/lib/python3.9/dist-packages (from aequitas) (1.4.46)\n",
            "Requirement already satisfied: matplotlib>=3.0.3 in /usr/local/lib/python3.9/dist-packages (from aequitas) (3.7.1)\n",
            "Requirement already satisfied: millify==0.1.1 in /usr/local/lib/python3.9/dist-packages (from aequitas) (0.1.1)\n",
            "Requirement already satisfied: markdown2==2.3.5 in /usr/local/lib/python3.9/dist-packages (from aequitas) (2.3.5)\n",
            "Requirement already satisfied: Flask-Bootstrap==3.3.7.1 in /usr/local/lib/python3.9/dist-packages (from aequitas) (3.3.7.1)\n",
            "Requirement already satisfied: seaborn>=0.9.0 in /usr/local/lib/python3.9/dist-packages (from aequitas) (0.12.2)\n",
            "Requirement already satisfied: pyyaml>=5.1 in /usr/local/lib/python3.9/dist-packages (from aequitas) (6.0)\n",
            "Requirement already satisfied: jinja2 in /usr/local/lib/python3.9/dist-packages (from altair==4.1.0->aequitas) (3.1.2)\n",
            "Requirement already satisfied: jsonschema in /usr/local/lib/python3.9/dist-packages (from altair==4.1.0->aequitas) (4.3.3)\n",
            "Requirement already satisfied: entrypoints in /usr/local/lib/python3.9/dist-packages (from altair==4.1.0->aequitas) (0.4)\n",
            "Requirement already satisfied: numpy in /usr/local/lib/python3.9/dist-packages (from altair==4.1.0->aequitas) (1.22.4)\n",
            "Requirement already satisfied: toolz in /usr/local/lib/python3.9/dist-packages (from altair==4.1.0->aequitas) (0.12.0)\n",
            "Requirement already satisfied: itsdangerous>=0.21 in /usr/local/lib/python3.9/dist-packages (from Flask==0.12.2->aequitas) (2.1.2)\n",
            "Requirement already satisfied: click>=2.0 in /usr/local/lib/python3.9/dist-packages (from Flask==0.12.2->aequitas) (8.1.3)\n",
            "Requirement already satisfied: Werkzeug>=0.7 in /usr/local/lib/python3.9/dist-packages (from Flask==0.12.2->aequitas) (2.2.3)\n",
            "Requirement already satisfied: dominate in /usr/local/lib/python3.9/dist-packages (from Flask-Bootstrap==3.3.7.1->aequitas) (2.7.0)\n",
            "Requirement already satisfied: visitor in /usr/local/lib/python3.9/dist-packages (from Flask-Bootstrap==3.3.7.1->aequitas) (0.1.3)\n",
            "Requirement already satisfied: six in /usr/local/lib/python3.9/dist-packages (from xhtml2pdf==0.2.2->aequitas) (1.15.0)\n",
            "Requirement already satisfied: Pillow in /usr/local/lib/python3.9/dist-packages (from xhtml2pdf==0.2.2->aequitas) (9.4.0)\n",
            "Requirement already satisfied: httplib2 in /usr/local/lib/python3.9/dist-packages (from xhtml2pdf==0.2.2->aequitas) (0.21.0)\n",
            "Requirement already satisfied: html5lib>=1.0 in /usr/local/lib/python3.9/dist-packages (from xhtml2pdf==0.2.2->aequitas) (1.1)\n",
            "Requirement already satisfied: pyPdf2 in /usr/local/lib/python3.9/dist-packages (from xhtml2pdf==0.2.2->aequitas) (3.0.1)\n",
            "Requirement already satisfied: reportlab>=3.0 in /usr/local/lib/python3.9/dist-packages (from xhtml2pdf==0.2.2->aequitas) (3.6.12)\n",
            "Requirement already satisfied: pyparsing>=2.3.1 in /usr/local/lib/python3.9/dist-packages (from matplotlib>=3.0.3->aequitas) (3.0.9)\n",
            "Requirement already satisfied: kiwisolver>=1.0.1 in /usr/local/lib/python3.9/dist-packages (from matplotlib>=3.0.3->aequitas) (1.4.4)\n",
            "Requirement already satisfied: importlib-resources>=3.2.0 in /usr/local/lib/python3.9/dist-packages (from matplotlib>=3.0.3->aequitas) (5.12.0)\n",
            "Requirement already satisfied: python-dateutil>=2.7 in /usr/local/lib/python3.9/dist-packages (from matplotlib>=3.0.3->aequitas) (2.8.2)\n",
            "Requirement already satisfied: fonttools>=4.22.0 in /usr/local/lib/python3.9/dist-packages (from matplotlib>=3.0.3->aequitas) (4.39.0)\n",
            "Requirement already satisfied: cycler>=0.10 in /usr/local/lib/python3.9/dist-packages (from matplotlib>=3.0.3->aequitas) (0.11.0)\n",
            "Requirement already satisfied: contourpy>=1.0.1 in /usr/local/lib/python3.9/dist-packages (from matplotlib>=3.0.3->aequitas) (1.0.7)\n",
            "Requirement already satisfied: packaging>=20.0 in /usr/local/lib/python3.9/dist-packages (from matplotlib>=3.0.3->aequitas) (23.0)\n",
            "Requirement already satisfied: pytz>=2020.1 in /usr/local/lib/python3.9/dist-packages (from pandas>=0.24.1->aequitas) (2022.7.1)\n",
            "Requirement already satisfied: greenlet!=0.4.17 in /usr/local/lib/python3.9/dist-packages (from SQLAlchemy>=1.1.1->aequitas) (2.0.2)\n",
            "Requirement already satisfied: webencodings in /usr/local/lib/python3.9/dist-packages (from html5lib>=1.0->xhtml2pdf==0.2.2->aequitas) (0.5.1)\n",
            "Requirement already satisfied: zipp>=3.1.0 in /usr/local/lib/python3.9/dist-packages (from importlib-resources>=3.2.0->matplotlib>=3.0.3->aequitas) (3.15.0)\n",
            "Requirement already satisfied: MarkupSafe>=2.0 in /usr/local/lib/python3.9/dist-packages (from jinja2->altair==4.1.0->aequitas) (2.1.2)\n",
            "Requirement already satisfied: pyrsistent!=0.17.0,!=0.17.1,!=0.17.2,>=0.14.0 in /usr/local/lib/python3.9/dist-packages (from jsonschema->altair==4.1.0->aequitas) (0.19.3)\n",
            "Requirement already satisfied: attrs>=17.4.0 in /usr/local/lib/python3.9/dist-packages (from jsonschema->altair==4.1.0->aequitas) (22.2.0)\n",
            "Requirement already satisfied: typing_extensions>=3.10.0.0 in /usr/local/lib/python3.9/dist-packages (from pyPdf2->xhtml2pdf==0.2.2->aequitas) (4.5.0)\n"
          ]
        }
      ]
    },
    {
      "cell_type": "code",
      "source": [
        "from aequitas.group import Group\n",
        "from aequitas.bias import Bias\n",
        "from aequitas.fairness import Fairness\n",
        "from aequitas.plotting import Plot"
      ],
      "metadata": {
        "id": "bPYb9pbNaBkA"
      },
      "execution_count": null,
      "outputs": []
    },
    {
      "cell_type": "markdown",
      "source": [
        "We created a new dataframe called test_df to transform the scaled data back to the original scale using the function: scaler.inverse_transform(). We will be using the new 'test_df' to analyze fairness. We then added 3 new categorical columns to group our data by certain ranges for the ApplicantIncome, LoanAmount, and CoapplicantIncome features. "
      ],
      "metadata": {
        "id": "Ue_Ycq-KkDrE"
      }
    },
    {
      "cell_type": "code",
      "source": [
        "test_df = pd.DataFrame(scaler.inverse_transform(X_test), columns = ['ApplicantIncome', 'LoanAmount', 'CoapplicantIncome', 'Loan_Amount_Term','Credit_History'])\n",
        "test_df['score'] = predictions\n",
        "test_df['label_value'] = y_test\n",
        "\n",
        "test_df['ApplicantIncome_cat'] = 'less than 3000'\n",
        "test_df.loc[(test_df[\"ApplicantIncome\"] > 3000) & (test_df[\"ApplicantIncome\"] <= 5000), \"ApplicantIncome_cat\"] = '3000 - 5000'\n",
        "test_df.loc[test_df[\"ApplicantIncome\"] > 5000, \"ApplicantIncome_cat\"] = 'greater than 5000'\n",
        "\n",
        "test_df['LoanAmount_cat'] = 'less than 100'\n",
        "test_df.loc[(test_df[\"LoanAmount\"] > 100) & (test_df[\"LoanAmount\"] <= 300), \"LoanAmount_cat\"] = '100 - 300'\n",
        "test_df.loc[test_df[\"LoanAmount\"] > 300, \"LoanAmount_cat\"] = 'greater than 300'\n",
        "\n",
        "# .describe is used to get summary statistics of CoapplicantIncome column\n",
        "test_df['CoapplicantIncome'].describe().loc[['min', '25%', '50%', '75%', 'max']]\n",
        "test_df['CoapplicantIncome_cat'] = 'equals zero'\n",
        "test_df.loc[(test_df[\"CoapplicantIncome\"] > 0) & (test_df[\"CoapplicantIncome\"] <= 1000), \"CoapplicantIncome_cat\"] = 'less than 1000'\n",
        "test_df.loc[(test_df[\"CoapplicantIncome\"] > 1000) & (test_df[\"CoapplicantIncome\"] <= 2000), \"CoapplicantIncome_cat\"] = '1000 - 2000'\n",
        "test_df.loc[test_df[\"CoapplicantIncome\"] > 2000, \"CoapplicantIncome_cat\"] = 'greater than 2000'\n",
        "\n",
        "# remove ApplicantIncome, LoanAmount, and CoapplicantIncome columns from our dataframe \n",
        "test_df.pop(\"ApplicantIncome\")\n",
        "test_df.pop(\"LoanAmount\")\n",
        "test_df.pop(\"CoapplicantIncome\")\n",
        "\n",
        "test_df.head(10)"
      ],
      "metadata": {
        "id": "iUKAZqFnHr8S",
        "colab": {
          "base_uri": "https://localhost:8080/",
          "height": 363
        },
        "outputId": "f35c7f9a-d2a0-4a27-fdef-dc12686eb7b7"
      },
      "execution_count": null,
      "outputs": [
        {
          "output_type": "execute_result",
          "data": {
            "text/plain": [
              "   Loan_Amount_Term  Credit_History  score  label_value ApplicantIncome_cat  \\\n",
              "0             480.0             1.0      1            1         3000 - 5000   \n",
              "1             120.0             1.0      1            1         3000 - 5000   \n",
              "2             360.0             1.0      1            1         3000 - 5000   \n",
              "3             360.0             1.0      1            1         3000 - 5000   \n",
              "4             360.0             1.0      1            1   greater than 5000   \n",
              "5             360.0             1.0      1            1         3000 - 5000   \n",
              "6             360.0             1.0      1            1         3000 - 5000   \n",
              "7             360.0             1.0      1            1   greater than 5000   \n",
              "8             360.0             0.0      1            0         3000 - 5000   \n",
              "9             360.0             1.0      1            1         3000 - 5000   \n",
              "\n",
              "  LoanAmount_cat CoapplicantIncome_cat  \n",
              "0      100 - 300           equals zero  \n",
              "1  less than 100           equals zero  \n",
              "2      100 - 300     greater than 2000  \n",
              "3      100 - 300           equals zero  \n",
              "4      100 - 300           equals zero  \n",
              "5      100 - 300           equals zero  \n",
              "6      100 - 300     greater than 2000  \n",
              "7      100 - 300     greater than 2000  \n",
              "8      100 - 300     greater than 2000  \n",
              "9      100 - 300           equals zero  "
            ],
            "text/html": [
              "\n",
              "  <div id=\"df-82f3ff4e-38ec-4071-9da4-d4b060cdd8e0\">\n",
              "    <div class=\"colab-df-container\">\n",
              "      <div>\n",
              "<style scoped>\n",
              "    .dataframe tbody tr th:only-of-type {\n",
              "        vertical-align: middle;\n",
              "    }\n",
              "\n",
              "    .dataframe tbody tr th {\n",
              "        vertical-align: top;\n",
              "    }\n",
              "\n",
              "    .dataframe thead th {\n",
              "        text-align: right;\n",
              "    }\n",
              "</style>\n",
              "<table border=\"1\" class=\"dataframe\">\n",
              "  <thead>\n",
              "    <tr style=\"text-align: right;\">\n",
              "      <th></th>\n",
              "      <th>Loan_Amount_Term</th>\n",
              "      <th>Credit_History</th>\n",
              "      <th>score</th>\n",
              "      <th>label_value</th>\n",
              "      <th>ApplicantIncome_cat</th>\n",
              "      <th>LoanAmount_cat</th>\n",
              "      <th>CoapplicantIncome_cat</th>\n",
              "    </tr>\n",
              "  </thead>\n",
              "  <tbody>\n",
              "    <tr>\n",
              "      <th>0</th>\n",
              "      <td>480.0</td>\n",
              "      <td>1.0</td>\n",
              "      <td>1</td>\n",
              "      <td>1</td>\n",
              "      <td>3000 - 5000</td>\n",
              "      <td>100 - 300</td>\n",
              "      <td>equals zero</td>\n",
              "    </tr>\n",
              "    <tr>\n",
              "      <th>1</th>\n",
              "      <td>120.0</td>\n",
              "      <td>1.0</td>\n",
              "      <td>1</td>\n",
              "      <td>1</td>\n",
              "      <td>3000 - 5000</td>\n",
              "      <td>less than 100</td>\n",
              "      <td>equals zero</td>\n",
              "    </tr>\n",
              "    <tr>\n",
              "      <th>2</th>\n",
              "      <td>360.0</td>\n",
              "      <td>1.0</td>\n",
              "      <td>1</td>\n",
              "      <td>1</td>\n",
              "      <td>3000 - 5000</td>\n",
              "      <td>100 - 300</td>\n",
              "      <td>greater than 2000</td>\n",
              "    </tr>\n",
              "    <tr>\n",
              "      <th>3</th>\n",
              "      <td>360.0</td>\n",
              "      <td>1.0</td>\n",
              "      <td>1</td>\n",
              "      <td>1</td>\n",
              "      <td>3000 - 5000</td>\n",
              "      <td>100 - 300</td>\n",
              "      <td>equals zero</td>\n",
              "    </tr>\n",
              "    <tr>\n",
              "      <th>4</th>\n",
              "      <td>360.0</td>\n",
              "      <td>1.0</td>\n",
              "      <td>1</td>\n",
              "      <td>1</td>\n",
              "      <td>greater than 5000</td>\n",
              "      <td>100 - 300</td>\n",
              "      <td>equals zero</td>\n",
              "    </tr>\n",
              "    <tr>\n",
              "      <th>5</th>\n",
              "      <td>360.0</td>\n",
              "      <td>1.0</td>\n",
              "      <td>1</td>\n",
              "      <td>1</td>\n",
              "      <td>3000 - 5000</td>\n",
              "      <td>100 - 300</td>\n",
              "      <td>equals zero</td>\n",
              "    </tr>\n",
              "    <tr>\n",
              "      <th>6</th>\n",
              "      <td>360.0</td>\n",
              "      <td>1.0</td>\n",
              "      <td>1</td>\n",
              "      <td>1</td>\n",
              "      <td>3000 - 5000</td>\n",
              "      <td>100 - 300</td>\n",
              "      <td>greater than 2000</td>\n",
              "    </tr>\n",
              "    <tr>\n",
              "      <th>7</th>\n",
              "      <td>360.0</td>\n",
              "      <td>1.0</td>\n",
              "      <td>1</td>\n",
              "      <td>1</td>\n",
              "      <td>greater than 5000</td>\n",
              "      <td>100 - 300</td>\n",
              "      <td>greater than 2000</td>\n",
              "    </tr>\n",
              "    <tr>\n",
              "      <th>8</th>\n",
              "      <td>360.0</td>\n",
              "      <td>0.0</td>\n",
              "      <td>1</td>\n",
              "      <td>0</td>\n",
              "      <td>3000 - 5000</td>\n",
              "      <td>100 - 300</td>\n",
              "      <td>greater than 2000</td>\n",
              "    </tr>\n",
              "    <tr>\n",
              "      <th>9</th>\n",
              "      <td>360.0</td>\n",
              "      <td>1.0</td>\n",
              "      <td>1</td>\n",
              "      <td>1</td>\n",
              "      <td>3000 - 5000</td>\n",
              "      <td>100 - 300</td>\n",
              "      <td>equals zero</td>\n",
              "    </tr>\n",
              "  </tbody>\n",
              "</table>\n",
              "</div>\n",
              "      <button class=\"colab-df-convert\" onclick=\"convertToInteractive('df-82f3ff4e-38ec-4071-9da4-d4b060cdd8e0')\"\n",
              "              title=\"Convert this dataframe to an interactive table.\"\n",
              "              style=\"display:none;\">\n",
              "        \n",
              "  <svg xmlns=\"http://www.w3.org/2000/svg\" height=\"24px\"viewBox=\"0 0 24 24\"\n",
              "       width=\"24px\">\n",
              "    <path d=\"M0 0h24v24H0V0z\" fill=\"none\"/>\n",
              "    <path d=\"M18.56 5.44l.94 2.06.94-2.06 2.06-.94-2.06-.94-.94-2.06-.94 2.06-2.06.94zm-11 1L8.5 8.5l.94-2.06 2.06-.94-2.06-.94L8.5 2.5l-.94 2.06-2.06.94zm10 10l.94 2.06.94-2.06 2.06-.94-2.06-.94-.94-2.06-.94 2.06-2.06.94z\"/><path d=\"M17.41 7.96l-1.37-1.37c-.4-.4-.92-.59-1.43-.59-.52 0-1.04.2-1.43.59L10.3 9.45l-7.72 7.72c-.78.78-.78 2.05 0 2.83L4 21.41c.39.39.9.59 1.41.59.51 0 1.02-.2 1.41-.59l7.78-7.78 2.81-2.81c.8-.78.8-2.07 0-2.86zM5.41 20L4 18.59l7.72-7.72 1.47 1.35L5.41 20z\"/>\n",
              "  </svg>\n",
              "      </button>\n",
              "      \n",
              "  <style>\n",
              "    .colab-df-container {\n",
              "      display:flex;\n",
              "      flex-wrap:wrap;\n",
              "      gap: 12px;\n",
              "    }\n",
              "\n",
              "    .colab-df-convert {\n",
              "      background-color: #E8F0FE;\n",
              "      border: none;\n",
              "      border-radius: 50%;\n",
              "      cursor: pointer;\n",
              "      display: none;\n",
              "      fill: #1967D2;\n",
              "      height: 32px;\n",
              "      padding: 0 0 0 0;\n",
              "      width: 32px;\n",
              "    }\n",
              "\n",
              "    .colab-df-convert:hover {\n",
              "      background-color: #E2EBFA;\n",
              "      box-shadow: 0px 1px 2px rgba(60, 64, 67, 0.3), 0px 1px 3px 1px rgba(60, 64, 67, 0.15);\n",
              "      fill: #174EA6;\n",
              "    }\n",
              "\n",
              "    [theme=dark] .colab-df-convert {\n",
              "      background-color: #3B4455;\n",
              "      fill: #D2E3FC;\n",
              "    }\n",
              "\n",
              "    [theme=dark] .colab-df-convert:hover {\n",
              "      background-color: #434B5C;\n",
              "      box-shadow: 0px 1px 3px 1px rgba(0, 0, 0, 0.15);\n",
              "      filter: drop-shadow(0px 1px 2px rgba(0, 0, 0, 0.3));\n",
              "      fill: #FFFFFF;\n",
              "    }\n",
              "  </style>\n",
              "\n",
              "      <script>\n",
              "        const buttonEl =\n",
              "          document.querySelector('#df-82f3ff4e-38ec-4071-9da4-d4b060cdd8e0 button.colab-df-convert');\n",
              "        buttonEl.style.display =\n",
              "          google.colab.kernel.accessAllowed ? 'block' : 'none';\n",
              "\n",
              "        async function convertToInteractive(key) {\n",
              "          const element = document.querySelector('#df-82f3ff4e-38ec-4071-9da4-d4b060cdd8e0');\n",
              "          const dataTable =\n",
              "            await google.colab.kernel.invokeFunction('convertToInteractive',\n",
              "                                                     [key], {});\n",
              "          if (!dataTable) return;\n",
              "\n",
              "          const docLinkHtml = 'Like what you see? Visit the ' +\n",
              "            '<a target=\"_blank\" href=https://colab.research.google.com/notebooks/data_table.ipynb>data table notebook</a>'\n",
              "            + ' to learn more about interactive tables.';\n",
              "          element.innerHTML = '';\n",
              "          dataTable['output_type'] = 'display_data';\n",
              "          await google.colab.output.renderOutput(dataTable, element);\n",
              "          const docLink = document.createElement('div');\n",
              "          docLink.innerHTML = docLinkHtml;\n",
              "          element.appendChild(docLink);\n",
              "        }\n",
              "      </script>\n",
              "    </div>\n",
              "  </div>\n",
              "  "
            ]
          },
          "metadata": {},
          "execution_count": 152
        }
      ]
    },
    {
      "cell_type": "code",
      "source": [
        "# convert to strings, we want to compare groups based on their representation within categorical variables, not numerical values \n",
        "test_df['Loan_Amount_Term'] = test_df['Loan_Amount_Term'].astype(str)\n",
        "test_df['Credit_History'] = test_df['Credit_History'].astype(str)"
      ],
      "metadata": {
        "id": "F-FfQV67L4ho"
      },
      "execution_count": null,
      "outputs": []
    },
    {
      "cell_type": "code",
      "source": [
        "# evaluates bias for all subgroups\n",
        "g = Group()\n",
        "xtab, _ = g.get_crosstabs(test_df)"
      ],
      "metadata": {
        "id": "5uz9i-iKKyZN"
      },
      "execution_count": null,
      "outputs": []
    },
    {
      "cell_type": "code",
      "source": [
        "absolute_metrics = g.list_absolute_metrics(xtab)"
      ],
      "metadata": {
        "id": "hYFJhm-XM9AS"
      },
      "execution_count": null,
      "outputs": []
    },
    {
      "cell_type": "markdown",
      "source": [
        "These are the counts across sample population groups."
      ],
      "metadata": {
        "id": "GmPjPCqYLLqf"
      }
    },
    {
      "cell_type": "code",
      "source": [
        "# selects only the columns in the xtab table that represent the different features, and excludes the columns that represent the fairness metrics\n",
        "xtab[[col for col in xtab.columns if col not in absolute_metrics]]"
      ],
      "metadata": {
        "colab": {
          "base_uri": "https://localhost:8080/",
          "height": 658
        },
        "id": "u0Kc7hf0OhSN",
        "outputId": "3939af6c-a668-4e80-a2ae-4b09600ebf99"
      },
      "execution_count": null,
      "outputs": [
        {
          "output_type": "execute_result",
          "data": {
            "text/plain": [
              "    model_id score_threshold    k         attribute_name    attribute_value  \\\n",
              "0          0      binary 0/1  116       Loan_Amount_Term              120.0   \n",
              "1          0      binary 0/1  116       Loan_Amount_Term              180.0   \n",
              "2          0      binary 0/1  116       Loan_Amount_Term              300.0   \n",
              "3          0      binary 0/1  116       Loan_Amount_Term              360.0   \n",
              "4          0      binary 0/1  116       Loan_Amount_Term              480.0   \n",
              "5          0      binary 0/1  116       Loan_Amount_Term               84.0   \n",
              "6          0      binary 0/1  116         Credit_History                0.0   \n",
              "7          0      binary 0/1  116         Credit_History                1.0   \n",
              "8          0      binary 0/1  116    ApplicantIncome_cat        3000 - 5000   \n",
              "9          0      binary 0/1  116    ApplicantIncome_cat  greater than 5000   \n",
              "10         0      binary 0/1  116    ApplicantIncome_cat     less than 3000   \n",
              "11         0      binary 0/1  116         LoanAmount_cat          100 - 300   \n",
              "12         0      binary 0/1  116         LoanAmount_cat   greater than 300   \n",
              "13         0      binary 0/1  116         LoanAmount_cat      less than 100   \n",
              "14         0      binary 0/1  116  CoapplicantIncome_cat        1000 - 2000   \n",
              "15         0      binary 0/1  116  CoapplicantIncome_cat        equals zero   \n",
              "16         0      binary 0/1  116  CoapplicantIncome_cat  greater than 2000   \n",
              "17         0      binary 0/1  116  CoapplicantIncome_cat     less than 1000   \n",
              "\n",
              "     pp  pn  fp  fn  tn  tp  group_label_pos  group_label_neg  group_size  \\\n",
              "0     1   0   0   0   0   1                1                0           1   \n",
              "1     5   0   1   0   0   4                4                1           5   \n",
              "2     3   0   2   0   0   1                1                2           3   \n",
              "3   104   0  33   0   0  71               71               33         104   \n",
              "4     2   0   1   0   0   1                1                1           2   \n",
              "5     1   0   0   0   0   1                1                0           1   \n",
              "6    24   0  20   0   0   4                4               20          24   \n",
              "7    92   0  17   0   0  75               75               17          92   \n",
              "8    45   0  12   0   0  33               33               12          45   \n",
              "9    41   0  17   0   0  24               24               17          41   \n",
              "10   30   0   8   0   0  22               22                8          30   \n",
              "11   79   0  23   0   0  56               56               23          79   \n",
              "12    8   0   5   0   0   3                3                5           8   \n",
              "13   29   0   9   0   0  20               20                9          29   \n",
              "14   20   0   7   0   0  13               13                7          20   \n",
              "15   55   0  16   0   0  39               39               16          55   \n",
              "16   40   0  14   0   0  26               26               14          40   \n",
              "17    1   0   0   0   0   1                1                0           1   \n",
              "\n",
              "    total_entities  \n",
              "0              116  \n",
              "1              116  \n",
              "2              116  \n",
              "3              116  \n",
              "4              116  \n",
              "5              116  \n",
              "6              116  \n",
              "7              116  \n",
              "8              116  \n",
              "9              116  \n",
              "10             116  \n",
              "11             116  \n",
              "12             116  \n",
              "13             116  \n",
              "14             116  \n",
              "15             116  \n",
              "16             116  \n",
              "17             116  "
            ],
            "text/html": [
              "\n",
              "  <div id=\"df-d3073b1d-63e9-4aa6-9392-c900dcc9b8a4\">\n",
              "    <div class=\"colab-df-container\">\n",
              "      <div>\n",
              "<style scoped>\n",
              "    .dataframe tbody tr th:only-of-type {\n",
              "        vertical-align: middle;\n",
              "    }\n",
              "\n",
              "    .dataframe tbody tr th {\n",
              "        vertical-align: top;\n",
              "    }\n",
              "\n",
              "    .dataframe thead th {\n",
              "        text-align: right;\n",
              "    }\n",
              "</style>\n",
              "<table border=\"1\" class=\"dataframe\">\n",
              "  <thead>\n",
              "    <tr style=\"text-align: right;\">\n",
              "      <th></th>\n",
              "      <th>model_id</th>\n",
              "      <th>score_threshold</th>\n",
              "      <th>k</th>\n",
              "      <th>attribute_name</th>\n",
              "      <th>attribute_value</th>\n",
              "      <th>pp</th>\n",
              "      <th>pn</th>\n",
              "      <th>fp</th>\n",
              "      <th>fn</th>\n",
              "      <th>tn</th>\n",
              "      <th>tp</th>\n",
              "      <th>group_label_pos</th>\n",
              "      <th>group_label_neg</th>\n",
              "      <th>group_size</th>\n",
              "      <th>total_entities</th>\n",
              "    </tr>\n",
              "  </thead>\n",
              "  <tbody>\n",
              "    <tr>\n",
              "      <th>0</th>\n",
              "      <td>0</td>\n",
              "      <td>binary 0/1</td>\n",
              "      <td>116</td>\n",
              "      <td>Loan_Amount_Term</td>\n",
              "      <td>120.0</td>\n",
              "      <td>1</td>\n",
              "      <td>0</td>\n",
              "      <td>0</td>\n",
              "      <td>0</td>\n",
              "      <td>0</td>\n",
              "      <td>1</td>\n",
              "      <td>1</td>\n",
              "      <td>0</td>\n",
              "      <td>1</td>\n",
              "      <td>116</td>\n",
              "    </tr>\n",
              "    <tr>\n",
              "      <th>1</th>\n",
              "      <td>0</td>\n",
              "      <td>binary 0/1</td>\n",
              "      <td>116</td>\n",
              "      <td>Loan_Amount_Term</td>\n",
              "      <td>180.0</td>\n",
              "      <td>5</td>\n",
              "      <td>0</td>\n",
              "      <td>1</td>\n",
              "      <td>0</td>\n",
              "      <td>0</td>\n",
              "      <td>4</td>\n",
              "      <td>4</td>\n",
              "      <td>1</td>\n",
              "      <td>5</td>\n",
              "      <td>116</td>\n",
              "    </tr>\n",
              "    <tr>\n",
              "      <th>2</th>\n",
              "      <td>0</td>\n",
              "      <td>binary 0/1</td>\n",
              "      <td>116</td>\n",
              "      <td>Loan_Amount_Term</td>\n",
              "      <td>300.0</td>\n",
              "      <td>3</td>\n",
              "      <td>0</td>\n",
              "      <td>2</td>\n",
              "      <td>0</td>\n",
              "      <td>0</td>\n",
              "      <td>1</td>\n",
              "      <td>1</td>\n",
              "      <td>2</td>\n",
              "      <td>3</td>\n",
              "      <td>116</td>\n",
              "    </tr>\n",
              "    <tr>\n",
              "      <th>3</th>\n",
              "      <td>0</td>\n",
              "      <td>binary 0/1</td>\n",
              "      <td>116</td>\n",
              "      <td>Loan_Amount_Term</td>\n",
              "      <td>360.0</td>\n",
              "      <td>104</td>\n",
              "      <td>0</td>\n",
              "      <td>33</td>\n",
              "      <td>0</td>\n",
              "      <td>0</td>\n",
              "      <td>71</td>\n",
              "      <td>71</td>\n",
              "      <td>33</td>\n",
              "      <td>104</td>\n",
              "      <td>116</td>\n",
              "    </tr>\n",
              "    <tr>\n",
              "      <th>4</th>\n",
              "      <td>0</td>\n",
              "      <td>binary 0/1</td>\n",
              "      <td>116</td>\n",
              "      <td>Loan_Amount_Term</td>\n",
              "      <td>480.0</td>\n",
              "      <td>2</td>\n",
              "      <td>0</td>\n",
              "      <td>1</td>\n",
              "      <td>0</td>\n",
              "      <td>0</td>\n",
              "      <td>1</td>\n",
              "      <td>1</td>\n",
              "      <td>1</td>\n",
              "      <td>2</td>\n",
              "      <td>116</td>\n",
              "    </tr>\n",
              "    <tr>\n",
              "      <th>5</th>\n",
              "      <td>0</td>\n",
              "      <td>binary 0/1</td>\n",
              "      <td>116</td>\n",
              "      <td>Loan_Amount_Term</td>\n",
              "      <td>84.0</td>\n",
              "      <td>1</td>\n",
              "      <td>0</td>\n",
              "      <td>0</td>\n",
              "      <td>0</td>\n",
              "      <td>0</td>\n",
              "      <td>1</td>\n",
              "      <td>1</td>\n",
              "      <td>0</td>\n",
              "      <td>1</td>\n",
              "      <td>116</td>\n",
              "    </tr>\n",
              "    <tr>\n",
              "      <th>6</th>\n",
              "      <td>0</td>\n",
              "      <td>binary 0/1</td>\n",
              "      <td>116</td>\n",
              "      <td>Credit_History</td>\n",
              "      <td>0.0</td>\n",
              "      <td>24</td>\n",
              "      <td>0</td>\n",
              "      <td>20</td>\n",
              "      <td>0</td>\n",
              "      <td>0</td>\n",
              "      <td>4</td>\n",
              "      <td>4</td>\n",
              "      <td>20</td>\n",
              "      <td>24</td>\n",
              "      <td>116</td>\n",
              "    </tr>\n",
              "    <tr>\n",
              "      <th>7</th>\n",
              "      <td>0</td>\n",
              "      <td>binary 0/1</td>\n",
              "      <td>116</td>\n",
              "      <td>Credit_History</td>\n",
              "      <td>1.0</td>\n",
              "      <td>92</td>\n",
              "      <td>0</td>\n",
              "      <td>17</td>\n",
              "      <td>0</td>\n",
              "      <td>0</td>\n",
              "      <td>75</td>\n",
              "      <td>75</td>\n",
              "      <td>17</td>\n",
              "      <td>92</td>\n",
              "      <td>116</td>\n",
              "    </tr>\n",
              "    <tr>\n",
              "      <th>8</th>\n",
              "      <td>0</td>\n",
              "      <td>binary 0/1</td>\n",
              "      <td>116</td>\n",
              "      <td>ApplicantIncome_cat</td>\n",
              "      <td>3000 - 5000</td>\n",
              "      <td>45</td>\n",
              "      <td>0</td>\n",
              "      <td>12</td>\n",
              "      <td>0</td>\n",
              "      <td>0</td>\n",
              "      <td>33</td>\n",
              "      <td>33</td>\n",
              "      <td>12</td>\n",
              "      <td>45</td>\n",
              "      <td>116</td>\n",
              "    </tr>\n",
              "    <tr>\n",
              "      <th>9</th>\n",
              "      <td>0</td>\n",
              "      <td>binary 0/1</td>\n",
              "      <td>116</td>\n",
              "      <td>ApplicantIncome_cat</td>\n",
              "      <td>greater than 5000</td>\n",
              "      <td>41</td>\n",
              "      <td>0</td>\n",
              "      <td>17</td>\n",
              "      <td>0</td>\n",
              "      <td>0</td>\n",
              "      <td>24</td>\n",
              "      <td>24</td>\n",
              "      <td>17</td>\n",
              "      <td>41</td>\n",
              "      <td>116</td>\n",
              "    </tr>\n",
              "    <tr>\n",
              "      <th>10</th>\n",
              "      <td>0</td>\n",
              "      <td>binary 0/1</td>\n",
              "      <td>116</td>\n",
              "      <td>ApplicantIncome_cat</td>\n",
              "      <td>less than 3000</td>\n",
              "      <td>30</td>\n",
              "      <td>0</td>\n",
              "      <td>8</td>\n",
              "      <td>0</td>\n",
              "      <td>0</td>\n",
              "      <td>22</td>\n",
              "      <td>22</td>\n",
              "      <td>8</td>\n",
              "      <td>30</td>\n",
              "      <td>116</td>\n",
              "    </tr>\n",
              "    <tr>\n",
              "      <th>11</th>\n",
              "      <td>0</td>\n",
              "      <td>binary 0/1</td>\n",
              "      <td>116</td>\n",
              "      <td>LoanAmount_cat</td>\n",
              "      <td>100 - 300</td>\n",
              "      <td>79</td>\n",
              "      <td>0</td>\n",
              "      <td>23</td>\n",
              "      <td>0</td>\n",
              "      <td>0</td>\n",
              "      <td>56</td>\n",
              "      <td>56</td>\n",
              "      <td>23</td>\n",
              "      <td>79</td>\n",
              "      <td>116</td>\n",
              "    </tr>\n",
              "    <tr>\n",
              "      <th>12</th>\n",
              "      <td>0</td>\n",
              "      <td>binary 0/1</td>\n",
              "      <td>116</td>\n",
              "      <td>LoanAmount_cat</td>\n",
              "      <td>greater than 300</td>\n",
              "      <td>8</td>\n",
              "      <td>0</td>\n",
              "      <td>5</td>\n",
              "      <td>0</td>\n",
              "      <td>0</td>\n",
              "      <td>3</td>\n",
              "      <td>3</td>\n",
              "      <td>5</td>\n",
              "      <td>8</td>\n",
              "      <td>116</td>\n",
              "    </tr>\n",
              "    <tr>\n",
              "      <th>13</th>\n",
              "      <td>0</td>\n",
              "      <td>binary 0/1</td>\n",
              "      <td>116</td>\n",
              "      <td>LoanAmount_cat</td>\n",
              "      <td>less than 100</td>\n",
              "      <td>29</td>\n",
              "      <td>0</td>\n",
              "      <td>9</td>\n",
              "      <td>0</td>\n",
              "      <td>0</td>\n",
              "      <td>20</td>\n",
              "      <td>20</td>\n",
              "      <td>9</td>\n",
              "      <td>29</td>\n",
              "      <td>116</td>\n",
              "    </tr>\n",
              "    <tr>\n",
              "      <th>14</th>\n",
              "      <td>0</td>\n",
              "      <td>binary 0/1</td>\n",
              "      <td>116</td>\n",
              "      <td>CoapplicantIncome_cat</td>\n",
              "      <td>1000 - 2000</td>\n",
              "      <td>20</td>\n",
              "      <td>0</td>\n",
              "      <td>7</td>\n",
              "      <td>0</td>\n",
              "      <td>0</td>\n",
              "      <td>13</td>\n",
              "      <td>13</td>\n",
              "      <td>7</td>\n",
              "      <td>20</td>\n",
              "      <td>116</td>\n",
              "    </tr>\n",
              "    <tr>\n",
              "      <th>15</th>\n",
              "      <td>0</td>\n",
              "      <td>binary 0/1</td>\n",
              "      <td>116</td>\n",
              "      <td>CoapplicantIncome_cat</td>\n",
              "      <td>equals zero</td>\n",
              "      <td>55</td>\n",
              "      <td>0</td>\n",
              "      <td>16</td>\n",
              "      <td>0</td>\n",
              "      <td>0</td>\n",
              "      <td>39</td>\n",
              "      <td>39</td>\n",
              "      <td>16</td>\n",
              "      <td>55</td>\n",
              "      <td>116</td>\n",
              "    </tr>\n",
              "    <tr>\n",
              "      <th>16</th>\n",
              "      <td>0</td>\n",
              "      <td>binary 0/1</td>\n",
              "      <td>116</td>\n",
              "      <td>CoapplicantIncome_cat</td>\n",
              "      <td>greater than 2000</td>\n",
              "      <td>40</td>\n",
              "      <td>0</td>\n",
              "      <td>14</td>\n",
              "      <td>0</td>\n",
              "      <td>0</td>\n",
              "      <td>26</td>\n",
              "      <td>26</td>\n",
              "      <td>14</td>\n",
              "      <td>40</td>\n",
              "      <td>116</td>\n",
              "    </tr>\n",
              "    <tr>\n",
              "      <th>17</th>\n",
              "      <td>0</td>\n",
              "      <td>binary 0/1</td>\n",
              "      <td>116</td>\n",
              "      <td>CoapplicantIncome_cat</td>\n",
              "      <td>less than 1000</td>\n",
              "      <td>1</td>\n",
              "      <td>0</td>\n",
              "      <td>0</td>\n",
              "      <td>0</td>\n",
              "      <td>0</td>\n",
              "      <td>1</td>\n",
              "      <td>1</td>\n",
              "      <td>0</td>\n",
              "      <td>1</td>\n",
              "      <td>116</td>\n",
              "    </tr>\n",
              "  </tbody>\n",
              "</table>\n",
              "</div>\n",
              "      <button class=\"colab-df-convert\" onclick=\"convertToInteractive('df-d3073b1d-63e9-4aa6-9392-c900dcc9b8a4')\"\n",
              "              title=\"Convert this dataframe to an interactive table.\"\n",
              "              style=\"display:none;\">\n",
              "        \n",
              "  <svg xmlns=\"http://www.w3.org/2000/svg\" height=\"24px\"viewBox=\"0 0 24 24\"\n",
              "       width=\"24px\">\n",
              "    <path d=\"M0 0h24v24H0V0z\" fill=\"none\"/>\n",
              "    <path d=\"M18.56 5.44l.94 2.06.94-2.06 2.06-.94-2.06-.94-.94-2.06-.94 2.06-2.06.94zm-11 1L8.5 8.5l.94-2.06 2.06-.94-2.06-.94L8.5 2.5l-.94 2.06-2.06.94zm10 10l.94 2.06.94-2.06 2.06-.94-2.06-.94-.94-2.06-.94 2.06-2.06.94z\"/><path d=\"M17.41 7.96l-1.37-1.37c-.4-.4-.92-.59-1.43-.59-.52 0-1.04.2-1.43.59L10.3 9.45l-7.72 7.72c-.78.78-.78 2.05 0 2.83L4 21.41c.39.39.9.59 1.41.59.51 0 1.02-.2 1.41-.59l7.78-7.78 2.81-2.81c.8-.78.8-2.07 0-2.86zM5.41 20L4 18.59l7.72-7.72 1.47 1.35L5.41 20z\"/>\n",
              "  </svg>\n",
              "      </button>\n",
              "      \n",
              "  <style>\n",
              "    .colab-df-container {\n",
              "      display:flex;\n",
              "      flex-wrap:wrap;\n",
              "      gap: 12px;\n",
              "    }\n",
              "\n",
              "    .colab-df-convert {\n",
              "      background-color: #E8F0FE;\n",
              "      border: none;\n",
              "      border-radius: 50%;\n",
              "      cursor: pointer;\n",
              "      display: none;\n",
              "      fill: #1967D2;\n",
              "      height: 32px;\n",
              "      padding: 0 0 0 0;\n",
              "      width: 32px;\n",
              "    }\n",
              "\n",
              "    .colab-df-convert:hover {\n",
              "      background-color: #E2EBFA;\n",
              "      box-shadow: 0px 1px 2px rgba(60, 64, 67, 0.3), 0px 1px 3px 1px rgba(60, 64, 67, 0.15);\n",
              "      fill: #174EA6;\n",
              "    }\n",
              "\n",
              "    [theme=dark] .colab-df-convert {\n",
              "      background-color: #3B4455;\n",
              "      fill: #D2E3FC;\n",
              "    }\n",
              "\n",
              "    [theme=dark] .colab-df-convert:hover {\n",
              "      background-color: #434B5C;\n",
              "      box-shadow: 0px 1px 3px 1px rgba(0, 0, 0, 0.15);\n",
              "      filter: drop-shadow(0px 1px 2px rgba(0, 0, 0, 0.3));\n",
              "      fill: #FFFFFF;\n",
              "    }\n",
              "  </style>\n",
              "\n",
              "      <script>\n",
              "        const buttonEl =\n",
              "          document.querySelector('#df-d3073b1d-63e9-4aa6-9392-c900dcc9b8a4 button.colab-df-convert');\n",
              "        buttonEl.style.display =\n",
              "          google.colab.kernel.accessAllowed ? 'block' : 'none';\n",
              "\n",
              "        async function convertToInteractive(key) {\n",
              "          const element = document.querySelector('#df-d3073b1d-63e9-4aa6-9392-c900dcc9b8a4');\n",
              "          const dataTable =\n",
              "            await google.colab.kernel.invokeFunction('convertToInteractive',\n",
              "                                                     [key], {});\n",
              "          if (!dataTable) return;\n",
              "\n",
              "          const docLinkHtml = 'Like what you see? Visit the ' +\n",
              "            '<a target=\"_blank\" href=https://colab.research.google.com/notebooks/data_table.ipynb>data table notebook</a>'\n",
              "            + ' to learn more about interactive tables.';\n",
              "          element.innerHTML = '';\n",
              "          dataTable['output_type'] = 'display_data';\n",
              "          await google.colab.output.renderOutput(dataTable, element);\n",
              "          const docLink = document.createElement('div');\n",
              "          docLink.innerHTML = docLinkHtml;\n",
              "          element.appendChild(docLink);\n",
              "        }\n",
              "      </script>\n",
              "    </div>\n",
              "  </div>\n",
              "  "
            ]
          },
          "metadata": {},
          "execution_count": 156
        }
      ]
    },
    {
      "cell_type": "code",
      "source": [
        "# got rid of nan values\n",
        "clean_xtab = xtab[['attribute_name', 'attribute_value'] + absolute_metrics].round(2).dropna(thresh=len(xtab)*0.9, axis=1)\n",
        "clean_xtab"
      ],
      "metadata": {
        "colab": {
          "base_uri": "https://localhost:8080/",
          "height": 614
        },
        "id": "flQEziQtxbNa",
        "outputId": "a1225b80-1e6b-48b0-de34-272e2ff72aa0"
      },
      "execution_count": null,
      "outputs": [
        {
          "output_type": "execute_result",
          "data": {
            "text/plain": [
              "           attribute_name    attribute_value  tpr   fdr  fnr  precision   ppr  \\\n",
              "0        Loan_Amount_Term              120.0  1.0  0.00  0.0       1.00  0.01   \n",
              "1        Loan_Amount_Term              180.0  1.0  0.20  0.0       0.80  0.04   \n",
              "2        Loan_Amount_Term              300.0  1.0  0.67  0.0       0.33  0.03   \n",
              "3        Loan_Amount_Term              360.0  1.0  0.32  0.0       0.68  0.90   \n",
              "4        Loan_Amount_Term              480.0  1.0  0.50  0.0       0.50  0.02   \n",
              "5        Loan_Amount_Term               84.0  1.0  0.00  0.0       1.00  0.01   \n",
              "6          Credit_History                0.0  1.0  0.83  0.0       0.17  0.21   \n",
              "7          Credit_History                1.0  1.0  0.18  0.0       0.82  0.79   \n",
              "8     ApplicantIncome_cat        3000 - 5000  1.0  0.27  0.0       0.73  0.39   \n",
              "9     ApplicantIncome_cat  greater than 5000  1.0  0.41  0.0       0.59  0.35   \n",
              "10    ApplicantIncome_cat     less than 3000  1.0  0.27  0.0       0.73  0.26   \n",
              "11         LoanAmount_cat          100 - 300  1.0  0.29  0.0       0.71  0.68   \n",
              "12         LoanAmount_cat   greater than 300  1.0  0.62  0.0       0.38  0.07   \n",
              "13         LoanAmount_cat      less than 100  1.0  0.31  0.0       0.69  0.25   \n",
              "14  CoapplicantIncome_cat        1000 - 2000  1.0  0.35  0.0       0.65  0.17   \n",
              "15  CoapplicantIncome_cat        equals zero  1.0  0.29  0.0       0.71  0.47   \n",
              "16  CoapplicantIncome_cat  greater than 2000  1.0  0.35  0.0       0.65  0.34   \n",
              "17  CoapplicantIncome_cat     less than 1000  1.0  0.00  0.0       1.00  0.01   \n",
              "\n",
              "    pprev  prev  \n",
              "0     1.0  1.00  \n",
              "1     1.0  0.80  \n",
              "2     1.0  0.33  \n",
              "3     1.0  0.68  \n",
              "4     1.0  0.50  \n",
              "5     1.0  1.00  \n",
              "6     1.0  0.17  \n",
              "7     1.0  0.82  \n",
              "8     1.0  0.73  \n",
              "9     1.0  0.59  \n",
              "10    1.0  0.73  \n",
              "11    1.0  0.71  \n",
              "12    1.0  0.38  \n",
              "13    1.0  0.69  \n",
              "14    1.0  0.65  \n",
              "15    1.0  0.71  \n",
              "16    1.0  0.65  \n",
              "17    1.0  1.00  "
            ],
            "text/html": [
              "\n",
              "  <div id=\"df-1c995761-cb8a-4b49-83c5-cbbcd7f0d853\">\n",
              "    <div class=\"colab-df-container\">\n",
              "      <div>\n",
              "<style scoped>\n",
              "    .dataframe tbody tr th:only-of-type {\n",
              "        vertical-align: middle;\n",
              "    }\n",
              "\n",
              "    .dataframe tbody tr th {\n",
              "        vertical-align: top;\n",
              "    }\n",
              "\n",
              "    .dataframe thead th {\n",
              "        text-align: right;\n",
              "    }\n",
              "</style>\n",
              "<table border=\"1\" class=\"dataframe\">\n",
              "  <thead>\n",
              "    <tr style=\"text-align: right;\">\n",
              "      <th></th>\n",
              "      <th>attribute_name</th>\n",
              "      <th>attribute_value</th>\n",
              "      <th>tpr</th>\n",
              "      <th>fdr</th>\n",
              "      <th>fnr</th>\n",
              "      <th>precision</th>\n",
              "      <th>ppr</th>\n",
              "      <th>pprev</th>\n",
              "      <th>prev</th>\n",
              "    </tr>\n",
              "  </thead>\n",
              "  <tbody>\n",
              "    <tr>\n",
              "      <th>0</th>\n",
              "      <td>Loan_Amount_Term</td>\n",
              "      <td>120.0</td>\n",
              "      <td>1.0</td>\n",
              "      <td>0.00</td>\n",
              "      <td>0.0</td>\n",
              "      <td>1.00</td>\n",
              "      <td>0.01</td>\n",
              "      <td>1.0</td>\n",
              "      <td>1.00</td>\n",
              "    </tr>\n",
              "    <tr>\n",
              "      <th>1</th>\n",
              "      <td>Loan_Amount_Term</td>\n",
              "      <td>180.0</td>\n",
              "      <td>1.0</td>\n",
              "      <td>0.20</td>\n",
              "      <td>0.0</td>\n",
              "      <td>0.80</td>\n",
              "      <td>0.04</td>\n",
              "      <td>1.0</td>\n",
              "      <td>0.80</td>\n",
              "    </tr>\n",
              "    <tr>\n",
              "      <th>2</th>\n",
              "      <td>Loan_Amount_Term</td>\n",
              "      <td>300.0</td>\n",
              "      <td>1.0</td>\n",
              "      <td>0.67</td>\n",
              "      <td>0.0</td>\n",
              "      <td>0.33</td>\n",
              "      <td>0.03</td>\n",
              "      <td>1.0</td>\n",
              "      <td>0.33</td>\n",
              "    </tr>\n",
              "    <tr>\n",
              "      <th>3</th>\n",
              "      <td>Loan_Amount_Term</td>\n",
              "      <td>360.0</td>\n",
              "      <td>1.0</td>\n",
              "      <td>0.32</td>\n",
              "      <td>0.0</td>\n",
              "      <td>0.68</td>\n",
              "      <td>0.90</td>\n",
              "      <td>1.0</td>\n",
              "      <td>0.68</td>\n",
              "    </tr>\n",
              "    <tr>\n",
              "      <th>4</th>\n",
              "      <td>Loan_Amount_Term</td>\n",
              "      <td>480.0</td>\n",
              "      <td>1.0</td>\n",
              "      <td>0.50</td>\n",
              "      <td>0.0</td>\n",
              "      <td>0.50</td>\n",
              "      <td>0.02</td>\n",
              "      <td>1.0</td>\n",
              "      <td>0.50</td>\n",
              "    </tr>\n",
              "    <tr>\n",
              "      <th>5</th>\n",
              "      <td>Loan_Amount_Term</td>\n",
              "      <td>84.0</td>\n",
              "      <td>1.0</td>\n",
              "      <td>0.00</td>\n",
              "      <td>0.0</td>\n",
              "      <td>1.00</td>\n",
              "      <td>0.01</td>\n",
              "      <td>1.0</td>\n",
              "      <td>1.00</td>\n",
              "    </tr>\n",
              "    <tr>\n",
              "      <th>6</th>\n",
              "      <td>Credit_History</td>\n",
              "      <td>0.0</td>\n",
              "      <td>1.0</td>\n",
              "      <td>0.83</td>\n",
              "      <td>0.0</td>\n",
              "      <td>0.17</td>\n",
              "      <td>0.21</td>\n",
              "      <td>1.0</td>\n",
              "      <td>0.17</td>\n",
              "    </tr>\n",
              "    <tr>\n",
              "      <th>7</th>\n",
              "      <td>Credit_History</td>\n",
              "      <td>1.0</td>\n",
              "      <td>1.0</td>\n",
              "      <td>0.18</td>\n",
              "      <td>0.0</td>\n",
              "      <td>0.82</td>\n",
              "      <td>0.79</td>\n",
              "      <td>1.0</td>\n",
              "      <td>0.82</td>\n",
              "    </tr>\n",
              "    <tr>\n",
              "      <th>8</th>\n",
              "      <td>ApplicantIncome_cat</td>\n",
              "      <td>3000 - 5000</td>\n",
              "      <td>1.0</td>\n",
              "      <td>0.27</td>\n",
              "      <td>0.0</td>\n",
              "      <td>0.73</td>\n",
              "      <td>0.39</td>\n",
              "      <td>1.0</td>\n",
              "      <td>0.73</td>\n",
              "    </tr>\n",
              "    <tr>\n",
              "      <th>9</th>\n",
              "      <td>ApplicantIncome_cat</td>\n",
              "      <td>greater than 5000</td>\n",
              "      <td>1.0</td>\n",
              "      <td>0.41</td>\n",
              "      <td>0.0</td>\n",
              "      <td>0.59</td>\n",
              "      <td>0.35</td>\n",
              "      <td>1.0</td>\n",
              "      <td>0.59</td>\n",
              "    </tr>\n",
              "    <tr>\n",
              "      <th>10</th>\n",
              "      <td>ApplicantIncome_cat</td>\n",
              "      <td>less than 3000</td>\n",
              "      <td>1.0</td>\n",
              "      <td>0.27</td>\n",
              "      <td>0.0</td>\n",
              "      <td>0.73</td>\n",
              "      <td>0.26</td>\n",
              "      <td>1.0</td>\n",
              "      <td>0.73</td>\n",
              "    </tr>\n",
              "    <tr>\n",
              "      <th>11</th>\n",
              "      <td>LoanAmount_cat</td>\n",
              "      <td>100 - 300</td>\n",
              "      <td>1.0</td>\n",
              "      <td>0.29</td>\n",
              "      <td>0.0</td>\n",
              "      <td>0.71</td>\n",
              "      <td>0.68</td>\n",
              "      <td>1.0</td>\n",
              "      <td>0.71</td>\n",
              "    </tr>\n",
              "    <tr>\n",
              "      <th>12</th>\n",
              "      <td>LoanAmount_cat</td>\n",
              "      <td>greater than 300</td>\n",
              "      <td>1.0</td>\n",
              "      <td>0.62</td>\n",
              "      <td>0.0</td>\n",
              "      <td>0.38</td>\n",
              "      <td>0.07</td>\n",
              "      <td>1.0</td>\n",
              "      <td>0.38</td>\n",
              "    </tr>\n",
              "    <tr>\n",
              "      <th>13</th>\n",
              "      <td>LoanAmount_cat</td>\n",
              "      <td>less than 100</td>\n",
              "      <td>1.0</td>\n",
              "      <td>0.31</td>\n",
              "      <td>0.0</td>\n",
              "      <td>0.69</td>\n",
              "      <td>0.25</td>\n",
              "      <td>1.0</td>\n",
              "      <td>0.69</td>\n",
              "    </tr>\n",
              "    <tr>\n",
              "      <th>14</th>\n",
              "      <td>CoapplicantIncome_cat</td>\n",
              "      <td>1000 - 2000</td>\n",
              "      <td>1.0</td>\n",
              "      <td>0.35</td>\n",
              "      <td>0.0</td>\n",
              "      <td>0.65</td>\n",
              "      <td>0.17</td>\n",
              "      <td>1.0</td>\n",
              "      <td>0.65</td>\n",
              "    </tr>\n",
              "    <tr>\n",
              "      <th>15</th>\n",
              "      <td>CoapplicantIncome_cat</td>\n",
              "      <td>equals zero</td>\n",
              "      <td>1.0</td>\n",
              "      <td>0.29</td>\n",
              "      <td>0.0</td>\n",
              "      <td>0.71</td>\n",
              "      <td>0.47</td>\n",
              "      <td>1.0</td>\n",
              "      <td>0.71</td>\n",
              "    </tr>\n",
              "    <tr>\n",
              "      <th>16</th>\n",
              "      <td>CoapplicantIncome_cat</td>\n",
              "      <td>greater than 2000</td>\n",
              "      <td>1.0</td>\n",
              "      <td>0.35</td>\n",
              "      <td>0.0</td>\n",
              "      <td>0.65</td>\n",
              "      <td>0.34</td>\n",
              "      <td>1.0</td>\n",
              "      <td>0.65</td>\n",
              "    </tr>\n",
              "    <tr>\n",
              "      <th>17</th>\n",
              "      <td>CoapplicantIncome_cat</td>\n",
              "      <td>less than 1000</td>\n",
              "      <td>1.0</td>\n",
              "      <td>0.00</td>\n",
              "      <td>0.0</td>\n",
              "      <td>1.00</td>\n",
              "      <td>0.01</td>\n",
              "      <td>1.0</td>\n",
              "      <td>1.00</td>\n",
              "    </tr>\n",
              "  </tbody>\n",
              "</table>\n",
              "</div>\n",
              "      <button class=\"colab-df-convert\" onclick=\"convertToInteractive('df-1c995761-cb8a-4b49-83c5-cbbcd7f0d853')\"\n",
              "              title=\"Convert this dataframe to an interactive table.\"\n",
              "              style=\"display:none;\">\n",
              "        \n",
              "  <svg xmlns=\"http://www.w3.org/2000/svg\" height=\"24px\"viewBox=\"0 0 24 24\"\n",
              "       width=\"24px\">\n",
              "    <path d=\"M0 0h24v24H0V0z\" fill=\"none\"/>\n",
              "    <path d=\"M18.56 5.44l.94 2.06.94-2.06 2.06-.94-2.06-.94-.94-2.06-.94 2.06-2.06.94zm-11 1L8.5 8.5l.94-2.06 2.06-.94-2.06-.94L8.5 2.5l-.94 2.06-2.06.94zm10 10l.94 2.06.94-2.06 2.06-.94-2.06-.94-.94-2.06-.94 2.06-2.06.94z\"/><path d=\"M17.41 7.96l-1.37-1.37c-.4-.4-.92-.59-1.43-.59-.52 0-1.04.2-1.43.59L10.3 9.45l-7.72 7.72c-.78.78-.78 2.05 0 2.83L4 21.41c.39.39.9.59 1.41.59.51 0 1.02-.2 1.41-.59l7.78-7.78 2.81-2.81c.8-.78.8-2.07 0-2.86zM5.41 20L4 18.59l7.72-7.72 1.47 1.35L5.41 20z\"/>\n",
              "  </svg>\n",
              "      </button>\n",
              "      \n",
              "  <style>\n",
              "    .colab-df-container {\n",
              "      display:flex;\n",
              "      flex-wrap:wrap;\n",
              "      gap: 12px;\n",
              "    }\n",
              "\n",
              "    .colab-df-convert {\n",
              "      background-color: #E8F0FE;\n",
              "      border: none;\n",
              "      border-radius: 50%;\n",
              "      cursor: pointer;\n",
              "      display: none;\n",
              "      fill: #1967D2;\n",
              "      height: 32px;\n",
              "      padding: 0 0 0 0;\n",
              "      width: 32px;\n",
              "    }\n",
              "\n",
              "    .colab-df-convert:hover {\n",
              "      background-color: #E2EBFA;\n",
              "      box-shadow: 0px 1px 2px rgba(60, 64, 67, 0.3), 0px 1px 3px 1px rgba(60, 64, 67, 0.15);\n",
              "      fill: #174EA6;\n",
              "    }\n",
              "\n",
              "    [theme=dark] .colab-df-convert {\n",
              "      background-color: #3B4455;\n",
              "      fill: #D2E3FC;\n",
              "    }\n",
              "\n",
              "    [theme=dark] .colab-df-convert:hover {\n",
              "      background-color: #434B5C;\n",
              "      box-shadow: 0px 1px 3px 1px rgba(0, 0, 0, 0.15);\n",
              "      filter: drop-shadow(0px 1px 2px rgba(0, 0, 0, 0.3));\n",
              "      fill: #FFFFFF;\n",
              "    }\n",
              "  </style>\n",
              "\n",
              "      <script>\n",
              "        const buttonEl =\n",
              "          document.querySelector('#df-1c995761-cb8a-4b49-83c5-cbbcd7f0d853 button.colab-df-convert');\n",
              "        buttonEl.style.display =\n",
              "          google.colab.kernel.accessAllowed ? 'block' : 'none';\n",
              "\n",
              "        async function convertToInteractive(key) {\n",
              "          const element = document.querySelector('#df-1c995761-cb8a-4b49-83c5-cbbcd7f0d853');\n",
              "          const dataTable =\n",
              "            await google.colab.kernel.invokeFunction('convertToInteractive',\n",
              "                                                     [key], {});\n",
              "          if (!dataTable) return;\n",
              "\n",
              "          const docLinkHtml = 'Like what you see? Visit the ' +\n",
              "            '<a target=\"_blank\" href=https://colab.research.google.com/notebooks/data_table.ipynb>data table notebook</a>'\n",
              "            + ' to learn more about interactive tables.';\n",
              "          element.innerHTML = '';\n",
              "          dataTable['output_type'] = 'display_data';\n",
              "          await google.colab.output.renderOutput(dataTable, element);\n",
              "          const docLink = document.createElement('div');\n",
              "          docLink.innerHTML = docLinkHtml;\n",
              "          element.appendChild(docLink);\n",
              "        }\n",
              "      </script>\n",
              "    </div>\n",
              "  </div>\n",
              "  "
            ]
          },
          "metadata": {},
          "execution_count": 157
        }
      ]
    },
    {
      "cell_type": "markdown",
      "source": [
        "Bias allows us to measure the extent to which your model's predictions are biased against certain groups."
      ],
      "metadata": {
        "id": "FS-SoAs8RH0h"
      }
    },
    {
      "cell_type": "markdown",
      "source": [
        "We calculated disparities in relation to the sample population majority group for each attribute. We did this to evaluate how much more or less other groups are correctly or incorrectly predicted to get mortgage loans in relation to the group with the most data."
      ],
      "metadata": {
        "id": "ZIXH7StEKR9O"
      }
    },
    {
      "cell_type": "code",
      "source": [
        "b = Bias()\n",
        "majority_bdf = b.get_disparity_major_group(xtab, original_df=test_df, mask_significance=True)"
      ],
      "metadata": {
        "colab": {
          "base_uri": "https://localhost:8080/"
        },
        "id": "4VO9rxyOwway",
        "outputId": "308ca2c7-f522-4986-b78b-c9dde7d4e2a4"
      },
      "execution_count": null,
      "outputs": [
        {
          "output_type": "stream",
          "name": "stdout",
          "text": [
            "get_disparity_major_group()\n"
          ]
        }
      ]
    },
    {
      "cell_type": "code",
      "source": [
        "# Bias() class includes a method to return a list of calculated disparities from the dataframe returned by the `get_disparity_` methods.\n",
        "calculated_disparities = b.list_disparities(majority_bdf)\n",
        "disparity_significance = b.list_significance(majority_bdf)"
      ],
      "metadata": {
        "id": "S_qutPO1F0VQ"
      },
      "execution_count": null,
      "outputs": []
    },
    {
      "cell_type": "code",
      "source": [
        "# View disparity metrics added to dataframe\n",
        "# calculated_disparities is a list of disparity metrics calculated such as ppr_disparity, pprev_disparity, fnr_disparity, fpr_disparity\n",
        "# disparity_significance is a list of boolean values showing whether the disparity metric for each feature is statistically significant (True) or not (False)\n",
        "majority_bdf[['attribute_name', 'attribute_value'] +  calculated_disparities + disparity_significance].dropna(thresh=len(xtab)*0.9, axis=1)"
      ],
      "metadata": {
        "colab": {
          "base_uri": "https://localhost:8080/",
          "height": 614
        },
        "id": "jt3oBmeOIQp8",
        "outputId": "c87ca5ec-8b8a-4b7b-cab6-46849211edbe"
      },
      "execution_count": null,
      "outputs": [
        {
          "output_type": "execute_result",
          "data": {
            "text/plain": [
              "           attribute_name    attribute_value  ppr_disparity  pprev_disparity  \\\n",
              "0        Loan_Amount_Term              120.0       0.009615              1.0   \n",
              "1        Loan_Amount_Term              180.0       0.048077              1.0   \n",
              "2        Loan_Amount_Term              300.0       0.028846              1.0   \n",
              "3        Loan_Amount_Term              360.0       1.000000              1.0   \n",
              "4        Loan_Amount_Term              480.0       0.019231              1.0   \n",
              "5        Loan_Amount_Term               84.0       0.009615              1.0   \n",
              "6          Credit_History                0.0       0.260870              1.0   \n",
              "7          Credit_History                1.0       1.000000              1.0   \n",
              "8     ApplicantIncome_cat        3000 - 5000       1.000000              1.0   \n",
              "9     ApplicantIncome_cat  greater than 5000       0.911111              1.0   \n",
              "10    ApplicantIncome_cat     less than 3000       0.666667              1.0   \n",
              "11         LoanAmount_cat          100 - 300       1.000000              1.0   \n",
              "12         LoanAmount_cat   greater than 300       0.101266              1.0   \n",
              "13         LoanAmount_cat      less than 100       0.367089              1.0   \n",
              "14  CoapplicantIncome_cat        1000 - 2000       0.363636              1.0   \n",
              "15  CoapplicantIncome_cat        equals zero       1.000000              1.0   \n",
              "16  CoapplicantIncome_cat  greater than 2000       0.727273              1.0   \n",
              "17  CoapplicantIncome_cat     less than 1000       0.018182              1.0   \n",
              "\n",
              "    precision_disparity  fdr_disparity  tpr_disparity  \n",
              "0              1.464789       0.000000            1.0  \n",
              "1              1.171831       0.630303            1.0  \n",
              "2              0.488263       2.101010            1.0  \n",
              "3              1.000000       1.000000            1.0  \n",
              "4              0.732394       1.575758            1.0  \n",
              "5              1.464789       0.000000            1.0  \n",
              "6              0.204444       4.509804            1.0  \n",
              "7              1.000000       1.000000            1.0  \n",
              "8              1.000000       1.000000            1.0  \n",
              "9              0.798226       1.554878            1.0  \n",
              "10             1.000000       1.000000            1.0  \n",
              "11             1.000000       1.000000            1.0  \n",
              "12             0.529018       2.146739            1.0  \n",
              "13             0.972906       1.065967            1.0  \n",
              "14             0.916667       1.203125            1.0  \n",
              "15             1.000000       1.000000            1.0  \n",
              "16             0.916667       1.203125            1.0  \n",
              "17             1.410256       0.000000            1.0  "
            ],
            "text/html": [
              "\n",
              "  <div id=\"df-5a930b8d-881a-447e-901c-fa7162146592\">\n",
              "    <div class=\"colab-df-container\">\n",
              "      <div>\n",
              "<style scoped>\n",
              "    .dataframe tbody tr th:only-of-type {\n",
              "        vertical-align: middle;\n",
              "    }\n",
              "\n",
              "    .dataframe tbody tr th {\n",
              "        vertical-align: top;\n",
              "    }\n",
              "\n",
              "    .dataframe thead th {\n",
              "        text-align: right;\n",
              "    }\n",
              "</style>\n",
              "<table border=\"1\" class=\"dataframe\">\n",
              "  <thead>\n",
              "    <tr style=\"text-align: right;\">\n",
              "      <th></th>\n",
              "      <th>attribute_name</th>\n",
              "      <th>attribute_value</th>\n",
              "      <th>ppr_disparity</th>\n",
              "      <th>pprev_disparity</th>\n",
              "      <th>precision_disparity</th>\n",
              "      <th>fdr_disparity</th>\n",
              "      <th>tpr_disparity</th>\n",
              "    </tr>\n",
              "  </thead>\n",
              "  <tbody>\n",
              "    <tr>\n",
              "      <th>0</th>\n",
              "      <td>Loan_Amount_Term</td>\n",
              "      <td>120.0</td>\n",
              "      <td>0.009615</td>\n",
              "      <td>1.0</td>\n",
              "      <td>1.464789</td>\n",
              "      <td>0.000000</td>\n",
              "      <td>1.0</td>\n",
              "    </tr>\n",
              "    <tr>\n",
              "      <th>1</th>\n",
              "      <td>Loan_Amount_Term</td>\n",
              "      <td>180.0</td>\n",
              "      <td>0.048077</td>\n",
              "      <td>1.0</td>\n",
              "      <td>1.171831</td>\n",
              "      <td>0.630303</td>\n",
              "      <td>1.0</td>\n",
              "    </tr>\n",
              "    <tr>\n",
              "      <th>2</th>\n",
              "      <td>Loan_Amount_Term</td>\n",
              "      <td>300.0</td>\n",
              "      <td>0.028846</td>\n",
              "      <td>1.0</td>\n",
              "      <td>0.488263</td>\n",
              "      <td>2.101010</td>\n",
              "      <td>1.0</td>\n",
              "    </tr>\n",
              "    <tr>\n",
              "      <th>3</th>\n",
              "      <td>Loan_Amount_Term</td>\n",
              "      <td>360.0</td>\n",
              "      <td>1.000000</td>\n",
              "      <td>1.0</td>\n",
              "      <td>1.000000</td>\n",
              "      <td>1.000000</td>\n",
              "      <td>1.0</td>\n",
              "    </tr>\n",
              "    <tr>\n",
              "      <th>4</th>\n",
              "      <td>Loan_Amount_Term</td>\n",
              "      <td>480.0</td>\n",
              "      <td>0.019231</td>\n",
              "      <td>1.0</td>\n",
              "      <td>0.732394</td>\n",
              "      <td>1.575758</td>\n",
              "      <td>1.0</td>\n",
              "    </tr>\n",
              "    <tr>\n",
              "      <th>5</th>\n",
              "      <td>Loan_Amount_Term</td>\n",
              "      <td>84.0</td>\n",
              "      <td>0.009615</td>\n",
              "      <td>1.0</td>\n",
              "      <td>1.464789</td>\n",
              "      <td>0.000000</td>\n",
              "      <td>1.0</td>\n",
              "    </tr>\n",
              "    <tr>\n",
              "      <th>6</th>\n",
              "      <td>Credit_History</td>\n",
              "      <td>0.0</td>\n",
              "      <td>0.260870</td>\n",
              "      <td>1.0</td>\n",
              "      <td>0.204444</td>\n",
              "      <td>4.509804</td>\n",
              "      <td>1.0</td>\n",
              "    </tr>\n",
              "    <tr>\n",
              "      <th>7</th>\n",
              "      <td>Credit_History</td>\n",
              "      <td>1.0</td>\n",
              "      <td>1.000000</td>\n",
              "      <td>1.0</td>\n",
              "      <td>1.000000</td>\n",
              "      <td>1.000000</td>\n",
              "      <td>1.0</td>\n",
              "    </tr>\n",
              "    <tr>\n",
              "      <th>8</th>\n",
              "      <td>ApplicantIncome_cat</td>\n",
              "      <td>3000 - 5000</td>\n",
              "      <td>1.000000</td>\n",
              "      <td>1.0</td>\n",
              "      <td>1.000000</td>\n",
              "      <td>1.000000</td>\n",
              "      <td>1.0</td>\n",
              "    </tr>\n",
              "    <tr>\n",
              "      <th>9</th>\n",
              "      <td>ApplicantIncome_cat</td>\n",
              "      <td>greater than 5000</td>\n",
              "      <td>0.911111</td>\n",
              "      <td>1.0</td>\n",
              "      <td>0.798226</td>\n",
              "      <td>1.554878</td>\n",
              "      <td>1.0</td>\n",
              "    </tr>\n",
              "    <tr>\n",
              "      <th>10</th>\n",
              "      <td>ApplicantIncome_cat</td>\n",
              "      <td>less than 3000</td>\n",
              "      <td>0.666667</td>\n",
              "      <td>1.0</td>\n",
              "      <td>1.000000</td>\n",
              "      <td>1.000000</td>\n",
              "      <td>1.0</td>\n",
              "    </tr>\n",
              "    <tr>\n",
              "      <th>11</th>\n",
              "      <td>LoanAmount_cat</td>\n",
              "      <td>100 - 300</td>\n",
              "      <td>1.000000</td>\n",
              "      <td>1.0</td>\n",
              "      <td>1.000000</td>\n",
              "      <td>1.000000</td>\n",
              "      <td>1.0</td>\n",
              "    </tr>\n",
              "    <tr>\n",
              "      <th>12</th>\n",
              "      <td>LoanAmount_cat</td>\n",
              "      <td>greater than 300</td>\n",
              "      <td>0.101266</td>\n",
              "      <td>1.0</td>\n",
              "      <td>0.529018</td>\n",
              "      <td>2.146739</td>\n",
              "      <td>1.0</td>\n",
              "    </tr>\n",
              "    <tr>\n",
              "      <th>13</th>\n",
              "      <td>LoanAmount_cat</td>\n",
              "      <td>less than 100</td>\n",
              "      <td>0.367089</td>\n",
              "      <td>1.0</td>\n",
              "      <td>0.972906</td>\n",
              "      <td>1.065967</td>\n",
              "      <td>1.0</td>\n",
              "    </tr>\n",
              "    <tr>\n",
              "      <th>14</th>\n",
              "      <td>CoapplicantIncome_cat</td>\n",
              "      <td>1000 - 2000</td>\n",
              "      <td>0.363636</td>\n",
              "      <td>1.0</td>\n",
              "      <td>0.916667</td>\n",
              "      <td>1.203125</td>\n",
              "      <td>1.0</td>\n",
              "    </tr>\n",
              "    <tr>\n",
              "      <th>15</th>\n",
              "      <td>CoapplicantIncome_cat</td>\n",
              "      <td>equals zero</td>\n",
              "      <td>1.000000</td>\n",
              "      <td>1.0</td>\n",
              "      <td>1.000000</td>\n",
              "      <td>1.000000</td>\n",
              "      <td>1.0</td>\n",
              "    </tr>\n",
              "    <tr>\n",
              "      <th>16</th>\n",
              "      <td>CoapplicantIncome_cat</td>\n",
              "      <td>greater than 2000</td>\n",
              "      <td>0.727273</td>\n",
              "      <td>1.0</td>\n",
              "      <td>0.916667</td>\n",
              "      <td>1.203125</td>\n",
              "      <td>1.0</td>\n",
              "    </tr>\n",
              "    <tr>\n",
              "      <th>17</th>\n",
              "      <td>CoapplicantIncome_cat</td>\n",
              "      <td>less than 1000</td>\n",
              "      <td>0.018182</td>\n",
              "      <td>1.0</td>\n",
              "      <td>1.410256</td>\n",
              "      <td>0.000000</td>\n",
              "      <td>1.0</td>\n",
              "    </tr>\n",
              "  </tbody>\n",
              "</table>\n",
              "</div>\n",
              "      <button class=\"colab-df-convert\" onclick=\"convertToInteractive('df-5a930b8d-881a-447e-901c-fa7162146592')\"\n",
              "              title=\"Convert this dataframe to an interactive table.\"\n",
              "              style=\"display:none;\">\n",
              "        \n",
              "  <svg xmlns=\"http://www.w3.org/2000/svg\" height=\"24px\"viewBox=\"0 0 24 24\"\n",
              "       width=\"24px\">\n",
              "    <path d=\"M0 0h24v24H0V0z\" fill=\"none\"/>\n",
              "    <path d=\"M18.56 5.44l.94 2.06.94-2.06 2.06-.94-2.06-.94-.94-2.06-.94 2.06-2.06.94zm-11 1L8.5 8.5l.94-2.06 2.06-.94-2.06-.94L8.5 2.5l-.94 2.06-2.06.94zm10 10l.94 2.06.94-2.06 2.06-.94-2.06-.94-.94-2.06-.94 2.06-2.06.94z\"/><path d=\"M17.41 7.96l-1.37-1.37c-.4-.4-.92-.59-1.43-.59-.52 0-1.04.2-1.43.59L10.3 9.45l-7.72 7.72c-.78.78-.78 2.05 0 2.83L4 21.41c.39.39.9.59 1.41.59.51 0 1.02-.2 1.41-.59l7.78-7.78 2.81-2.81c.8-.78.8-2.07 0-2.86zM5.41 20L4 18.59l7.72-7.72 1.47 1.35L5.41 20z\"/>\n",
              "  </svg>\n",
              "      </button>\n",
              "      \n",
              "  <style>\n",
              "    .colab-df-container {\n",
              "      display:flex;\n",
              "      flex-wrap:wrap;\n",
              "      gap: 12px;\n",
              "    }\n",
              "\n",
              "    .colab-df-convert {\n",
              "      background-color: #E8F0FE;\n",
              "      border: none;\n",
              "      border-radius: 50%;\n",
              "      cursor: pointer;\n",
              "      display: none;\n",
              "      fill: #1967D2;\n",
              "      height: 32px;\n",
              "      padding: 0 0 0 0;\n",
              "      width: 32px;\n",
              "    }\n",
              "\n",
              "    .colab-df-convert:hover {\n",
              "      background-color: #E2EBFA;\n",
              "      box-shadow: 0px 1px 2px rgba(60, 64, 67, 0.3), 0px 1px 3px 1px rgba(60, 64, 67, 0.15);\n",
              "      fill: #174EA6;\n",
              "    }\n",
              "\n",
              "    [theme=dark] .colab-df-convert {\n",
              "      background-color: #3B4455;\n",
              "      fill: #D2E3FC;\n",
              "    }\n",
              "\n",
              "    [theme=dark] .colab-df-convert:hover {\n",
              "      background-color: #434B5C;\n",
              "      box-shadow: 0px 1px 3px 1px rgba(0, 0, 0, 0.15);\n",
              "      filter: drop-shadow(0px 1px 2px rgba(0, 0, 0, 0.3));\n",
              "      fill: #FFFFFF;\n",
              "    }\n",
              "  </style>\n",
              "\n",
              "      <script>\n",
              "        const buttonEl =\n",
              "          document.querySelector('#df-5a930b8d-881a-447e-901c-fa7162146592 button.colab-df-convert');\n",
              "        buttonEl.style.display =\n",
              "          google.colab.kernel.accessAllowed ? 'block' : 'none';\n",
              "\n",
              "        async function convertToInteractive(key) {\n",
              "          const element = document.querySelector('#df-5a930b8d-881a-447e-901c-fa7162146592');\n",
              "          const dataTable =\n",
              "            await google.colab.kernel.invokeFunction('convertToInteractive',\n",
              "                                                     [key], {});\n",
              "          if (!dataTable) return;\n",
              "\n",
              "          const docLinkHtml = 'Like what you see? Visit the ' +\n",
              "            '<a target=\"_blank\" href=https://colab.research.google.com/notebooks/data_table.ipynb>data table notebook</a>'\n",
              "            + ' to learn more about interactive tables.';\n",
              "          element.innerHTML = '';\n",
              "          dataTable['output_type'] = 'display_data';\n",
              "          await google.colab.output.renderOutput(dataTable, element);\n",
              "          const docLink = document.createElement('div');\n",
              "          docLink.innerHTML = docLinkHtml;\n",
              "          element.appendChild(docLink);\n",
              "        }\n",
              "      </script>\n",
              "    </div>\n",
              "  </div>\n",
              "  "
            ]
          },
          "metadata": {},
          "execution_count": 160
        }
      ]
    },
    {
      "cell_type": "code",
      "source": [
        "aqp = Plot()\n",
        "j = aqp.plot_disparity_all(majority_bdf, metrics=['precision_disparity'], significance_alpha=0.05)"
      ],
      "metadata": {
        "colab": {
          "base_uri": "https://localhost:8080/",
          "height": 951
        },
        "id": "93Ws1Bt7llwN",
        "outputId": "dd1afb83-7fee-4f3d-9fe6-61d6103597e8"
      },
      "execution_count": null,
      "outputs": [
        {
          "output_type": "display_data",
          "data": {
            "text/plain": [
              "<Figure size 1800x1152 with 11 Axes>"
            ],
            "image/png": "[encoded data removed]"
          },
          "metadata": {
            "needs_background": "light"
          }
        }
      ]
    },
    {
      "cell_type": "markdown",
      "source": [
        "The Aequitas Fairness() class allows us to evaluate our model's fairness using various metrics such as false positive rate parity or false negative rate parity.\n"
      ],
      "metadata": {
        "id": "P36RNt42Q-Du"
      }
    },
    {
      "cell_type": "markdown",
      "source": [
        "Below also shows: *Type I Parity*: Fairness in both FDR Parity and FPR Parity\n",
        "\n",
        "*Type II Parity*: Fairness in both FOR Parity and FNR Parity\n",
        "\n",
        "*Equalized Odds*: Fairness in both FPR Parity and TPR Parity\n",
        "\n",
        "*Unsupervised Fairness*: Fairness in both Statistical Parity and Impact Parity\n",
        "\n",
        "*Supervised Fairness*: Fairness in both Type I and Type II Parity\n",
        "\n",
        "*Overall Fairness*: Fairness across all parities for all attributes"
      ],
      "metadata": {
        "id": "TM4k1Uv8rHL7"
      }
    },
    {
      "cell_type": "code",
      "source": [
        "# generates fairness metrics for each attribute-value combination in the data\n",
        "f = Fairness()\n",
        "fdf = f.get_group_value_fairness(majority_bdf)"
      ],
      "metadata": {
        "id": "jAvLWLxFKblC"
      },
      "execution_count": null,
      "outputs": []
    },
    {
      "cell_type": "code",
      "source": [
        "# shows if there are significant differences in the model performance across different subgroups, after comparing the results we can see there are differences!\n",
        "parity_detrminations = f.list_parities(fdf)"
      ],
      "metadata": {
        "id": "Pjo9CQA0Kfx8"
      },
      "execution_count": null,
      "outputs": []
    },
    {
      "cell_type": "code",
      "source": [
        "# displays table below with fairness metrics and parity determinations for each group.\n",
        "fdf[['attribute_name', 'attribute_value'] + absolute_metrics + calculated_disparities + parity_detrminations].dropna(thresh=len(xtab)*0.9, axis=1).style"
      ],
      "metadata": {
        "id": "X1GVRCfrKjoL",
        "colab": {
          "base_uri": "https://localhost:8080/",
          "height": 651
        },
        "outputId": "10b861e0-a6a4-471c-fca7-87cb358b510c"
      },
      "execution_count": null,
      "outputs": [
        {
          "output_type": "execute_result",
          "data": {
            "text/plain": [
              "<pandas.io.formats.style.Styler at 0x7f611a353c70>"
            ],
            "text/html": [
              "<style type=\"text/css\">\n",
              "</style>\n",
              "<table id=\"T_1005c\" class=\"dataframe\">\n",
              "  <thead>\n",
              "    <tr>\n",
              "      <th class=\"blank level0\" >&nbsp;</th>\n",
              "      <th id=\"T_1005c_level0_col0\" class=\"col_heading level0 col0\" >attribute_name</th>\n",
              "      <th id=\"T_1005c_level0_col1\" class=\"col_heading level0 col1\" >attribute_value</th>\n",
              "      <th id=\"T_1005c_level0_col2\" class=\"col_heading level0 col2\" >tpr</th>\n",
              "      <th id=\"T_1005c_level0_col3\" class=\"col_heading level0 col3\" >fdr</th>\n",
              "      <th id=\"T_1005c_level0_col4\" class=\"col_heading level0 col4\" >fnr</th>\n",
              "      <th id=\"T_1005c_level0_col5\" class=\"col_heading level0 col5\" >precision</th>\n",
              "      <th id=\"T_1005c_level0_col6\" class=\"col_heading level0 col6\" >ppr</th>\n",
              "      <th id=\"T_1005c_level0_col7\" class=\"col_heading level0 col7\" >pprev</th>\n",
              "      <th id=\"T_1005c_level0_col8\" class=\"col_heading level0 col8\" >prev</th>\n",
              "      <th id=\"T_1005c_level0_col9\" class=\"col_heading level0 col9\" >ppr_disparity</th>\n",
              "      <th id=\"T_1005c_level0_col10\" class=\"col_heading level0 col10\" >pprev_disparity</th>\n",
              "      <th id=\"T_1005c_level0_col11\" class=\"col_heading level0 col11\" >precision_disparity</th>\n",
              "      <th id=\"T_1005c_level0_col12\" class=\"col_heading level0 col12\" >fdr_disparity</th>\n",
              "      <th id=\"T_1005c_level0_col13\" class=\"col_heading level0 col13\" >tpr_disparity</th>\n",
              "      <th id=\"T_1005c_level0_col14\" class=\"col_heading level0 col14\" >Impact Parity</th>\n",
              "      <th id=\"T_1005c_level0_col15\" class=\"col_heading level0 col15\" >Supervised Fairness</th>\n",
              "      <th id=\"T_1005c_level0_col16\" class=\"col_heading level0 col16\" >Statistical Parity</th>\n",
              "      <th id=\"T_1005c_level0_col17\" class=\"col_heading level0 col17\" >Precision Parity</th>\n",
              "      <th id=\"T_1005c_level0_col18\" class=\"col_heading level0 col18\" >FDR Parity</th>\n",
              "      <th id=\"T_1005c_level0_col19\" class=\"col_heading level0 col19\" >TPR Parity</th>\n",
              "      <th id=\"T_1005c_level0_col20\" class=\"col_heading level0 col20\" >Unsupervised Fairness</th>\n",
              "      <th id=\"T_1005c_level0_col21\" class=\"col_heading level0 col21\" >Equalized Odds</th>\n",
              "      <th id=\"T_1005c_level0_col22\" class=\"col_heading level0 col22\" >TypeI Parity</th>\n",
              "    </tr>\n",
              "  </thead>\n",
              "  <tbody>\n",
              "    <tr>\n",
              "      <th id=\"T_1005c_level0_row0\" class=\"row_heading level0 row0\" >0</th>\n",
              "      <td id=\"T_1005c_row0_col0\" class=\"data row0 col0\" >Loan_Amount_Term</td>\n",
              "      <td id=\"T_1005c_row0_col1\" class=\"data row0 col1\" >120.0</td>\n",
              "      <td id=\"T_1005c_row0_col2\" class=\"data row0 col2\" >1.000000</td>\n",
              "      <td id=\"T_1005c_row0_col3\" class=\"data row0 col3\" >0.000000</td>\n",
              "      <td id=\"T_1005c_row0_col4\" class=\"data row0 col4\" >0.000000</td>\n",
              "      <td id=\"T_1005c_row0_col5\" class=\"data row0 col5\" >1.000000</td>\n",
              "      <td id=\"T_1005c_row0_col6\" class=\"data row0 col6\" >0.008621</td>\n",
              "      <td id=\"T_1005c_row0_col7\" class=\"data row0 col7\" >1.000000</td>\n",
              "      <td id=\"T_1005c_row0_col8\" class=\"data row0 col8\" >1.000000</td>\n",
              "      <td id=\"T_1005c_row0_col9\" class=\"data row0 col9\" >0.009615</td>\n",
              "      <td id=\"T_1005c_row0_col10\" class=\"data row0 col10\" >1.000000</td>\n",
              "      <td id=\"T_1005c_row0_col11\" class=\"data row0 col11\" >1.464789</td>\n",
              "      <td id=\"T_1005c_row0_col12\" class=\"data row0 col12\" >0.000000</td>\n",
              "      <td id=\"T_1005c_row0_col13\" class=\"data row0 col13\" >1.000000</td>\n",
              "      <td id=\"T_1005c_row0_col14\" class=\"data row0 col14\" >True</td>\n",
              "      <td id=\"T_1005c_row0_col15\" class=\"data row0 col15\" >False</td>\n",
              "      <td id=\"T_1005c_row0_col16\" class=\"data row0 col16\" >False</td>\n",
              "      <td id=\"T_1005c_row0_col17\" class=\"data row0 col17\" >False</td>\n",
              "      <td id=\"T_1005c_row0_col18\" class=\"data row0 col18\" >False</td>\n",
              "      <td id=\"T_1005c_row0_col19\" class=\"data row0 col19\" >True</td>\n",
              "      <td id=\"T_1005c_row0_col20\" class=\"data row0 col20\" >False</td>\n",
              "      <td id=\"T_1005c_row0_col21\" class=\"data row0 col21\" >False</td>\n",
              "      <td id=\"T_1005c_row0_col22\" class=\"data row0 col22\" >False</td>\n",
              "    </tr>\n",
              "    <tr>\n",
              "      <th id=\"T_1005c_level0_row1\" class=\"row_heading level0 row1\" >1</th>\n",
              "      <td id=\"T_1005c_row1_col0\" class=\"data row1 col0\" >Loan_Amount_Term</td>\n",
              "      <td id=\"T_1005c_row1_col1\" class=\"data row1 col1\" >180.0</td>\n",
              "      <td id=\"T_1005c_row1_col2\" class=\"data row1 col2\" >1.000000</td>\n",
              "      <td id=\"T_1005c_row1_col3\" class=\"data row1 col3\" >0.200000</td>\n",
              "      <td id=\"T_1005c_row1_col4\" class=\"data row1 col4\" >0.000000</td>\n",
              "      <td id=\"T_1005c_row1_col5\" class=\"data row1 col5\" >0.800000</td>\n",
              "      <td id=\"T_1005c_row1_col6\" class=\"data row1 col6\" >0.043103</td>\n",
              "      <td id=\"T_1005c_row1_col7\" class=\"data row1 col7\" >1.000000</td>\n",
              "      <td id=\"T_1005c_row1_col8\" class=\"data row1 col8\" >0.800000</td>\n",
              "      <td id=\"T_1005c_row1_col9\" class=\"data row1 col9\" >0.048077</td>\n",
              "      <td id=\"T_1005c_row1_col10\" class=\"data row1 col10\" >1.000000</td>\n",
              "      <td id=\"T_1005c_row1_col11\" class=\"data row1 col11\" >1.171831</td>\n",
              "      <td id=\"T_1005c_row1_col12\" class=\"data row1 col12\" >0.630303</td>\n",
              "      <td id=\"T_1005c_row1_col13\" class=\"data row1 col13\" >1.000000</td>\n",
              "      <td id=\"T_1005c_row1_col14\" class=\"data row1 col14\" >True</td>\n",
              "      <td id=\"T_1005c_row1_col15\" class=\"data row1 col15\" >False</td>\n",
              "      <td id=\"T_1005c_row1_col16\" class=\"data row1 col16\" >False</td>\n",
              "      <td id=\"T_1005c_row1_col17\" class=\"data row1 col17\" >True</td>\n",
              "      <td id=\"T_1005c_row1_col18\" class=\"data row1 col18\" >False</td>\n",
              "      <td id=\"T_1005c_row1_col19\" class=\"data row1 col19\" >True</td>\n",
              "      <td id=\"T_1005c_row1_col20\" class=\"data row1 col20\" >False</td>\n",
              "      <td id=\"T_1005c_row1_col21\" class=\"data row1 col21\" >True</td>\n",
              "      <td id=\"T_1005c_row1_col22\" class=\"data row1 col22\" >False</td>\n",
              "    </tr>\n",
              "    <tr>\n",
              "      <th id=\"T_1005c_level0_row2\" class=\"row_heading level0 row2\" >2</th>\n",
              "      <td id=\"T_1005c_row2_col0\" class=\"data row2 col0\" >Loan_Amount_Term</td>\n",
              "      <td id=\"T_1005c_row2_col1\" class=\"data row2 col1\" >300.0</td>\n",
              "      <td id=\"T_1005c_row2_col2\" class=\"data row2 col2\" >1.000000</td>\n",
              "      <td id=\"T_1005c_row2_col3\" class=\"data row2 col3\" >0.666667</td>\n",
              "      <td id=\"T_1005c_row2_col4\" class=\"data row2 col4\" >0.000000</td>\n",
              "      <td id=\"T_1005c_row2_col5\" class=\"data row2 col5\" >0.333333</td>\n",
              "      <td id=\"T_1005c_row2_col6\" class=\"data row2 col6\" >0.025862</td>\n",
              "      <td id=\"T_1005c_row2_col7\" class=\"data row2 col7\" >1.000000</td>\n",
              "      <td id=\"T_1005c_row2_col8\" class=\"data row2 col8\" >0.333333</td>\n",
              "      <td id=\"T_1005c_row2_col9\" class=\"data row2 col9\" >0.028846</td>\n",
              "      <td id=\"T_1005c_row2_col10\" class=\"data row2 col10\" >1.000000</td>\n",
              "      <td id=\"T_1005c_row2_col11\" class=\"data row2 col11\" >0.488263</td>\n",
              "      <td id=\"T_1005c_row2_col12\" class=\"data row2 col12\" >2.101010</td>\n",
              "      <td id=\"T_1005c_row2_col13\" class=\"data row2 col13\" >1.000000</td>\n",
              "      <td id=\"T_1005c_row2_col14\" class=\"data row2 col14\" >True</td>\n",
              "      <td id=\"T_1005c_row2_col15\" class=\"data row2 col15\" >False</td>\n",
              "      <td id=\"T_1005c_row2_col16\" class=\"data row2 col16\" >False</td>\n",
              "      <td id=\"T_1005c_row2_col17\" class=\"data row2 col17\" >False</td>\n",
              "      <td id=\"T_1005c_row2_col18\" class=\"data row2 col18\" >False</td>\n",
              "      <td id=\"T_1005c_row2_col19\" class=\"data row2 col19\" >True</td>\n",
              "      <td id=\"T_1005c_row2_col20\" class=\"data row2 col20\" >False</td>\n",
              "      <td id=\"T_1005c_row2_col21\" class=\"data row2 col21\" >True</td>\n",
              "      <td id=\"T_1005c_row2_col22\" class=\"data row2 col22\" >False</td>\n",
              "    </tr>\n",
              "    <tr>\n",
              "      <th id=\"T_1005c_level0_row3\" class=\"row_heading level0 row3\" >3</th>\n",
              "      <td id=\"T_1005c_row3_col0\" class=\"data row3 col0\" >Loan_Amount_Term</td>\n",
              "      <td id=\"T_1005c_row3_col1\" class=\"data row3 col1\" >360.0</td>\n",
              "      <td id=\"T_1005c_row3_col2\" class=\"data row3 col2\" >1.000000</td>\n",
              "      <td id=\"T_1005c_row3_col3\" class=\"data row3 col3\" >0.317308</td>\n",
              "      <td id=\"T_1005c_row3_col4\" class=\"data row3 col4\" >0.000000</td>\n",
              "      <td id=\"T_1005c_row3_col5\" class=\"data row3 col5\" >0.682692</td>\n",
              "      <td id=\"T_1005c_row3_col6\" class=\"data row3 col6\" >0.896552</td>\n",
              "      <td id=\"T_1005c_row3_col7\" class=\"data row3 col7\" >1.000000</td>\n",
              "      <td id=\"T_1005c_row3_col8\" class=\"data row3 col8\" >0.682692</td>\n",
              "      <td id=\"T_1005c_row3_col9\" class=\"data row3 col9\" >1.000000</td>\n",
              "      <td id=\"T_1005c_row3_col10\" class=\"data row3 col10\" >1.000000</td>\n",
              "      <td id=\"T_1005c_row3_col11\" class=\"data row3 col11\" >1.000000</td>\n",
              "      <td id=\"T_1005c_row3_col12\" class=\"data row3 col12\" >1.000000</td>\n",
              "      <td id=\"T_1005c_row3_col13\" class=\"data row3 col13\" >1.000000</td>\n",
              "      <td id=\"T_1005c_row3_col14\" class=\"data row3 col14\" >True</td>\n",
              "      <td id=\"T_1005c_row3_col15\" class=\"data row3 col15\" >False</td>\n",
              "      <td id=\"T_1005c_row3_col16\" class=\"data row3 col16\" >True</td>\n",
              "      <td id=\"T_1005c_row3_col17\" class=\"data row3 col17\" >True</td>\n",
              "      <td id=\"T_1005c_row3_col18\" class=\"data row3 col18\" >True</td>\n",
              "      <td id=\"T_1005c_row3_col19\" class=\"data row3 col19\" >True</td>\n",
              "      <td id=\"T_1005c_row3_col20\" class=\"data row3 col20\" >True</td>\n",
              "      <td id=\"T_1005c_row3_col21\" class=\"data row3 col21\" >True</td>\n",
              "      <td id=\"T_1005c_row3_col22\" class=\"data row3 col22\" >True</td>\n",
              "    </tr>\n",
              "    <tr>\n",
              "      <th id=\"T_1005c_level0_row4\" class=\"row_heading level0 row4\" >4</th>\n",
              "      <td id=\"T_1005c_row4_col0\" class=\"data row4 col0\" >Loan_Amount_Term</td>\n",
              "      <td id=\"T_1005c_row4_col1\" class=\"data row4 col1\" >480.0</td>\n",
              "      <td id=\"T_1005c_row4_col2\" class=\"data row4 col2\" >1.000000</td>\n",
              "      <td id=\"T_1005c_row4_col3\" class=\"data row4 col3\" >0.500000</td>\n",
              "      <td id=\"T_1005c_row4_col4\" class=\"data row4 col4\" >0.000000</td>\n",
              "      <td id=\"T_1005c_row4_col5\" class=\"data row4 col5\" >0.500000</td>\n",
              "      <td id=\"T_1005c_row4_col6\" class=\"data row4 col6\" >0.017241</td>\n",
              "      <td id=\"T_1005c_row4_col7\" class=\"data row4 col7\" >1.000000</td>\n",
              "      <td id=\"T_1005c_row4_col8\" class=\"data row4 col8\" >0.500000</td>\n",
              "      <td id=\"T_1005c_row4_col9\" class=\"data row4 col9\" >0.019231</td>\n",
              "      <td id=\"T_1005c_row4_col10\" class=\"data row4 col10\" >1.000000</td>\n",
              "      <td id=\"T_1005c_row4_col11\" class=\"data row4 col11\" >0.732394</td>\n",
              "      <td id=\"T_1005c_row4_col12\" class=\"data row4 col12\" >1.575758</td>\n",
              "      <td id=\"T_1005c_row4_col13\" class=\"data row4 col13\" >1.000000</td>\n",
              "      <td id=\"T_1005c_row4_col14\" class=\"data row4 col14\" >True</td>\n",
              "      <td id=\"T_1005c_row4_col15\" class=\"data row4 col15\" >False</td>\n",
              "      <td id=\"T_1005c_row4_col16\" class=\"data row4 col16\" >False</td>\n",
              "      <td id=\"T_1005c_row4_col17\" class=\"data row4 col17\" >False</td>\n",
              "      <td id=\"T_1005c_row4_col18\" class=\"data row4 col18\" >False</td>\n",
              "      <td id=\"T_1005c_row4_col19\" class=\"data row4 col19\" >True</td>\n",
              "      <td id=\"T_1005c_row4_col20\" class=\"data row4 col20\" >False</td>\n",
              "      <td id=\"T_1005c_row4_col21\" class=\"data row4 col21\" >True</td>\n",
              "      <td id=\"T_1005c_row4_col22\" class=\"data row4 col22\" >False</td>\n",
              "    </tr>\n",
              "    <tr>\n",
              "      <th id=\"T_1005c_level0_row5\" class=\"row_heading level0 row5\" >5</th>\n",
              "      <td id=\"T_1005c_row5_col0\" class=\"data row5 col0\" >Loan_Amount_Term</td>\n",
              "      <td id=\"T_1005c_row5_col1\" class=\"data row5 col1\" >84.0</td>\n",
              "      <td id=\"T_1005c_row5_col2\" class=\"data row5 col2\" >1.000000</td>\n",
              "      <td id=\"T_1005c_row5_col3\" class=\"data row5 col3\" >0.000000</td>\n",
              "      <td id=\"T_1005c_row5_col4\" class=\"data row5 col4\" >0.000000</td>\n",
              "      <td id=\"T_1005c_row5_col5\" class=\"data row5 col5\" >1.000000</td>\n",
              "      <td id=\"T_1005c_row5_col6\" class=\"data row5 col6\" >0.008621</td>\n",
              "      <td id=\"T_1005c_row5_col7\" class=\"data row5 col7\" >1.000000</td>\n",
              "      <td id=\"T_1005c_row5_col8\" class=\"data row5 col8\" >1.000000</td>\n",
              "      <td id=\"T_1005c_row5_col9\" class=\"data row5 col9\" >0.009615</td>\n",
              "      <td id=\"T_1005c_row5_col10\" class=\"data row5 col10\" >1.000000</td>\n",
              "      <td id=\"T_1005c_row5_col11\" class=\"data row5 col11\" >1.464789</td>\n",
              "      <td id=\"T_1005c_row5_col12\" class=\"data row5 col12\" >0.000000</td>\n",
              "      <td id=\"T_1005c_row5_col13\" class=\"data row5 col13\" >1.000000</td>\n",
              "      <td id=\"T_1005c_row5_col14\" class=\"data row5 col14\" >True</td>\n",
              "      <td id=\"T_1005c_row5_col15\" class=\"data row5 col15\" >False</td>\n",
              "      <td id=\"T_1005c_row5_col16\" class=\"data row5 col16\" >False</td>\n",
              "      <td id=\"T_1005c_row5_col17\" class=\"data row5 col17\" >False</td>\n",
              "      <td id=\"T_1005c_row5_col18\" class=\"data row5 col18\" >False</td>\n",
              "      <td id=\"T_1005c_row5_col19\" class=\"data row5 col19\" >True</td>\n",
              "      <td id=\"T_1005c_row5_col20\" class=\"data row5 col20\" >False</td>\n",
              "      <td id=\"T_1005c_row5_col21\" class=\"data row5 col21\" >False</td>\n",
              "      <td id=\"T_1005c_row5_col22\" class=\"data row5 col22\" >False</td>\n",
              "    </tr>\n",
              "    <tr>\n",
              "      <th id=\"T_1005c_level0_row6\" class=\"row_heading level0 row6\" >6</th>\n",
              "      <td id=\"T_1005c_row6_col0\" class=\"data row6 col0\" >Credit_History</td>\n",
              "      <td id=\"T_1005c_row6_col1\" class=\"data row6 col1\" >0.0</td>\n",
              "      <td id=\"T_1005c_row6_col2\" class=\"data row6 col2\" >1.000000</td>\n",
              "      <td id=\"T_1005c_row6_col3\" class=\"data row6 col3\" >0.833333</td>\n",
              "      <td id=\"T_1005c_row6_col4\" class=\"data row6 col4\" >0.000000</td>\n",
              "      <td id=\"T_1005c_row6_col5\" class=\"data row6 col5\" >0.166667</td>\n",
              "      <td id=\"T_1005c_row6_col6\" class=\"data row6 col6\" >0.206897</td>\n",
              "      <td id=\"T_1005c_row6_col7\" class=\"data row6 col7\" >1.000000</td>\n",
              "      <td id=\"T_1005c_row6_col8\" class=\"data row6 col8\" >0.166667</td>\n",
              "      <td id=\"T_1005c_row6_col9\" class=\"data row6 col9\" >0.260870</td>\n",
              "      <td id=\"T_1005c_row6_col10\" class=\"data row6 col10\" >1.000000</td>\n",
              "      <td id=\"T_1005c_row6_col11\" class=\"data row6 col11\" >0.204444</td>\n",
              "      <td id=\"T_1005c_row6_col12\" class=\"data row6 col12\" >4.509804</td>\n",
              "      <td id=\"T_1005c_row6_col13\" class=\"data row6 col13\" >1.000000</td>\n",
              "      <td id=\"T_1005c_row6_col14\" class=\"data row6 col14\" >True</td>\n",
              "      <td id=\"T_1005c_row6_col15\" class=\"data row6 col15\" >False</td>\n",
              "      <td id=\"T_1005c_row6_col16\" class=\"data row6 col16\" >False</td>\n",
              "      <td id=\"T_1005c_row6_col17\" class=\"data row6 col17\" >False</td>\n",
              "      <td id=\"T_1005c_row6_col18\" class=\"data row6 col18\" >False</td>\n",
              "      <td id=\"T_1005c_row6_col19\" class=\"data row6 col19\" >True</td>\n",
              "      <td id=\"T_1005c_row6_col20\" class=\"data row6 col20\" >False</td>\n",
              "      <td id=\"T_1005c_row6_col21\" class=\"data row6 col21\" >True</td>\n",
              "      <td id=\"T_1005c_row6_col22\" class=\"data row6 col22\" >False</td>\n",
              "    </tr>\n",
              "    <tr>\n",
              "      <th id=\"T_1005c_level0_row7\" class=\"row_heading level0 row7\" >7</th>\n",
              "      <td id=\"T_1005c_row7_col0\" class=\"data row7 col0\" >Credit_History</td>\n",
              "      <td id=\"T_1005c_row7_col1\" class=\"data row7 col1\" >1.0</td>\n",
              "      <td id=\"T_1005c_row7_col2\" class=\"data row7 col2\" >1.000000</td>\n",
              "      <td id=\"T_1005c_row7_col3\" class=\"data row7 col3\" >0.184783</td>\n",
              "      <td id=\"T_1005c_row7_col4\" class=\"data row7 col4\" >0.000000</td>\n",
              "      <td id=\"T_1005c_row7_col5\" class=\"data row7 col5\" >0.815217</td>\n",
              "      <td id=\"T_1005c_row7_col6\" class=\"data row7 col6\" >0.793103</td>\n",
              "      <td id=\"T_1005c_row7_col7\" class=\"data row7 col7\" >1.000000</td>\n",
              "      <td id=\"T_1005c_row7_col8\" class=\"data row7 col8\" >0.815217</td>\n",
              "      <td id=\"T_1005c_row7_col9\" class=\"data row7 col9\" >1.000000</td>\n",
              "      <td id=\"T_1005c_row7_col10\" class=\"data row7 col10\" >1.000000</td>\n",
              "      <td id=\"T_1005c_row7_col11\" class=\"data row7 col11\" >1.000000</td>\n",
              "      <td id=\"T_1005c_row7_col12\" class=\"data row7 col12\" >1.000000</td>\n",
              "      <td id=\"T_1005c_row7_col13\" class=\"data row7 col13\" >1.000000</td>\n",
              "      <td id=\"T_1005c_row7_col14\" class=\"data row7 col14\" >True</td>\n",
              "      <td id=\"T_1005c_row7_col15\" class=\"data row7 col15\" >False</td>\n",
              "      <td id=\"T_1005c_row7_col16\" class=\"data row7 col16\" >True</td>\n",
              "      <td id=\"T_1005c_row7_col17\" class=\"data row7 col17\" >True</td>\n",
              "      <td id=\"T_1005c_row7_col18\" class=\"data row7 col18\" >True</td>\n",
              "      <td id=\"T_1005c_row7_col19\" class=\"data row7 col19\" >True</td>\n",
              "      <td id=\"T_1005c_row7_col20\" class=\"data row7 col20\" >True</td>\n",
              "      <td id=\"T_1005c_row7_col21\" class=\"data row7 col21\" >True</td>\n",
              "      <td id=\"T_1005c_row7_col22\" class=\"data row7 col22\" >True</td>\n",
              "    </tr>\n",
              "    <tr>\n",
              "      <th id=\"T_1005c_level0_row8\" class=\"row_heading level0 row8\" >8</th>\n",
              "      <td id=\"T_1005c_row8_col0\" class=\"data row8 col0\" >ApplicantIncome_cat</td>\n",
              "      <td id=\"T_1005c_row8_col1\" class=\"data row8 col1\" >3000 - 5000</td>\n",
              "      <td id=\"T_1005c_row8_col2\" class=\"data row8 col2\" >1.000000</td>\n",
              "      <td id=\"T_1005c_row8_col3\" class=\"data row8 col3\" >0.266667</td>\n",
              "      <td id=\"T_1005c_row8_col4\" class=\"data row8 col4\" >0.000000</td>\n",
              "      <td id=\"T_1005c_row8_col5\" class=\"data row8 col5\" >0.733333</td>\n",
              "      <td id=\"T_1005c_row8_col6\" class=\"data row8 col6\" >0.387931</td>\n",
              "      <td id=\"T_1005c_row8_col7\" class=\"data row8 col7\" >1.000000</td>\n",
              "      <td id=\"T_1005c_row8_col8\" class=\"data row8 col8\" >0.733333</td>\n",
              "      <td id=\"T_1005c_row8_col9\" class=\"data row8 col9\" >1.000000</td>\n",
              "      <td id=\"T_1005c_row8_col10\" class=\"data row8 col10\" >1.000000</td>\n",
              "      <td id=\"T_1005c_row8_col11\" class=\"data row8 col11\" >1.000000</td>\n",
              "      <td id=\"T_1005c_row8_col12\" class=\"data row8 col12\" >1.000000</td>\n",
              "      <td id=\"T_1005c_row8_col13\" class=\"data row8 col13\" >1.000000</td>\n",
              "      <td id=\"T_1005c_row8_col14\" class=\"data row8 col14\" >True</td>\n",
              "      <td id=\"T_1005c_row8_col15\" class=\"data row8 col15\" >False</td>\n",
              "      <td id=\"T_1005c_row8_col16\" class=\"data row8 col16\" >True</td>\n",
              "      <td id=\"T_1005c_row8_col17\" class=\"data row8 col17\" >True</td>\n",
              "      <td id=\"T_1005c_row8_col18\" class=\"data row8 col18\" >True</td>\n",
              "      <td id=\"T_1005c_row8_col19\" class=\"data row8 col19\" >True</td>\n",
              "      <td id=\"T_1005c_row8_col20\" class=\"data row8 col20\" >True</td>\n",
              "      <td id=\"T_1005c_row8_col21\" class=\"data row8 col21\" >True</td>\n",
              "      <td id=\"T_1005c_row8_col22\" class=\"data row8 col22\" >True</td>\n",
              "    </tr>\n",
              "    <tr>\n",
              "      <th id=\"T_1005c_level0_row9\" class=\"row_heading level0 row9\" >9</th>\n",
              "      <td id=\"T_1005c_row9_col0\" class=\"data row9 col0\" >ApplicantIncome_cat</td>\n",
              "      <td id=\"T_1005c_row9_col1\" class=\"data row9 col1\" >greater than 5000</td>\n",
              "      <td id=\"T_1005c_row9_col2\" class=\"data row9 col2\" >1.000000</td>\n",
              "      <td id=\"T_1005c_row9_col3\" class=\"data row9 col3\" >0.414634</td>\n",
              "      <td id=\"T_1005c_row9_col4\" class=\"data row9 col4\" >0.000000</td>\n",
              "      <td id=\"T_1005c_row9_col5\" class=\"data row9 col5\" >0.585366</td>\n",
              "      <td id=\"T_1005c_row9_col6\" class=\"data row9 col6\" >0.353448</td>\n",
              "      <td id=\"T_1005c_row9_col7\" class=\"data row9 col7\" >1.000000</td>\n",
              "      <td id=\"T_1005c_row9_col8\" class=\"data row9 col8\" >0.585366</td>\n",
              "      <td id=\"T_1005c_row9_col9\" class=\"data row9 col9\" >0.911111</td>\n",
              "      <td id=\"T_1005c_row9_col10\" class=\"data row9 col10\" >1.000000</td>\n",
              "      <td id=\"T_1005c_row9_col11\" class=\"data row9 col11\" >0.798226</td>\n",
              "      <td id=\"T_1005c_row9_col12\" class=\"data row9 col12\" >1.554878</td>\n",
              "      <td id=\"T_1005c_row9_col13\" class=\"data row9 col13\" >1.000000</td>\n",
              "      <td id=\"T_1005c_row9_col14\" class=\"data row9 col14\" >True</td>\n",
              "      <td id=\"T_1005c_row9_col15\" class=\"data row9 col15\" >False</td>\n",
              "      <td id=\"T_1005c_row9_col16\" class=\"data row9 col16\" >True</td>\n",
              "      <td id=\"T_1005c_row9_col17\" class=\"data row9 col17\" >False</td>\n",
              "      <td id=\"T_1005c_row9_col18\" class=\"data row9 col18\" >False</td>\n",
              "      <td id=\"T_1005c_row9_col19\" class=\"data row9 col19\" >True</td>\n",
              "      <td id=\"T_1005c_row9_col20\" class=\"data row9 col20\" >True</td>\n",
              "      <td id=\"T_1005c_row9_col21\" class=\"data row9 col21\" >True</td>\n",
              "      <td id=\"T_1005c_row9_col22\" class=\"data row9 col22\" >False</td>\n",
              "    </tr>\n",
              "    <tr>\n",
              "      <th id=\"T_1005c_level0_row10\" class=\"row_heading level0 row10\" >10</th>\n",
              "      <td id=\"T_1005c_row10_col0\" class=\"data row10 col0\" >ApplicantIncome_cat</td>\n",
              "      <td id=\"T_1005c_row10_col1\" class=\"data row10 col1\" >less than 3000</td>\n",
              "      <td id=\"T_1005c_row10_col2\" class=\"data row10 col2\" >1.000000</td>\n",
              "      <td id=\"T_1005c_row10_col3\" class=\"data row10 col3\" >0.266667</td>\n",
              "      <td id=\"T_1005c_row10_col4\" class=\"data row10 col4\" >0.000000</td>\n",
              "      <td id=\"T_1005c_row10_col5\" class=\"data row10 col5\" >0.733333</td>\n",
              "      <td id=\"T_1005c_row10_col6\" class=\"data row10 col6\" >0.258621</td>\n",
              "      <td id=\"T_1005c_row10_col7\" class=\"data row10 col7\" >1.000000</td>\n",
              "      <td id=\"T_1005c_row10_col8\" class=\"data row10 col8\" >0.733333</td>\n",
              "      <td id=\"T_1005c_row10_col9\" class=\"data row10 col9\" >0.666667</td>\n",
              "      <td id=\"T_1005c_row10_col10\" class=\"data row10 col10\" >1.000000</td>\n",
              "      <td id=\"T_1005c_row10_col11\" class=\"data row10 col11\" >1.000000</td>\n",
              "      <td id=\"T_1005c_row10_col12\" class=\"data row10 col12\" >1.000000</td>\n",
              "      <td id=\"T_1005c_row10_col13\" class=\"data row10 col13\" >1.000000</td>\n",
              "      <td id=\"T_1005c_row10_col14\" class=\"data row10 col14\" >True</td>\n",
              "      <td id=\"T_1005c_row10_col15\" class=\"data row10 col15\" >False</td>\n",
              "      <td id=\"T_1005c_row10_col16\" class=\"data row10 col16\" >False</td>\n",
              "      <td id=\"T_1005c_row10_col17\" class=\"data row10 col17\" >True</td>\n",
              "      <td id=\"T_1005c_row10_col18\" class=\"data row10 col18\" >True</td>\n",
              "      <td id=\"T_1005c_row10_col19\" class=\"data row10 col19\" >True</td>\n",
              "      <td id=\"T_1005c_row10_col20\" class=\"data row10 col20\" >False</td>\n",
              "      <td id=\"T_1005c_row10_col21\" class=\"data row10 col21\" >True</td>\n",
              "      <td id=\"T_1005c_row10_col22\" class=\"data row10 col22\" >True</td>\n",
              "    </tr>\n",
              "    <tr>\n",
              "      <th id=\"T_1005c_level0_row11\" class=\"row_heading level0 row11\" >11</th>\n",
              "      <td id=\"T_1005c_row11_col0\" class=\"data row11 col0\" >LoanAmount_cat</td>\n",
              "      <td id=\"T_1005c_row11_col1\" class=\"data row11 col1\" >100 - 300</td>\n",
              "      <td id=\"T_1005c_row11_col2\" class=\"data row11 col2\" >1.000000</td>\n",
              "      <td id=\"T_1005c_row11_col3\" class=\"data row11 col3\" >0.291139</td>\n",
              "      <td id=\"T_1005c_row11_col4\" class=\"data row11 col4\" >0.000000</td>\n",
              "      <td id=\"T_1005c_row11_col5\" class=\"data row11 col5\" >0.708861</td>\n",
              "      <td id=\"T_1005c_row11_col6\" class=\"data row11 col6\" >0.681034</td>\n",
              "      <td id=\"T_1005c_row11_col7\" class=\"data row11 col7\" >1.000000</td>\n",
              "      <td id=\"T_1005c_row11_col8\" class=\"data row11 col8\" >0.708861</td>\n",
              "      <td id=\"T_1005c_row11_col9\" class=\"data row11 col9\" >1.000000</td>\n",
              "      <td id=\"T_1005c_row11_col10\" class=\"data row11 col10\" >1.000000</td>\n",
              "      <td id=\"T_1005c_row11_col11\" class=\"data row11 col11\" >1.000000</td>\n",
              "      <td id=\"T_1005c_row11_col12\" class=\"data row11 col12\" >1.000000</td>\n",
              "      <td id=\"T_1005c_row11_col13\" class=\"data row11 col13\" >1.000000</td>\n",
              "      <td id=\"T_1005c_row11_col14\" class=\"data row11 col14\" >True</td>\n",
              "      <td id=\"T_1005c_row11_col15\" class=\"data row11 col15\" >False</td>\n",
              "      <td id=\"T_1005c_row11_col16\" class=\"data row11 col16\" >True</td>\n",
              "      <td id=\"T_1005c_row11_col17\" class=\"data row11 col17\" >True</td>\n",
              "      <td id=\"T_1005c_row11_col18\" class=\"data row11 col18\" >True</td>\n",
              "      <td id=\"T_1005c_row11_col19\" class=\"data row11 col19\" >True</td>\n",
              "      <td id=\"T_1005c_row11_col20\" class=\"data row11 col20\" >True</td>\n",
              "      <td id=\"T_1005c_row11_col21\" class=\"data row11 col21\" >True</td>\n",
              "      <td id=\"T_1005c_row11_col22\" class=\"data row11 col22\" >True</td>\n",
              "    </tr>\n",
              "    <tr>\n",
              "      <th id=\"T_1005c_level0_row12\" class=\"row_heading level0 row12\" >12</th>\n",
              "      <td id=\"T_1005c_row12_col0\" class=\"data row12 col0\" >LoanAmount_cat</td>\n",
              "      <td id=\"T_1005c_row12_col1\" class=\"data row12 col1\" >greater than 300</td>\n",
              "      <td id=\"T_1005c_row12_col2\" class=\"data row12 col2\" >1.000000</td>\n",
              "      <td id=\"T_1005c_row12_col3\" class=\"data row12 col3\" >0.625000</td>\n",
              "      <td id=\"T_1005c_row12_col4\" class=\"data row12 col4\" >0.000000</td>\n",
              "      <td id=\"T_1005c_row12_col5\" class=\"data row12 col5\" >0.375000</td>\n",
              "      <td id=\"T_1005c_row12_col6\" class=\"data row12 col6\" >0.068966</td>\n",
              "      <td id=\"T_1005c_row12_col7\" class=\"data row12 col7\" >1.000000</td>\n",
              "      <td id=\"T_1005c_row12_col8\" class=\"data row12 col8\" >0.375000</td>\n",
              "      <td id=\"T_1005c_row12_col9\" class=\"data row12 col9\" >0.101266</td>\n",
              "      <td id=\"T_1005c_row12_col10\" class=\"data row12 col10\" >1.000000</td>\n",
              "      <td id=\"T_1005c_row12_col11\" class=\"data row12 col11\" >0.529018</td>\n",
              "      <td id=\"T_1005c_row12_col12\" class=\"data row12 col12\" >2.146739</td>\n",
              "      <td id=\"T_1005c_row12_col13\" class=\"data row12 col13\" >1.000000</td>\n",
              "      <td id=\"T_1005c_row12_col14\" class=\"data row12 col14\" >True</td>\n",
              "      <td id=\"T_1005c_row12_col15\" class=\"data row12 col15\" >False</td>\n",
              "      <td id=\"T_1005c_row12_col16\" class=\"data row12 col16\" >False</td>\n",
              "      <td id=\"T_1005c_row12_col17\" class=\"data row12 col17\" >False</td>\n",
              "      <td id=\"T_1005c_row12_col18\" class=\"data row12 col18\" >False</td>\n",
              "      <td id=\"T_1005c_row12_col19\" class=\"data row12 col19\" >True</td>\n",
              "      <td id=\"T_1005c_row12_col20\" class=\"data row12 col20\" >False</td>\n",
              "      <td id=\"T_1005c_row12_col21\" class=\"data row12 col21\" >True</td>\n",
              "      <td id=\"T_1005c_row12_col22\" class=\"data row12 col22\" >False</td>\n",
              "    </tr>\n",
              "    <tr>\n",
              "      <th id=\"T_1005c_level0_row13\" class=\"row_heading level0 row13\" >13</th>\n",
              "      <td id=\"T_1005c_row13_col0\" class=\"data row13 col0\" >LoanAmount_cat</td>\n",
              "      <td id=\"T_1005c_row13_col1\" class=\"data row13 col1\" >less than 100</td>\n",
              "      <td id=\"T_1005c_row13_col2\" class=\"data row13 col2\" >1.000000</td>\n",
              "      <td id=\"T_1005c_row13_col3\" class=\"data row13 col3\" >0.310345</td>\n",
              "      <td id=\"T_1005c_row13_col4\" class=\"data row13 col4\" >0.000000</td>\n",
              "      <td id=\"T_1005c_row13_col5\" class=\"data row13 col5\" >0.689655</td>\n",
              "      <td id=\"T_1005c_row13_col6\" class=\"data row13 col6\" >0.250000</td>\n",
              "      <td id=\"T_1005c_row13_col7\" class=\"data row13 col7\" >1.000000</td>\n",
              "      <td id=\"T_1005c_row13_col8\" class=\"data row13 col8\" >0.689655</td>\n",
              "      <td id=\"T_1005c_row13_col9\" class=\"data row13 col9\" >0.367089</td>\n",
              "      <td id=\"T_1005c_row13_col10\" class=\"data row13 col10\" >1.000000</td>\n",
              "      <td id=\"T_1005c_row13_col11\" class=\"data row13 col11\" >0.972906</td>\n",
              "      <td id=\"T_1005c_row13_col12\" class=\"data row13 col12\" >1.065967</td>\n",
              "      <td id=\"T_1005c_row13_col13\" class=\"data row13 col13\" >1.000000</td>\n",
              "      <td id=\"T_1005c_row13_col14\" class=\"data row13 col14\" >True</td>\n",
              "      <td id=\"T_1005c_row13_col15\" class=\"data row13 col15\" >False</td>\n",
              "      <td id=\"T_1005c_row13_col16\" class=\"data row13 col16\" >False</td>\n",
              "      <td id=\"T_1005c_row13_col17\" class=\"data row13 col17\" >True</td>\n",
              "      <td id=\"T_1005c_row13_col18\" class=\"data row13 col18\" >True</td>\n",
              "      <td id=\"T_1005c_row13_col19\" class=\"data row13 col19\" >True</td>\n",
              "      <td id=\"T_1005c_row13_col20\" class=\"data row13 col20\" >False</td>\n",
              "      <td id=\"T_1005c_row13_col21\" class=\"data row13 col21\" >True</td>\n",
              "      <td id=\"T_1005c_row13_col22\" class=\"data row13 col22\" >True</td>\n",
              "    </tr>\n",
              "    <tr>\n",
              "      <th id=\"T_1005c_level0_row14\" class=\"row_heading level0 row14\" >14</th>\n",
              "      <td id=\"T_1005c_row14_col0\" class=\"data row14 col0\" >CoapplicantIncome_cat</td>\n",
              "      <td id=\"T_1005c_row14_col1\" class=\"data row14 col1\" >1000 - 2000</td>\n",
              "      <td id=\"T_1005c_row14_col2\" class=\"data row14 col2\" >1.000000</td>\n",
              "      <td id=\"T_1005c_row14_col3\" class=\"data row14 col3\" >0.350000</td>\n",
              "      <td id=\"T_1005c_row14_col4\" class=\"data row14 col4\" >0.000000</td>\n",
              "      <td id=\"T_1005c_row14_col5\" class=\"data row14 col5\" >0.650000</td>\n",
              "      <td id=\"T_1005c_row14_col6\" class=\"data row14 col6\" >0.172414</td>\n",
              "      <td id=\"T_1005c_row14_col7\" class=\"data row14 col7\" >1.000000</td>\n",
              "      <td id=\"T_1005c_row14_col8\" class=\"data row14 col8\" >0.650000</td>\n",
              "      <td id=\"T_1005c_row14_col9\" class=\"data row14 col9\" >0.363636</td>\n",
              "      <td id=\"T_1005c_row14_col10\" class=\"data row14 col10\" >1.000000</td>\n",
              "      <td id=\"T_1005c_row14_col11\" class=\"data row14 col11\" >0.916667</td>\n",
              "      <td id=\"T_1005c_row14_col12\" class=\"data row14 col12\" >1.203125</td>\n",
              "      <td id=\"T_1005c_row14_col13\" class=\"data row14 col13\" >1.000000</td>\n",
              "      <td id=\"T_1005c_row14_col14\" class=\"data row14 col14\" >True</td>\n",
              "      <td id=\"T_1005c_row14_col15\" class=\"data row14 col15\" >False</td>\n",
              "      <td id=\"T_1005c_row14_col16\" class=\"data row14 col16\" >False</td>\n",
              "      <td id=\"T_1005c_row14_col17\" class=\"data row14 col17\" >True</td>\n",
              "      <td id=\"T_1005c_row14_col18\" class=\"data row14 col18\" >True</td>\n",
              "      <td id=\"T_1005c_row14_col19\" class=\"data row14 col19\" >True</td>\n",
              "      <td id=\"T_1005c_row14_col20\" class=\"data row14 col20\" >False</td>\n",
              "      <td id=\"T_1005c_row14_col21\" class=\"data row14 col21\" >True</td>\n",
              "      <td id=\"T_1005c_row14_col22\" class=\"data row14 col22\" >True</td>\n",
              "    </tr>\n",
              "    <tr>\n",
              "      <th id=\"T_1005c_level0_row15\" class=\"row_heading level0 row15\" >15</th>\n",
              "      <td id=\"T_1005c_row15_col0\" class=\"data row15 col0\" >CoapplicantIncome_cat</td>\n",
              "      <td id=\"T_1005c_row15_col1\" class=\"data row15 col1\" >equals zero</td>\n",
              "      <td id=\"T_1005c_row15_col2\" class=\"data row15 col2\" >1.000000</td>\n",
              "      <td id=\"T_1005c_row15_col3\" class=\"data row15 col3\" >0.290909</td>\n",
              "      <td id=\"T_1005c_row15_col4\" class=\"data row15 col4\" >0.000000</td>\n",
              "      <td id=\"T_1005c_row15_col5\" class=\"data row15 col5\" >0.709091</td>\n",
              "      <td id=\"T_1005c_row15_col6\" class=\"data row15 col6\" >0.474138</td>\n",
              "      <td id=\"T_1005c_row15_col7\" class=\"data row15 col7\" >1.000000</td>\n",
              "      <td id=\"T_1005c_row15_col8\" class=\"data row15 col8\" >0.709091</td>\n",
              "      <td id=\"T_1005c_row15_col9\" class=\"data row15 col9\" >1.000000</td>\n",
              "      <td id=\"T_1005c_row15_col10\" class=\"data row15 col10\" >1.000000</td>\n",
              "      <td id=\"T_1005c_row15_col11\" class=\"data row15 col11\" >1.000000</td>\n",
              "      <td id=\"T_1005c_row15_col12\" class=\"data row15 col12\" >1.000000</td>\n",
              "      <td id=\"T_1005c_row15_col13\" class=\"data row15 col13\" >1.000000</td>\n",
              "      <td id=\"T_1005c_row15_col14\" class=\"data row15 col14\" >True</td>\n",
              "      <td id=\"T_1005c_row15_col15\" class=\"data row15 col15\" >False</td>\n",
              "      <td id=\"T_1005c_row15_col16\" class=\"data row15 col16\" >True</td>\n",
              "      <td id=\"T_1005c_row15_col17\" class=\"data row15 col17\" >True</td>\n",
              "      <td id=\"T_1005c_row15_col18\" class=\"data row15 col18\" >True</td>\n",
              "      <td id=\"T_1005c_row15_col19\" class=\"data row15 col19\" >True</td>\n",
              "      <td id=\"T_1005c_row15_col20\" class=\"data row15 col20\" >True</td>\n",
              "      <td id=\"T_1005c_row15_col21\" class=\"data row15 col21\" >True</td>\n",
              "      <td id=\"T_1005c_row15_col22\" class=\"data row15 col22\" >True</td>\n",
              "    </tr>\n",
              "    <tr>\n",
              "      <th id=\"T_1005c_level0_row16\" class=\"row_heading level0 row16\" >16</th>\n",
              "      <td id=\"T_1005c_row16_col0\" class=\"data row16 col0\" >CoapplicantIncome_cat</td>\n",
              "      <td id=\"T_1005c_row16_col1\" class=\"data row16 col1\" >greater than 2000</td>\n",
              "      <td id=\"T_1005c_row16_col2\" class=\"data row16 col2\" >1.000000</td>\n",
              "      <td id=\"T_1005c_row16_col3\" class=\"data row16 col3\" >0.350000</td>\n",
              "      <td id=\"T_1005c_row16_col4\" class=\"data row16 col4\" >0.000000</td>\n",
              "      <td id=\"T_1005c_row16_col5\" class=\"data row16 col5\" >0.650000</td>\n",
              "      <td id=\"T_1005c_row16_col6\" class=\"data row16 col6\" >0.344828</td>\n",
              "      <td id=\"T_1005c_row16_col7\" class=\"data row16 col7\" >1.000000</td>\n",
              "      <td id=\"T_1005c_row16_col8\" class=\"data row16 col8\" >0.650000</td>\n",
              "      <td id=\"T_1005c_row16_col9\" class=\"data row16 col9\" >0.727273</td>\n",
              "      <td id=\"T_1005c_row16_col10\" class=\"data row16 col10\" >1.000000</td>\n",
              "      <td id=\"T_1005c_row16_col11\" class=\"data row16 col11\" >0.916667</td>\n",
              "      <td id=\"T_1005c_row16_col12\" class=\"data row16 col12\" >1.203125</td>\n",
              "      <td id=\"T_1005c_row16_col13\" class=\"data row16 col13\" >1.000000</td>\n",
              "      <td id=\"T_1005c_row16_col14\" class=\"data row16 col14\" >True</td>\n",
              "      <td id=\"T_1005c_row16_col15\" class=\"data row16 col15\" >False</td>\n",
              "      <td id=\"T_1005c_row16_col16\" class=\"data row16 col16\" >False</td>\n",
              "      <td id=\"T_1005c_row16_col17\" class=\"data row16 col17\" >True</td>\n",
              "      <td id=\"T_1005c_row16_col18\" class=\"data row16 col18\" >True</td>\n",
              "      <td id=\"T_1005c_row16_col19\" class=\"data row16 col19\" >True</td>\n",
              "      <td id=\"T_1005c_row16_col20\" class=\"data row16 col20\" >False</td>\n",
              "      <td id=\"T_1005c_row16_col21\" class=\"data row16 col21\" >True</td>\n",
              "      <td id=\"T_1005c_row16_col22\" class=\"data row16 col22\" >True</td>\n",
              "    </tr>\n",
              "    <tr>\n",
              "      <th id=\"T_1005c_level0_row17\" class=\"row_heading level0 row17\" >17</th>\n",
              "      <td id=\"T_1005c_row17_col0\" class=\"data row17 col0\" >CoapplicantIncome_cat</td>\n",
              "      <td id=\"T_1005c_row17_col1\" class=\"data row17 col1\" >less than 1000</td>\n",
              "      <td id=\"T_1005c_row17_col2\" class=\"data row17 col2\" >1.000000</td>\n",
              "      <td id=\"T_1005c_row17_col3\" class=\"data row17 col3\" >0.000000</td>\n",
              "      <td id=\"T_1005c_row17_col4\" class=\"data row17 col4\" >0.000000</td>\n",
              "      <td id=\"T_1005c_row17_col5\" class=\"data row17 col5\" >1.000000</td>\n",
              "      <td id=\"T_1005c_row17_col6\" class=\"data row17 col6\" >0.008621</td>\n",
              "      <td id=\"T_1005c_row17_col7\" class=\"data row17 col7\" >1.000000</td>\n",
              "      <td id=\"T_1005c_row17_col8\" class=\"data row17 col8\" >1.000000</td>\n",
              "      <td id=\"T_1005c_row17_col9\" class=\"data row17 col9\" >0.018182</td>\n",
              "      <td id=\"T_1005c_row17_col10\" class=\"data row17 col10\" >1.000000</td>\n",
              "      <td id=\"T_1005c_row17_col11\" class=\"data row17 col11\" >1.410256</td>\n",
              "      <td id=\"T_1005c_row17_col12\" class=\"data row17 col12\" >0.000000</td>\n",
              "      <td id=\"T_1005c_row17_col13\" class=\"data row17 col13\" >1.000000</td>\n",
              "      <td id=\"T_1005c_row17_col14\" class=\"data row17 col14\" >True</td>\n",
              "      <td id=\"T_1005c_row17_col15\" class=\"data row17 col15\" >False</td>\n",
              "      <td id=\"T_1005c_row17_col16\" class=\"data row17 col16\" >False</td>\n",
              "      <td id=\"T_1005c_row17_col17\" class=\"data row17 col17\" >False</td>\n",
              "      <td id=\"T_1005c_row17_col18\" class=\"data row17 col18\" >False</td>\n",
              "      <td id=\"T_1005c_row17_col19\" class=\"data row17 col19\" >True</td>\n",
              "      <td id=\"T_1005c_row17_col20\" class=\"data row17 col20\" >False</td>\n",
              "      <td id=\"T_1005c_row17_col21\" class=\"data row17 col21\" >False</td>\n",
              "      <td id=\"T_1005c_row17_col22\" class=\"data row17 col22\" >False</td>\n",
              "    </tr>\n",
              "  </tbody>\n",
              "</table>\n"
            ]
          },
          "metadata": {},
          "execution_count": 164
        }
      ]
    },
    {
      "cell_type": "markdown",
      "source": [
        "Interpretation of parities: Our base groups are ApplicantIncome, LoanAmount, and CoapplicantIncome, Credit_History, and Loan_Amount_Term.  By construction, the base group has supervised fairness. (The disparity ratio is 1). The fpr for most attributes are 1.0.\n",
        "\n"
      ],
      "metadata": {
        "id": "b4ApA8ForuDT"
      }
    },
    {
      "cell_type": "code",
      "source": [
        "# measures the level of fairness with respect to each metric for each group.\n",
        "# helps us view only the calculated parities from the `get_group_value_fairness()` function at the attribute level.\n",
        "gaf = f.get_group_attribute_fairness(fdf)\n",
        "gaf"
      ],
      "metadata": {
        "id": "IFPvP3WkK185",
        "colab": {
          "base_uri": "https://localhost:8080/",
          "height": 288
        },
        "outputId": "663b190b-79f3-4a01-b339-35b8f08d9546"
      },
      "execution_count": null,
      "outputs": [
        {
          "output_type": "execute_result",
          "data": {
            "text/plain": [
              "   model_id score_threshold         attribute_name  Statistical Parity  \\\n",
              "0         0      binary 0/1    ApplicantIncome_cat               False   \n",
              "1         0      binary 0/1  CoapplicantIncome_cat               False   \n",
              "2         0      binary 0/1         Credit_History               False   \n",
              "3         0      binary 0/1         LoanAmount_cat               False   \n",
              "4         0      binary 0/1       Loan_Amount_Term               False   \n",
              "\n",
              "   Impact Parity  FDR Parity  FPR Parity  FOR Parity  FNR Parity  TPR Parity  \\\n",
              "0           True       False        True         NaN         NaN        True   \n",
              "1           True       False        True         NaN         NaN        True   \n",
              "2           True       False        True         NaN         NaN        True   \n",
              "3           True       False        True         NaN         NaN        True   \n",
              "4           True       False        True         NaN         NaN        True   \n",
              "\n",
              "   TNR Parity  NPV Parity  Precision Parity  TypeI Parity  TypeII Parity  \\\n",
              "0         NaN         NaN             False         False            NaN   \n",
              "1         NaN         NaN             False         False            NaN   \n",
              "2         NaN         NaN             False         False            NaN   \n",
              "3         NaN         NaN             False         False            NaN   \n",
              "4         NaN         NaN             False         False            NaN   \n",
              "\n",
              "   Equalized Odds  Unsupervised Fairness  Supervised Fairness  \n",
              "0            True                  False                False  \n",
              "1           False                  False                False  \n",
              "2            True                  False                False  \n",
              "3            True                  False                False  \n",
              "4           False                  False                False  "
            ],
            "text/html": [
              "\n",
              "  <div id=\"df-6906ad7b-9baa-416b-84ee-709271464145\">\n",
              "    <div class=\"colab-df-container\">\n",
              "      <div>\n",
              "<style scoped>\n",
              "    .dataframe tbody tr th:only-of-type {\n",
              "        vertical-align: middle;\n",
              "    }\n",
              "\n",
              "    .dataframe tbody tr th {\n",
              "        vertical-align: top;\n",
              "    }\n",
              "\n",
              "    .dataframe thead th {\n",
              "        text-align: right;\n",
              "    }\n",
              "</style>\n",
              "<table border=\"1\" class=\"dataframe\">\n",
              "  <thead>\n",
              "    <tr style=\"text-align: right;\">\n",
              "      <th></th>\n",
              "      <th>model_id</th>\n",
              "      <th>score_threshold</th>\n",
              "      <th>attribute_name</th>\n",
              "      <th>Statistical Parity</th>\n",
              "      <th>Impact Parity</th>\n",
              "      <th>FDR Parity</th>\n",
              "      <th>FPR Parity</th>\n",
              "      <th>FOR Parity</th>\n",
              "      <th>FNR Parity</th>\n",
              "      <th>TPR Parity</th>\n",
              "      <th>TNR Parity</th>\n",
              "      <th>NPV Parity</th>\n",
              "      <th>Precision Parity</th>\n",
              "      <th>TypeI Parity</th>\n",
              "      <th>TypeII Parity</th>\n",
              "      <th>Equalized Odds</th>\n",
              "      <th>Unsupervised Fairness</th>\n",
              "      <th>Supervised Fairness</th>\n",
              "    </tr>\n",
              "  </thead>\n",
              "  <tbody>\n",
              "    <tr>\n",
              "      <th>0</th>\n",
              "      <td>0</td>\n",
              "      <td>binary 0/1</td>\n",
              "      <td>ApplicantIncome_cat</td>\n",
              "      <td>False</td>\n",
              "      <td>True</td>\n",
              "      <td>False</td>\n",
              "      <td>True</td>\n",
              "      <td>NaN</td>\n",
              "      <td>NaN</td>\n",
              "      <td>True</td>\n",
              "      <td>NaN</td>\n",
              "      <td>NaN</td>\n",
              "      <td>False</td>\n",
              "      <td>False</td>\n",
              "      <td>NaN</td>\n",
              "      <td>True</td>\n",
              "      <td>False</td>\n",
              "      <td>False</td>\n",
              "    </tr>\n",
              "    <tr>\n",
              "      <th>1</th>\n",
              "      <td>0</td>\n",
              "      <td>binary 0/1</td>\n",
              "      <td>CoapplicantIncome_cat</td>\n",
              "      <td>False</td>\n",
              "      <td>True</td>\n",
              "      <td>False</td>\n",
              "      <td>True</td>\n",
              "      <td>NaN</td>\n",
              "      <td>NaN</td>\n",
              "      <td>True</td>\n",
              "      <td>NaN</td>\n",
              "      <td>NaN</td>\n",
              "      <td>False</td>\n",
              "      <td>False</td>\n",
              "      <td>NaN</td>\n",
              "      <td>False</td>\n",
              "      <td>False</td>\n",
              "      <td>False</td>\n",
              "    </tr>\n",
              "    <tr>\n",
              "      <th>2</th>\n",
              "      <td>0</td>\n",
              "      <td>binary 0/1</td>\n",
              "      <td>Credit_History</td>\n",
              "      <td>False</td>\n",
              "      <td>True</td>\n",
              "      <td>False</td>\n",
              "      <td>True</td>\n",
              "      <td>NaN</td>\n",
              "      <td>NaN</td>\n",
              "      <td>True</td>\n",
              "      <td>NaN</td>\n",
              "      <td>NaN</td>\n",
              "      <td>False</td>\n",
              "      <td>False</td>\n",
              "      <td>NaN</td>\n",
              "      <td>True</td>\n",
              "      <td>False</td>\n",
              "      <td>False</td>\n",
              "    </tr>\n",
              "    <tr>\n",
              "      <th>3</th>\n",
              "      <td>0</td>\n",
              "      <td>binary 0/1</td>\n",
              "      <td>LoanAmount_cat</td>\n",
              "      <td>False</td>\n",
              "      <td>True</td>\n",
              "      <td>False</td>\n",
              "      <td>True</td>\n",
              "      <td>NaN</td>\n",
              "      <td>NaN</td>\n",
              "      <td>True</td>\n",
              "      <td>NaN</td>\n",
              "      <td>NaN</td>\n",
              "      <td>False</td>\n",
              "      <td>False</td>\n",
              "      <td>NaN</td>\n",
              "      <td>True</td>\n",
              "      <td>False</td>\n",
              "      <td>False</td>\n",
              "    </tr>\n",
              "    <tr>\n",
              "      <th>4</th>\n",
              "      <td>0</td>\n",
              "      <td>binary 0/1</td>\n",
              "      <td>Loan_Amount_Term</td>\n",
              "      <td>False</td>\n",
              "      <td>True</td>\n",
              "      <td>False</td>\n",
              "      <td>True</td>\n",
              "      <td>NaN</td>\n",
              "      <td>NaN</td>\n",
              "      <td>True</td>\n",
              "      <td>NaN</td>\n",
              "      <td>NaN</td>\n",
              "      <td>False</td>\n",
              "      <td>False</td>\n",
              "      <td>NaN</td>\n",
              "      <td>False</td>\n",
              "      <td>False</td>\n",
              "      <td>False</td>\n",
              "    </tr>\n",
              "  </tbody>\n",
              "</table>\n",
              "</div>\n",
              "      <button class=\"colab-df-convert\" onclick=\"convertToInteractive('df-6906ad7b-9baa-416b-84ee-709271464145')\"\n",
              "              title=\"Convert this dataframe to an interactive table.\"\n",
              "              style=\"display:none;\">\n",
              "        \n",
              "  <svg xmlns=\"http://www.w3.org/2000/svg\" height=\"24px\"viewBox=\"0 0 24 24\"\n",
              "       width=\"24px\">\n",
              "    <path d=\"M0 0h24v24H0V0z\" fill=\"none\"/>\n",
              "    <path d=\"M18.56 5.44l.94 2.06.94-2.06 2.06-.94-2.06-.94-.94-2.06-.94 2.06-2.06.94zm-11 1L8.5 8.5l.94-2.06 2.06-.94-2.06-.94L8.5 2.5l-.94 2.06-2.06.94zm10 10l.94 2.06.94-2.06 2.06-.94-2.06-.94-.94-2.06-.94 2.06-2.06.94z\"/><path d=\"M17.41 7.96l-1.37-1.37c-.4-.4-.92-.59-1.43-.59-.52 0-1.04.2-1.43.59L10.3 9.45l-7.72 7.72c-.78.78-.78 2.05 0 2.83L4 21.41c.39.39.9.59 1.41.59.51 0 1.02-.2 1.41-.59l7.78-7.78 2.81-2.81c.8-.78.8-2.07 0-2.86zM5.41 20L4 18.59l7.72-7.72 1.47 1.35L5.41 20z\"/>\n",
              "  </svg>\n",
              "      </button>\n",
              "      \n",
              "  <style>\n",
              "    .colab-df-container {\n",
              "      display:flex;\n",
              "      flex-wrap:wrap;\n",
              "      gap: 12px;\n",
              "    }\n",
              "\n",
              "    .colab-df-convert {\n",
              "      background-color: #E8F0FE;\n",
              "      border: none;\n",
              "      border-radius: 50%;\n",
              "      cursor: pointer;\n",
              "      display: none;\n",
              "      fill: #1967D2;\n",
              "      height: 32px;\n",
              "      padding: 0 0 0 0;\n",
              "      width: 32px;\n",
              "    }\n",
              "\n",
              "    .colab-df-convert:hover {\n",
              "      background-color: #E2EBFA;\n",
              "      box-shadow: 0px 1px 2px rgba(60, 64, 67, 0.3), 0px 1px 3px 1px rgba(60, 64, 67, 0.15);\n",
              "      fill: #174EA6;\n",
              "    }\n",
              "\n",
              "    [theme=dark] .colab-df-convert {\n",
              "      background-color: #3B4455;\n",
              "      fill: #D2E3FC;\n",
              "    }\n",
              "\n",
              "    [theme=dark] .colab-df-convert:hover {\n",
              "      background-color: #434B5C;\n",
              "      box-shadow: 0px 1px 3px 1px rgba(0, 0, 0, 0.15);\n",
              "      filter: drop-shadow(0px 1px 2px rgba(0, 0, 0, 0.3));\n",
              "      fill: #FFFFFF;\n",
              "    }\n",
              "  </style>\n",
              "\n",
              "      <script>\n",
              "        const buttonEl =\n",
              "          document.querySelector('#df-6906ad7b-9baa-416b-84ee-709271464145 button.colab-df-convert');\n",
              "        buttonEl.style.display =\n",
              "          google.colab.kernel.accessAllowed ? 'block' : 'none';\n",
              "\n",
              "        async function convertToInteractive(key) {\n",
              "          const element = document.querySelector('#df-6906ad7b-9baa-416b-84ee-709271464145');\n",
              "          const dataTable =\n",
              "            await google.colab.kernel.invokeFunction('convertToInteractive',\n",
              "                                                     [key], {});\n",
              "          if (!dataTable) return;\n",
              "\n",
              "          const docLinkHtml = 'Like what you see? Visit the ' +\n",
              "            '<a target=\"_blank\" href=https://colab.research.google.com/notebooks/data_table.ipynb>data table notebook</a>'\n",
              "            + ' to learn more about interactive tables.';\n",
              "          element.innerHTML = '';\n",
              "          dataTable['output_type'] = 'display_data';\n",
              "          await google.colab.output.renderOutput(dataTable, element);\n",
              "          const docLink = document.createElement('div');\n",
              "          docLink.innerHTML = docLinkHtml;\n",
              "          element.appendChild(docLink);\n",
              "        }\n",
              "      </script>\n",
              "    </div>\n",
              "  </div>\n",
              "  "
            ]
          },
          "metadata": {},
          "execution_count": 165
        }
      ]
    },
    {
      "cell_type": "markdown",
      "source": [
        "Below, we are returning a dictionary with a determination across all attributes for each of: - Unsupervised Fairness - Supervised Fairness - Overall Fairness. gof shows overall fairness is False, which means that some of the fairness metrics are not meeting the fairness criteria. We would need to investigate further to find out which specific metrics are causing the overall fairness to be below fairness criteria."
      ],
      "metadata": {
        "id": "1p55iTURgRgE"
      }
    },
    {
      "cell_type": "code",
      "source": [
        "gof = f.get_overall_fairness(fdf)\n",
        "gof"
      ],
      "metadata": {
        "id": "8bUfQZEzK4Np",
        "colab": {
          "base_uri": "https://localhost:8080/"
        },
        "outputId": "20a0f66a-1958-414c-8c18-c3eef755804f"
      },
      "execution_count": null,
      "outputs": [
        {
          "output_type": "execute_result",
          "data": {
            "text/plain": [
              "{'Unsupervised Fairness': False,\n",
              " 'Supervised Fairness': False,\n",
              " 'Overall Fairness': False}"
            ]
          },
          "metadata": {},
          "execution_count": 166
        }
      ]
    },
    {
      "cell_type": "code",
      "source": [
        "z = aqp.plot_fairness_group(fdf, group_metric='ppr')"
      ],
      "metadata": {
        "id": "6ng4CVREXp4P",
        "colab": {
          "base_uri": "https://localhost:8080/",
          "height": 334
        },
        "outputId": "9068fa47-f1b2-4f3a-98a7-9ab10f11eb74"
      },
      "execution_count": null,
      "outputs": [
        {
          "output_type": "display_data",
          "data": {
            "text/plain": [
              "<Figure size 720x360 with 1 Axes>"
            ],
            "image/png": "[encoded data removed]"
          },
          "metadata": {
            "needs_background": "light"
          }
        }
      ]
    },
    {
      "cell_type": "markdown",
      "source": [
        "Mitigating Bias"
      ],
      "metadata": {
        "id": "TJDb6-WBkeOi"
      }
    },
    {
      "cell_type": "markdown",
      "source": [
        "To mitigate bias in the data, we can use two techniques: SMOTE oversampling and data normalization using MinMaxScaler. SMOTE will balance the data by creating more examples of underrepresented groups. Normalizing the data makes sure all features have a similar scale, so that no single feature dominates the results. This can prevent bias caused by features with larger ranges having more impact on the results compared to others. Conclusion: Before mitigating bias, we found that our model prouces a 68% accuracy, and we can see that applying mitigating bias decreases our accuracy rate (about 61%) on the test data which occurs after balancing and scaling."
      ],
      "metadata": {
        "id": "B0SyC21-kktq"
      }
    },
    {
      "cell_type": "code",
      "source": [
        "from collections import Counter\n",
        "from imblearn.over_sampling import SMOTE\n",
        "from sklearn.preprocessing import MinMaxScaler\n",
        "\n",
        "# Load and preprocess the data\n",
        "X_train, X_test, y_train, y_test = train_test_split(data2, labels2, test_size=0.20, random_state=42)\n",
        "\n",
        "# Print distribution before balancing\n",
        "print(\"Before balancing:\", Counter(y_train))\n",
        "\n",
        "S=SMOTE()\n",
        "X_train_data, y_train_data = S.fit_resample(X_train, y_train)\n",
        "\n",
        "# Print distribution after balancing\n",
        "print(\"After balancing:\", Counter(y_train_data))\n",
        "\n",
        "scalar = MinMaxScaler()\n",
        "scalar.fit(X_train_data)\n",
        "\n",
        "X_train_scaled = scalar.transform(X_train_data)\n",
        "X_test_scaled = scalar.transform(X_test)\n",
        "\n",
        "model \n",
        "model.fit(X_train_scaled, y_train_data,epochs=10, batch_size=32)\n",
        "\n",
        "accuracy = model.evaluate(X_test_scaled, y_test)\n",
        "print(f\"Accuracy: {accuracy * 100:.2f}%\")"
      ],
      "metadata": {
        "colab": {
          "base_uri": "https://localhost:8080/"
        },
        "id": "L8-whHG5kgXN",
        "outputId": "16502072-d9d4-475b-c75a-ed4fa7bacb6d"
      },
      "execution_count": null,
      "outputs": [
        {
          "output_type": "stream",
          "name": "stdout",
          "text": [
            "Before balancing: Counter({1: 324, 0: 138})\n",
            "After balancing: Counter({0: 324, 1: 324})\n",
            "Epoch 1/10\n",
            "21/21 [==============================] - 0s 5ms/step - loss: 0.7309\n",
            "Epoch 2/10\n",
            "21/21 [==============================] - 0s 4ms/step - loss: 0.7080\n",
            "Epoch 3/10\n",
            "21/21 [==============================] - 0s 5ms/step - loss: 0.6942\n",
            "Epoch 4/10\n",
            "21/21 [==============================] - 0s 4ms/step - loss: 0.6847\n",
            "Epoch 5/10\n",
            "21/21 [==============================] - 0s 6ms/step - loss: 0.6767\n",
            "Epoch 6/10\n",
            "21/21 [==============================] - 0s 3ms/step - loss: 0.6717\n",
            "Epoch 7/10\n",
            "21/21 [==============================] - 0s 3ms/step - loss: 0.6699\n",
            "Epoch 8/10\n",
            "21/21 [==============================] - 0s 3ms/step - loss: 0.6625\n",
            "Epoch 9/10\n",
            "21/21 [==============================] - 0s 2ms/step - loss: 0.6640\n",
            "Epoch 10/10\n",
            "21/21 [==============================] - 0s 2ms/step - loss: 0.6617\n",
            "4/4 [==============================] - 0s 4ms/step - loss: 0.6042\n",
            "Accuracy: 60.42%\n"
          ]
        }
      ]
    }
  ],
  "metadata": {
    "colab": {
      "provenance": []
    },
    "kernelspec": {
      "display_name": "Python 3",
      "name": "python3"
    },
    "language_info": {
      "name": "python"
    }
  },
  "nbformat": 4,
  "nbformat_minor": 0
}