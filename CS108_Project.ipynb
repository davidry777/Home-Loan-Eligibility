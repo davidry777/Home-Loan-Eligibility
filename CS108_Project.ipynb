{
  "cells": [
    {
      "cell_type": "markdown",
      "metadata": {
        "id": "SckYQrhBq-_b"
      },
      "source": [
        "# **Team BADI - Bias in Home Mortgage Bank Loans**"
      ]
    },
    {
      "cell_type": "markdown",
      "metadata": {
        "id": "ICDNxvUeifNE"
      },
      "source": [
        "Project Goal: Create a CNN model for predicting whether a customer is eligible for a home loan or not using important features like `ApplicantIncome`, `LoanAmount`, `CoapplicantIncome`, `Loan_Amount_Term`, `Credit_History`. We will also clean the data, create visualizations, describe the importance of our features, and analyze fairness using Aequitas. "
      ]
    },
    {
      "cell_type": "code",
      "execution_count": 95,
      "metadata": {
        "colab": {
          "base_uri": "https://localhost:8080/"
        },
        "id": "ScO5Xbqz7nnP",
        "outputId": "4be0311f-e1cb-48cf-bc19-f9a5a64c44f0"
      },
      "outputs": [
        {
          "output_type": "stream",
          "name": "stdout",
          "text": [
            "Looking in indexes: https://pypi.org/simple, https://us-python.pkg.dev/colab-wheels/public/simple/\n",
            "Requirement already satisfied: opendatasets in /usr/local/lib/python3.9/dist-packages (0.1.22)\n",
            "Requirement already satisfied: kaggle in /usr/local/lib/python3.9/dist-packages (from opendatasets) (1.5.13)\n",
            "Requirement already satisfied: tqdm in /usr/local/lib/python3.9/dist-packages (from opendatasets) (4.65.0)\n",
            "Requirement already satisfied: click in /usr/local/lib/python3.9/dist-packages (from opendatasets) (8.1.3)\n",
            "Requirement already satisfied: python-slugify in /usr/local/lib/python3.9/dist-packages (from kaggle->opendatasets) (8.0.1)\n",
            "Requirement already satisfied: certifi in /usr/local/lib/python3.9/dist-packages (from kaggle->opendatasets) (2022.12.7)\n",
            "Requirement already satisfied: six>=1.10 in /usr/local/lib/python3.9/dist-packages (from kaggle->opendatasets) (1.16.0)\n",
            "Requirement already satisfied: python-dateutil in /usr/local/lib/python3.9/dist-packages (from kaggle->opendatasets) (2.8.2)\n",
            "Requirement already satisfied: requests in /usr/local/lib/python3.9/dist-packages (from kaggle->opendatasets) (2.27.1)\n",
            "Requirement already satisfied: urllib3 in /usr/local/lib/python3.9/dist-packages (from kaggle->opendatasets) (1.26.15)\n",
            "Requirement already satisfied: text-unidecode>=1.3 in /usr/local/lib/python3.9/dist-packages (from python-slugify->kaggle->opendatasets) (1.3)\n",
            "Requirement already satisfied: charset-normalizer~=2.0.0 in /usr/local/lib/python3.9/dist-packages (from requests->kaggle->opendatasets) (2.0.12)\n",
            "Requirement already satisfied: idna<4,>=2.5 in /usr/local/lib/python3.9/dist-packages (from requests->kaggle->opendatasets) (3.4)\n"
          ]
        }
      ],
      "source": [
        "!pip install opendatasets\n",
        "import opendatasets as od"
      ]
    },
    {
      "cell_type": "code",
      "execution_count": 96,
      "metadata": {
        "colab": {
          "base_uri": "https://localhost:8080/"
        },
        "id": "DPwrHvjb8GyL",
        "outputId": "8c449131-846f-4413-d654-5c492381552b"
      },
      "outputs": [
        {
          "output_type": "stream",
          "name": "stdout",
          "text": [
            "Skipping, found downloaded files in \"./loan-eligible-dataset\" (use force=True to force download)\n"
          ]
        }
      ],
      "source": [
        "od.download('https://www.kaggle.com/datasets/vikasukani/loan-eligible-dataset')"
      ]
    },
    {
      "cell_type": "code",
      "execution_count": 97,
      "metadata": {
        "id": "BpfdHLb48cGI"
      },
      "outputs": [],
      "source": [
        "import numpy as np\n",
        "import pandas as pd\n",
        "import matplotlib.pyplot as plt\n",
        "import seaborn as sns"
      ]
    },
    {
      "cell_type": "code",
      "execution_count": 98,
      "metadata": {
        "id": "LoLb6Is0-kNn"
      },
      "outputs": [],
      "source": [
        "loans = pd.read_csv('/content/loan-eligible-dataset/loan-train.csv')"
      ]
    },
    {
      "cell_type": "markdown",
      "metadata": {
        "id": "gDrfRaYZDrFu"
      },
      "source": [
        "# **Dataset preview**"
      ]
    },
    {
      "cell_type": "markdown",
      "metadata": {
        "id": "cJtfWEhtWt3i"
      },
      "source": [
        "Dream Housing Finance company deals in all home loans. They have a presence across all urban, semi-urban, and rural areas. Customer-first applies for a home loan after that company validates the customer eligibility for a loan.\n",
        "\n",
        "The company wants to automate the loan eligibility process (real-time) based on customer detail provided while filling the online application form. These details are Gender, Marital Status, Education, Number of Dependents, Income, Loan Amount, Credit History, and others. To automate this process, they have given a problem to identify the customer's segments, those are eligible for loan amount so that they can specifically target these customers. Here they have provided a partial data set.\n",
        "\n",
        "[Loans Eligible Dataset](https://www.kaggle.com/datasets/vikasukani/loan-eligible-dataset?datasetId=831855&searchQuery=random+forest)\n"
      ]
    },
    {
      "cell_type": "code",
      "execution_count": 99,
      "metadata": {
        "colab": {
          "base_uri": "https://localhost:8080/",
          "height": 206
        },
        "id": "4iETNHz_hFq5",
        "outputId": "467e20d7-300d-44b4-9e70-f7e7d094df1e"
      },
      "outputs": [
        {
          "output_type": "execute_result",
          "data": {
            "text/plain": [
              "    Loan_ID Gender Married Dependents     Education Self_Employed  \\\n",
              "0  LP001002   Male      No          0      Graduate            No   \n",
              "1  LP001003   Male     Yes          1      Graduate            No   \n",
              "2  LP001005   Male     Yes          0      Graduate           Yes   \n",
              "3  LP001006   Male     Yes          0  Not Graduate            No   \n",
              "4  LP001008   Male      No          0      Graduate            No   \n",
              "\n",
              "   ApplicantIncome  CoapplicantIncome  LoanAmount  Loan_Amount_Term  \\\n",
              "0             5849                0.0         NaN             360.0   \n",
              "1             4583             1508.0       128.0             360.0   \n",
              "2             3000                0.0        66.0             360.0   \n",
              "3             2583             2358.0       120.0             360.0   \n",
              "4             6000                0.0       141.0             360.0   \n",
              "\n",
              "   Credit_History Property_Area Loan_Status  \n",
              "0             1.0         Urban           Y  \n",
              "1             1.0         Rural           N  \n",
              "2             1.0         Urban           Y  \n",
              "3             1.0         Urban           Y  \n",
              "4             1.0         Urban           Y  "
            ],
            "text/html": [
              "\n",
              "  <div id=\"df-f6b0e06e-708d-487c-8457-c4cf62ec7b3e\">\n",
              "    <div class=\"colab-df-container\">\n",
              "      <div>\n",
              "<style scoped>\n",
              "    .dataframe tbody tr th:only-of-type {\n",
              "        vertical-align: middle;\n",
              "    }\n",
              "\n",
              "    .dataframe tbody tr th {\n",
              "        vertical-align: top;\n",
              "    }\n",
              "\n",
              "    .dataframe thead th {\n",
              "        text-align: right;\n",
              "    }\n",
              "</style>\n",
              "<table border=\"1\" class=\"dataframe\">\n",
              "  <thead>\n",
              "    <tr style=\"text-align: right;\">\n",
              "      <th></th>\n",
              "      <th>Loan_ID</th>\n",
              "      <th>Gender</th>\n",
              "      <th>Married</th>\n",
              "      <th>Dependents</th>\n",
              "      <th>Education</th>\n",
              "      <th>Self_Employed</th>\n",
              "      <th>ApplicantIncome</th>\n",
              "      <th>CoapplicantIncome</th>\n",
              "      <th>LoanAmount</th>\n",
              "      <th>Loan_Amount_Term</th>\n",
              "      <th>Credit_History</th>\n",
              "      <th>Property_Area</th>\n",
              "      <th>Loan_Status</th>\n",
              "    </tr>\n",
              "  </thead>\n",
              "  <tbody>\n",
              "    <tr>\n",
              "      <th>0</th>\n",
              "      <td>LP001002</td>\n",
              "      <td>Male</td>\n",
              "      <td>No</td>\n",
              "      <td>0</td>\n",
              "      <td>Graduate</td>\n",
              "      <td>No</td>\n",
              "      <td>5849</td>\n",
              "      <td>0.0</td>\n",
              "      <td>NaN</td>\n",
              "      <td>360.0</td>\n",
              "      <td>1.0</td>\n",
              "      <td>Urban</td>\n",
              "      <td>Y</td>\n",
              "    </tr>\n",
              "    <tr>\n",
              "      <th>1</th>\n",
              "      <td>LP001003</td>\n",
              "      <td>Male</td>\n",
              "      <td>Yes</td>\n",
              "      <td>1</td>\n",
              "      <td>Graduate</td>\n",
              "      <td>No</td>\n",
              "      <td>4583</td>\n",
              "      <td>1508.0</td>\n",
              "      <td>128.0</td>\n",
              "      <td>360.0</td>\n",
              "      <td>1.0</td>\n",
              "      <td>Rural</td>\n",
              "      <td>N</td>\n",
              "    </tr>\n",
              "    <tr>\n",
              "      <th>2</th>\n",
              "      <td>LP001005</td>\n",
              "      <td>Male</td>\n",
              "      <td>Yes</td>\n",
              "      <td>0</td>\n",
              "      <td>Graduate</td>\n",
              "      <td>Yes</td>\n",
              "      <td>3000</td>\n",
              "      <td>0.0</td>\n",
              "      <td>66.0</td>\n",
              "      <td>360.0</td>\n",
              "      <td>1.0</td>\n",
              "      <td>Urban</td>\n",
              "      <td>Y</td>\n",
              "    </tr>\n",
              "    <tr>\n",
              "      <th>3</th>\n",
              "      <td>LP001006</td>\n",
              "      <td>Male</td>\n",
              "      <td>Yes</td>\n",
              "      <td>0</td>\n",
              "      <td>Not Graduate</td>\n",
              "      <td>No</td>\n",
              "      <td>2583</td>\n",
              "      <td>2358.0</td>\n",
              "      <td>120.0</td>\n",
              "      <td>360.0</td>\n",
              "      <td>1.0</td>\n",
              "      <td>Urban</td>\n",
              "      <td>Y</td>\n",
              "    </tr>\n",
              "    <tr>\n",
              "      <th>4</th>\n",
              "      <td>LP001008</td>\n",
              "      <td>Male</td>\n",
              "      <td>No</td>\n",
              "      <td>0</td>\n",
              "      <td>Graduate</td>\n",
              "      <td>No</td>\n",
              "      <td>6000</td>\n",
              "      <td>0.0</td>\n",
              "      <td>141.0</td>\n",
              "      <td>360.0</td>\n",
              "      <td>1.0</td>\n",
              "      <td>Urban</td>\n",
              "      <td>Y</td>\n",
              "    </tr>\n",
              "  </tbody>\n",
              "</table>\n",
              "</div>\n",
              "      <button class=\"colab-df-convert\" onclick=\"convertToInteractive('df-f6b0e06e-708d-487c-8457-c4cf62ec7b3e')\"\n",
              "              title=\"Convert this dataframe to an interactive table.\"\n",
              "              style=\"display:none;\">\n",
              "        \n",
              "  <svg xmlns=\"http://www.w3.org/2000/svg\" height=\"24px\"viewBox=\"0 0 24 24\"\n",
              "       width=\"24px\">\n",
              "    <path d=\"M0 0h24v24H0V0z\" fill=\"none\"/>\n",
              "    <path d=\"M18.56 5.44l.94 2.06.94-2.06 2.06-.94-2.06-.94-.94-2.06-.94 2.06-2.06.94zm-11 1L8.5 8.5l.94-2.06 2.06-.94-2.06-.94L8.5 2.5l-.94 2.06-2.06.94zm10 10l.94 2.06.94-2.06 2.06-.94-2.06-.94-.94-2.06-.94 2.06-2.06.94z\"/><path d=\"M17.41 7.96l-1.37-1.37c-.4-.4-.92-.59-1.43-.59-.52 0-1.04.2-1.43.59L10.3 9.45l-7.72 7.72c-.78.78-.78 2.05 0 2.83L4 21.41c.39.39.9.59 1.41.59.51 0 1.02-.2 1.41-.59l7.78-7.78 2.81-2.81c.8-.78.8-2.07 0-2.86zM5.41 20L4 18.59l7.72-7.72 1.47 1.35L5.41 20z\"/>\n",
              "  </svg>\n",
              "      </button>\n",
              "      \n",
              "  <style>\n",
              "    .colab-df-container {\n",
              "      display:flex;\n",
              "      flex-wrap:wrap;\n",
              "      gap: 12px;\n",
              "    }\n",
              "\n",
              "    .colab-df-convert {\n",
              "      background-color: #E8F0FE;\n",
              "      border: none;\n",
              "      border-radius: 50%;\n",
              "      cursor: pointer;\n",
              "      display: none;\n",
              "      fill: #1967D2;\n",
              "      height: 32px;\n",
              "      padding: 0 0 0 0;\n",
              "      width: 32px;\n",
              "    }\n",
              "\n",
              "    .colab-df-convert:hover {\n",
              "      background-color: #E2EBFA;\n",
              "      box-shadow: 0px 1px 2px rgba(60, 64, 67, 0.3), 0px 1px 3px 1px rgba(60, 64, 67, 0.15);\n",
              "      fill: #174EA6;\n",
              "    }\n",
              "\n",
              "    [theme=dark] .colab-df-convert {\n",
              "      background-color: #3B4455;\n",
              "      fill: #D2E3FC;\n",
              "    }\n",
              "\n",
              "    [theme=dark] .colab-df-convert:hover {\n",
              "      background-color: #434B5C;\n",
              "      box-shadow: 0px 1px 3px 1px rgba(0, 0, 0, 0.15);\n",
              "      filter: drop-shadow(0px 1px 2px rgba(0, 0, 0, 0.3));\n",
              "      fill: #FFFFFF;\n",
              "    }\n",
              "  </style>\n",
              "\n",
              "      <script>\n",
              "        const buttonEl =\n",
              "          document.querySelector('#df-f6b0e06e-708d-487c-8457-c4cf62ec7b3e button.colab-df-convert');\n",
              "        buttonEl.style.display =\n",
              "          google.colab.kernel.accessAllowed ? 'block' : 'none';\n",
              "\n",
              "        async function convertToInteractive(key) {\n",
              "          const element = document.querySelector('#df-f6b0e06e-708d-487c-8457-c4cf62ec7b3e');\n",
              "          const dataTable =\n",
              "            await google.colab.kernel.invokeFunction('convertToInteractive',\n",
              "                                                     [key], {});\n",
              "          if (!dataTable) return;\n",
              "\n",
              "          const docLinkHtml = 'Like what you see? Visit the ' +\n",
              "            '<a target=\"_blank\" href=https://colab.research.google.com/notebooks/data_table.ipynb>data table notebook</a>'\n",
              "            + ' to learn more about interactive tables.';\n",
              "          element.innerHTML = '';\n",
              "          dataTable['output_type'] = 'display_data';\n",
              "          await google.colab.output.renderOutput(dataTable, element);\n",
              "          const docLink = document.createElement('div');\n",
              "          docLink.innerHTML = docLinkHtml;\n",
              "          element.appendChild(docLink);\n",
              "        }\n",
              "      </script>\n",
              "    </div>\n",
              "  </div>\n",
              "  "
            ]
          },
          "metadata": {},
          "execution_count": 99
        }
      ],
      "source": [
        "loans.head()"
      ]
    },
    {
      "cell_type": "code",
      "execution_count": 100,
      "metadata": {
        "colab": {
          "base_uri": "https://localhost:8080/"
        },
        "id": "6fziQtpcfyDh",
        "outputId": "76bce868-4968-430c-fe35-ed22e19563f7"
      },
      "outputs": [
        {
          "output_type": "stream",
          "name": "stdout",
          "text": [
            "Shape:  (614, 13)\n"
          ]
        }
      ],
      "source": [
        "print(\"Shape: \", loans.shape)"
      ]
    },
    {
      "cell_type": "code",
      "execution_count": 101,
      "metadata": {
        "colab": {
          "base_uri": "https://localhost:8080/"
        },
        "id": "zO22zqLMDv7O",
        "outputId": "96efcd63-57bf-4812-9545-4ab953f87fa5"
      },
      "outputs": [
        {
          "output_type": "stream",
          "name": "stdout",
          "text": [
            "<class 'pandas.core.frame.DataFrame'>\n",
            "RangeIndex: 614 entries, 0 to 613\n",
            "Data columns (total 13 columns):\n",
            " #   Column             Non-Null Count  Dtype  \n",
            "---  ------             --------------  -----  \n",
            " 0   Loan_ID            614 non-null    object \n",
            " 1   Gender             601 non-null    object \n",
            " 2   Married            611 non-null    object \n",
            " 3   Dependents         599 non-null    object \n",
            " 4   Education          614 non-null    object \n",
            " 5   Self_Employed      582 non-null    object \n",
            " 6   ApplicantIncome    614 non-null    int64  \n",
            " 7   CoapplicantIncome  614 non-null    float64\n",
            " 8   LoanAmount         592 non-null    float64\n",
            " 9   Loan_Amount_Term   600 non-null    float64\n",
            " 10  Credit_History     564 non-null    float64\n",
            " 11  Property_Area      614 non-null    object \n",
            " 12  Loan_Status        614 non-null    object \n",
            "dtypes: float64(4), int64(1), object(8)\n",
            "memory usage: 62.5+ KB\n"
          ]
        }
      ],
      "source": [
        "loans.info()"
      ]
    },
    {
      "cell_type": "code",
      "execution_count": 102,
      "metadata": {
        "colab": {
          "base_uri": "https://localhost:8080/"
        },
        "id": "rPxX4uZMhxqV",
        "outputId": "fc25e7c5-0699-4689-d28d-77b23bffea9c"
      },
      "outputs": [
        {
          "output_type": "execute_result",
          "data": {
            "text/plain": [
              "Loan_ID               0\n",
              "Gender               13\n",
              "Married               3\n",
              "Dependents           15\n",
              "Education             0\n",
              "Self_Employed        32\n",
              "ApplicantIncome       0\n",
              "CoapplicantIncome     0\n",
              "LoanAmount           22\n",
              "Loan_Amount_Term     14\n",
              "Credit_History       50\n",
              "Property_Area         0\n",
              "Loan_Status           0\n",
              "dtype: int64"
            ]
          },
          "metadata": {},
          "execution_count": 102
        }
      ],
      "source": [
        "loans.isnull().sum()"
      ]
    },
    {
      "cell_type": "markdown",
      "metadata": {
        "id": "L7AsuZBNpTNb"
      },
      "source": [
        "# **Data Cleaning & Manipulation**\n"
      ]
    },
    {
      "cell_type": "markdown",
      "metadata": {
        "id": "m4bXAjIKFmhQ"
      },
      "source": [
        "In this section, we clean the dataset by dropping null values, as well as replacing null values with a respective value depending on the type of variable, whether it is numerical or categorical."
      ]
    },
    {
      "cell_type": "code",
      "execution_count": 103,
      "metadata": {
        "colab": {
          "base_uri": "https://localhost:8080/",
          "height": 206
        },
        "id": "p2Ld77QDpbzw",
        "outputId": "f5965d33-fb5b-49ba-a82d-186cecc28e12"
      },
      "outputs": [
        {
          "output_type": "execute_result",
          "data": {
            "text/plain": [
              "  Gender Married Dependents     Education Self_Employed  ApplicantIncome  \\\n",
              "0   Male      No          0      Graduate            No             5849   \n",
              "1   Male     Yes          1      Graduate            No             4583   \n",
              "2   Male     Yes          0      Graduate           Yes             3000   \n",
              "3   Male     Yes          0  Not Graduate            No             2583   \n",
              "4   Male      No          0      Graduate            No             6000   \n",
              "\n",
              "   CoapplicantIncome  LoanAmount  Loan_Amount_Term  Credit_History  \\\n",
              "0                0.0         NaN             360.0             1.0   \n",
              "1             1508.0       128.0             360.0             1.0   \n",
              "2                0.0        66.0             360.0             1.0   \n",
              "3             2358.0       120.0             360.0             1.0   \n",
              "4                0.0       141.0             360.0             1.0   \n",
              "\n",
              "  Property_Area Loan_Status  \n",
              "0         Urban           Y  \n",
              "1         Rural           N  \n",
              "2         Urban           Y  \n",
              "3         Urban           Y  \n",
              "4         Urban           Y  "
            ],
            "text/html": [
              "\n",
              "  <div id=\"df-1539357b-143c-4f19-8a59-7c9997e57dd1\">\n",
              "    <div class=\"colab-df-container\">\n",
              "      <div>\n",
              "<style scoped>\n",
              "    .dataframe tbody tr th:only-of-type {\n",
              "        vertical-align: middle;\n",
              "    }\n",
              "\n",
              "    .dataframe tbody tr th {\n",
              "        vertical-align: top;\n",
              "    }\n",
              "\n",
              "    .dataframe thead th {\n",
              "        text-align: right;\n",
              "    }\n",
              "</style>\n",
              "<table border=\"1\" class=\"dataframe\">\n",
              "  <thead>\n",
              "    <tr style=\"text-align: right;\">\n",
              "      <th></th>\n",
              "      <th>Gender</th>\n",
              "      <th>Married</th>\n",
              "      <th>Dependents</th>\n",
              "      <th>Education</th>\n",
              "      <th>Self_Employed</th>\n",
              "      <th>ApplicantIncome</th>\n",
              "      <th>CoapplicantIncome</th>\n",
              "      <th>LoanAmount</th>\n",
              "      <th>Loan_Amount_Term</th>\n",
              "      <th>Credit_History</th>\n",
              "      <th>Property_Area</th>\n",
              "      <th>Loan_Status</th>\n",
              "    </tr>\n",
              "  </thead>\n",
              "  <tbody>\n",
              "    <tr>\n",
              "      <th>0</th>\n",
              "      <td>Male</td>\n",
              "      <td>No</td>\n",
              "      <td>0</td>\n",
              "      <td>Graduate</td>\n",
              "      <td>No</td>\n",
              "      <td>5849</td>\n",
              "      <td>0.0</td>\n",
              "      <td>NaN</td>\n",
              "      <td>360.0</td>\n",
              "      <td>1.0</td>\n",
              "      <td>Urban</td>\n",
              "      <td>Y</td>\n",
              "    </tr>\n",
              "    <tr>\n",
              "      <th>1</th>\n",
              "      <td>Male</td>\n",
              "      <td>Yes</td>\n",
              "      <td>1</td>\n",
              "      <td>Graduate</td>\n",
              "      <td>No</td>\n",
              "      <td>4583</td>\n",
              "      <td>1508.0</td>\n",
              "      <td>128.0</td>\n",
              "      <td>360.0</td>\n",
              "      <td>1.0</td>\n",
              "      <td>Rural</td>\n",
              "      <td>N</td>\n",
              "    </tr>\n",
              "    <tr>\n",
              "      <th>2</th>\n",
              "      <td>Male</td>\n",
              "      <td>Yes</td>\n",
              "      <td>0</td>\n",
              "      <td>Graduate</td>\n",
              "      <td>Yes</td>\n",
              "      <td>3000</td>\n",
              "      <td>0.0</td>\n",
              "      <td>66.0</td>\n",
              "      <td>360.0</td>\n",
              "      <td>1.0</td>\n",
              "      <td>Urban</td>\n",
              "      <td>Y</td>\n",
              "    </tr>\n",
              "    <tr>\n",
              "      <th>3</th>\n",
              "      <td>Male</td>\n",
              "      <td>Yes</td>\n",
              "      <td>0</td>\n",
              "      <td>Not Graduate</td>\n",
              "      <td>No</td>\n",
              "      <td>2583</td>\n",
              "      <td>2358.0</td>\n",
              "      <td>120.0</td>\n",
              "      <td>360.0</td>\n",
              "      <td>1.0</td>\n",
              "      <td>Urban</td>\n",
              "      <td>Y</td>\n",
              "    </tr>\n",
              "    <tr>\n",
              "      <th>4</th>\n",
              "      <td>Male</td>\n",
              "      <td>No</td>\n",
              "      <td>0</td>\n",
              "      <td>Graduate</td>\n",
              "      <td>No</td>\n",
              "      <td>6000</td>\n",
              "      <td>0.0</td>\n",
              "      <td>141.0</td>\n",
              "      <td>360.0</td>\n",
              "      <td>1.0</td>\n",
              "      <td>Urban</td>\n",
              "      <td>Y</td>\n",
              "    </tr>\n",
              "  </tbody>\n",
              "</table>\n",
              "</div>\n",
              "      <button class=\"colab-df-convert\" onclick=\"convertToInteractive('df-1539357b-143c-4f19-8a59-7c9997e57dd1')\"\n",
              "              title=\"Convert this dataframe to an interactive table.\"\n",
              "              style=\"display:none;\">\n",
              "        \n",
              "  <svg xmlns=\"http://www.w3.org/2000/svg\" height=\"24px\"viewBox=\"0 0 24 24\"\n",
              "       width=\"24px\">\n",
              "    <path d=\"M0 0h24v24H0V0z\" fill=\"none\"/>\n",
              "    <path d=\"M18.56 5.44l.94 2.06.94-2.06 2.06-.94-2.06-.94-.94-2.06-.94 2.06-2.06.94zm-11 1L8.5 8.5l.94-2.06 2.06-.94-2.06-.94L8.5 2.5l-.94 2.06-2.06.94zm10 10l.94 2.06.94-2.06 2.06-.94-2.06-.94-.94-2.06-.94 2.06-2.06.94z\"/><path d=\"M17.41 7.96l-1.37-1.37c-.4-.4-.92-.59-1.43-.59-.52 0-1.04.2-1.43.59L10.3 9.45l-7.72 7.72c-.78.78-.78 2.05 0 2.83L4 21.41c.39.39.9.59 1.41.59.51 0 1.02-.2 1.41-.59l7.78-7.78 2.81-2.81c.8-.78.8-2.07 0-2.86zM5.41 20L4 18.59l7.72-7.72 1.47 1.35L5.41 20z\"/>\n",
              "  </svg>\n",
              "      </button>\n",
              "      \n",
              "  <style>\n",
              "    .colab-df-container {\n",
              "      display:flex;\n",
              "      flex-wrap:wrap;\n",
              "      gap: 12px;\n",
              "    }\n",
              "\n",
              "    .colab-df-convert {\n",
              "      background-color: #E8F0FE;\n",
              "      border: none;\n",
              "      border-radius: 50%;\n",
              "      cursor: pointer;\n",
              "      display: none;\n",
              "      fill: #1967D2;\n",
              "      height: 32px;\n",
              "      padding: 0 0 0 0;\n",
              "      width: 32px;\n",
              "    }\n",
              "\n",
              "    .colab-df-convert:hover {\n",
              "      background-color: #E2EBFA;\n",
              "      box-shadow: 0px 1px 2px rgba(60, 64, 67, 0.3), 0px 1px 3px 1px rgba(60, 64, 67, 0.15);\n",
              "      fill: #174EA6;\n",
              "    }\n",
              "\n",
              "    [theme=dark] .colab-df-convert {\n",
              "      background-color: #3B4455;\n",
              "      fill: #D2E3FC;\n",
              "    }\n",
              "\n",
              "    [theme=dark] .colab-df-convert:hover {\n",
              "      background-color: #434B5C;\n",
              "      box-shadow: 0px 1px 3px 1px rgba(0, 0, 0, 0.15);\n",
              "      filter: drop-shadow(0px 1px 2px rgba(0, 0, 0, 0.3));\n",
              "      fill: #FFFFFF;\n",
              "    }\n",
              "  </style>\n",
              "\n",
              "      <script>\n",
              "        const buttonEl =\n",
              "          document.querySelector('#df-1539357b-143c-4f19-8a59-7c9997e57dd1 button.colab-df-convert');\n",
              "        buttonEl.style.display =\n",
              "          google.colab.kernel.accessAllowed ? 'block' : 'none';\n",
              "\n",
              "        async function convertToInteractive(key) {\n",
              "          const element = document.querySelector('#df-1539357b-143c-4f19-8a59-7c9997e57dd1');\n",
              "          const dataTable =\n",
              "            await google.colab.kernel.invokeFunction('convertToInteractive',\n",
              "                                                     [key], {});\n",
              "          if (!dataTable) return;\n",
              "\n",
              "          const docLinkHtml = 'Like what you see? Visit the ' +\n",
              "            '<a target=\"_blank\" href=https://colab.research.google.com/notebooks/data_table.ipynb>data table notebook</a>'\n",
              "            + ' to learn more about interactive tables.';\n",
              "          element.innerHTML = '';\n",
              "          dataTable['output_type'] = 'display_data';\n",
              "          await google.colab.output.renderOutput(dataTable, element);\n",
              "          const docLink = document.createElement('div');\n",
              "          docLink.innerHTML = docLinkHtml;\n",
              "          element.appendChild(docLink);\n",
              "        }\n",
              "      </script>\n",
              "    </div>\n",
              "  </div>\n",
              "  "
            ]
          },
          "metadata": {},
          "execution_count": 103
        }
      ],
      "source": [
        "loans.drop('Loan_ID', axis=1, inplace=True)\n",
        "loans.head()"
      ]
    },
    {
      "cell_type": "code",
      "execution_count": 104,
      "metadata": {
        "colab": {
          "base_uri": "https://localhost:8080/"
        },
        "id": "BzND8NCApgqn",
        "outputId": "464cfc17-de70-45d0-cfb2-5a2d24712cd1"
      },
      "outputs": [
        {
          "output_type": "execute_result",
          "data": {
            "text/plain": [
              "Gender               13\n",
              "Married               3\n",
              "Dependents           15\n",
              "Education             0\n",
              "Self_Employed        32\n",
              "ApplicantIncome       0\n",
              "CoapplicantIncome     0\n",
              "LoanAmount           22\n",
              "Loan_Amount_Term     14\n",
              "Credit_History        0\n",
              "Property_Area         0\n",
              "Loan_Status           0\n",
              "dtype: int64"
            ]
          },
          "metadata": {},
          "execution_count": 104
        }
      ],
      "source": [
        "loans['Credit_History'].fillna(0, inplace=True)\n",
        "loans.isnull().sum()"
      ]
    },
    {
      "cell_type": "code",
      "execution_count": 105,
      "metadata": {
        "colab": {
          "base_uri": "https://localhost:8080/"
        },
        "id": "r09ReDetp_9g",
        "outputId": "defd92aa-091c-483d-ea42-9c7635587533"
      },
      "outputs": [
        {
          "output_type": "execute_result",
          "data": {
            "text/plain": [
              "Gender               13\n",
              "Married               3\n",
              "Dependents            0\n",
              "Education             0\n",
              "Self_Employed        32\n",
              "ApplicantIncome       0\n",
              "CoapplicantIncome     0\n",
              "LoanAmount           22\n",
              "Loan_Amount_Term     14\n",
              "Credit_History        0\n",
              "Property_Area         0\n",
              "Loan_Status           0\n",
              "dtype: int64"
            ]
          },
          "metadata": {},
          "execution_count": 105
        }
      ],
      "source": [
        "loans['Dependents'].fillna('0', inplace=True)\n",
        "loans.isnull().sum()"
      ]
    },
    {
      "cell_type": "code",
      "execution_count": 106,
      "metadata": {
        "colab": {
          "base_uri": "https://localhost:8080/"
        },
        "id": "72XG2c-5rsba",
        "outputId": "f941ab45-8ecd-47bd-fe4e-3f8a8871171a"
      },
      "outputs": [
        {
          "output_type": "execute_result",
          "data": {
            "text/plain": [
              "Gender               13\n",
              "Married               3\n",
              "Dependents            0\n",
              "Education             0\n",
              "Self_Employed         0\n",
              "ApplicantIncome       0\n",
              "CoapplicantIncome     0\n",
              "LoanAmount           22\n",
              "Loan_Amount_Term     14\n",
              "Credit_History        0\n",
              "Property_Area         0\n",
              "Loan_Status           0\n",
              "dtype: int64"
            ]
          },
          "metadata": {},
          "execution_count": 106
        }
      ],
      "source": [
        "loans['Self_Employed'].fillna('No', inplace=True)\n",
        "loans.isnull().sum()"
      ]
    },
    {
      "cell_type": "code",
      "execution_count": 107,
      "metadata": {
        "colab": {
          "base_uri": "https://localhost:8080/"
        },
        "id": "aq3SU_FSSLdv",
        "outputId": "24f63bc9-136f-4f8b-d520-328d6e668018"
      },
      "outputs": [
        {
          "output_type": "execute_result",
          "data": {
            "text/plain": [
              "Gender                0\n",
              "Married               0\n",
              "Dependents            0\n",
              "Education             0\n",
              "Self_Employed         0\n",
              "ApplicantIncome       0\n",
              "CoapplicantIncome     0\n",
              "LoanAmount           22\n",
              "Loan_Amount_Term     14\n",
              "Credit_History        0\n",
              "Property_Area         0\n",
              "Loan_Status           0\n",
              "dtype: int64"
            ]
          },
          "metadata": {},
          "execution_count": 107
        }
      ],
      "source": [
        "loans['Gender'].fillna('unknown', inplace=True)\n",
        "loans['Married'].fillna('unknown', inplace=True)\n",
        "loans.isnull().sum()"
      ]
    },
    {
      "cell_type": "code",
      "execution_count": 108,
      "metadata": {
        "colab": {
          "base_uri": "https://localhost:8080/"
        },
        "id": "cBFx3LChzQZ1",
        "outputId": "9ecc74f4-085c-4e9a-87fb-d839474579ee"
      },
      "outputs": [
        {
          "output_type": "execute_result",
          "data": {
            "text/plain": [
              "614"
            ]
          },
          "metadata": {},
          "execution_count": 108
        }
      ],
      "source": [
        "len(loans)"
      ]
    },
    {
      "cell_type": "markdown",
      "metadata": {
        "id": "-65rSS6xo5my"
      },
      "source": [
        "# **Data Visualization**"
      ]
    },
    {
      "cell_type": "code",
      "execution_count": 109,
      "metadata": {
        "colab": {
          "base_uri": "https://localhost:8080/",
          "height": 1000
        },
        "id": "gTBMelhcPPjk",
        "outputId": "917e0db6-32d3-4ac9-e833-4919aa260ac3"
      },
      "outputs": [
        {
          "output_type": "execute_result",
          "data": {
            "text/plain": [
              "<Axes: >"
            ]
          },
          "metadata": {},
          "execution_count": 109
        },
        {
          "output_type": "display_data",
          "data": {
            "text/plain": [
              "<Figure size 720x1440 with 2 Axes>"
            ],
            "image/png": "[encoded data removed]"
          },
          "metadata": {
            "needs_background": "light"
          }
        }
      ],
      "source": [
        "sns.heatmap(loans.corr(), annot = True)"
      ]
    },
    {
      "cell_type": "markdown",
      "metadata": {
        "id": "G8Ct9U9zCsmO"
      },
      "source": [
        "`ApplicantIncome` and `LoanAmount` have the highest correlation out of all the numerical variables, but it's still a weak correlation."
      ]
    },
    {
      "cell_type": "code",
      "execution_count": 110,
      "metadata": {
        "colab": {
          "base_uri": "https://localhost:8080/"
        },
        "id": "0aA3fVRdT9zb",
        "outputId": "37ebb238-526b-46a2-bf1a-c462e1035ee5"
      },
      "outputs": [
        {
          "output_type": "stream",
          "name": "stdout",
          "text": [
            "Looking in indexes: https://pypi.org/simple, https://us-python.pkg.dev/colab-wheels/public/simple/\n",
            "Requirement already satisfied: association-metrics in /usr/local/lib/python3.9/dist-packages (0.0.1)\n"
          ]
        }
      ],
      "source": [
        "pip install association-metrics"
      ]
    },
    {
      "cell_type": "code",
      "execution_count": 111,
      "metadata": {
        "colab": {
          "base_uri": "https://localhost:8080/",
          "height": 1000
        },
        "id": "4Pjb5Bi7T-FW",
        "outputId": "023fb714-bce2-4aca-8559-d2e8c7658de8"
      },
      "outputs": [
        {
          "output_type": "execute_result",
          "data": {
            "text/plain": [
              "<Axes: >"
            ]
          },
          "metadata": {},
          "execution_count": 111
        },
        {
          "output_type": "display_data",
          "data": {
            "text/plain": [
              "<Figure size 720x1440 with 2 Axes>"
            ],
            "image/png": "[encoded data removed]"
          },
          "metadata": {
            "needs_background": "light"
          }
        }
      ],
      "source": [
        "import association_metrics as am\n",
        "loans2 = loans.apply(lambda x: x.astype(\"category\") if x.dtype == \"O\" else x)\n",
        "cramersv = am.CramersV(loans2) \n",
        "sns.heatmap(cramersv.fit(), annot = True)"
      ]
    },
    {
      "cell_type": "markdown",
      "metadata": {
        "id": "3ryQ5Yi-DDBL"
      },
      "source": [
        "Cramer's V is used to measure correlation between categorical variables. There are no strong correlations."
      ]
    },
    {
      "cell_type": "markdown",
      "metadata": {
        "id": "vmpvAsvjGwaP"
      },
      "source": [
        "A Chi-Squared test is used here to measure if there's any difference in the loan outcome, `Loan_Status`, between males and females. This is determined using a p-value (explained in a later cell)."
      ]
    },
    {
      "cell_type": "markdown",
      "metadata": {
        "id": "GLYpnFMHIh10"
      },
      "source": [
        "$H_{O}$: There is no difference in loan outcome between males and females.\n",
        "\n",
        "$H_{A}$: There is a difference in loan outcome between males and females. "
      ]
    },
    {
      "cell_type": "code",
      "execution_count": 112,
      "metadata": {
        "id": "_RlHj9x9ScRi",
        "colab": {
          "base_uri": "https://localhost:8080/",
          "height": 175
        },
        "outputId": "7be7a6b1-bc09-4644-c55a-f2b3c40f00d5"
      },
      "outputs": [
        {
          "output_type": "execute_result",
          "data": {
            "text/plain": [
              "Loan_Status    N    Y\n",
              "Gender               \n",
              "Female        37   75\n",
              "Male         150  339\n",
              "unknown        5    8"
            ],
            "text/html": [
              "\n",
              "  <div id=\"df-310e097a-eab0-44ad-9926-a9a899255e2e\">\n",
              "    <div class=\"colab-df-container\">\n",
              "      <div>\n",
              "<style scoped>\n",
              "    .dataframe tbody tr th:only-of-type {\n",
              "        vertical-align: middle;\n",
              "    }\n",
              "\n",
              "    .dataframe tbody tr th {\n",
              "        vertical-align: top;\n",
              "    }\n",
              "\n",
              "    .dataframe thead th {\n",
              "        text-align: right;\n",
              "    }\n",
              "</style>\n",
              "<table border=\"1\" class=\"dataframe\">\n",
              "  <thead>\n",
              "    <tr style=\"text-align: right;\">\n",
              "      <th>Loan_Status</th>\n",
              "      <th>N</th>\n",
              "      <th>Y</th>\n",
              "    </tr>\n",
              "    <tr>\n",
              "      <th>Gender</th>\n",
              "      <th></th>\n",
              "      <th></th>\n",
              "    </tr>\n",
              "  </thead>\n",
              "  <tbody>\n",
              "    <tr>\n",
              "      <th>Female</th>\n",
              "      <td>37</td>\n",
              "      <td>75</td>\n",
              "    </tr>\n",
              "    <tr>\n",
              "      <th>Male</th>\n",
              "      <td>150</td>\n",
              "      <td>339</td>\n",
              "    </tr>\n",
              "    <tr>\n",
              "      <th>unknown</th>\n",
              "      <td>5</td>\n",
              "      <td>8</td>\n",
              "    </tr>\n",
              "  </tbody>\n",
              "</table>\n",
              "</div>\n",
              "      <button class=\"colab-df-convert\" onclick=\"convertToInteractive('df-310e097a-eab0-44ad-9926-a9a899255e2e')\"\n",
              "              title=\"Convert this dataframe to an interactive table.\"\n",
              "              style=\"display:none;\">\n",
              "        \n",
              "  <svg xmlns=\"http://www.w3.org/2000/svg\" height=\"24px\"viewBox=\"0 0 24 24\"\n",
              "       width=\"24px\">\n",
              "    <path d=\"M0 0h24v24H0V0z\" fill=\"none\"/>\n",
              "    <path d=\"M18.56 5.44l.94 2.06.94-2.06 2.06-.94-2.06-.94-.94-2.06-.94 2.06-2.06.94zm-11 1L8.5 8.5l.94-2.06 2.06-.94-2.06-.94L8.5 2.5l-.94 2.06-2.06.94zm10 10l.94 2.06.94-2.06 2.06-.94-2.06-.94-.94-2.06-.94 2.06-2.06.94z\"/><path d=\"M17.41 7.96l-1.37-1.37c-.4-.4-.92-.59-1.43-.59-.52 0-1.04.2-1.43.59L10.3 9.45l-7.72 7.72c-.78.78-.78 2.05 0 2.83L4 21.41c.39.39.9.59 1.41.59.51 0 1.02-.2 1.41-.59l7.78-7.78 2.81-2.81c.8-.78.8-2.07 0-2.86zM5.41 20L4 18.59l7.72-7.72 1.47 1.35L5.41 20z\"/>\n",
              "  </svg>\n",
              "      </button>\n",
              "      \n",
              "  <style>\n",
              "    .colab-df-container {\n",
              "      display:flex;\n",
              "      flex-wrap:wrap;\n",
              "      gap: 12px;\n",
              "    }\n",
              "\n",
              "    .colab-df-convert {\n",
              "      background-color: #E8F0FE;\n",
              "      border: none;\n",
              "      border-radius: 50%;\n",
              "      cursor: pointer;\n",
              "      display: none;\n",
              "      fill: #1967D2;\n",
              "      height: 32px;\n",
              "      padding: 0 0 0 0;\n",
              "      width: 32px;\n",
              "    }\n",
              "\n",
              "    .colab-df-convert:hover {\n",
              "      background-color: #E2EBFA;\n",
              "      box-shadow: 0px 1px 2px rgba(60, 64, 67, 0.3), 0px 1px 3px 1px rgba(60, 64, 67, 0.15);\n",
              "      fill: #174EA6;\n",
              "    }\n",
              "\n",
              "    [theme=dark] .colab-df-convert {\n",
              "      background-color: #3B4455;\n",
              "      fill: #D2E3FC;\n",
              "    }\n",
              "\n",
              "    [theme=dark] .colab-df-convert:hover {\n",
              "      background-color: #434B5C;\n",
              "      box-shadow: 0px 1px 3px 1px rgba(0, 0, 0, 0.15);\n",
              "      filter: drop-shadow(0px 1px 2px rgba(0, 0, 0, 0.3));\n",
              "      fill: #FFFFFF;\n",
              "    }\n",
              "  </style>\n",
              "\n",
              "      <script>\n",
              "        const buttonEl =\n",
              "          document.querySelector('#df-310e097a-eab0-44ad-9926-a9a899255e2e button.colab-df-convert');\n",
              "        buttonEl.style.display =\n",
              "          google.colab.kernel.accessAllowed ? 'block' : 'none';\n",
              "\n",
              "        async function convertToInteractive(key) {\n",
              "          const element = document.querySelector('#df-310e097a-eab0-44ad-9926-a9a899255e2e');\n",
              "          const dataTable =\n",
              "            await google.colab.kernel.invokeFunction('convertToInteractive',\n",
              "                                                     [key], {});\n",
              "          if (!dataTable) return;\n",
              "\n",
              "          const docLinkHtml = 'Like what you see? Visit the ' +\n",
              "            '<a target=\"_blank\" href=https://colab.research.google.com/notebooks/data_table.ipynb>data table notebook</a>'\n",
              "            + ' to learn more about interactive tables.';\n",
              "          element.innerHTML = '';\n",
              "          dataTable['output_type'] = 'display_data';\n",
              "          await google.colab.output.renderOutput(dataTable, element);\n",
              "          const docLink = document.createElement('div');\n",
              "          docLink.innerHTML = docLinkHtml;\n",
              "          element.appendChild(docLink);\n",
              "        }\n",
              "      </script>\n",
              "    </div>\n",
              "  </div>\n",
              "  "
            ]
          },
          "metadata": {},
          "execution_count": 112
        }
      ],
      "source": [
        "ct = pd.crosstab(index = loans.Gender, columns = loans.Loan_Status)\n",
        "ct"
      ]
    },
    {
      "cell_type": "code",
      "execution_count": 113,
      "metadata": {
        "id": "yhF1qQMaSvCb",
        "colab": {
          "base_uri": "https://localhost:8080/"
        },
        "outputId": "f43817ee-66f5-4456-85cf-0cfb163e5233"
      },
      "outputs": [
        {
          "output_type": "execute_result",
          "data": {
            "text/plain": [
              "0.7573361980618397"
            ]
          },
          "metadata": {},
          "execution_count": 113
        }
      ],
      "source": [
        "from scipy.stats import chi2_contingency\n",
        "chisq = chi2_contingency(ct)\n",
        "chisq[1]"
      ]
    },
    {
      "cell_type": "markdown",
      "metadata": {
        "id": "WJf_2kO3GlJY"
      },
      "source": [
        "If the p-value is very small (<.05), then the null hypothesis is rejected. Otherwise, if the p-value is big (>.05), the alternate hypothesis is rejected.\n",
        "\n",
        "In this case, the p-value is very big, indicating that there isn't sufficient evidence to prove that there is a difference in loan outcome between males and females. "
      ]
    },
    {
      "cell_type": "code",
      "execution_count": 114,
      "metadata": {
        "id": "3DDXL1rItPBv",
        "colab": {
          "base_uri": "https://localhost:8080/",
          "height": 1000
        },
        "outputId": "a94758e6-e74a-42fa-97b8-c15d4691f894"
      },
      "outputs": [
        {
          "output_type": "execute_result",
          "data": {
            "text/plain": [
              "<Axes: xlabel='Loan_Status', ylabel='count'>"
            ]
          },
          "metadata": {},
          "execution_count": 114
        },
        {
          "output_type": "display_data",
          "data": {
            "text/plain": [
              "<Figure size 720x1440 with 1 Axes>"
            ],
            "image/png": "[encoded data removed]"
          },
          "metadata": {
            "needs_background": "light"
          }
        }
      ],
      "source": [
        "sns.countplot(data = loans, x = 'Loan_Status')"
      ]
    },
    {
      "cell_type": "markdown",
      "metadata": {
        "id": "7rCkh-iGJGVC"
      },
      "source": [
        "The dataset mostly comprises of approved instances of bank loans."
      ]
    },
    {
      "cell_type": "code",
      "execution_count": 115,
      "metadata": {
        "id": "nnG4h0Pw9oTN",
        "colab": {
          "base_uri": "https://localhost:8080/",
          "height": 1000
        },
        "outputId": "7f2b9055-c7ea-4269-c316-52b07cd5315c"
      },
      "outputs": [
        {
          "output_type": "execute_result",
          "data": {
            "text/plain": [
              "<Axes: xlabel='Gender', ylabel='count'>"
            ]
          },
          "metadata": {},
          "execution_count": 115
        },
        {
          "output_type": "display_data",
          "data": {
            "text/plain": [
              "<Figure size 720x1440 with 1 Axes>"
            ],
            "image/png": "[encoded data removed]"
          },
          "metadata": {
            "needs_background": "light"
          }
        }
      ],
      "source": [
        "sns.countplot(data = loans, x = 'Gender')"
      ]
    },
    {
      "cell_type": "markdown",
      "metadata": {
        "id": "fRFHjB1uJQAB"
      },
      "source": [
        "The dataset includes mostly males."
      ]
    },
    {
      "cell_type": "code",
      "execution_count": 116,
      "metadata": {
        "id": "PFQ8jTVFBYmx",
        "colab": {
          "base_uri": "https://localhost:8080/",
          "height": 1000
        },
        "outputId": "e75642ba-9fd4-4426-c3f8-802cd92f0469"
      },
      "outputs": [
        {
          "output_type": "execute_result",
          "data": {
            "text/plain": [
              "<Axes: xlabel='Loan_Status', ylabel='count'>"
            ]
          },
          "metadata": {},
          "execution_count": 116
        },
        {
          "output_type": "display_data",
          "data": {
            "text/plain": [
              "<Figure size 720x1440 with 1 Axes>"
            ],
            "image/png": "[encoded data removed]"
          },
          "metadata": {
            "needs_background": "light"
          }
        }
      ],
      "source": [
        "sns.countplot(data = loans, x = 'Loan_Status', hue = 'Gender')"
      ]
    },
    {
      "cell_type": "markdown",
      "metadata": {
        "id": "GHD2qKgbJX8S"
      },
      "source": [
        "Due to the dataset being mostly male dominated, they have both more `Yes` and `No` than females. Although, proportionaly it seems females get far less approvals than males as they make up less than 25% of the approvals of males, compared to making up about one-third of the denials of males."
      ]
    },
    {
      "cell_type": "code",
      "execution_count": 117,
      "metadata": {
        "id": "u6HxvfMZRmO3",
        "colab": {
          "base_uri": "https://localhost:8080/",
          "height": 1000
        },
        "outputId": "45516c25-4d4e-4e1d-82f4-a63d8f52be64"
      },
      "outputs": [
        {
          "output_type": "execute_result",
          "data": {
            "text/plain": [
              "<Axes: xlabel='Loan_Status', ylabel='count'>"
            ]
          },
          "metadata": {},
          "execution_count": 117
        },
        {
          "output_type": "display_data",
          "data": {
            "text/plain": [
              "<Figure size 720x1440 with 1 Axes>"
            ],
            "image/png": "[encoded data removed]"
          },
          "metadata": {
            "needs_background": "light"
          }
        }
      ],
      "source": [
        "sns.countplot(data = loans, x = 'Loan_Status', hue = 'Married')"
      ]
    },
    {
      "cell_type": "markdown",
      "metadata": {
        "id": "o_GNQUFPLOqj"
      },
      "source": [
        "It seems loan approval for `Married` couples is almost double than that of `Non-married` entities."
      ]
    },
    {
      "cell_type": "code",
      "execution_count": 118,
      "metadata": {
        "id": "Zb1vlHjYFqiO",
        "colab": {
          "base_uri": "https://localhost:8080/",
          "height": 1000
        },
        "outputId": "3e97ea72-9f98-449a-bda9-c04f828657ad"
      },
      "outputs": [
        {
          "output_type": "execute_result",
          "data": {
            "text/plain": [
              "<Axes: xlabel='Education', ylabel='count'>"
            ]
          },
          "metadata": {},
          "execution_count": 118
        },
        {
          "output_type": "display_data",
          "data": {
            "text/plain": [
              "<Figure size 720x1440 with 1 Axes>"
            ],
            "image/png": "[encoded data removed]"
          },
          "metadata": {
            "needs_background": "light"
          }
        }
      ],
      "source": [
        "sns.countplot(data = loans, x = 'Education', hue = 'Loan_Status')"
      ]
    },
    {
      "cell_type": "markdown",
      "metadata": {
        "id": "XqAxMh-yLjri"
      },
      "source": [
        "It seems the dataset comprises mostly of `Graduate` entities compared to `Not Graduate`. Many more `Graduate` entities are approved than denied for the loan."
      ]
    },
    {
      "cell_type": "code",
      "execution_count": 119,
      "metadata": {
        "id": "n1fqR1iWG3Gn",
        "colab": {
          "base_uri": "https://localhost:8080/",
          "height": 1000
        },
        "outputId": "1aa9f92e-43cf-4767-e91a-5edbd4d1d376"
      },
      "outputs": [
        {
          "output_type": "execute_result",
          "data": {
            "text/plain": [
              "<Axes: xlabel='LoanAmount', ylabel='Count'>"
            ]
          },
          "metadata": {},
          "execution_count": 119
        },
        {
          "output_type": "display_data",
          "data": {
            "text/plain": [
              "<Figure size 720x1440 with 1 Axes>"
            ],
            "image/png": "[encoded data removed]"
          },
          "metadata": {
            "needs_background": "light"
          }
        }
      ],
      "source": [
        "sns.histplot(data = loans, x = 'LoanAmount', hue = 'Loan_Status')"
      ]
    },
    {
      "cell_type": "markdown",
      "metadata": {
        "id": "lqp0IrTWMfAU"
      },
      "source": [
        "The distribution for the `LoanAmount` for both loan approvals and denials follow the same pattern. They are both skewed to the right and unimodal."
      ]
    },
    {
      "cell_type": "code",
      "execution_count": 120,
      "metadata": {
        "id": "0Q9AER9hL4FN",
        "colab": {
          "base_uri": "https://localhost:8080/",
          "height": 1000
        },
        "outputId": "89306f3c-c6e1-40d2-f8bf-c9ecbd3ccf8c"
      },
      "outputs": [
        {
          "output_type": "execute_result",
          "data": {
            "text/plain": [
              "<Axes: xlabel='ApplicantIncome', ylabel='Count'>"
            ]
          },
          "metadata": {},
          "execution_count": 120
        },
        {
          "output_type": "display_data",
          "data": {
            "text/plain": [
              "<Figure size 720x1440 with 1 Axes>"
            ],
            "image/png": "[encoded data removed]"
          },
          "metadata": {
            "needs_background": "light"
          }
        }
      ],
      "source": [
        "sns.histplot(data = loans, x = 'ApplicantIncome', hue = 'Loan_Status')"
      ]
    },
    {
      "cell_type": "markdown",
      "metadata": {
        "id": "Hp1pxl-GNF2w"
      },
      "source": [
        "The same patterns as the last graph follows for this one as well."
      ]
    },
    {
      "cell_type": "code",
      "execution_count": 121,
      "metadata": {
        "id": "xdT1scgNNXDx",
        "colab": {
          "base_uri": "https://localhost:8080/",
          "height": 1000
        },
        "outputId": "630d84a9-e9a5-40d9-f64e-9f94cc3fd79a"
      },
      "outputs": [
        {
          "output_type": "execute_result",
          "data": {
            "text/plain": [
              "<Axes: xlabel='Dependents', ylabel='count'>"
            ]
          },
          "metadata": {},
          "execution_count": 121
        },
        {
          "output_type": "display_data",
          "data": {
            "text/plain": [
              "<Figure size 720x1440 with 1 Axes>"
            ],
            "image/png": "[encoded data removed]"
          },
          "metadata": {
            "needs_background": "light"
          }
        }
      ],
      "source": [
        "sns.countplot(data = loans, x = 'Dependents', hue = 'Loan_Status')"
      ]
    },
    {
      "cell_type": "markdown",
      "metadata": {
        "id": "I6xHh-rYNUAp"
      },
      "source": [
        "The dataset comprises of more entities with `0` dependents than more than `0` dependents. The loan approval rate, however, is always almost double for every case than denial. "
      ]
    },
    {
      "cell_type": "code",
      "execution_count": 122,
      "metadata": {
        "id": "9wKG26ZX9ow3",
        "colab": {
          "base_uri": "https://localhost:8080/",
          "height": 386
        },
        "outputId": "49d5073a-c95c-4725-81fc-e4c754e18213"
      },
      "outputs": [
        {
          "output_type": "execute_result",
          "data": {
            "text/plain": [
              "<seaborn.axisgrid.FacetGrid at 0x7fc8eb886df0>"
            ]
          },
          "metadata": {},
          "execution_count": 122
        },
        {
          "output_type": "display_data",
          "data": {
            "text/plain": [
              "<Figure size 428.625x360 with 1 Axes>"
            ],
            "image/png": "[encoded data removed]"
          },
          "metadata": {
            "needs_background": "light"
          }
        }
      ],
      "source": [
        "sns.lmplot(data = loans, x = 'LoanAmount', y = 'ApplicantIncome', hue = 'Loan_Status')"
      ]
    },
    {
      "cell_type": "markdown",
      "metadata": {
        "id": "OI88MmKbOIoC"
      },
      "source": [
        "It seems that the higher the `ApplicantIncome`, the higher the requested `LoanAmount`. If looked at carefully, we realize that there's a certain point in `ApplicantIncome` (around 17500) for which after that point there are a lot more approvals than denials. It also seems that the denials are clustered tighter than the approvals (except for a few outliers), whereas the approvals are scattered throughout the graph."
      ]
    },
    {
      "cell_type": "code",
      "execution_count": 123,
      "metadata": {
        "id": "quWaYOl5Wb93",
        "colab": {
          "base_uri": "https://localhost:8080/",
          "height": 1000
        },
        "outputId": "4d693d59-a9ec-4c56-c956-05a5d4cc348e"
      },
      "outputs": [
        {
          "output_type": "execute_result",
          "data": {
            "text/plain": [
              "<Axes: xlabel='Property_Area', ylabel='count'>"
            ]
          },
          "metadata": {},
          "execution_count": 123
        },
        {
          "output_type": "display_data",
          "data": {
            "text/plain": [
              "<Figure size 720x1440 with 1 Axes>"
            ],
            "image/png": "[encoded data removed]"
          },
          "metadata": {
            "needs_background": "light"
          }
        }
      ],
      "source": [
        "sns.countplot(data = loans, x = 'Property_Area', hue = 'Loan_Status')"
      ]
    },
    {
      "cell_type": "markdown",
      "metadata": {
        "id": "YNuYXj8mR4ZQ"
      },
      "source": [
        "The loan approval rate for `Semiurban` properties is significantly higher than the denials for the same property-type as well as the approvals for other property-types."
      ]
    },
    {
      "cell_type": "code",
      "execution_count": 124,
      "metadata": {
        "id": "03OIPAHY_YFK",
        "colab": {
          "base_uri": "https://localhost:8080/",
          "height": 1000
        },
        "outputId": "d5b79ea8-ea4e-47ef-e439-5568557f1c21"
      },
      "outputs": [
        {
          "output_type": "execute_result",
          "data": {
            "text/plain": [
              "<Axes: xlabel='LoanAmount', ylabel='Loan_Amount_Term'>"
            ]
          },
          "metadata": {},
          "execution_count": 124
        },
        {
          "output_type": "display_data",
          "data": {
            "text/plain": [
              "<Figure size 720x1440 with 1 Axes>"
            ],
            "image/png": "[encoded data removed]"
          },
          "metadata": {
            "needs_background": "light"
          }
        }
      ],
      "source": [
        "sns.histplot(data = loans, x = 'LoanAmount', y = 'Loan_Amount_Term', hue = 'Loan_Status')"
      ]
    },
    {
      "cell_type": "markdown",
      "metadata": {
        "id": "n-yPpn67SUZp"
      },
      "source": [
        "It seems that if a low `LoanAmount` has a very high `Loan_Amount_Term`, it results in a denial. This is probably because a high repayment term might indicate some sort of inability to repay the loan."
      ]
    },
    {
      "cell_type": "code",
      "execution_count": 125,
      "metadata": {
        "id": "HpNd7JyDF3V2",
        "colab": {
          "base_uri": "https://localhost:8080/",
          "height": 1000
        },
        "outputId": "dce0b428-94df-4bb6-a607-ff3ffeab0a2f"
      },
      "outputs": [
        {
          "output_type": "execute_result",
          "data": {
            "text/plain": [
              "<Axes: xlabel='Credit_History', ylabel='count'>"
            ]
          },
          "metadata": {},
          "execution_count": 125
        },
        {
          "output_type": "display_data",
          "data": {
            "text/plain": [
              "<Figure size 720x1440 with 1 Axes>"
            ],
            "image/png": "[encoded data removed]"
          },
          "metadata": {
            "needs_background": "light"
          }
        }
      ],
      "source": [
        "sns.countplot(data = loans, x = 'Credit_History', hue = 'Loan_Status')"
      ]
    },
    {
      "cell_type": "markdown",
      "metadata": {
        "id": "Ba7hIcy2ZGSX"
      },
      "source": [
        "It seems that loan approval depends heavily on if `Credit_History` complies with the criteria of the loan company."
      ]
    },
    {
      "cell_type": "code",
      "execution_count": 126,
      "metadata": {
        "id": "IMpfGhC2NYKa",
        "colab": {
          "base_uri": "https://localhost:8080/",
          "height": 1000
        },
        "outputId": "d88fa0d3-67d8-4bd8-ed36-c839ac7fb24c"
      },
      "outputs": [
        {
          "output_type": "execute_result",
          "data": {
            "text/plain": [
              "<Axes: xlabel='Self_Employed', ylabel='count'>"
            ]
          },
          "metadata": {},
          "execution_count": 126
        },
        {
          "output_type": "display_data",
          "data": {
            "text/plain": [
              "<Figure size 720x1440 with 1 Axes>"
            ],
            "image/png": "[encoded data removed]"
          },
          "metadata": {
            "needs_background": "light"
          }
        }
      ],
      "source": [
        "sns.countplot(data = loans, x = 'Self_Employed', hue = 'Loan_Status')"
      ]
    },
    {
      "cell_type": "markdown",
      "metadata": {
        "id": "p9_I0BgmZbNp"
      },
      "source": [
        "The dataset comprises mostly of entities that are not `Self_Employed`. The approval rate of both groups is double that of the denial respectively."
      ]
    },
    {
      "cell_type": "code",
      "execution_count": 127,
      "metadata": {
        "id": "2f39tB_vIjGP",
        "colab": {
          "base_uri": "https://localhost:8080/",
          "height": 1000
        },
        "outputId": "95bdb320-3684-4aea-ba88-a01758c84f7e"
      },
      "outputs": [
        {
          "output_type": "execute_result",
          "data": {
            "text/plain": [
              "<Axes: xlabel='ApplicantIncome', ylabel='CoapplicantIncome'>"
            ]
          },
          "metadata": {},
          "execution_count": 127
        },
        {
          "output_type": "display_data",
          "data": {
            "text/plain": [
              "<Figure size 720x1440 with 1 Axes>"
            ],
            "image/png": "[encoded data removed]"
          },
          "metadata": {
            "needs_background": "light"
          }
        }
      ],
      "source": [
        "sns.scatterplot(data = loans, x = 'ApplicantIncome', y = 'CoapplicantIncome', hue = 'Loan_Status')"
      ]
    },
    {
      "cell_type": "markdown",
      "metadata": {
        "id": "ODaEnRqIZ4HR"
      },
      "source": [
        "It seems that if `ApplicantIncome` is low but `CoapplicantIncome` is high, the loan is denied. This might be because perhaps the loan company requires the main applicant to have the higher income than the coapplicant since they'll be the one responsible for repayment."
      ]
    },
    {
      "cell_type": "markdown",
      "metadata": {
        "id": "FqkCwj4G0aX_"
      },
      "source": [
        "# **Feature Importance**\n"
      ]
    },
    {
      "cell_type": "code",
      "execution_count": 128,
      "metadata": {
        "id": "9_YO4CnP2bUR",
        "colab": {
          "base_uri": "https://localhost:8080/"
        },
        "outputId": "94d89b40-41c8-4c9c-9fa9-3848bfac4738"
      },
      "outputs": [
        {
          "output_type": "stream",
          "name": "stdout",
          "text": [
            "Looking in indexes: https://pypi.org/simple, https://us-python.pkg.dev/colab-wheels/public/simple/\n",
            "Requirement already satisfied: xgboost in /usr/local/lib/python3.9/dist-packages (1.7.4)\n",
            "Requirement already satisfied: numpy in /usr/local/lib/python3.9/dist-packages (from xgboost) (1.22.4)\n",
            "Requirement already satisfied: scipy in /usr/local/lib/python3.9/dist-packages (from xgboost) (1.10.1)\n"
          ]
        }
      ],
      "source": [
        "!pip install xgboost"
      ]
    },
    {
      "cell_type": "markdown",
      "metadata": {
        "id": "H37OF0emXu8O"
      },
      "source": [
        "To better understand which features on our dataset are best at predicting the target `Loan_Status`, we decided to use XGBoost Classifier to determine which features have higher importance for predicting the target `Loan_Status` "
      ]
    },
    {
      "cell_type": "code",
      "execution_count": 129,
      "metadata": {
        "id": "wL-6ArvS2aT7"
      },
      "outputs": [],
      "source": [
        "from sklearn.compose import ColumnTransformer\n",
        "from sklearn.preprocessing import OneHotEncoder\n",
        "from sklearn.linear_model import LogisticRegression\n",
        "from sklearn.preprocessing import LabelEncoder\n",
        "from sklearn.model_selection import train_test_split\n",
        "from sklearn.metrics import accuracy_score\n",
        "\n",
        "import xgboost\n",
        "from xgboost import plot_importance"
      ]
    },
    {
      "cell_type": "code",
      "execution_count": 130,
      "metadata": {
        "id": "QRVwWXl8XYzZ"
      },
      "outputs": [],
      "source": [
        "feature_names = loans.columns[:-1]"
      ]
    },
    {
      "cell_type": "code",
      "execution_count": 131,
      "metadata": {
        "id": "tKHSfu3KXgwX",
        "colab": {
          "base_uri": "https://localhost:8080/"
        },
        "outputId": "1c9d1614-27c7-424e-fd51-785debc5554a"
      },
      "outputs": [
        {
          "output_type": "execute_result",
          "data": {
            "text/plain": [
              "Index(['Gender', 'Married', 'Dependents', 'Education', 'Self_Employed',\n",
              "       'ApplicantIncome', 'CoapplicantIncome', 'LoanAmount',\n",
              "       'Loan_Amount_Term', 'Credit_History', 'Property_Area'],\n",
              "      dtype='object')"
            ]
          },
          "metadata": {},
          "execution_count": 131
        }
      ],
      "source": [
        "feature_names"
      ]
    },
    {
      "cell_type": "markdown",
      "metadata": {
        "id": "tcdu802KYKOu"
      },
      "source": [
        "Here, we mapped our labels for the target:"
      ]
    },
    {
      "cell_type": "code",
      "execution_count": 132,
      "metadata": {
        "id": "aJnMHRZUItNV",
        "colab": {
          "base_uri": "https://localhost:8080/"
        },
        "outputId": "40c91ca1-2524-4340-d3f5-65262dfec66a"
      },
      "outputs": [
        {
          "output_type": "stream",
          "name": "stdout",
          "text": [
            "Class names:  ['N' 'Y']\n",
            "Label mapping:  {'N': 0, 'Y': 1}\n"
          ]
        }
      ],
      "source": [
        "labels = loans.iloc[:,-1]\n",
        "le = LabelEncoder()\n",
        "le.fit(labels)\n",
        "labels = le.transform(labels)\n",
        "class_names = le.classes_\n",
        "data = loans.iloc[:,:-1]\n",
        "le_label_mapping = dict(zip(le.classes_, le.transform(le.classes_)))\n",
        "print(\"Class names: \", class_names)\n",
        "print(\"Label mapping: \", le_label_mapping)"
      ]
    },
    {
      "cell_type": "code",
      "execution_count": 133,
      "metadata": {
        "id": "72wf7jNAX-EP",
        "colab": {
          "base_uri": "https://localhost:8080/"
        },
        "outputId": "5edfaaaa-95a5-4e97-ea91-6b280778ecdd"
      },
      "outputs": [
        {
          "output_type": "execute_result",
          "data": {
            "text/plain": [
              "array([1, 0, 1, 1, 1, 1, 1, 0, 1, 0, 1, 1, 1, 0, 1, 1, 1, 0, 0, 1, 0, 1,\n",
              "       0, 0, 0, 1, 1, 1, 0, 1, 0, 0, 0, 1, 0, 1, 0, 1, 1, 1, 0, 1, 1, 1,\n",
              "       1, 1, 1, 1, 0, 1, 1, 1, 0, 0, 0, 1, 1, 0, 1, 1, 1, 1, 0, 0, 0, 0,\n",
              "       0, 1, 1, 0, 1, 1, 1, 0, 1, 0, 0, 0, 0, 1, 1, 1, 0, 0, 1, 1, 1, 1,\n",
              "       1, 1, 1, 1, 1, 1, 1, 0, 1, 1, 1, 1, 1, 1, 1, 1, 1, 1, 1, 0, 0, 1,\n",
              "       1, 1, 0, 1, 1, 1, 1, 1, 0, 1, 1, 1, 1, 1, 1, 1, 1, 1, 0, 0, 1, 1,\n",
              "       1, 1, 1, 0, 0, 1, 0, 0, 0, 1, 1, 1, 1, 1, 1, 1, 0, 1, 0, 1, 0, 0,\n",
              "       1, 1, 1, 1, 1, 1, 1, 0, 0, 1, 1, 1, 0, 1, 0, 1, 1, 1, 0, 1, 0, 1,\n",
              "       1, 0, 1, 0, 0, 0, 1, 0, 1, 1, 0, 1, 1, 1, 1, 0, 0, 1, 1, 0, 1, 1,\n",
              "       1, 0, 1, 1, 0, 1, 1, 1, 1, 1, 1, 0, 0, 0, 1, 1, 1, 1, 0, 1, 0, 1,\n",
              "       0, 1, 1, 1, 1, 0, 0, 1, 1, 1, 1, 1, 1, 1, 1, 1, 0, 1, 1, 1, 1, 0,\n",
              "       1, 1, 1, 0, 1, 1, 1, 1, 0, 0, 1, 1, 0, 1, 0, 0, 0, 0, 1, 1, 0, 1,\n",
              "       1, 1, 1, 1, 0, 1, 1, 1, 1, 1, 1, 1, 1, 1, 1, 1, 0, 1, 1, 1, 0, 1,\n",
              "       0, 1, 1, 1, 1, 0, 1, 0, 1, 1, 1, 1, 0, 0, 0, 1, 1, 1, 1, 0, 1, 0,\n",
              "       0, 1, 1, 1, 1, 1, 0, 1, 1, 1, 1, 0, 1, 1, 1, 1, 1, 0, 1, 1, 0, 1,\n",
              "       1, 1, 1, 1, 1, 1, 1, 1, 0, 1, 0, 0, 1, 1, 1, 1, 0, 1, 1, 1, 1, 0,\n",
              "       1, 0, 1, 1, 1, 0, 0, 1, 0, 1, 1, 1, 1, 0, 0, 0, 1, 0, 1, 1, 1, 0,\n",
              "       1, 1, 1, 1, 0, 1, 1, 1, 1, 1, 0, 1, 1, 0, 1, 1, 1, 1, 1, 1, 1, 1,\n",
              "       0, 1, 1, 0, 0, 0, 1, 1, 0, 1, 1, 1, 0, 0, 0, 1, 0, 1, 0, 1, 0, 0,\n",
              "       1, 1, 1, 0, 1, 0, 1, 1, 0, 1, 1, 1, 1, 0, 1, 1, 1, 1, 1, 1, 0, 1,\n",
              "       1, 1, 1, 1, 1, 1, 1, 0, 0, 0, 0, 1, 0, 1, 1, 1, 1, 0, 1, 0, 1, 1,\n",
              "       1, 1, 0, 1, 0, 1, 1, 0, 1, 0, 1, 1, 1, 1, 1, 0, 1, 0, 1, 1, 1, 1,\n",
              "       1, 1, 0, 0, 1, 0, 1, 1, 1, 1, 0, 1, 1, 1, 1, 0, 1, 1, 1, 0, 1, 1,\n",
              "       1, 0, 1, 1, 0, 1, 1, 0, 0, 1, 1, 0, 0, 0, 1, 1, 1, 1, 0, 1, 1, 1,\n",
              "       1, 1, 1, 1, 0, 0, 1, 1, 1, 1, 0, 1, 1, 0, 1, 1, 1, 1, 0, 1, 0, 1,\n",
              "       0, 1, 1, 0, 0, 1, 1, 1, 1, 1, 1, 1, 1, 1, 0, 1, 1, 0, 0, 0, 1, 0,\n",
              "       1, 0, 0, 1, 0, 1, 1, 1, 1, 0, 1, 0, 0, 0, 1, 1, 1, 0, 1, 0, 1, 1,\n",
              "       1, 1, 0, 0, 1, 1, 0, 1, 1, 1, 1, 0, 1, 1, 1, 1, 1, 1, 1, 0])"
            ]
          },
          "metadata": {},
          "execution_count": 133
        }
      ],
      "source": [
        "labels"
      ]
    },
    {
      "cell_type": "markdown",
      "metadata": {
        "id": "TBi7JXoXYP8t"
      },
      "source": [
        "Here, we checked if there are categorical varibles that we need to make dummies for, and generated a list of which variables are categorical"
      ]
    },
    {
      "cell_type": "code",
      "execution_count": 134,
      "metadata": {
        "id": "bJuhArnrKE-w",
        "colab": {
          "base_uri": "https://localhost:8080/"
        },
        "outputId": "c8b2a896-5b1a-43e2-da9a-af82638972c6"
      },
      "outputs": [
        {
          "output_type": "stream",
          "name": "stdout",
          "text": [
            "Gender                object\n",
            "Married               object\n",
            "Dependents            object\n",
            "Education             object\n",
            "Self_Employed         object\n",
            "ApplicantIncome        int64\n",
            "CoapplicantIncome    float64\n",
            "LoanAmount           float64\n",
            "Loan_Amount_Term     float64\n",
            "Credit_History       float64\n",
            "Property_Area         object\n",
            "dtype: object\n",
            "Indices of categorical features:  [0, 1, 2, 3, 4, 10]\n"
          ]
        }
      ],
      "source": [
        "print(data.dtypes)\n",
        "\n",
        "categorical_features  = [i for i in range(len(data.dtypes)) if data.dtypes[i]=='object']\n",
        "print(\"Indices of categorical features: \", categorical_features)"
      ]
    },
    {
      "cell_type": "code",
      "execution_count": 134,
      "metadata": {
        "id": "lJFoMEt6YZRF"
      },
      "outputs": [],
      "source": []
    },
    {
      "cell_type": "markdown",
      "metadata": {
        "id": "RCmU0Z_GYfht"
      },
      "source": [
        "Here, we used LabelEncoder to map categories to numbers, and replaced the categories with corresponding numbers in the original data"
      ]
    },
    {
      "cell_type": "code",
      "execution_count": 135,
      "metadata": {
        "id": "FKfCx4qlG6kU",
        "colab": {
          "base_uri": "https://localhost:8080/"
        },
        "outputId": "100c9563-0e7e-4bab-d50b-e57072a48334"
      },
      "outputs": [
        {
          "output_type": "stream",
          "name": "stdout",
          "text": [
            "Feature:  0\n",
            "['Female' 'Male' 'unknown']\n",
            "==================================================\n",
            "Feature:  1\n",
            "['No' 'Yes' 'unknown']\n",
            "==================================================\n",
            "Feature:  2\n",
            "['0' '1' '2' '3+']\n",
            "==================================================\n",
            "Feature:  3\n",
            "['Graduate' 'Not Graduate']\n",
            "==================================================\n",
            "Feature:  4\n",
            "['No' 'Yes']\n",
            "==================================================\n",
            "Feature:  10\n",
            "['Rural' 'Semiurban' 'Urban']\n",
            "==================================================\n"
          ]
        }
      ],
      "source": [
        "categorical_names = {}\n",
        "for feature in categorical_features:\n",
        "    print(\"Feature: \", feature)\n",
        "    le = LabelEncoder()\n",
        "    le.fit(loans.iloc[:, feature])\n",
        "    loans.iloc[:, feature] = le.transform(loans.iloc[:, feature])\n",
        "    categorical_names[feature] = le.classes_\n",
        "    print(categorical_names[feature])\n",
        "    print(\"==================================================\")"
      ]
    },
    {
      "cell_type": "code",
      "execution_count": 136,
      "metadata": {
        "id": "HetE1ZF3Z4Y4",
        "colab": {
          "base_uri": "https://localhost:8080/"
        },
        "outputId": "82da67a7-9c92-42f6-9e76-3febfba80134"
      },
      "outputs": [
        {
          "output_type": "execute_result",
          "data": {
            "text/plain": [
              "{0: array(['Female', 'Male', 'unknown'], dtype=object),\n",
              " 1: array(['No', 'Yes', 'unknown'], dtype=object),\n",
              " 2: array(['0', '1', '2', '3+'], dtype=object),\n",
              " 3: array(['Graduate', 'Not Graduate'], dtype=object),\n",
              " 4: array(['No', 'Yes'], dtype=object),\n",
              " 10: array(['Rural', 'Semiurban', 'Urban'], dtype=object)}"
            ]
          },
          "metadata": {},
          "execution_count": 136
        }
      ],
      "source": [
        "categorical_names"
      ]
    },
    {
      "cell_type": "markdown",
      "metadata": {
        "id": "o_18YE9IYswl"
      },
      "source": [
        "Here, we fit our encoder, using the adjusted `loan` data (we stored the adjusted version into `data`)"
      ]
    },
    {
      "cell_type": "code",
      "execution_count": 137,
      "metadata": {
        "id": "3mPylU7mIBN3"
      },
      "outputs": [],
      "source": [
        "encoder = ColumnTransformer(transformers=[('get_dummies', OneHotEncoder(), categorical_features)], remainder='passthrough')\n",
        "encoder = encoder.fit(data)"
      ]
    },
    {
      "cell_type": "code",
      "execution_count": 138,
      "metadata": {
        "id": "rlcDf1fL70Ff",
        "colab": {
          "base_uri": "https://localhost:8080/"
        },
        "outputId": "58bbe0b4-1e3f-40b1-ec49-cfddbb18ba62"
      },
      "outputs": [
        {
          "output_type": "stream",
          "name": "stdout",
          "text": [
            "Train shape:  (552, 11)\n",
            "Test shape:  (62, 11)\n"
          ]
        }
      ],
      "source": [
        "train, test, labels_train, labels_test = train_test_split(data, labels, train_size=0.90, random_state=10)\n",
        "print(\"Train shape: \", train.shape)\n",
        "print(\"Test shape: \", test.shape)"
      ]
    },
    {
      "cell_type": "code",
      "execution_count": 139,
      "metadata": {
        "id": "k5vTy6HraNUk",
        "colab": {
          "base_uri": "https://localhost:8080/"
        },
        "outputId": "aac46cbc-76f4-4232-d761-2926dd823110"
      },
      "outputs": [
        {
          "output_type": "execute_result",
          "data": {
            "text/plain": [
              "array([1, 1, 0, 0, 1, 1, 0, 1, 1, 1, 0, 1, 1, 1, 1, 0, 1, 1, 0, 1, 1, 1,\n",
              "       1, 0, 0, 0, 0, 1, 1, 0, 1, 1, 1, 1, 1, 0, 0, 1, 1, 1, 1, 1, 1, 1,\n",
              "       1, 0, 0, 0, 1, 1, 1, 1, 1, 1, 1, 0, 1, 1, 0, 1, 1, 1, 1, 1, 1, 1,\n",
              "       1, 1, 1, 1, 1, 0, 1, 0, 0, 1, 1, 1, 1, 1, 0, 1, 1, 1, 1, 1, 1, 1,\n",
              "       0, 1, 1, 0, 0, 1, 1, 0, 0, 1, 1])"
            ]
          },
          "metadata": {},
          "execution_count": 139
        }
      ],
      "source": [
        "labels_train[1:100]"
      ]
    },
    {
      "cell_type": "markdown",
      "metadata": {
        "id": "ceOdj1y-Y4Sx"
      },
      "source": [
        "Here, we fit the XGBoost Tree Classifier with our data, performed an accuracy test, and checked which features are important to help us determine the target. "
      ]
    },
    {
      "cell_type": "code",
      "execution_count": 140,
      "metadata": {
        "id": "BwrAr_soJHC0",
        "colab": {
          "base_uri": "https://localhost:8080/",
          "height": 248
        },
        "outputId": "81d326ab-0658-4d31-d304-89f35c1b19b6"
      },
      "outputs": [
        {
          "output_type": "execute_result",
          "data": {
            "text/plain": [
              "XGBClassifier(base_score=None, booster=None, callbacks=None,\n",
              "              colsample_bylevel=None, colsample_bynode=None,\n",
              "              colsample_bytree=None, early_stopping_rounds=None,\n",
              "              enable_categorical=False, eval_metric=None, feature_types=None,\n",
              "              gamma=None, gpu_id=None, grow_policy=None, importance_type=None,\n",
              "              interaction_constraints=None, learning_rate=None, max_bin=None,\n",
              "              max_cat_threshold=None, max_cat_to_onehot=None,\n",
              "              max_delta_step=None, max_depth=5, max_leaves=None,\n",
              "              min_child_weight=None, missing=nan, monotone_constraints=None,\n",
              "              n_estimators=100, n_jobs=None, num_parallel_tree=None,\n",
              "              predictor=None, random_state=None, ...)"
            ],
            "text/html": [
              "<style>#sk-container-id-2 {color: black;background-color: white;}#sk-container-id-2 pre{padding: 0;}#sk-container-id-2 div.sk-toggleable {background-color: white;}#sk-container-id-2 label.sk-toggleable__label {cursor: pointer;display: block;width: 100%;margin-bottom: 0;padding: 0.3em;box-sizing: border-box;text-align: center;}#sk-container-id-2 label.sk-toggleable__label-arrow:before {content: \"▸\";float: left;margin-right: 0.25em;color: #696969;}#sk-container-id-2 label.sk-toggleable__label-arrow:hover:before {color: black;}#sk-container-id-2 div.sk-estimator:hover label.sk-toggleable__label-arrow:before {color: black;}#sk-container-id-2 div.sk-toggleable__content {max-height: 0;max-width: 0;overflow: hidden;text-align: left;background-color: #f0f8ff;}#sk-container-id-2 div.sk-toggleable__content pre {margin: 0.2em;color: black;border-radius: 0.25em;background-color: #f0f8ff;}#sk-container-id-2 input.sk-toggleable__control:checked~div.sk-toggleable__content {max-height: 200px;max-width: 100%;overflow: auto;}#sk-container-id-2 input.sk-toggleable__control:checked~label.sk-toggleable__label-arrow:before {content: \"▾\";}#sk-container-id-2 div.sk-estimator input.sk-toggleable__control:checked~label.sk-toggleable__label {background-color: #d4ebff;}#sk-container-id-2 div.sk-label input.sk-toggleable__control:checked~label.sk-toggleable__label {background-color: #d4ebff;}#sk-container-id-2 input.sk-hidden--visually {border: 0;clip: rect(1px 1px 1px 1px);clip: rect(1px, 1px, 1px, 1px);height: 1px;margin: -1px;overflow: hidden;padding: 0;position: absolute;width: 1px;}#sk-container-id-2 div.sk-estimator {font-family: monospace;background-color: #f0f8ff;border: 1px dotted black;border-radius: 0.25em;box-sizing: border-box;margin-bottom: 0.5em;}#sk-container-id-2 div.sk-estimator:hover {background-color: #d4ebff;}#sk-container-id-2 div.sk-parallel-item::after {content: \"\";width: 100%;border-bottom: 1px solid gray;flex-grow: 1;}#sk-container-id-2 div.sk-label:hover label.sk-toggleable__label {background-color: #d4ebff;}#sk-container-id-2 div.sk-serial::before {content: \"\";position: absolute;border-left: 1px solid gray;box-sizing: border-box;top: 0;bottom: 0;left: 50%;z-index: 0;}#sk-container-id-2 div.sk-serial {display: flex;flex-direction: column;align-items: center;background-color: white;padding-right: 0.2em;padding-left: 0.2em;position: relative;}#sk-container-id-2 div.sk-item {position: relative;z-index: 1;}#sk-container-id-2 div.sk-parallel {display: flex;align-items: stretch;justify-content: center;background-color: white;position: relative;}#sk-container-id-2 div.sk-item::before, #sk-container-id-2 div.sk-parallel-item::before {content: \"\";position: absolute;border-left: 1px solid gray;box-sizing: border-box;top: 0;bottom: 0;left: 50%;z-index: -1;}#sk-container-id-2 div.sk-parallel-item {display: flex;flex-direction: column;z-index: 1;position: relative;background-color: white;}#sk-container-id-2 div.sk-parallel-item:first-child::after {align-self: flex-end;width: 50%;}#sk-container-id-2 div.sk-parallel-item:last-child::after {align-self: flex-start;width: 50%;}#sk-container-id-2 div.sk-parallel-item:only-child::after {width: 0;}#sk-container-id-2 div.sk-dashed-wrapped {border: 1px dashed gray;margin: 0 0.4em 0.5em 0.4em;box-sizing: border-box;padding-bottom: 0.4em;background-color: white;}#sk-container-id-2 div.sk-label label {font-family: monospace;font-weight: bold;display: inline-block;line-height: 1.2em;}#sk-container-id-2 div.sk-label-container {text-align: center;}#sk-container-id-2 div.sk-container {/* jupyter's `normalize.less` sets `[hidden] { display: none; }` but bootstrap.min.css set `[hidden] { display: none !important; }` so we also need the `!important` here to be able to override the default hidden behavior on the sphinx rendered scikit-learn.org. See: https://github.com/scikit-learn/scikit-learn/issues/21755 */display: inline-block !important;position: relative;}#sk-container-id-2 div.sk-text-repr-fallback {display: none;}</style><div id=\"sk-container-id-2\" class=\"sk-top-container\"><div class=\"sk-text-repr-fallback\"><pre>XGBClassifier(base_score=None, booster=None, callbacks=None,\n",
              "              colsample_bylevel=None, colsample_bynode=None,\n",
              "              colsample_bytree=None, early_stopping_rounds=None,\n",
              "              enable_categorical=False, eval_metric=None, feature_types=None,\n",
              "              gamma=None, gpu_id=None, grow_policy=None, importance_type=None,\n",
              "              interaction_constraints=None, learning_rate=None, max_bin=None,\n",
              "              max_cat_threshold=None, max_cat_to_onehot=None,\n",
              "              max_delta_step=None, max_depth=5, max_leaves=None,\n",
              "              min_child_weight=None, missing=nan, monotone_constraints=None,\n",
              "              n_estimators=100, n_jobs=None, num_parallel_tree=None,\n",
              "              predictor=None, random_state=None, ...)</pre><b>In a Jupyter environment, please rerun this cell to show the HTML representation or trust the notebook. <br />On GitHub, the HTML representation is unable to render, please try loading this page with nbviewer.org.</b></div><div class=\"sk-container\" hidden><div class=\"sk-item\"><div class=\"sk-estimator sk-toggleable\"><input class=\"sk-toggleable__control sk-hidden--visually\" id=\"sk-estimator-id-2\" type=\"checkbox\" checked><label for=\"sk-estimator-id-2\" class=\"sk-toggleable__label sk-toggleable__label-arrow\">XGBClassifier</label><div class=\"sk-toggleable__content\"><pre>XGBClassifier(base_score=None, booster=None, callbacks=None,\n",
              "              colsample_bylevel=None, colsample_bynode=None,\n",
              "              colsample_bytree=None, early_stopping_rounds=None,\n",
              "              enable_categorical=False, eval_metric=None, feature_types=None,\n",
              "              gamma=None, gpu_id=None, grow_policy=None, importance_type=None,\n",
              "              interaction_constraints=None, learning_rate=None, max_bin=None,\n",
              "              max_cat_threshold=None, max_cat_to_onehot=None,\n",
              "              max_delta_step=None, max_depth=5, max_leaves=None,\n",
              "              min_child_weight=None, missing=nan, monotone_constraints=None,\n",
              "              n_estimators=100, n_jobs=None, num_parallel_tree=None,\n",
              "              predictor=None, random_state=None, ...)</pre></div></div></div></div></div>"
            ]
          },
          "metadata": {},
          "execution_count": 140
        }
      ],
      "source": [
        "gbtree = xgboost.XGBClassifier(n_estimators=100, max_depth=5)\n",
        "gbtree.fit(encoder.transform(train), labels_train)"
      ]
    },
    {
      "cell_type": "code",
      "execution_count": 141,
      "metadata": {
        "id": "L4OnaANZP2Iq",
        "colab": {
          "base_uri": "https://localhost:8080/"
        },
        "outputId": "b4966cfd-8c6b-4c0c-b29c-a9c5a25ff57a"
      },
      "outputs": [
        {
          "output_type": "stream",
          "name": "stdout",
          "text": [
            "Test set accuracy:  0.7419354838709677\n"
          ]
        }
      ],
      "source": [
        "pred_labels_test = gbtree.predict(encoder.transform(test))\n",
        "\n",
        "print(\"Test set accuracy: \", accuracy_score(labels_test, pred_labels_test))"
      ]
    },
    {
      "cell_type": "code",
      "execution_count": 142,
      "metadata": {
        "id": "jxQSq-2yQWHi",
        "colab": {
          "base_uri": "https://localhost:8080/",
          "height": 1000
        },
        "outputId": "5cde41b1-19f0-4251-9ed4-239de9d50cb6"
      },
      "outputs": [
        {
          "output_type": "stream",
          "name": "stdout",
          "text": [
            "0\n",
            "1\n",
            "2\n",
            "3\n",
            "4\n",
            "10\n"
          ]
        },
        {
          "output_type": "execute_result",
          "data": {
            "text/plain": [
              "<Axes: title={'center': 'Feature importance'}, xlabel='F score', ylabel='Features'>"
            ]
          },
          "metadata": {},
          "execution_count": 142
        },
        {
          "output_type": "display_data",
          "data": {
            "text/plain": [
              "<Figure size 720x1440 with 1 Axes>"
            ],
            "image/png": "[encoded data removed]"
          },
          "metadata": {
            "needs_background": "light"
          }
        }
      ],
      "source": [
        "gbtree_features_orig = gbtree.get_booster().feature_names\n",
        "gbtree_features = []\n",
        "\n",
        "for cat_var in categorical_names:\n",
        "  print(cat_var)\n",
        "  cat_var_names = [feature_names[cat_var] +\" = \" + cat for cat in categorical_names[cat_var]]\n",
        "  gbtree_features.extend(cat_var_names)\n",
        "gbtree_features.extend([feature_names[i] for i in range(len(feature_names)) if i not in categorical_features])\n",
        "gbtree.get_booster().feature_names = gbtree_features\n",
        "\n",
        "plt.rcParams[\"figure.figsize\"] = (10,20)\n",
        "plot_importance(gbtree.get_booster(), )"
      ]
    },
    {
      "cell_type": "markdown",
      "metadata": {
        "id": "JMOYWjkiD6L4"
      },
      "source": [
        "The top 5 most importance features as shown by XGBoost are all numerical variables. This process will help to improve our CNN."
      ]
    },
    {
      "cell_type": "markdown",
      "metadata": {
        "id": "ziKLPD8t311H"
      },
      "source": [
        "# **Training the CNN Model**"
      ]
    },
    {
      "cell_type": "markdown",
      "metadata": {
        "id": "_OTwbDcxbeJ5"
      },
      "source": [
        "After using XGBoost Classifier to find important features, we decided to train a Convolutional Neural Network(CNN) model where we train it using important features such as `ApplicantIncome`, `LoanAmount`, `CoapplicantIncome`, `Loan_Amount_Term`, and `Credit_History` in order to predict whether a customer is eligible for a home loan."
      ]
    },
    {
      "cell_type": "code",
      "execution_count": 143,
      "metadata": {
        "id": "MzYnkJ5W3y6j"
      },
      "outputs": [],
      "source": [
        "from sklearn.model_selection import train_test_split\n",
        "from sklearn.preprocessing import MinMaxScaler\n",
        "from sklearn.metrics import classification_report,confusion_matrix\n",
        "\n",
        "import tensorflow as tf\n",
        "from tensorflow.keras.models import Sequential\n",
        "from tensorflow.keras.layers import Dense,Dropout\n",
        "from tensorflow.keras.models import load_model"
      ]
    },
    {
      "cell_type": "code",
      "execution_count": 144,
      "metadata": {
        "id": "728NSt4OrFys",
        "colab": {
          "base_uri": "https://localhost:8080/",
          "height": 206
        },
        "outputId": "0e6382e6-b944-4f31-b01a-5899914b58fa"
      },
      "outputs": [
        {
          "output_type": "execute_result",
          "data": {
            "text/plain": [
              "   ApplicantIncome  LoanAmount  CoapplicantIncome  Loan_Amount_Term  \\\n",
              "0             5849         NaN                0.0             360.0   \n",
              "1             4583       128.0             1508.0             360.0   \n",
              "2             3000        66.0                0.0             360.0   \n",
              "3             2583       120.0             2358.0             360.0   \n",
              "4             6000       141.0                0.0             360.0   \n",
              "\n",
              "   Credit_History  \n",
              "0             1.0  \n",
              "1             1.0  \n",
              "2             1.0  \n",
              "3             1.0  \n",
              "4             1.0  "
            ],
            "text/html": [
              "\n",
              "  <div id=\"df-04467c5b-200d-4ffc-a8ae-2857cef0708d\">\n",
              "    <div class=\"colab-df-container\">\n",
              "      <div>\n",
              "<style scoped>\n",
              "    .dataframe tbody tr th:only-of-type {\n",
              "        vertical-align: middle;\n",
              "    }\n",
              "\n",
              "    .dataframe tbody tr th {\n",
              "        vertical-align: top;\n",
              "    }\n",
              "\n",
              "    .dataframe thead th {\n",
              "        text-align: right;\n",
              "    }\n",
              "</style>\n",
              "<table border=\"1\" class=\"dataframe\">\n",
              "  <thead>\n",
              "    <tr style=\"text-align: right;\">\n",
              "      <th></th>\n",
              "      <th>ApplicantIncome</th>\n",
              "      <th>LoanAmount</th>\n",
              "      <th>CoapplicantIncome</th>\n",
              "      <th>Loan_Amount_Term</th>\n",
              "      <th>Credit_History</th>\n",
              "    </tr>\n",
              "  </thead>\n",
              "  <tbody>\n",
              "    <tr>\n",
              "      <th>0</th>\n",
              "      <td>5849</td>\n",
              "      <td>NaN</td>\n",
              "      <td>0.0</td>\n",
              "      <td>360.0</td>\n",
              "      <td>1.0</td>\n",
              "    </tr>\n",
              "    <tr>\n",
              "      <th>1</th>\n",
              "      <td>4583</td>\n",
              "      <td>128.0</td>\n",
              "      <td>1508.0</td>\n",
              "      <td>360.0</td>\n",
              "      <td>1.0</td>\n",
              "    </tr>\n",
              "    <tr>\n",
              "      <th>2</th>\n",
              "      <td>3000</td>\n",
              "      <td>66.0</td>\n",
              "      <td>0.0</td>\n",
              "      <td>360.0</td>\n",
              "      <td>1.0</td>\n",
              "    </tr>\n",
              "    <tr>\n",
              "      <th>3</th>\n",
              "      <td>2583</td>\n",
              "      <td>120.0</td>\n",
              "      <td>2358.0</td>\n",
              "      <td>360.0</td>\n",
              "      <td>1.0</td>\n",
              "    </tr>\n",
              "    <tr>\n",
              "      <th>4</th>\n",
              "      <td>6000</td>\n",
              "      <td>141.0</td>\n",
              "      <td>0.0</td>\n",
              "      <td>360.0</td>\n",
              "      <td>1.0</td>\n",
              "    </tr>\n",
              "  </tbody>\n",
              "</table>\n",
              "</div>\n",
              "      <button class=\"colab-df-convert\" onclick=\"convertToInteractive('df-04467c5b-200d-4ffc-a8ae-2857cef0708d')\"\n",
              "              title=\"Convert this dataframe to an interactive table.\"\n",
              "              style=\"display:none;\">\n",
              "        \n",
              "  <svg xmlns=\"http://www.w3.org/2000/svg\" height=\"24px\"viewBox=\"0 0 24 24\"\n",
              "       width=\"24px\">\n",
              "    <path d=\"M0 0h24v24H0V0z\" fill=\"none\"/>\n",
              "    <path d=\"M18.56 5.44l.94 2.06.94-2.06 2.06-.94-2.06-.94-.94-2.06-.94 2.06-2.06.94zm-11 1L8.5 8.5l.94-2.06 2.06-.94-2.06-.94L8.5 2.5l-.94 2.06-2.06.94zm10 10l.94 2.06.94-2.06 2.06-.94-2.06-.94-.94-2.06-.94 2.06-2.06.94z\"/><path d=\"M17.41 7.96l-1.37-1.37c-.4-.4-.92-.59-1.43-.59-.52 0-1.04.2-1.43.59L10.3 9.45l-7.72 7.72c-.78.78-.78 2.05 0 2.83L4 21.41c.39.39.9.59 1.41.59.51 0 1.02-.2 1.41-.59l7.78-7.78 2.81-2.81c.8-.78.8-2.07 0-2.86zM5.41 20L4 18.59l7.72-7.72 1.47 1.35L5.41 20z\"/>\n",
              "  </svg>\n",
              "      </button>\n",
              "      \n",
              "  <style>\n",
              "    .colab-df-container {\n",
              "      display:flex;\n",
              "      flex-wrap:wrap;\n",
              "      gap: 12px;\n",
              "    }\n",
              "\n",
              "    .colab-df-convert {\n",
              "      background-color: #E8F0FE;\n",
              "      border: none;\n",
              "      border-radius: 50%;\n",
              "      cursor: pointer;\n",
              "      display: none;\n",
              "      fill: #1967D2;\n",
              "      height: 32px;\n",
              "      padding: 0 0 0 0;\n",
              "      width: 32px;\n",
              "    }\n",
              "\n",
              "    .colab-df-convert:hover {\n",
              "      background-color: #E2EBFA;\n",
              "      box-shadow: 0px 1px 2px rgba(60, 64, 67, 0.3), 0px 1px 3px 1px rgba(60, 64, 67, 0.15);\n",
              "      fill: #174EA6;\n",
              "    }\n",
              "\n",
              "    [theme=dark] .colab-df-convert {\n",
              "      background-color: #3B4455;\n",
              "      fill: #D2E3FC;\n",
              "    }\n",
              "\n",
              "    [theme=dark] .colab-df-convert:hover {\n",
              "      background-color: #434B5C;\n",
              "      box-shadow: 0px 1px 3px 1px rgba(0, 0, 0, 0.15);\n",
              "      filter: drop-shadow(0px 1px 2px rgba(0, 0, 0, 0.3));\n",
              "      fill: #FFFFFF;\n",
              "    }\n",
              "  </style>\n",
              "\n",
              "      <script>\n",
              "        const buttonEl =\n",
              "          document.querySelector('#df-04467c5b-200d-4ffc-a8ae-2857cef0708d button.colab-df-convert');\n",
              "        buttonEl.style.display =\n",
              "          google.colab.kernel.accessAllowed ? 'block' : 'none';\n",
              "\n",
              "        async function convertToInteractive(key) {\n",
              "          const element = document.querySelector('#df-04467c5b-200d-4ffc-a8ae-2857cef0708d');\n",
              "          const dataTable =\n",
              "            await google.colab.kernel.invokeFunction('convertToInteractive',\n",
              "                                                     [key], {});\n",
              "          if (!dataTable) return;\n",
              "\n",
              "          const docLinkHtml = 'Like what you see? Visit the ' +\n",
              "            '<a target=\"_blank\" href=https://colab.research.google.com/notebooks/data_table.ipynb>data table notebook</a>'\n",
              "            + ' to learn more about interactive tables.';\n",
              "          element.innerHTML = '';\n",
              "          dataTable['output_type'] = 'display_data';\n",
              "          await google.colab.output.renderOutput(dataTable, element);\n",
              "          const docLink = document.createElement('div');\n",
              "          docLink.innerHTML = docLinkHtml;\n",
              "          element.appendChild(docLink);\n",
              "        }\n",
              "      </script>\n",
              "    </div>\n",
              "  </div>\n",
              "  "
            ]
          },
          "metadata": {},
          "execution_count": 144
        }
      ],
      "source": [
        "data2 = data[['ApplicantIncome', 'LoanAmount', 'CoapplicantIncome', 'Loan_Amount_Term', 'Credit_History']]\n",
        "data2.head()"
      ]
    },
    {
      "cell_type": "markdown",
      "metadata": {
        "id": "AT3OS0CqNX4S"
      },
      "source": [
        "I realize the remaining missing values will cause issues later on, so I removed the rows correlating to missing values. I did it both for the `data` and `label` and stored the results in `data2` and `label2`."
      ]
    },
    {
      "cell_type": "code",
      "execution_count": 145,
      "metadata": {
        "id": "bzyEBrhDvZku",
        "colab": {
          "base_uri": "https://localhost:8080/"
        },
        "outputId": "c3ecd912-1a7d-4616-9f32-c14082fec65f"
      },
      "outputs": [
        {
          "output_type": "stream",
          "name": "stdout",
          "text": [
            "Int64Index([  0,  19,  35,  36,  44,  45,  63,  73,  81,  95, 102, 103, 112,\n",
            "            113, 127, 165, 197, 202, 223, 232, 284, 305, 322, 335, 338, 367,\n",
            "            387, 421, 423, 435, 437, 479, 524, 550, 551, 605],\n",
            "           dtype='int64')\n"
          ]
        }
      ],
      "source": [
        "indices_with_missing_data = data2[data2.isnull().any(axis=1)].index\n",
        "print(indices_with_missing_data)"
      ]
    },
    {
      "cell_type": "code",
      "execution_count": 146,
      "metadata": {
        "id": "duI10wLhzxsm",
        "colab": {
          "base_uri": "https://localhost:8080/"
        },
        "outputId": "efd40ebb-7925-457e-e3be-c6488df4becd"
      },
      "outputs": [
        {
          "output_type": "stream",
          "name": "stderr",
          "text": [
            "<ipython-input-146-316d79359c2b>:1: SettingWithCopyWarning: \n",
            "A value is trying to be set on a copy of a slice from a DataFrame\n",
            "\n",
            "See the caveats in the documentation: https://pandas.pydata.org/pandas-docs/stable/user_guide/indexing.html#returning-a-view-versus-a-copy\n",
            "  data2.dropna(subset=['LoanAmount', 'Loan_Amount_Term'], inplace=True)\n"
          ]
        },
        {
          "output_type": "execute_result",
          "data": {
            "text/plain": [
              "(578, 5)"
            ]
          },
          "metadata": {},
          "execution_count": 146
        }
      ],
      "source": [
        "data2.dropna(subset=['LoanAmount', 'Loan_Amount_Term'], inplace=True)\n",
        "data2.shape"
      ]
    },
    {
      "cell_type": "code",
      "execution_count": 147,
      "metadata": {
        "id": "7PQU4IHk2N87",
        "colab": {
          "base_uri": "https://localhost:8080/"
        },
        "outputId": "dedf94d6-1433-46ba-a3f1-40538098b445"
      },
      "outputs": [
        {
          "output_type": "execute_result",
          "data": {
            "text/plain": [
              "578"
            ]
          },
          "metadata": {},
          "execution_count": 147
        }
      ],
      "source": [
        "labels2 = np.delete(labels, indices_with_missing_data)\n",
        "len(labels2)"
      ]
    },
    {
      "cell_type": "markdown",
      "metadata": {
        "id": "DH2OSc8GNwNV"
      },
      "source": [
        "We decided on splitting the data again, with 10% of the data being used for testing. We've then normalized the data using `MinMaxScaler()` to transform the data into something thats suitable for our model."
      ]
    },
    {
      "cell_type": "code",
      "execution_count": 148,
      "metadata": {
        "id": "1jy8_B4fs8rr"
      },
      "outputs": [],
      "source": [
        "X_train, X_test, y_train, y_test = train_test_split(data2, labels2, test_size=0.20, random_state=101)"
      ]
    },
    {
      "cell_type": "code",
      "execution_count": 149,
      "metadata": {
        "id": "cHrUzzczCHZd"
      },
      "outputs": [],
      "source": [
        "indices = X_test.index"
      ]
    },
    {
      "cell_type": "code",
      "execution_count": 150,
      "metadata": {
        "id": "5edqBmvx-Stt"
      },
      "outputs": [],
      "source": [
        "scaler = MinMaxScaler()\n",
        "X_train = scaler.fit_transform(X_train)\n",
        "X_test = scaler.transform(X_test)"
      ]
    },
    {
      "cell_type": "markdown",
      "metadata": {
        "id": "aN8ddq35WwC5"
      },
      "source": [
        "There's only an input layer and an output layer for our CNN model. Usually its a rule of thumb that the number of neurons in the input layer equates to the number of features that you're inputting. That's 5 neurons, and to simulate a bias term, I used 6 neurons.\n",
        "\n",
        "The output layer consists of just 1 neuron. We compile the model with the `binary_crossentropy` loss and the `adam` optimizer, and then fitted the model for 10 epochs."
      ]
    },
    {
      "cell_type": "code",
      "execution_count": 151,
      "metadata": {
        "id": "qGSQRxKF5V9r"
      },
      "outputs": [],
      "source": [
        "model = Sequential()\n",
        "\n",
        "# input layer\n",
        "model.add(Dense(6, activation='relu'))\n",
        "model.add(Dropout(0.2))\n",
        "\n",
        "# output layer\n",
        "model.add(Dense(units=1,activation='sigmoid'))\n",
        "\n",
        "# Compile model\n",
        "model.compile(loss='binary_crossentropy', optimizer='adam')"
      ]
    },
    {
      "cell_type": "code",
      "execution_count": 152,
      "metadata": {
        "colab": {
          "base_uri": "https://localhost:8080/"
        },
        "id": "1ZyKnSS66XEQ",
        "outputId": "464cee6a-5404-49e7-bc23-7e7702a1c701"
      },
      "outputs": [
        {
          "output_type": "stream",
          "name": "stdout",
          "text": [
            "Epoch 1/10\n",
            "15/15 [==============================] - 1s 14ms/step - loss: 0.6941 - val_loss: 0.6947\n",
            "Epoch 2/10\n",
            "15/15 [==============================] - 0s 6ms/step - loss: 0.6906 - val_loss: 0.6917\n",
            "Epoch 3/10\n",
            "15/15 [==============================] - 0s 5ms/step - loss: 0.6879 - val_loss: 0.6888\n",
            "Epoch 4/10\n",
            "15/15 [==============================] - 0s 5ms/step - loss: 0.6848 - val_loss: 0.6859\n",
            "Epoch 5/10\n",
            "15/15 [==============================] - 0s 6ms/step - loss: 0.6824 - val_loss: 0.6830\n",
            "Epoch 6/10\n",
            "15/15 [==============================] - 0s 6ms/step - loss: 0.6793 - val_loss: 0.6803\n",
            "Epoch 7/10\n",
            "15/15 [==============================] - 0s 5ms/step - loss: 0.6759 - val_loss: 0.6775\n",
            "Epoch 8/10\n",
            "15/15 [==============================] - 0s 5ms/step - loss: 0.6723 - val_loss: 0.6748\n",
            "Epoch 9/10\n",
            "15/15 [==============================] - 0s 6ms/step - loss: 0.6690 - val_loss: 0.6718\n",
            "Epoch 10/10\n",
            "15/15 [==============================] - 0s 16ms/step - loss: 0.6667 - val_loss: 0.6688\n"
          ]
        },
        {
          "output_type": "execute_result",
          "data": {
            "text/plain": [
              "<keras.callbacks.History at 0x7fc8eb3d1190>"
            ]
          },
          "metadata": {},
          "execution_count": 152
        }
      ],
      "source": [
        "model.fit(x=X_train, y=y_train, epochs=10, batch_size=32, validation_data=(X_test, y_test))"
      ]
    },
    {
      "cell_type": "code",
      "execution_count": 153,
      "metadata": {
        "colab": {
          "base_uri": "https://localhost:8080/",
          "height": 1000
        },
        "id": "x9OOYn8MFVo3",
        "outputId": "6f4b7198-4842-4331-94e0-8e7ecae2062b"
      },
      "outputs": [
        {
          "output_type": "execute_result",
          "data": {
            "text/plain": [
              "<Axes: >"
            ]
          },
          "metadata": {},
          "execution_count": 153
        },
        {
          "output_type": "display_data",
          "data": {
            "text/plain": [
              "<Figure size 720x1440 with 1 Axes>"
            ],
            "image/png": "[encoded data removed]"
          },
          "metadata": {
            "needs_background": "light"
          }
        }
      ],
      "source": [
        "losses = pd.DataFrame(model.history.history)\n",
        "losses.plot()"
      ]
    },
    {
      "cell_type": "markdown",
      "metadata": {
        "id": "ItB-ba8KXfnL"
      },
      "source": [
        "Overall, our accuracy for our model lies at 68%, which isn't too shabby, but there's definitely room for improvement."
      ]
    },
    {
      "cell_type": "code",
      "execution_count": 154,
      "metadata": {
        "colab": {
          "base_uri": "https://localhost:8080/"
        },
        "id": "PpASKKfAItYG",
        "outputId": "d1e21003-5fe1-4045-ab1c-cce4f3b89060"
      },
      "outputs": [
        {
          "output_type": "stream",
          "name": "stdout",
          "text": [
            "4/4 [==============================] - 0s 4ms/step\n",
            "              precision    recall  f1-score   support\n",
            "\n",
            "           0       0.00      0.00      0.00        37\n",
            "           1       0.68      1.00      0.81        79\n",
            "\n",
            "    accuracy                           0.68       116\n",
            "   macro avg       0.34      0.50      0.41       116\n",
            "weighted avg       0.46      0.68      0.55       116\n",
            "\n"
          ]
        },
        {
          "output_type": "stream",
          "name": "stderr",
          "text": [
            "/usr/local/lib/python3.9/dist-packages/sklearn/metrics/_classification.py:1344: UndefinedMetricWarning: Precision and F-score are ill-defined and being set to 0.0 in labels with no predicted samples. Use `zero_division` parameter to control this behavior.\n",
            "  _warn_prf(average, modifier, msg_start, len(result))\n",
            "/usr/local/lib/python3.9/dist-packages/sklearn/metrics/_classification.py:1344: UndefinedMetricWarning: Precision and F-score are ill-defined and being set to 0.0 in labels with no predicted samples. Use `zero_division` parameter to control this behavior.\n",
            "  _warn_prf(average, modifier, msg_start, len(result))\n",
            "/usr/local/lib/python3.9/dist-packages/sklearn/metrics/_classification.py:1344: UndefinedMetricWarning: Precision and F-score are ill-defined and being set to 0.0 in labels with no predicted samples. Use `zero_division` parameter to control this behavior.\n",
            "  _warn_prf(average, modifier, msg_start, len(result))\n"
          ]
        }
      ],
      "source": [
        "predictions = (model.predict(X_test) > 0.5).astype(\"int32\")\n",
        "print(classification_report(y_test,predictions))"
      ]
    },
    {
      "cell_type": "code",
      "execution_count": 155,
      "metadata": {
        "id": "gUgVVOJQ-_T6"
      },
      "outputs": [],
      "source": [
        "from tensorflow.keras.models import load_model\n",
        "model.save('synthethic_loan_model.h5')"
      ]
    },
    {
      "cell_type": "markdown",
      "metadata": {
        "id": "mt3u_BmTc5Cd"
      },
      "source": [
        "# **Analyzing Fairness using Aequitas** "
      ]
    },
    {
      "cell_type": "markdown",
      "metadata": {
        "id": "MroIruURBzCn"
      },
      "source": [
        "\n",
        "\n",
        "We will analyze fairness with respect to different metrics in order to evaluate whether our CNN model produces biased or unbiased results across the different features. The fairness of the model is being analyzed by examining the aequitas libraries' results of the model's predictions of the test data based on the different features.\n",
        "\n"
      ]
    },
    {
      "cell_type": "code",
      "execution_count": 156,
      "metadata": {
        "colab": {
          "base_uri": "https://localhost:8080/"
        },
        "id": "OSeXOal3Z_wT",
        "outputId": "100a1c2c-0db2-4952-872e-2eb3835b926c"
      },
      "outputs": [
        {
          "output_type": "stream",
          "name": "stdout",
          "text": [
            "Looking in indexes: https://pypi.org/simple, https://us-python.pkg.dev/colab-wheels/public/simple/\n",
            "Requirement already satisfied: aequitas in /usr/local/lib/python3.9/dist-packages (0.42.0)\n",
            "Requirement already satisfied: xhtml2pdf==0.2.2 in /usr/local/lib/python3.9/dist-packages (from aequitas) (0.2.2)\n",
            "Requirement already satisfied: markdown2==2.3.5 in /usr/local/lib/python3.9/dist-packages (from aequitas) (2.3.5)\n",
            "Requirement already satisfied: SQLAlchemy>=1.1.1 in /usr/local/lib/python3.9/dist-packages (from aequitas) (1.4.47)\n",
            "Requirement already satisfied: pandas>=0.24.1 in /usr/local/lib/python3.9/dist-packages (from aequitas) (1.4.4)\n",
            "Requirement already satisfied: pyyaml>=5.1 in /usr/local/lib/python3.9/dist-packages (from aequitas) (6.0)\n",
            "Requirement already satisfied: tabulate==0.8.2 in /usr/local/lib/python3.9/dist-packages (from aequitas) (0.8.2)\n",
            "Requirement already satisfied: Flask-Bootstrap==3.3.7.1 in /usr/local/lib/python3.9/dist-packages (from aequitas) (3.3.7.1)\n",
            "Requirement already satisfied: millify==0.1.1 in /usr/local/lib/python3.9/dist-packages (from aequitas) (0.1.1)\n",
            "Requirement already satisfied: altair==4.1.0 in /usr/local/lib/python3.9/dist-packages (from aequitas) (4.1.0)\n",
            "Requirement already satisfied: seaborn>=0.9.0 in /usr/local/lib/python3.9/dist-packages (from aequitas) (0.12.2)\n",
            "Requirement already satisfied: matplotlib>=3.0.3 in /usr/local/lib/python3.9/dist-packages (from aequitas) (3.7.1)\n",
            "Requirement already satisfied: Flask==0.12.2 in /usr/local/lib/python3.9/dist-packages (from aequitas) (0.12.2)\n",
            "Requirement already satisfied: ohio>=0.2.0 in /usr/local/lib/python3.9/dist-packages (from aequitas) (0.5.0)\n",
            "Requirement already satisfied: jsonschema in /usr/local/lib/python3.9/dist-packages (from altair==4.1.0->aequitas) (4.3.3)\n",
            "Requirement already satisfied: numpy in /usr/local/lib/python3.9/dist-packages (from altair==4.1.0->aequitas) (1.22.4)\n",
            "Requirement already satisfied: toolz in /usr/local/lib/python3.9/dist-packages (from altair==4.1.0->aequitas) (0.12.0)\n",
            "Requirement already satisfied: entrypoints in /usr/local/lib/python3.9/dist-packages (from altair==4.1.0->aequitas) (0.4)\n",
            "Requirement already satisfied: jinja2 in /usr/local/lib/python3.9/dist-packages (from altair==4.1.0->aequitas) (3.1.2)\n",
            "Requirement already satisfied: click>=2.0 in /usr/local/lib/python3.9/dist-packages (from Flask==0.12.2->aequitas) (8.1.3)\n",
            "Requirement already satisfied: itsdangerous>=0.21 in /usr/local/lib/python3.9/dist-packages (from Flask==0.12.2->aequitas) (2.1.2)\n",
            "Requirement already satisfied: Werkzeug>=0.7 in /usr/local/lib/python3.9/dist-packages (from Flask==0.12.2->aequitas) (2.2.3)\n",
            "Requirement already satisfied: visitor in /usr/local/lib/python3.9/dist-packages (from Flask-Bootstrap==3.3.7.1->aequitas) (0.1.3)\n",
            "Requirement already satisfied: dominate in /usr/local/lib/python3.9/dist-packages (from Flask-Bootstrap==3.3.7.1->aequitas) (2.7.0)\n",
            "Requirement already satisfied: reportlab>=3.0 in /usr/local/lib/python3.9/dist-packages (from xhtml2pdf==0.2.2->aequitas) (3.6.12)\n",
            "Requirement already satisfied: Pillow in /usr/local/lib/python3.9/dist-packages (from xhtml2pdf==0.2.2->aequitas) (9.4.0)\n",
            "Requirement already satisfied: html5lib>=1.0 in /usr/local/lib/python3.9/dist-packages (from xhtml2pdf==0.2.2->aequitas) (1.1)\n",
            "Requirement already satisfied: six in /usr/local/lib/python3.9/dist-packages (from xhtml2pdf==0.2.2->aequitas) (1.16.0)\n",
            "Requirement already satisfied: httplib2 in /usr/local/lib/python3.9/dist-packages (from xhtml2pdf==0.2.2->aequitas) (0.21.0)\n",
            "Requirement already satisfied: pyPdf2 in /usr/local/lib/python3.9/dist-packages (from xhtml2pdf==0.2.2->aequitas) (3.0.1)\n",
            "Requirement already satisfied: pyparsing>=2.3.1 in /usr/local/lib/python3.9/dist-packages (from matplotlib>=3.0.3->aequitas) (3.0.9)\n",
            "Requirement already satisfied: importlib-resources>=3.2.0 in /usr/local/lib/python3.9/dist-packages (from matplotlib>=3.0.3->aequitas) (5.12.0)\n",
            "Requirement already satisfied: contourpy>=1.0.1 in /usr/local/lib/python3.9/dist-packages (from matplotlib>=3.0.3->aequitas) (1.0.7)\n",
            "Requirement already satisfied: kiwisolver>=1.0.1 in /usr/local/lib/python3.9/dist-packages (from matplotlib>=3.0.3->aequitas) (1.4.4)\n",
            "Requirement already satisfied: packaging>=20.0 in /usr/local/lib/python3.9/dist-packages (from matplotlib>=3.0.3->aequitas) (23.0)\n",
            "Requirement already satisfied: fonttools>=4.22.0 in /usr/local/lib/python3.9/dist-packages (from matplotlib>=3.0.3->aequitas) (4.39.2)\n",
            "Requirement already satisfied: cycler>=0.10 in /usr/local/lib/python3.9/dist-packages (from matplotlib>=3.0.3->aequitas) (0.11.0)\n",
            "Requirement already satisfied: python-dateutil>=2.7 in /usr/local/lib/python3.9/dist-packages (from matplotlib>=3.0.3->aequitas) (2.8.2)\n",
            "Requirement already satisfied: pytz>=2020.1 in /usr/local/lib/python3.9/dist-packages (from pandas>=0.24.1->aequitas) (2022.7.1)\n",
            "Requirement already satisfied: greenlet!=0.4.17 in /usr/local/lib/python3.9/dist-packages (from SQLAlchemy>=1.1.1->aequitas) (2.0.2)\n",
            "Requirement already satisfied: webencodings in /usr/local/lib/python3.9/dist-packages (from html5lib>=1.0->xhtml2pdf==0.2.2->aequitas) (0.5.1)\n",
            "Requirement already satisfied: zipp>=3.1.0 in /usr/local/lib/python3.9/dist-packages (from importlib-resources>=3.2.0->matplotlib>=3.0.3->aequitas) (3.15.0)\n",
            "Requirement already satisfied: MarkupSafe>=2.0 in /usr/local/lib/python3.9/dist-packages (from jinja2->altair==4.1.0->aequitas) (2.1.2)\n",
            "Requirement already satisfied: pyrsistent!=0.17.0,!=0.17.1,!=0.17.2,>=0.14.0 in /usr/local/lib/python3.9/dist-packages (from jsonschema->altair==4.1.0->aequitas) (0.19.3)\n",
            "Requirement already satisfied: attrs>=17.4.0 in /usr/local/lib/python3.9/dist-packages (from jsonschema->altair==4.1.0->aequitas) (22.2.0)\n",
            "Requirement already satisfied: typing_extensions>=3.10.0.0 in /usr/local/lib/python3.9/dist-packages (from pyPdf2->xhtml2pdf==0.2.2->aequitas) (4.5.0)\n"
          ]
        }
      ],
      "source": [
        "pip install aequitas"
      ]
    },
    {
      "cell_type": "code",
      "execution_count": 157,
      "metadata": {
        "id": "bPYb9pbNaBkA"
      },
      "outputs": [],
      "source": [
        "from aequitas.group import Group\n",
        "from aequitas.bias import Bias\n",
        "from aequitas.fairness import Fairness\n",
        "from aequitas.plotting import Plot"
      ]
    },
    {
      "cell_type": "markdown",
      "metadata": {
        "id": "Ue_Ycq-KkDrE"
      },
      "source": [
        "Create a new dataframe called test_df by selecting a subset of rows from our 'loans' dataframe."
      ]
    },
    {
      "cell_type": "code",
      "execution_count": 158,
      "metadata": {
        "id": "iUKAZqFnHr8S"
      },
      "outputs": [],
      "source": [
        "test_df = loans.iloc[indices].copy()\n",
        "test_df['label_value'] = y_test\n",
        "test_df['score'] = predictions \n",
        "test_df = test_df[['Gender','Married', 'Property_Area', 'label_value', 'score']]"
      ]
    },
    {
      "cell_type": "markdown",
      "source": [
        "We can convert 'Gender', 'Married', and 'Property_Area' columns in the test_df dataframe to strings using the astype() method so that the columns are treated as categorical variables when analyzing the data."
      ],
      "metadata": {
        "id": "HL3POWa_RbzG"
      }
    },
    {
      "cell_type": "code",
      "execution_count": 159,
      "metadata": {
        "colab": {
          "base_uri": "https://localhost:8080/",
          "height": 423
        },
        "id": "D-0O3zY7B6Zw",
        "outputId": "bf445e2f-d931-4b67-9258-b8dee612c6a3"
      },
      "outputs": [
        {
          "output_type": "execute_result",
          "data": {
            "text/plain": [
              "    Gender Married Property_Area  label_value  score\n",
              "133      1       1             1            1      1\n",
              "603      1       0             0            1      1\n",
              "288      0       0             1            1      1\n",
              "598      1       1             0            1      1\n",
              "80       0       0             1            1      1\n",
              "..     ...     ...           ...          ...    ...\n",
              "498      1       1             1            1      1\n",
              "184      0       1             1            1      1\n",
              "177      1       1             1            0      1\n",
              "388      1       1             2            1      1\n",
              "310      0       0             1            1      1\n",
              "\n",
              "[115 rows x 5 columns]"
            ],
            "text/html": [
              "\n",
              "  <div id=\"df-20893150-7041-4d49-8979-be6e3e669596\">\n",
              "    <div class=\"colab-df-container\">\n",
              "      <div>\n",
              "<style scoped>\n",
              "    .dataframe tbody tr th:only-of-type {\n",
              "        vertical-align: middle;\n",
              "    }\n",
              "\n",
              "    .dataframe tbody tr th {\n",
              "        vertical-align: top;\n",
              "    }\n",
              "\n",
              "    .dataframe thead th {\n",
              "        text-align: right;\n",
              "    }\n",
              "</style>\n",
              "<table border=\"1\" class=\"dataframe\">\n",
              "  <thead>\n",
              "    <tr style=\"text-align: right;\">\n",
              "      <th></th>\n",
              "      <th>Gender</th>\n",
              "      <th>Married</th>\n",
              "      <th>Property_Area</th>\n",
              "      <th>label_value</th>\n",
              "      <th>score</th>\n",
              "    </tr>\n",
              "  </thead>\n",
              "  <tbody>\n",
              "    <tr>\n",
              "      <th>133</th>\n",
              "      <td>1</td>\n",
              "      <td>1</td>\n",
              "      <td>1</td>\n",
              "      <td>1</td>\n",
              "      <td>1</td>\n",
              "    </tr>\n",
              "    <tr>\n",
              "      <th>603</th>\n",
              "      <td>1</td>\n",
              "      <td>0</td>\n",
              "      <td>0</td>\n",
              "      <td>1</td>\n",
              "      <td>1</td>\n",
              "    </tr>\n",
              "    <tr>\n",
              "      <th>288</th>\n",
              "      <td>0</td>\n",
              "      <td>0</td>\n",
              "      <td>1</td>\n",
              "      <td>1</td>\n",
              "      <td>1</td>\n",
              "    </tr>\n",
              "    <tr>\n",
              "      <th>598</th>\n",
              "      <td>1</td>\n",
              "      <td>1</td>\n",
              "      <td>0</td>\n",
              "      <td>1</td>\n",
              "      <td>1</td>\n",
              "    </tr>\n",
              "    <tr>\n",
              "      <th>80</th>\n",
              "      <td>0</td>\n",
              "      <td>0</td>\n",
              "      <td>1</td>\n",
              "      <td>1</td>\n",
              "      <td>1</td>\n",
              "    </tr>\n",
              "    <tr>\n",
              "      <th>...</th>\n",
              "      <td>...</td>\n",
              "      <td>...</td>\n",
              "      <td>...</td>\n",
              "      <td>...</td>\n",
              "      <td>...</td>\n",
              "    </tr>\n",
              "    <tr>\n",
              "      <th>498</th>\n",
              "      <td>1</td>\n",
              "      <td>1</td>\n",
              "      <td>1</td>\n",
              "      <td>1</td>\n",
              "      <td>1</td>\n",
              "    </tr>\n",
              "    <tr>\n",
              "      <th>184</th>\n",
              "      <td>0</td>\n",
              "      <td>1</td>\n",
              "      <td>1</td>\n",
              "      <td>1</td>\n",
              "      <td>1</td>\n",
              "    </tr>\n",
              "    <tr>\n",
              "      <th>177</th>\n",
              "      <td>1</td>\n",
              "      <td>1</td>\n",
              "      <td>1</td>\n",
              "      <td>0</td>\n",
              "      <td>1</td>\n",
              "    </tr>\n",
              "    <tr>\n",
              "      <th>388</th>\n",
              "      <td>1</td>\n",
              "      <td>1</td>\n",
              "      <td>2</td>\n",
              "      <td>1</td>\n",
              "      <td>1</td>\n",
              "    </tr>\n",
              "    <tr>\n",
              "      <th>310</th>\n",
              "      <td>0</td>\n",
              "      <td>0</td>\n",
              "      <td>1</td>\n",
              "      <td>1</td>\n",
              "      <td>1</td>\n",
              "    </tr>\n",
              "  </tbody>\n",
              "</table>\n",
              "<p>115 rows × 5 columns</p>\n",
              "</div>\n",
              "      <button class=\"colab-df-convert\" onclick=\"convertToInteractive('df-20893150-7041-4d49-8979-be6e3e669596')\"\n",
              "              title=\"Convert this dataframe to an interactive table.\"\n",
              "              style=\"display:none;\">\n",
              "        \n",
              "  <svg xmlns=\"http://www.w3.org/2000/svg\" height=\"24px\"viewBox=\"0 0 24 24\"\n",
              "       width=\"24px\">\n",
              "    <path d=\"M0 0h24v24H0V0z\" fill=\"none\"/>\n",
              "    <path d=\"M18.56 5.44l.94 2.06.94-2.06 2.06-.94-2.06-.94-.94-2.06-.94 2.06-2.06.94zm-11 1L8.5 8.5l.94-2.06 2.06-.94-2.06-.94L8.5 2.5l-.94 2.06-2.06.94zm10 10l.94 2.06.94-2.06 2.06-.94-2.06-.94-.94-2.06-.94 2.06-2.06.94z\"/><path d=\"M17.41 7.96l-1.37-1.37c-.4-.4-.92-.59-1.43-.59-.52 0-1.04.2-1.43.59L10.3 9.45l-7.72 7.72c-.78.78-.78 2.05 0 2.83L4 21.41c.39.39.9.59 1.41.59.51 0 1.02-.2 1.41-.59l7.78-7.78 2.81-2.81c.8-.78.8-2.07 0-2.86zM5.41 20L4 18.59l7.72-7.72 1.47 1.35L5.41 20z\"/>\n",
              "  </svg>\n",
              "      </button>\n",
              "      \n",
              "  <style>\n",
              "    .colab-df-container {\n",
              "      display:flex;\n",
              "      flex-wrap:wrap;\n",
              "      gap: 12px;\n",
              "    }\n",
              "\n",
              "    .colab-df-convert {\n",
              "      background-color: #E8F0FE;\n",
              "      border: none;\n",
              "      border-radius: 50%;\n",
              "      cursor: pointer;\n",
              "      display: none;\n",
              "      fill: #1967D2;\n",
              "      height: 32px;\n",
              "      padding: 0 0 0 0;\n",
              "      width: 32px;\n",
              "    }\n",
              "\n",
              "    .colab-df-convert:hover {\n",
              "      background-color: #E2EBFA;\n",
              "      box-shadow: 0px 1px 2px rgba(60, 64, 67, 0.3), 0px 1px 3px 1px rgba(60, 64, 67, 0.15);\n",
              "      fill: #174EA6;\n",
              "    }\n",
              "\n",
              "    [theme=dark] .colab-df-convert {\n",
              "      background-color: #3B4455;\n",
              "      fill: #D2E3FC;\n",
              "    }\n",
              "\n",
              "    [theme=dark] .colab-df-convert:hover {\n",
              "      background-color: #434B5C;\n",
              "      box-shadow: 0px 1px 3px 1px rgba(0, 0, 0, 0.15);\n",
              "      filter: drop-shadow(0px 1px 2px rgba(0, 0, 0, 0.3));\n",
              "      fill: #FFFFFF;\n",
              "    }\n",
              "  </style>\n",
              "\n",
              "      <script>\n",
              "        const buttonEl =\n",
              "          document.querySelector('#df-20893150-7041-4d49-8979-be6e3e669596 button.colab-df-convert');\n",
              "        buttonEl.style.display =\n",
              "          google.colab.kernel.accessAllowed ? 'block' : 'none';\n",
              "\n",
              "        async function convertToInteractive(key) {\n",
              "          const element = document.querySelector('#df-20893150-7041-4d49-8979-be6e3e669596');\n",
              "          const dataTable =\n",
              "            await google.colab.kernel.invokeFunction('convertToInteractive',\n",
              "                                                     [key], {});\n",
              "          if (!dataTable) return;\n",
              "\n",
              "          const docLinkHtml = 'Like what you see? Visit the ' +\n",
              "            '<a target=\"_blank\" href=https://colab.research.google.com/notebooks/data_table.ipynb>data table notebook</a>'\n",
              "            + ' to learn more about interactive tables.';\n",
              "          element.innerHTML = '';\n",
              "          dataTable['output_type'] = 'display_data';\n",
              "          await google.colab.output.renderOutput(dataTable, element);\n",
              "          const docLink = document.createElement('div');\n",
              "          docLink.innerHTML = docLinkHtml;\n",
              "          element.appendChild(docLink);\n",
              "        }\n",
              "      </script>\n",
              "    </div>\n",
              "  </div>\n",
              "  "
            ]
          },
          "metadata": {},
          "execution_count": 159
        }
      ],
      "source": [
        "test_df['Gender'] = test_df['Gender'].astype(str)\n",
        "test_df['Married'] = test_df['Married'].astype(str)\n",
        "test_df['Property_Area'] = test_df['Property_Area'].astype(str)\n",
        "test_df = test_df[test_df[\"Married\"].str.contains(\"2\") == False].copy()\n",
        "\n",
        "test_df"
      ]
    },
    {
      "cell_type": "code",
      "execution_count": 160,
      "metadata": {
        "id": "5uz9i-iKKyZN"
      },
      "outputs": [],
      "source": [
        "# evaluates bias for all subgroups\n",
        "g = Group()\n",
        "xtab, _ = g.get_crosstabs(test_df)"
      ]
    },
    {
      "cell_type": "code",
      "execution_count": 161,
      "metadata": {
        "id": "hYFJhm-XM9AS"
      },
      "outputs": [],
      "source": [
        "absolute_metrics = g.list_absolute_metrics(xtab)"
      ]
    },
    {
      "cell_type": "markdown",
      "metadata": {
        "id": "GmPjPCqYLLqf"
      },
      "source": [
        "These are the counts across sample population groups. As you can see from the table below our model always returned positive(1) values. This oviously affected the accuracy of our model, as seen in the section above, but it also affected the results of our fairness analysis, as we will see later on. "
      ]
    },
    {
      "cell_type": "code",
      "execution_count": 162,
      "metadata": {
        "colab": {
          "base_uri": "https://localhost:8080/",
          "height": 269
        },
        "id": "u0Kc7hf0OhSN",
        "outputId": "01b73125-8369-45cc-f585-e644a70ab973"
      },
      "outputs": [
        {
          "output_type": "execute_result",
          "data": {
            "text/plain": [
              "   model_id score_threshold    k attribute_name attribute_value  pp  pn  fp  \\\n",
              "0         0      binary 0/1  115         Gender               0  23   0   7   \n",
              "1         0      binary 0/1  115         Gender               1  92   0  30   \n",
              "2         0      binary 0/1  115        Married               0  33   0   9   \n",
              "3         0      binary 0/1  115        Married               1  82   0  28   \n",
              "4         0      binary 0/1  115  Property_Area               0  37   0  16   \n",
              "5         0      binary 0/1  115  Property_Area               1  45   0  11   \n",
              "6         0      binary 0/1  115  Property_Area               2  33   0  10   \n",
              "\n",
              "   fn  tn  tp  group_label_pos  group_label_neg  group_size  total_entities  \n",
              "0   0   0  16               16                7          23             115  \n",
              "1   0   0  62               62               30          92             115  \n",
              "2   0   0  24               24                9          33             115  \n",
              "3   0   0  54               54               28          82             115  \n",
              "4   0   0  21               21               16          37             115  \n",
              "5   0   0  34               34               11          45             115  \n",
              "6   0   0  23               23               10          33             115  "
            ],
            "text/html": [
              "\n",
              "  <div id=\"df-768533f9-a8a3-4bca-a59e-bd7a080749d4\">\n",
              "    <div class=\"colab-df-container\">\n",
              "      <div>\n",
              "<style scoped>\n",
              "    .dataframe tbody tr th:only-of-type {\n",
              "        vertical-align: middle;\n",
              "    }\n",
              "\n",
              "    .dataframe tbody tr th {\n",
              "        vertical-align: top;\n",
              "    }\n",
              "\n",
              "    .dataframe thead th {\n",
              "        text-align: right;\n",
              "    }\n",
              "</style>\n",
              "<table border=\"1\" class=\"dataframe\">\n",
              "  <thead>\n",
              "    <tr style=\"text-align: right;\">\n",
              "      <th></th>\n",
              "      <th>model_id</th>\n",
              "      <th>score_threshold</th>\n",
              "      <th>k</th>\n",
              "      <th>attribute_name</th>\n",
              "      <th>attribute_value</th>\n",
              "      <th>pp</th>\n",
              "      <th>pn</th>\n",
              "      <th>fp</th>\n",
              "      <th>fn</th>\n",
              "      <th>tn</th>\n",
              "      <th>tp</th>\n",
              "      <th>group_label_pos</th>\n",
              "      <th>group_label_neg</th>\n",
              "      <th>group_size</th>\n",
              "      <th>total_entities</th>\n",
              "    </tr>\n",
              "  </thead>\n",
              "  <tbody>\n",
              "    <tr>\n",
              "      <th>0</th>\n",
              "      <td>0</td>\n",
              "      <td>binary 0/1</td>\n",
              "      <td>115</td>\n",
              "      <td>Gender</td>\n",
              "      <td>0</td>\n",
              "      <td>23</td>\n",
              "      <td>0</td>\n",
              "      <td>7</td>\n",
              "      <td>0</td>\n",
              "      <td>0</td>\n",
              "      <td>16</td>\n",
              "      <td>16</td>\n",
              "      <td>7</td>\n",
              "      <td>23</td>\n",
              "      <td>115</td>\n",
              "    </tr>\n",
              "    <tr>\n",
              "      <th>1</th>\n",
              "      <td>0</td>\n",
              "      <td>binary 0/1</td>\n",
              "      <td>115</td>\n",
              "      <td>Gender</td>\n",
              "      <td>1</td>\n",
              "      <td>92</td>\n",
              "      <td>0</td>\n",
              "      <td>30</td>\n",
              "      <td>0</td>\n",
              "      <td>0</td>\n",
              "      <td>62</td>\n",
              "      <td>62</td>\n",
              "      <td>30</td>\n",
              "      <td>92</td>\n",
              "      <td>115</td>\n",
              "    </tr>\n",
              "    <tr>\n",
              "      <th>2</th>\n",
              "      <td>0</td>\n",
              "      <td>binary 0/1</td>\n",
              "      <td>115</td>\n",
              "      <td>Married</td>\n",
              "      <td>0</td>\n",
              "      <td>33</td>\n",
              "      <td>0</td>\n",
              "      <td>9</td>\n",
              "      <td>0</td>\n",
              "      <td>0</td>\n",
              "      <td>24</td>\n",
              "      <td>24</td>\n",
              "      <td>9</td>\n",
              "      <td>33</td>\n",
              "      <td>115</td>\n",
              "    </tr>\n",
              "    <tr>\n",
              "      <th>3</th>\n",
              "      <td>0</td>\n",
              "      <td>binary 0/1</td>\n",
              "      <td>115</td>\n",
              "      <td>Married</td>\n",
              "      <td>1</td>\n",
              "      <td>82</td>\n",
              "      <td>0</td>\n",
              "      <td>28</td>\n",
              "      <td>0</td>\n",
              "      <td>0</td>\n",
              "      <td>54</td>\n",
              "      <td>54</td>\n",
              "      <td>28</td>\n",
              "      <td>82</td>\n",
              "      <td>115</td>\n",
              "    </tr>\n",
              "    <tr>\n",
              "      <th>4</th>\n",
              "      <td>0</td>\n",
              "      <td>binary 0/1</td>\n",
              "      <td>115</td>\n",
              "      <td>Property_Area</td>\n",
              "      <td>0</td>\n",
              "      <td>37</td>\n",
              "      <td>0</td>\n",
              "      <td>16</td>\n",
              "      <td>0</td>\n",
              "      <td>0</td>\n",
              "      <td>21</td>\n",
              "      <td>21</td>\n",
              "      <td>16</td>\n",
              "      <td>37</td>\n",
              "      <td>115</td>\n",
              "    </tr>\n",
              "    <tr>\n",
              "      <th>5</th>\n",
              "      <td>0</td>\n",
              "      <td>binary 0/1</td>\n",
              "      <td>115</td>\n",
              "      <td>Property_Area</td>\n",
              "      <td>1</td>\n",
              "      <td>45</td>\n",
              "      <td>0</td>\n",
              "      <td>11</td>\n",
              "      <td>0</td>\n",
              "      <td>0</td>\n",
              "      <td>34</td>\n",
              "      <td>34</td>\n",
              "      <td>11</td>\n",
              "      <td>45</td>\n",
              "      <td>115</td>\n",
              "    </tr>\n",
              "    <tr>\n",
              "      <th>6</th>\n",
              "      <td>0</td>\n",
              "      <td>binary 0/1</td>\n",
              "      <td>115</td>\n",
              "      <td>Property_Area</td>\n",
              "      <td>2</td>\n",
              "      <td>33</td>\n",
              "      <td>0</td>\n",
              "      <td>10</td>\n",
              "      <td>0</td>\n",
              "      <td>0</td>\n",
              "      <td>23</td>\n",
              "      <td>23</td>\n",
              "      <td>10</td>\n",
              "      <td>33</td>\n",
              "      <td>115</td>\n",
              "    </tr>\n",
              "  </tbody>\n",
              "</table>\n",
              "</div>\n",
              "      <button class=\"colab-df-convert\" onclick=\"convertToInteractive('df-768533f9-a8a3-4bca-a59e-bd7a080749d4')\"\n",
              "              title=\"Convert this dataframe to an interactive table.\"\n",
              "              style=\"display:none;\">\n",
              "        \n",
              "  <svg xmlns=\"http://www.w3.org/2000/svg\" height=\"24px\"viewBox=\"0 0 24 24\"\n",
              "       width=\"24px\">\n",
              "    <path d=\"M0 0h24v24H0V0z\" fill=\"none\"/>\n",
              "    <path d=\"M18.56 5.44l.94 2.06.94-2.06 2.06-.94-2.06-.94-.94-2.06-.94 2.06-2.06.94zm-11 1L8.5 8.5l.94-2.06 2.06-.94-2.06-.94L8.5 2.5l-.94 2.06-2.06.94zm10 10l.94 2.06.94-2.06 2.06-.94-2.06-.94-.94-2.06-.94 2.06-2.06.94z\"/><path d=\"M17.41 7.96l-1.37-1.37c-.4-.4-.92-.59-1.43-.59-.52 0-1.04.2-1.43.59L10.3 9.45l-7.72 7.72c-.78.78-.78 2.05 0 2.83L4 21.41c.39.39.9.59 1.41.59.51 0 1.02-.2 1.41-.59l7.78-7.78 2.81-2.81c.8-.78.8-2.07 0-2.86zM5.41 20L4 18.59l7.72-7.72 1.47 1.35L5.41 20z\"/>\n",
              "  </svg>\n",
              "      </button>\n",
              "      \n",
              "  <style>\n",
              "    .colab-df-container {\n",
              "      display:flex;\n",
              "      flex-wrap:wrap;\n",
              "      gap: 12px;\n",
              "    }\n",
              "\n",
              "    .colab-df-convert {\n",
              "      background-color: #E8F0FE;\n",
              "      border: none;\n",
              "      border-radius: 50%;\n",
              "      cursor: pointer;\n",
              "      display: none;\n",
              "      fill: #1967D2;\n",
              "      height: 32px;\n",
              "      padding: 0 0 0 0;\n",
              "      width: 32px;\n",
              "    }\n",
              "\n",
              "    .colab-df-convert:hover {\n",
              "      background-color: #E2EBFA;\n",
              "      box-shadow: 0px 1px 2px rgba(60, 64, 67, 0.3), 0px 1px 3px 1px rgba(60, 64, 67, 0.15);\n",
              "      fill: #174EA6;\n",
              "    }\n",
              "\n",
              "    [theme=dark] .colab-df-convert {\n",
              "      background-color: #3B4455;\n",
              "      fill: #D2E3FC;\n",
              "    }\n",
              "\n",
              "    [theme=dark] .colab-df-convert:hover {\n",
              "      background-color: #434B5C;\n",
              "      box-shadow: 0px 1px 3px 1px rgba(0, 0, 0, 0.15);\n",
              "      filter: drop-shadow(0px 1px 2px rgba(0, 0, 0, 0.3));\n",
              "      fill: #FFFFFF;\n",
              "    }\n",
              "  </style>\n",
              "\n",
              "      <script>\n",
              "        const buttonEl =\n",
              "          document.querySelector('#df-768533f9-a8a3-4bca-a59e-bd7a080749d4 button.colab-df-convert');\n",
              "        buttonEl.style.display =\n",
              "          google.colab.kernel.accessAllowed ? 'block' : 'none';\n",
              "\n",
              "        async function convertToInteractive(key) {\n",
              "          const element = document.querySelector('#df-768533f9-a8a3-4bca-a59e-bd7a080749d4');\n",
              "          const dataTable =\n",
              "            await google.colab.kernel.invokeFunction('convertToInteractive',\n",
              "                                                     [key], {});\n",
              "          if (!dataTable) return;\n",
              "\n",
              "          const docLinkHtml = 'Like what you see? Visit the ' +\n",
              "            '<a target=\"_blank\" href=https://colab.research.google.com/notebooks/data_table.ipynb>data table notebook</a>'\n",
              "            + ' to learn more about interactive tables.';\n",
              "          element.innerHTML = '';\n",
              "          dataTable['output_type'] = 'display_data';\n",
              "          await google.colab.output.renderOutput(dataTable, element);\n",
              "          const docLink = document.createElement('div');\n",
              "          docLink.innerHTML = docLinkHtml;\n",
              "          element.appendChild(docLink);\n",
              "        }\n",
              "      </script>\n",
              "    </div>\n",
              "  </div>\n",
              "  "
            ]
          },
          "metadata": {},
          "execution_count": 162
        }
      ],
      "source": [
        "# selects only the columns in the xtab table that represent the different features, and excludes the columns that represent the fairness metrics\n",
        "xtab[[col for col in xtab.columns if col not in absolute_metrics]]"
      ]
    },
    {
      "cell_type": "markdown",
      "source": [
        "In the table below we calculated absolute metrics for each sample population group. Since our model's predictions didn't include any negative outcomes, we got some NA values for false omission rate (for) and negative predictive value (npv), wich deal with the negative predictions. "
      ],
      "metadata": {
        "id": "Kz2gwKazzwcZ"
      }
    },
    {
      "cell_type": "code",
      "execution_count": 163,
      "metadata": {
        "colab": {
          "base_uri": "https://localhost:8080/",
          "height": 269
        },
        "id": "flQEziQtxbNa",
        "outputId": "7874cd4c-e142-472e-fa42-190e7cd80bc9"
      },
      "outputs": [
        {
          "output_type": "execute_result",
          "data": {
            "text/plain": [
              "  attribute_name attribute_value  tpr  tnr  for   fdr  fpr  fnr  npv  \\\n",
              "0         Gender               0  1.0  0.0  NaN  0.30  1.0  0.0  NaN   \n",
              "1         Gender               1  1.0  0.0  NaN  0.33  1.0  0.0  NaN   \n",
              "2        Married               0  1.0  0.0  NaN  0.27  1.0  0.0  NaN   \n",
              "3        Married               1  1.0  0.0  NaN  0.34  1.0  0.0  NaN   \n",
              "4  Property_Area               0  1.0  0.0  NaN  0.43  1.0  0.0  NaN   \n",
              "5  Property_Area               1  1.0  0.0  NaN  0.24  1.0  0.0  NaN   \n",
              "6  Property_Area               2  1.0  0.0  NaN  0.30  1.0  0.0  NaN   \n",
              "\n",
              "   precision   ppr  pprev  prev  \n",
              "0       0.70  0.20    1.0  0.70  \n",
              "1       0.67  0.80    1.0  0.67  \n",
              "2       0.73  0.29    1.0  0.73  \n",
              "3       0.66  0.71    1.0  0.66  \n",
              "4       0.57  0.32    1.0  0.57  \n",
              "5       0.76  0.39    1.0  0.76  \n",
              "6       0.70  0.29    1.0  0.70  "
            ],
            "text/html": [
              "\n",
              "  <div id=\"df-3d86427a-22d3-472e-9730-dde6c5f13884\">\n",
              "    <div class=\"colab-df-container\">\n",
              "      <div>\n",
              "<style scoped>\n",
              "    .dataframe tbody tr th:only-of-type {\n",
              "        vertical-align: middle;\n",
              "    }\n",
              "\n",
              "    .dataframe tbody tr th {\n",
              "        vertical-align: top;\n",
              "    }\n",
              "\n",
              "    .dataframe thead th {\n",
              "        text-align: right;\n",
              "    }\n",
              "</style>\n",
              "<table border=\"1\" class=\"dataframe\">\n",
              "  <thead>\n",
              "    <tr style=\"text-align: right;\">\n",
              "      <th></th>\n",
              "      <th>attribute_name</th>\n",
              "      <th>attribute_value</th>\n",
              "      <th>tpr</th>\n",
              "      <th>tnr</th>\n",
              "      <th>for</th>\n",
              "      <th>fdr</th>\n",
              "      <th>fpr</th>\n",
              "      <th>fnr</th>\n",
              "      <th>npv</th>\n",
              "      <th>precision</th>\n",
              "      <th>ppr</th>\n",
              "      <th>pprev</th>\n",
              "      <th>prev</th>\n",
              "    </tr>\n",
              "  </thead>\n",
              "  <tbody>\n",
              "    <tr>\n",
              "      <th>0</th>\n",
              "      <td>Gender</td>\n",
              "      <td>0</td>\n",
              "      <td>1.0</td>\n",
              "      <td>0.0</td>\n",
              "      <td>NaN</td>\n",
              "      <td>0.30</td>\n",
              "      <td>1.0</td>\n",
              "      <td>0.0</td>\n",
              "      <td>NaN</td>\n",
              "      <td>0.70</td>\n",
              "      <td>0.20</td>\n",
              "      <td>1.0</td>\n",
              "      <td>0.70</td>\n",
              "    </tr>\n",
              "    <tr>\n",
              "      <th>1</th>\n",
              "      <td>Gender</td>\n",
              "      <td>1</td>\n",
              "      <td>1.0</td>\n",
              "      <td>0.0</td>\n",
              "      <td>NaN</td>\n",
              "      <td>0.33</td>\n",
              "      <td>1.0</td>\n",
              "      <td>0.0</td>\n",
              "      <td>NaN</td>\n",
              "      <td>0.67</td>\n",
              "      <td>0.80</td>\n",
              "      <td>1.0</td>\n",
              "      <td>0.67</td>\n",
              "    </tr>\n",
              "    <tr>\n",
              "      <th>2</th>\n",
              "      <td>Married</td>\n",
              "      <td>0</td>\n",
              "      <td>1.0</td>\n",
              "      <td>0.0</td>\n",
              "      <td>NaN</td>\n",
              "      <td>0.27</td>\n",
              "      <td>1.0</td>\n",
              "      <td>0.0</td>\n",
              "      <td>NaN</td>\n",
              "      <td>0.73</td>\n",
              "      <td>0.29</td>\n",
              "      <td>1.0</td>\n",
              "      <td>0.73</td>\n",
              "    </tr>\n",
              "    <tr>\n",
              "      <th>3</th>\n",
              "      <td>Married</td>\n",
              "      <td>1</td>\n",
              "      <td>1.0</td>\n",
              "      <td>0.0</td>\n",
              "      <td>NaN</td>\n",
              "      <td>0.34</td>\n",
              "      <td>1.0</td>\n",
              "      <td>0.0</td>\n",
              "      <td>NaN</td>\n",
              "      <td>0.66</td>\n",
              "      <td>0.71</td>\n",
              "      <td>1.0</td>\n",
              "      <td>0.66</td>\n",
              "    </tr>\n",
              "    <tr>\n",
              "      <th>4</th>\n",
              "      <td>Property_Area</td>\n",
              "      <td>0</td>\n",
              "      <td>1.0</td>\n",
              "      <td>0.0</td>\n",
              "      <td>NaN</td>\n",
              "      <td>0.43</td>\n",
              "      <td>1.0</td>\n",
              "      <td>0.0</td>\n",
              "      <td>NaN</td>\n",
              "      <td>0.57</td>\n",
              "      <td>0.32</td>\n",
              "      <td>1.0</td>\n",
              "      <td>0.57</td>\n",
              "    </tr>\n",
              "    <tr>\n",
              "      <th>5</th>\n",
              "      <td>Property_Area</td>\n",
              "      <td>1</td>\n",
              "      <td>1.0</td>\n",
              "      <td>0.0</td>\n",
              "      <td>NaN</td>\n",
              "      <td>0.24</td>\n",
              "      <td>1.0</td>\n",
              "      <td>0.0</td>\n",
              "      <td>NaN</td>\n",
              "      <td>0.76</td>\n",
              "      <td>0.39</td>\n",
              "      <td>1.0</td>\n",
              "      <td>0.76</td>\n",
              "    </tr>\n",
              "    <tr>\n",
              "      <th>6</th>\n",
              "      <td>Property_Area</td>\n",
              "      <td>2</td>\n",
              "      <td>1.0</td>\n",
              "      <td>0.0</td>\n",
              "      <td>NaN</td>\n",
              "      <td>0.30</td>\n",
              "      <td>1.0</td>\n",
              "      <td>0.0</td>\n",
              "      <td>NaN</td>\n",
              "      <td>0.70</td>\n",
              "      <td>0.29</td>\n",
              "      <td>1.0</td>\n",
              "      <td>0.70</td>\n",
              "    </tr>\n",
              "  </tbody>\n",
              "</table>\n",
              "</div>\n",
              "      <button class=\"colab-df-convert\" onclick=\"convertToInteractive('df-3d86427a-22d3-472e-9730-dde6c5f13884')\"\n",
              "              title=\"Convert this dataframe to an interactive table.\"\n",
              "              style=\"display:none;\">\n",
              "        \n",
              "  <svg xmlns=\"http://www.w3.org/2000/svg\" height=\"24px\"viewBox=\"0 0 24 24\"\n",
              "       width=\"24px\">\n",
              "    <path d=\"M0 0h24v24H0V0z\" fill=\"none\"/>\n",
              "    <path d=\"M18.56 5.44l.94 2.06.94-2.06 2.06-.94-2.06-.94-.94-2.06-.94 2.06-2.06.94zm-11 1L8.5 8.5l.94-2.06 2.06-.94-2.06-.94L8.5 2.5l-.94 2.06-2.06.94zm10 10l.94 2.06.94-2.06 2.06-.94-2.06-.94-.94-2.06-.94 2.06-2.06.94z\"/><path d=\"M17.41 7.96l-1.37-1.37c-.4-.4-.92-.59-1.43-.59-.52 0-1.04.2-1.43.59L10.3 9.45l-7.72 7.72c-.78.78-.78 2.05 0 2.83L4 21.41c.39.39.9.59 1.41.59.51 0 1.02-.2 1.41-.59l7.78-7.78 2.81-2.81c.8-.78.8-2.07 0-2.86zM5.41 20L4 18.59l7.72-7.72 1.47 1.35L5.41 20z\"/>\n",
              "  </svg>\n",
              "      </button>\n",
              "      \n",
              "  <style>\n",
              "    .colab-df-container {\n",
              "      display:flex;\n",
              "      flex-wrap:wrap;\n",
              "      gap: 12px;\n",
              "    }\n",
              "\n",
              "    .colab-df-convert {\n",
              "      background-color: #E8F0FE;\n",
              "      border: none;\n",
              "      border-radius: 50%;\n",
              "      cursor: pointer;\n",
              "      display: none;\n",
              "      fill: #1967D2;\n",
              "      height: 32px;\n",
              "      padding: 0 0 0 0;\n",
              "      width: 32px;\n",
              "    }\n",
              "\n",
              "    .colab-df-convert:hover {\n",
              "      background-color: #E2EBFA;\n",
              "      box-shadow: 0px 1px 2px rgba(60, 64, 67, 0.3), 0px 1px 3px 1px rgba(60, 64, 67, 0.15);\n",
              "      fill: #174EA6;\n",
              "    }\n",
              "\n",
              "    [theme=dark] .colab-df-convert {\n",
              "      background-color: #3B4455;\n",
              "      fill: #D2E3FC;\n",
              "    }\n",
              "\n",
              "    [theme=dark] .colab-df-convert:hover {\n",
              "      background-color: #434B5C;\n",
              "      box-shadow: 0px 1px 3px 1px rgba(0, 0, 0, 0.15);\n",
              "      filter: drop-shadow(0px 1px 2px rgba(0, 0, 0, 0.3));\n",
              "      fill: #FFFFFF;\n",
              "    }\n",
              "  </style>\n",
              "\n",
              "      <script>\n",
              "        const buttonEl =\n",
              "          document.querySelector('#df-3d86427a-22d3-472e-9730-dde6c5f13884 button.colab-df-convert');\n",
              "        buttonEl.style.display =\n",
              "          google.colab.kernel.accessAllowed ? 'block' : 'none';\n",
              "\n",
              "        async function convertToInteractive(key) {\n",
              "          const element = document.querySelector('#df-3d86427a-22d3-472e-9730-dde6c5f13884');\n",
              "          const dataTable =\n",
              "            await google.colab.kernel.invokeFunction('convertToInteractive',\n",
              "                                                     [key], {});\n",
              "          if (!dataTable) return;\n",
              "\n",
              "          const docLinkHtml = 'Like what you see? Visit the ' +\n",
              "            '<a target=\"_blank\" href=https://colab.research.google.com/notebooks/data_table.ipynb>data table notebook</a>'\n",
              "            + ' to learn more about interactive tables.';\n",
              "          element.innerHTML = '';\n",
              "          dataTable['output_type'] = 'display_data';\n",
              "          await google.colab.output.renderOutput(dataTable, element);\n",
              "          const docLink = document.createElement('div');\n",
              "          docLink.innerHTML = docLinkHtml;\n",
              "          element.appendChild(docLink);\n",
              "        }\n",
              "      </script>\n",
              "    </div>\n",
              "  </div>\n",
              "  "
            ]
          },
          "metadata": {},
          "execution_count": 163
        }
      ],
      "source": [
        "xtab[['attribute_name', 'attribute_value'] + absolute_metrics].round(2)"
      ]
    },
    {
      "cell_type": "markdown",
      "metadata": {
        "id": "FS-SoAs8RH0h"
      },
      "source": [
        "Bias allows us to measure the extent to which your model's predictions are biased against certain groups."
      ]
    },
    {
      "cell_type": "markdown",
      "metadata": {
        "id": "ZIXH7StEKR9O"
      },
      "source": [
        "We calculated disparities in relation to the sample population majority group for each attribute. We did this to evaluate how much more or less other groups are correctly or incorrectly predicted to get mortgage loans in relation to the group with the most data. We again recieved NA values due to the lack of negative predictions."
      ]
    },
    {
      "cell_type": "code",
      "execution_count": 164,
      "metadata": {
        "colab": {
          "base_uri": "https://localhost:8080/"
        },
        "id": "4VO9rxyOwway",
        "outputId": "a07a58c8-ca3d-46e3-ac57-ab426a70777d"
      },
      "outputs": [
        {
          "output_type": "stream",
          "name": "stdout",
          "text": [
            "get_disparity_major_group()\n"
          ]
        }
      ],
      "source": [
        "b = Bias()\n",
        "majority_bdf = b.get_disparity_major_group(xtab, original_df=test_df, mask_significance=True)"
      ]
    },
    {
      "cell_type": "code",
      "execution_count": 165,
      "metadata": {
        "id": "S_qutPO1F0VQ"
      },
      "outputs": [],
      "source": [
        "# Bias() class includes a method to return a list of calculated disparities from the dataframe returned by the `get_disparity_` methods.\n",
        "calculated_disparities = b.list_disparities(majority_bdf)\n",
        "disparity_significance = b.list_significance(majority_bdf)"
      ]
    },
    {
      "cell_type": "code",
      "source": [],
      "metadata": {
        "id": "FnJarG0S2avG"
      },
      "execution_count": 165,
      "outputs": []
    },
    {
      "cell_type": "code",
      "execution_count": 166,
      "metadata": {
        "colab": {
          "base_uri": "https://localhost:8080/",
          "height": 333
        },
        "id": "jt3oBmeOIQp8",
        "outputId": "ff3c8a1e-60ad-4653-b2d1-e9470d4b216b"
      },
      "outputs": [
        {
          "output_type": "execute_result",
          "data": {
            "text/plain": [
              "  attribute_name attribute_value  ppr_disparity  pprev_disparity  \\\n",
              "0         Gender               0       0.250000              1.0   \n",
              "1         Gender               1       1.000000              1.0   \n",
              "2        Married               0       0.402439              1.0   \n",
              "3        Married               1       1.000000              1.0   \n",
              "4  Property_Area               0       0.822222              1.0   \n",
              "5  Property_Area               1       1.000000              1.0   \n",
              "6  Property_Area               2       0.733333              1.0   \n",
              "\n",
              "   precision_disparity  fdr_disparity  for_disparity  fpr_disparity  \\\n",
              "0             1.032258       0.933333            NaN            1.0   \n",
              "1             1.000000       1.000000            NaN            1.0   \n",
              "2             1.104377       0.798701            NaN            1.0   \n",
              "3             1.000000       1.000000            NaN            1.0   \n",
              "4             0.751192       1.769042            NaN            1.0   \n",
              "5             1.000000       1.000000            NaN            1.0   \n",
              "6             0.922460       1.239669            NaN            1.0   \n",
              "\n",
              "   fnr_disparity  tpr_disparity  tnr_disparity  npv_disparity  \n",
              "0            NaN            1.0            NaN            NaN  \n",
              "1            NaN            1.0            NaN            NaN  \n",
              "2            NaN            1.0            NaN            NaN  \n",
              "3            NaN            1.0            NaN            NaN  \n",
              "4            NaN            1.0            NaN            NaN  \n",
              "5            NaN            1.0            NaN            NaN  \n",
              "6            NaN            1.0            NaN            NaN  "
            ],
            "text/html": [
              "\n",
              "  <div id=\"df-d4e865a9-b8b4-4777-a6b5-611457d9844a\">\n",
              "    <div class=\"colab-df-container\">\n",
              "      <div>\n",
              "<style scoped>\n",
              "    .dataframe tbody tr th:only-of-type {\n",
              "        vertical-align: middle;\n",
              "    }\n",
              "\n",
              "    .dataframe tbody tr th {\n",
              "        vertical-align: top;\n",
              "    }\n",
              "\n",
              "    .dataframe thead th {\n",
              "        text-align: right;\n",
              "    }\n",
              "</style>\n",
              "<table border=\"1\" class=\"dataframe\">\n",
              "  <thead>\n",
              "    <tr style=\"text-align: right;\">\n",
              "      <th></th>\n",
              "      <th>attribute_name</th>\n",
              "      <th>attribute_value</th>\n",
              "      <th>ppr_disparity</th>\n",
              "      <th>pprev_disparity</th>\n",
              "      <th>precision_disparity</th>\n",
              "      <th>fdr_disparity</th>\n",
              "      <th>for_disparity</th>\n",
              "      <th>fpr_disparity</th>\n",
              "      <th>fnr_disparity</th>\n",
              "      <th>tpr_disparity</th>\n",
              "      <th>tnr_disparity</th>\n",
              "      <th>npv_disparity</th>\n",
              "    </tr>\n",
              "  </thead>\n",
              "  <tbody>\n",
              "    <tr>\n",
              "      <th>0</th>\n",
              "      <td>Gender</td>\n",
              "      <td>0</td>\n",
              "      <td>0.250000</td>\n",
              "      <td>1.0</td>\n",
              "      <td>1.032258</td>\n",
              "      <td>0.933333</td>\n",
              "      <td>NaN</td>\n",
              "      <td>1.0</td>\n",
              "      <td>NaN</td>\n",
              "      <td>1.0</td>\n",
              "      <td>NaN</td>\n",
              "      <td>NaN</td>\n",
              "    </tr>\n",
              "    <tr>\n",
              "      <th>1</th>\n",
              "      <td>Gender</td>\n",
              "      <td>1</td>\n",
              "      <td>1.000000</td>\n",
              "      <td>1.0</td>\n",
              "      <td>1.000000</td>\n",
              "      <td>1.000000</td>\n",
              "      <td>NaN</td>\n",
              "      <td>1.0</td>\n",
              "      <td>NaN</td>\n",
              "      <td>1.0</td>\n",
              "      <td>NaN</td>\n",
              "      <td>NaN</td>\n",
              "    </tr>\n",
              "    <tr>\n",
              "      <th>2</th>\n",
              "      <td>Married</td>\n",
              "      <td>0</td>\n",
              "      <td>0.402439</td>\n",
              "      <td>1.0</td>\n",
              "      <td>1.104377</td>\n",
              "      <td>0.798701</td>\n",
              "      <td>NaN</td>\n",
              "      <td>1.0</td>\n",
              "      <td>NaN</td>\n",
              "      <td>1.0</td>\n",
              "      <td>NaN</td>\n",
              "      <td>NaN</td>\n",
              "    </tr>\n",
              "    <tr>\n",
              "      <th>3</th>\n",
              "      <td>Married</td>\n",
              "      <td>1</td>\n",
              "      <td>1.000000</td>\n",
              "      <td>1.0</td>\n",
              "      <td>1.000000</td>\n",
              "      <td>1.000000</td>\n",
              "      <td>NaN</td>\n",
              "      <td>1.0</td>\n",
              "      <td>NaN</td>\n",
              "      <td>1.0</td>\n",
              "      <td>NaN</td>\n",
              "      <td>NaN</td>\n",
              "    </tr>\n",
              "    <tr>\n",
              "      <th>4</th>\n",
              "      <td>Property_Area</td>\n",
              "      <td>0</td>\n",
              "      <td>0.822222</td>\n",
              "      <td>1.0</td>\n",
              "      <td>0.751192</td>\n",
              "      <td>1.769042</td>\n",
              "      <td>NaN</td>\n",
              "      <td>1.0</td>\n",
              "      <td>NaN</td>\n",
              "      <td>1.0</td>\n",
              "      <td>NaN</td>\n",
              "      <td>NaN</td>\n",
              "    </tr>\n",
              "    <tr>\n",
              "      <th>5</th>\n",
              "      <td>Property_Area</td>\n",
              "      <td>1</td>\n",
              "      <td>1.000000</td>\n",
              "      <td>1.0</td>\n",
              "      <td>1.000000</td>\n",
              "      <td>1.000000</td>\n",
              "      <td>NaN</td>\n",
              "      <td>1.0</td>\n",
              "      <td>NaN</td>\n",
              "      <td>1.0</td>\n",
              "      <td>NaN</td>\n",
              "      <td>NaN</td>\n",
              "    </tr>\n",
              "    <tr>\n",
              "      <th>6</th>\n",
              "      <td>Property_Area</td>\n",
              "      <td>2</td>\n",
              "      <td>0.733333</td>\n",
              "      <td>1.0</td>\n",
              "      <td>0.922460</td>\n",
              "      <td>1.239669</td>\n",
              "      <td>NaN</td>\n",
              "      <td>1.0</td>\n",
              "      <td>NaN</td>\n",
              "      <td>1.0</td>\n",
              "      <td>NaN</td>\n",
              "      <td>NaN</td>\n",
              "    </tr>\n",
              "  </tbody>\n",
              "</table>\n",
              "</div>\n",
              "      <button class=\"colab-df-convert\" onclick=\"convertToInteractive('df-d4e865a9-b8b4-4777-a6b5-611457d9844a')\"\n",
              "              title=\"Convert this dataframe to an interactive table.\"\n",
              "              style=\"display:none;\">\n",
              "        \n",
              "  <svg xmlns=\"http://www.w3.org/2000/svg\" height=\"24px\"viewBox=\"0 0 24 24\"\n",
              "       width=\"24px\">\n",
              "    <path d=\"M0 0h24v24H0V0z\" fill=\"none\"/>\n",
              "    <path d=\"M18.56 5.44l.94 2.06.94-2.06 2.06-.94-2.06-.94-.94-2.06-.94 2.06-2.06.94zm-11 1L8.5 8.5l.94-2.06 2.06-.94-2.06-.94L8.5 2.5l-.94 2.06-2.06.94zm10 10l.94 2.06.94-2.06 2.06-.94-2.06-.94-.94-2.06-.94 2.06-2.06.94z\"/><path d=\"M17.41 7.96l-1.37-1.37c-.4-.4-.92-.59-1.43-.59-.52 0-1.04.2-1.43.59L10.3 9.45l-7.72 7.72c-.78.78-.78 2.05 0 2.83L4 21.41c.39.39.9.59 1.41.59.51 0 1.02-.2 1.41-.59l7.78-7.78 2.81-2.81c.8-.78.8-2.07 0-2.86zM5.41 20L4 18.59l7.72-7.72 1.47 1.35L5.41 20z\"/>\n",
              "  </svg>\n",
              "      </button>\n",
              "      \n",
              "  <style>\n",
              "    .colab-df-container {\n",
              "      display:flex;\n",
              "      flex-wrap:wrap;\n",
              "      gap: 12px;\n",
              "    }\n",
              "\n",
              "    .colab-df-convert {\n",
              "      background-color: #E8F0FE;\n",
              "      border: none;\n",
              "      border-radius: 50%;\n",
              "      cursor: pointer;\n",
              "      display: none;\n",
              "      fill: #1967D2;\n",
              "      height: 32px;\n",
              "      padding: 0 0 0 0;\n",
              "      width: 32px;\n",
              "    }\n",
              "\n",
              "    .colab-df-convert:hover {\n",
              "      background-color: #E2EBFA;\n",
              "      box-shadow: 0px 1px 2px rgba(60, 64, 67, 0.3), 0px 1px 3px 1px rgba(60, 64, 67, 0.15);\n",
              "      fill: #174EA6;\n",
              "    }\n",
              "\n",
              "    [theme=dark] .colab-df-convert {\n",
              "      background-color: #3B4455;\n",
              "      fill: #D2E3FC;\n",
              "    }\n",
              "\n",
              "    [theme=dark] .colab-df-convert:hover {\n",
              "      background-color: #434B5C;\n",
              "      box-shadow: 0px 1px 3px 1px rgba(0, 0, 0, 0.15);\n",
              "      filter: drop-shadow(0px 1px 2px rgba(0, 0, 0, 0.3));\n",
              "      fill: #FFFFFF;\n",
              "    }\n",
              "  </style>\n",
              "\n",
              "      <script>\n",
              "        const buttonEl =\n",
              "          document.querySelector('#df-d4e865a9-b8b4-4777-a6b5-611457d9844a button.colab-df-convert');\n",
              "        buttonEl.style.display =\n",
              "          google.colab.kernel.accessAllowed ? 'block' : 'none';\n",
              "\n",
              "        async function convertToInteractive(key) {\n",
              "          const element = document.querySelector('#df-d4e865a9-b8b4-4777-a6b5-611457d9844a');\n",
              "          const dataTable =\n",
              "            await google.colab.kernel.invokeFunction('convertToInteractive',\n",
              "                                                     [key], {});\n",
              "          if (!dataTable) return;\n",
              "\n",
              "          const docLinkHtml = 'Like what you see? Visit the ' +\n",
              "            '<a target=\"_blank\" href=https://colab.research.google.com/notebooks/data_table.ipynb>data table notebook</a>'\n",
              "            + ' to learn more about interactive tables.';\n",
              "          element.innerHTML = '';\n",
              "          dataTable['output_type'] = 'display_data';\n",
              "          await google.colab.output.renderOutput(dataTable, element);\n",
              "          const docLink = document.createElement('div');\n",
              "          docLink.innerHTML = docLinkHtml;\n",
              "          element.appendChild(docLink);\n",
              "        }\n",
              "      </script>\n",
              "    </div>\n",
              "  </div>\n",
              "  "
            ]
          },
          "metadata": {},
          "execution_count": 166
        }
      ],
      "source": [
        "# View disparity metrics added to dataframe\n",
        "# calculated_disparities is a list of disparity metrics calculated such as ppr_disparity, pprev_disparity, fnr_disparity, fpr_disparity\n",
        "# disparity_significance is a list of boolean values showing whether the disparity metric for each feature is statistically significant (True) or not (False)\n",
        "majority_bdf[['attribute_name', 'attribute_value'] +  calculated_disparities + disparity_significance]"
      ]
    },
    {
      "cell_type": "code",
      "execution_count": 167,
      "metadata": {
        "id": "93Ws1Bt7llwN",
        "colab": {
          "base_uri": "https://localhost:8080/",
          "height": 520
        },
        "outputId": "f1e28be8-4e6a-4de3-d04b-1022d1d2bdec"
      },
      "outputs": [
        {
          "output_type": "display_data",
          "data": {
            "text/plain": [
              "<Figure size 1800x576 with 6 Axes>"
            ],
            "image/png": "[encoded data removed]"
          },
          "metadata": {
            "needs_background": "light"
          }
        }
      ],
      "source": [
        "aqp = Plot()\n",
        "j = aqp.plot_disparity_all(majority_bdf, metrics=['precision_disparity'], significance_alpha=0.05)"
      ]
    },
    {
      "cell_type": "markdown",
      "metadata": {
        "id": "P36RNt42Q-Du"
      },
      "source": [
        "The Aequitas Fairness() class allows us to evaluate our model's fairness using various metrics such as false positive rate parity or false negative rate parity.\n"
      ]
    },
    {
      "cell_type": "markdown",
      "metadata": {
        "id": "TM4k1Uv8rHL7"
      },
      "source": [
        "Below also shows: *Type I Parity*: Fairness in both FDR Parity and FPR Parity\n",
        "\n",
        "*Type II Parity*: Fairness in both FOR Parity and FNR Parity\n",
        "\n",
        "*Equalized Odds*: Fairness in both FPR Parity and TPR Parity\n",
        "\n",
        "*Unsupervised Fairness*: Fairness in both Statistical Parity and Impact Parity\n",
        "\n",
        "*Supervised Fairness*: Fairness in both Type I and Type II Parity\n",
        "\n",
        "*Overall Fairness*: Fairness across all parities for all attributes"
      ]
    },
    {
      "cell_type": "code",
      "execution_count": 168,
      "metadata": {
        "id": "jAvLWLxFKblC"
      },
      "outputs": [],
      "source": [
        "# generates fairness metrics for each attribute-value combination in the data\n",
        "f = Fairness()\n",
        "fdf = f.get_group_value_fairness(majority_bdf)"
      ]
    },
    {
      "cell_type": "code",
      "execution_count": 169,
      "metadata": {
        "id": "Pjo9CQA0Kfx8"
      },
      "outputs": [],
      "source": [
        "# shows if there are significant differences in the model performance across different subgroups, after comparing the results we can see there are differences!\n",
        "parity_detrminations = f.list_parities(fdf)"
      ]
    },
    {
      "cell_type": "markdown",
      "source": [
        "The table below shows us the results of the unsupervised, supervised, and overall fairness in regards to our chosen protected attributes. We marriage status and property area in our fairness analysis, but are mainly looking at gender fairness. We can see that the fairness of our model failed across several metrics, but that is due to the NA values. "
      ],
      "metadata": {
        "id": "x-yYFwXs3MWQ"
      }
    },
    {
      "cell_type": "code",
      "execution_count": 170,
      "metadata": {
        "id": "X1GVRCfrKjoL",
        "colab": {
          "base_uri": "https://localhost:8080/",
          "height": 306
        },
        "outputId": "d8263b30-0a9d-450e-da4e-35ea20da273d"
      },
      "outputs": [
        {
          "output_type": "execute_result",
          "data": {
            "text/plain": [
              "<pandas.io.formats.style.Styler at 0x7fc8ec666910>"
            ],
            "text/html": [
              "<style type=\"text/css\">\n",
              "</style>\n",
              "<table id=\"T_e7ae9\" class=\"dataframe\">\n",
              "  <thead>\n",
              "    <tr>\n",
              "      <th class=\"blank level0\" >&nbsp;</th>\n",
              "      <th id=\"T_e7ae9_level0_col0\" class=\"col_heading level0 col0\" >attribute_name</th>\n",
              "      <th id=\"T_e7ae9_level0_col1\" class=\"col_heading level0 col1\" >attribute_value</th>\n",
              "      <th id=\"T_e7ae9_level0_col2\" class=\"col_heading level0 col2\" >tpr</th>\n",
              "      <th id=\"T_e7ae9_level0_col3\" class=\"col_heading level0 col3\" >tnr</th>\n",
              "      <th id=\"T_e7ae9_level0_col4\" class=\"col_heading level0 col4\" >for</th>\n",
              "      <th id=\"T_e7ae9_level0_col5\" class=\"col_heading level0 col5\" >fdr</th>\n",
              "      <th id=\"T_e7ae9_level0_col6\" class=\"col_heading level0 col6\" >fpr</th>\n",
              "      <th id=\"T_e7ae9_level0_col7\" class=\"col_heading level0 col7\" >fnr</th>\n",
              "      <th id=\"T_e7ae9_level0_col8\" class=\"col_heading level0 col8\" >npv</th>\n",
              "      <th id=\"T_e7ae9_level0_col9\" class=\"col_heading level0 col9\" >precision</th>\n",
              "      <th id=\"T_e7ae9_level0_col10\" class=\"col_heading level0 col10\" >ppr</th>\n",
              "      <th id=\"T_e7ae9_level0_col11\" class=\"col_heading level0 col11\" >pprev</th>\n",
              "      <th id=\"T_e7ae9_level0_col12\" class=\"col_heading level0 col12\" >prev</th>\n",
              "      <th id=\"T_e7ae9_level0_col13\" class=\"col_heading level0 col13\" >ppr_disparity</th>\n",
              "      <th id=\"T_e7ae9_level0_col14\" class=\"col_heading level0 col14\" >pprev_disparity</th>\n",
              "      <th id=\"T_e7ae9_level0_col15\" class=\"col_heading level0 col15\" >precision_disparity</th>\n",
              "      <th id=\"T_e7ae9_level0_col16\" class=\"col_heading level0 col16\" >fdr_disparity</th>\n",
              "      <th id=\"T_e7ae9_level0_col17\" class=\"col_heading level0 col17\" >for_disparity</th>\n",
              "      <th id=\"T_e7ae9_level0_col18\" class=\"col_heading level0 col18\" >fpr_disparity</th>\n",
              "      <th id=\"T_e7ae9_level0_col19\" class=\"col_heading level0 col19\" >fnr_disparity</th>\n",
              "      <th id=\"T_e7ae9_level0_col20\" class=\"col_heading level0 col20\" >tpr_disparity</th>\n",
              "      <th id=\"T_e7ae9_level0_col21\" class=\"col_heading level0 col21\" >tnr_disparity</th>\n",
              "      <th id=\"T_e7ae9_level0_col22\" class=\"col_heading level0 col22\" >npv_disparity</th>\n",
              "      <th id=\"T_e7ae9_level0_col23\" class=\"col_heading level0 col23\" >NPV Parity</th>\n",
              "      <th id=\"T_e7ae9_level0_col24\" class=\"col_heading level0 col24\" >FDR Parity</th>\n",
              "      <th id=\"T_e7ae9_level0_col25\" class=\"col_heading level0 col25\" >FOR Parity</th>\n",
              "      <th id=\"T_e7ae9_level0_col26\" class=\"col_heading level0 col26\" >FNR Parity</th>\n",
              "      <th id=\"T_e7ae9_level0_col27\" class=\"col_heading level0 col27\" >Impact Parity</th>\n",
              "      <th id=\"T_e7ae9_level0_col28\" class=\"col_heading level0 col28\" >Statistical Parity</th>\n",
              "      <th id=\"T_e7ae9_level0_col29\" class=\"col_heading level0 col29\" >FPR Parity</th>\n",
              "      <th id=\"T_e7ae9_level0_col30\" class=\"col_heading level0 col30\" >Precision Parity</th>\n",
              "      <th id=\"T_e7ae9_level0_col31\" class=\"col_heading level0 col31\" >TPR Parity</th>\n",
              "      <th id=\"T_e7ae9_level0_col32\" class=\"col_heading level0 col32\" >Unsupervised Fairness</th>\n",
              "      <th id=\"T_e7ae9_level0_col33\" class=\"col_heading level0 col33\" >TypeI Parity</th>\n",
              "      <th id=\"T_e7ae9_level0_col34\" class=\"col_heading level0 col34\" >Supervised Fairness</th>\n",
              "      <th id=\"T_e7ae9_level0_col35\" class=\"col_heading level0 col35\" >TNR Parity</th>\n",
              "      <th id=\"T_e7ae9_level0_col36\" class=\"col_heading level0 col36\" >TypeII Parity</th>\n",
              "      <th id=\"T_e7ae9_level0_col37\" class=\"col_heading level0 col37\" >Equalized Odds</th>\n",
              "    </tr>\n",
              "  </thead>\n",
              "  <tbody>\n",
              "    <tr>\n",
              "      <th id=\"T_e7ae9_level0_row0\" class=\"row_heading level0 row0\" >0</th>\n",
              "      <td id=\"T_e7ae9_row0_col0\" class=\"data row0 col0\" >Gender</td>\n",
              "      <td id=\"T_e7ae9_row0_col1\" class=\"data row0 col1\" >0</td>\n",
              "      <td id=\"T_e7ae9_row0_col2\" class=\"data row0 col2\" >1.000000</td>\n",
              "      <td id=\"T_e7ae9_row0_col3\" class=\"data row0 col3\" >0.000000</td>\n",
              "      <td id=\"T_e7ae9_row0_col4\" class=\"data row0 col4\" >nan</td>\n",
              "      <td id=\"T_e7ae9_row0_col5\" class=\"data row0 col5\" >0.304348</td>\n",
              "      <td id=\"T_e7ae9_row0_col6\" class=\"data row0 col6\" >1.000000</td>\n",
              "      <td id=\"T_e7ae9_row0_col7\" class=\"data row0 col7\" >0.000000</td>\n",
              "      <td id=\"T_e7ae9_row0_col8\" class=\"data row0 col8\" >nan</td>\n",
              "      <td id=\"T_e7ae9_row0_col9\" class=\"data row0 col9\" >0.695652</td>\n",
              "      <td id=\"T_e7ae9_row0_col10\" class=\"data row0 col10\" >0.200000</td>\n",
              "      <td id=\"T_e7ae9_row0_col11\" class=\"data row0 col11\" >1.000000</td>\n",
              "      <td id=\"T_e7ae9_row0_col12\" class=\"data row0 col12\" >0.695652</td>\n",
              "      <td id=\"T_e7ae9_row0_col13\" class=\"data row0 col13\" >0.250000</td>\n",
              "      <td id=\"T_e7ae9_row0_col14\" class=\"data row0 col14\" >1.000000</td>\n",
              "      <td id=\"T_e7ae9_row0_col15\" class=\"data row0 col15\" >1.032258</td>\n",
              "      <td id=\"T_e7ae9_row0_col16\" class=\"data row0 col16\" >0.933333</td>\n",
              "      <td id=\"T_e7ae9_row0_col17\" class=\"data row0 col17\" >nan</td>\n",
              "      <td id=\"T_e7ae9_row0_col18\" class=\"data row0 col18\" >1.000000</td>\n",
              "      <td id=\"T_e7ae9_row0_col19\" class=\"data row0 col19\" >nan</td>\n",
              "      <td id=\"T_e7ae9_row0_col20\" class=\"data row0 col20\" >1.000000</td>\n",
              "      <td id=\"T_e7ae9_row0_col21\" class=\"data row0 col21\" >nan</td>\n",
              "      <td id=\"T_e7ae9_row0_col22\" class=\"data row0 col22\" >nan</td>\n",
              "      <td id=\"T_e7ae9_row0_col23\" class=\"data row0 col23\" >nan</td>\n",
              "      <td id=\"T_e7ae9_row0_col24\" class=\"data row0 col24\" >True</td>\n",
              "      <td id=\"T_e7ae9_row0_col25\" class=\"data row0 col25\" >nan</td>\n",
              "      <td id=\"T_e7ae9_row0_col26\" class=\"data row0 col26\" >nan</td>\n",
              "      <td id=\"T_e7ae9_row0_col27\" class=\"data row0 col27\" >True</td>\n",
              "      <td id=\"T_e7ae9_row0_col28\" class=\"data row0 col28\" >False</td>\n",
              "      <td id=\"T_e7ae9_row0_col29\" class=\"data row0 col29\" >True</td>\n",
              "      <td id=\"T_e7ae9_row0_col30\" class=\"data row0 col30\" >True</td>\n",
              "      <td id=\"T_e7ae9_row0_col31\" class=\"data row0 col31\" >True</td>\n",
              "      <td id=\"T_e7ae9_row0_col32\" class=\"data row0 col32\" >False</td>\n",
              "      <td id=\"T_e7ae9_row0_col33\" class=\"data row0 col33\" >True</td>\n",
              "      <td id=\"T_e7ae9_row0_col34\" class=\"data row0 col34\" >False</td>\n",
              "      <td id=\"T_e7ae9_row0_col35\" class=\"data row0 col35\" >nan</td>\n",
              "      <td id=\"T_e7ae9_row0_col36\" class=\"data row0 col36\" >nan</td>\n",
              "      <td id=\"T_e7ae9_row0_col37\" class=\"data row0 col37\" >True</td>\n",
              "    </tr>\n",
              "    <tr>\n",
              "      <th id=\"T_e7ae9_level0_row1\" class=\"row_heading level0 row1\" >1</th>\n",
              "      <td id=\"T_e7ae9_row1_col0\" class=\"data row1 col0\" >Gender</td>\n",
              "      <td id=\"T_e7ae9_row1_col1\" class=\"data row1 col1\" >1</td>\n",
              "      <td id=\"T_e7ae9_row1_col2\" class=\"data row1 col2\" >1.000000</td>\n",
              "      <td id=\"T_e7ae9_row1_col3\" class=\"data row1 col3\" >0.000000</td>\n",
              "      <td id=\"T_e7ae9_row1_col4\" class=\"data row1 col4\" >nan</td>\n",
              "      <td id=\"T_e7ae9_row1_col5\" class=\"data row1 col5\" >0.326087</td>\n",
              "      <td id=\"T_e7ae9_row1_col6\" class=\"data row1 col6\" >1.000000</td>\n",
              "      <td id=\"T_e7ae9_row1_col7\" class=\"data row1 col7\" >0.000000</td>\n",
              "      <td id=\"T_e7ae9_row1_col8\" class=\"data row1 col8\" >nan</td>\n",
              "      <td id=\"T_e7ae9_row1_col9\" class=\"data row1 col9\" >0.673913</td>\n",
              "      <td id=\"T_e7ae9_row1_col10\" class=\"data row1 col10\" >0.800000</td>\n",
              "      <td id=\"T_e7ae9_row1_col11\" class=\"data row1 col11\" >1.000000</td>\n",
              "      <td id=\"T_e7ae9_row1_col12\" class=\"data row1 col12\" >0.673913</td>\n",
              "      <td id=\"T_e7ae9_row1_col13\" class=\"data row1 col13\" >1.000000</td>\n",
              "      <td id=\"T_e7ae9_row1_col14\" class=\"data row1 col14\" >1.000000</td>\n",
              "      <td id=\"T_e7ae9_row1_col15\" class=\"data row1 col15\" >1.000000</td>\n",
              "      <td id=\"T_e7ae9_row1_col16\" class=\"data row1 col16\" >1.000000</td>\n",
              "      <td id=\"T_e7ae9_row1_col17\" class=\"data row1 col17\" >nan</td>\n",
              "      <td id=\"T_e7ae9_row1_col18\" class=\"data row1 col18\" >1.000000</td>\n",
              "      <td id=\"T_e7ae9_row1_col19\" class=\"data row1 col19\" >nan</td>\n",
              "      <td id=\"T_e7ae9_row1_col20\" class=\"data row1 col20\" >1.000000</td>\n",
              "      <td id=\"T_e7ae9_row1_col21\" class=\"data row1 col21\" >nan</td>\n",
              "      <td id=\"T_e7ae9_row1_col22\" class=\"data row1 col22\" >nan</td>\n",
              "      <td id=\"T_e7ae9_row1_col23\" class=\"data row1 col23\" >nan</td>\n",
              "      <td id=\"T_e7ae9_row1_col24\" class=\"data row1 col24\" >True</td>\n",
              "      <td id=\"T_e7ae9_row1_col25\" class=\"data row1 col25\" >nan</td>\n",
              "      <td id=\"T_e7ae9_row1_col26\" class=\"data row1 col26\" >nan</td>\n",
              "      <td id=\"T_e7ae9_row1_col27\" class=\"data row1 col27\" >True</td>\n",
              "      <td id=\"T_e7ae9_row1_col28\" class=\"data row1 col28\" >True</td>\n",
              "      <td id=\"T_e7ae9_row1_col29\" class=\"data row1 col29\" >True</td>\n",
              "      <td id=\"T_e7ae9_row1_col30\" class=\"data row1 col30\" >True</td>\n",
              "      <td id=\"T_e7ae9_row1_col31\" class=\"data row1 col31\" >True</td>\n",
              "      <td id=\"T_e7ae9_row1_col32\" class=\"data row1 col32\" >True</td>\n",
              "      <td id=\"T_e7ae9_row1_col33\" class=\"data row1 col33\" >True</td>\n",
              "      <td id=\"T_e7ae9_row1_col34\" class=\"data row1 col34\" >False</td>\n",
              "      <td id=\"T_e7ae9_row1_col35\" class=\"data row1 col35\" >nan</td>\n",
              "      <td id=\"T_e7ae9_row1_col36\" class=\"data row1 col36\" >nan</td>\n",
              "      <td id=\"T_e7ae9_row1_col37\" class=\"data row1 col37\" >True</td>\n",
              "    </tr>\n",
              "    <tr>\n",
              "      <th id=\"T_e7ae9_level0_row2\" class=\"row_heading level0 row2\" >2</th>\n",
              "      <td id=\"T_e7ae9_row2_col0\" class=\"data row2 col0\" >Married</td>\n",
              "      <td id=\"T_e7ae9_row2_col1\" class=\"data row2 col1\" >0</td>\n",
              "      <td id=\"T_e7ae9_row2_col2\" class=\"data row2 col2\" >1.000000</td>\n",
              "      <td id=\"T_e7ae9_row2_col3\" class=\"data row2 col3\" >0.000000</td>\n",
              "      <td id=\"T_e7ae9_row2_col4\" class=\"data row2 col4\" >nan</td>\n",
              "      <td id=\"T_e7ae9_row2_col5\" class=\"data row2 col5\" >0.272727</td>\n",
              "      <td id=\"T_e7ae9_row2_col6\" class=\"data row2 col6\" >1.000000</td>\n",
              "      <td id=\"T_e7ae9_row2_col7\" class=\"data row2 col7\" >0.000000</td>\n",
              "      <td id=\"T_e7ae9_row2_col8\" class=\"data row2 col8\" >nan</td>\n",
              "      <td id=\"T_e7ae9_row2_col9\" class=\"data row2 col9\" >0.727273</td>\n",
              "      <td id=\"T_e7ae9_row2_col10\" class=\"data row2 col10\" >0.286957</td>\n",
              "      <td id=\"T_e7ae9_row2_col11\" class=\"data row2 col11\" >1.000000</td>\n",
              "      <td id=\"T_e7ae9_row2_col12\" class=\"data row2 col12\" >0.727273</td>\n",
              "      <td id=\"T_e7ae9_row2_col13\" class=\"data row2 col13\" >0.402439</td>\n",
              "      <td id=\"T_e7ae9_row2_col14\" class=\"data row2 col14\" >1.000000</td>\n",
              "      <td id=\"T_e7ae9_row2_col15\" class=\"data row2 col15\" >1.104377</td>\n",
              "      <td id=\"T_e7ae9_row2_col16\" class=\"data row2 col16\" >0.798701</td>\n",
              "      <td id=\"T_e7ae9_row2_col17\" class=\"data row2 col17\" >nan</td>\n",
              "      <td id=\"T_e7ae9_row2_col18\" class=\"data row2 col18\" >1.000000</td>\n",
              "      <td id=\"T_e7ae9_row2_col19\" class=\"data row2 col19\" >nan</td>\n",
              "      <td id=\"T_e7ae9_row2_col20\" class=\"data row2 col20\" >1.000000</td>\n",
              "      <td id=\"T_e7ae9_row2_col21\" class=\"data row2 col21\" >nan</td>\n",
              "      <td id=\"T_e7ae9_row2_col22\" class=\"data row2 col22\" >nan</td>\n",
              "      <td id=\"T_e7ae9_row2_col23\" class=\"data row2 col23\" >nan</td>\n",
              "      <td id=\"T_e7ae9_row2_col24\" class=\"data row2 col24\" >False</td>\n",
              "      <td id=\"T_e7ae9_row2_col25\" class=\"data row2 col25\" >nan</td>\n",
              "      <td id=\"T_e7ae9_row2_col26\" class=\"data row2 col26\" >nan</td>\n",
              "      <td id=\"T_e7ae9_row2_col27\" class=\"data row2 col27\" >True</td>\n",
              "      <td id=\"T_e7ae9_row2_col28\" class=\"data row2 col28\" >False</td>\n",
              "      <td id=\"T_e7ae9_row2_col29\" class=\"data row2 col29\" >True</td>\n",
              "      <td id=\"T_e7ae9_row2_col30\" class=\"data row2 col30\" >True</td>\n",
              "      <td id=\"T_e7ae9_row2_col31\" class=\"data row2 col31\" >True</td>\n",
              "      <td id=\"T_e7ae9_row2_col32\" class=\"data row2 col32\" >False</td>\n",
              "      <td id=\"T_e7ae9_row2_col33\" class=\"data row2 col33\" >False</td>\n",
              "      <td id=\"T_e7ae9_row2_col34\" class=\"data row2 col34\" >False</td>\n",
              "      <td id=\"T_e7ae9_row2_col35\" class=\"data row2 col35\" >nan</td>\n",
              "      <td id=\"T_e7ae9_row2_col36\" class=\"data row2 col36\" >nan</td>\n",
              "      <td id=\"T_e7ae9_row2_col37\" class=\"data row2 col37\" >True</td>\n",
              "    </tr>\n",
              "    <tr>\n",
              "      <th id=\"T_e7ae9_level0_row3\" class=\"row_heading level0 row3\" >3</th>\n",
              "      <td id=\"T_e7ae9_row3_col0\" class=\"data row3 col0\" >Married</td>\n",
              "      <td id=\"T_e7ae9_row3_col1\" class=\"data row3 col1\" >1</td>\n",
              "      <td id=\"T_e7ae9_row3_col2\" class=\"data row3 col2\" >1.000000</td>\n",
              "      <td id=\"T_e7ae9_row3_col3\" class=\"data row3 col3\" >0.000000</td>\n",
              "      <td id=\"T_e7ae9_row3_col4\" class=\"data row3 col4\" >nan</td>\n",
              "      <td id=\"T_e7ae9_row3_col5\" class=\"data row3 col5\" >0.341463</td>\n",
              "      <td id=\"T_e7ae9_row3_col6\" class=\"data row3 col6\" >1.000000</td>\n",
              "      <td id=\"T_e7ae9_row3_col7\" class=\"data row3 col7\" >0.000000</td>\n",
              "      <td id=\"T_e7ae9_row3_col8\" class=\"data row3 col8\" >nan</td>\n",
              "      <td id=\"T_e7ae9_row3_col9\" class=\"data row3 col9\" >0.658537</td>\n",
              "      <td id=\"T_e7ae9_row3_col10\" class=\"data row3 col10\" >0.713043</td>\n",
              "      <td id=\"T_e7ae9_row3_col11\" class=\"data row3 col11\" >1.000000</td>\n",
              "      <td id=\"T_e7ae9_row3_col12\" class=\"data row3 col12\" >0.658537</td>\n",
              "      <td id=\"T_e7ae9_row3_col13\" class=\"data row3 col13\" >1.000000</td>\n",
              "      <td id=\"T_e7ae9_row3_col14\" class=\"data row3 col14\" >1.000000</td>\n",
              "      <td id=\"T_e7ae9_row3_col15\" class=\"data row3 col15\" >1.000000</td>\n",
              "      <td id=\"T_e7ae9_row3_col16\" class=\"data row3 col16\" >1.000000</td>\n",
              "      <td id=\"T_e7ae9_row3_col17\" class=\"data row3 col17\" >nan</td>\n",
              "      <td id=\"T_e7ae9_row3_col18\" class=\"data row3 col18\" >1.000000</td>\n",
              "      <td id=\"T_e7ae9_row3_col19\" class=\"data row3 col19\" >nan</td>\n",
              "      <td id=\"T_e7ae9_row3_col20\" class=\"data row3 col20\" >1.000000</td>\n",
              "      <td id=\"T_e7ae9_row3_col21\" class=\"data row3 col21\" >nan</td>\n",
              "      <td id=\"T_e7ae9_row3_col22\" class=\"data row3 col22\" >nan</td>\n",
              "      <td id=\"T_e7ae9_row3_col23\" class=\"data row3 col23\" >nan</td>\n",
              "      <td id=\"T_e7ae9_row3_col24\" class=\"data row3 col24\" >True</td>\n",
              "      <td id=\"T_e7ae9_row3_col25\" class=\"data row3 col25\" >nan</td>\n",
              "      <td id=\"T_e7ae9_row3_col26\" class=\"data row3 col26\" >nan</td>\n",
              "      <td id=\"T_e7ae9_row3_col27\" class=\"data row3 col27\" >True</td>\n",
              "      <td id=\"T_e7ae9_row3_col28\" class=\"data row3 col28\" >True</td>\n",
              "      <td id=\"T_e7ae9_row3_col29\" class=\"data row3 col29\" >True</td>\n",
              "      <td id=\"T_e7ae9_row3_col30\" class=\"data row3 col30\" >True</td>\n",
              "      <td id=\"T_e7ae9_row3_col31\" class=\"data row3 col31\" >True</td>\n",
              "      <td id=\"T_e7ae9_row3_col32\" class=\"data row3 col32\" >True</td>\n",
              "      <td id=\"T_e7ae9_row3_col33\" class=\"data row3 col33\" >True</td>\n",
              "      <td id=\"T_e7ae9_row3_col34\" class=\"data row3 col34\" >False</td>\n",
              "      <td id=\"T_e7ae9_row3_col35\" class=\"data row3 col35\" >nan</td>\n",
              "      <td id=\"T_e7ae9_row3_col36\" class=\"data row3 col36\" >nan</td>\n",
              "      <td id=\"T_e7ae9_row3_col37\" class=\"data row3 col37\" >True</td>\n",
              "    </tr>\n",
              "    <tr>\n",
              "      <th id=\"T_e7ae9_level0_row4\" class=\"row_heading level0 row4\" >4</th>\n",
              "      <td id=\"T_e7ae9_row4_col0\" class=\"data row4 col0\" >Property_Area</td>\n",
              "      <td id=\"T_e7ae9_row4_col1\" class=\"data row4 col1\" >0</td>\n",
              "      <td id=\"T_e7ae9_row4_col2\" class=\"data row4 col2\" >1.000000</td>\n",
              "      <td id=\"T_e7ae9_row4_col3\" class=\"data row4 col3\" >0.000000</td>\n",
              "      <td id=\"T_e7ae9_row4_col4\" class=\"data row4 col4\" >nan</td>\n",
              "      <td id=\"T_e7ae9_row4_col5\" class=\"data row4 col5\" >0.432432</td>\n",
              "      <td id=\"T_e7ae9_row4_col6\" class=\"data row4 col6\" >1.000000</td>\n",
              "      <td id=\"T_e7ae9_row4_col7\" class=\"data row4 col7\" >0.000000</td>\n",
              "      <td id=\"T_e7ae9_row4_col8\" class=\"data row4 col8\" >nan</td>\n",
              "      <td id=\"T_e7ae9_row4_col9\" class=\"data row4 col9\" >0.567568</td>\n",
              "      <td id=\"T_e7ae9_row4_col10\" class=\"data row4 col10\" >0.321739</td>\n",
              "      <td id=\"T_e7ae9_row4_col11\" class=\"data row4 col11\" >1.000000</td>\n",
              "      <td id=\"T_e7ae9_row4_col12\" class=\"data row4 col12\" >0.567568</td>\n",
              "      <td id=\"T_e7ae9_row4_col13\" class=\"data row4 col13\" >0.822222</td>\n",
              "      <td id=\"T_e7ae9_row4_col14\" class=\"data row4 col14\" >1.000000</td>\n",
              "      <td id=\"T_e7ae9_row4_col15\" class=\"data row4 col15\" >0.751192</td>\n",
              "      <td id=\"T_e7ae9_row4_col16\" class=\"data row4 col16\" >1.769042</td>\n",
              "      <td id=\"T_e7ae9_row4_col17\" class=\"data row4 col17\" >nan</td>\n",
              "      <td id=\"T_e7ae9_row4_col18\" class=\"data row4 col18\" >1.000000</td>\n",
              "      <td id=\"T_e7ae9_row4_col19\" class=\"data row4 col19\" >nan</td>\n",
              "      <td id=\"T_e7ae9_row4_col20\" class=\"data row4 col20\" >1.000000</td>\n",
              "      <td id=\"T_e7ae9_row4_col21\" class=\"data row4 col21\" >nan</td>\n",
              "      <td id=\"T_e7ae9_row4_col22\" class=\"data row4 col22\" >nan</td>\n",
              "      <td id=\"T_e7ae9_row4_col23\" class=\"data row4 col23\" >nan</td>\n",
              "      <td id=\"T_e7ae9_row4_col24\" class=\"data row4 col24\" >False</td>\n",
              "      <td id=\"T_e7ae9_row4_col25\" class=\"data row4 col25\" >nan</td>\n",
              "      <td id=\"T_e7ae9_row4_col26\" class=\"data row4 col26\" >nan</td>\n",
              "      <td id=\"T_e7ae9_row4_col27\" class=\"data row4 col27\" >True</td>\n",
              "      <td id=\"T_e7ae9_row4_col28\" class=\"data row4 col28\" >True</td>\n",
              "      <td id=\"T_e7ae9_row4_col29\" class=\"data row4 col29\" >True</td>\n",
              "      <td id=\"T_e7ae9_row4_col30\" class=\"data row4 col30\" >False</td>\n",
              "      <td id=\"T_e7ae9_row4_col31\" class=\"data row4 col31\" >True</td>\n",
              "      <td id=\"T_e7ae9_row4_col32\" class=\"data row4 col32\" >True</td>\n",
              "      <td id=\"T_e7ae9_row4_col33\" class=\"data row4 col33\" >False</td>\n",
              "      <td id=\"T_e7ae9_row4_col34\" class=\"data row4 col34\" >False</td>\n",
              "      <td id=\"T_e7ae9_row4_col35\" class=\"data row4 col35\" >nan</td>\n",
              "      <td id=\"T_e7ae9_row4_col36\" class=\"data row4 col36\" >nan</td>\n",
              "      <td id=\"T_e7ae9_row4_col37\" class=\"data row4 col37\" >True</td>\n",
              "    </tr>\n",
              "    <tr>\n",
              "      <th id=\"T_e7ae9_level0_row5\" class=\"row_heading level0 row5\" >5</th>\n",
              "      <td id=\"T_e7ae9_row5_col0\" class=\"data row5 col0\" >Property_Area</td>\n",
              "      <td id=\"T_e7ae9_row5_col1\" class=\"data row5 col1\" >1</td>\n",
              "      <td id=\"T_e7ae9_row5_col2\" class=\"data row5 col2\" >1.000000</td>\n",
              "      <td id=\"T_e7ae9_row5_col3\" class=\"data row5 col3\" >0.000000</td>\n",
              "      <td id=\"T_e7ae9_row5_col4\" class=\"data row5 col4\" >nan</td>\n",
              "      <td id=\"T_e7ae9_row5_col5\" class=\"data row5 col5\" >0.244444</td>\n",
              "      <td id=\"T_e7ae9_row5_col6\" class=\"data row5 col6\" >1.000000</td>\n",
              "      <td id=\"T_e7ae9_row5_col7\" class=\"data row5 col7\" >0.000000</td>\n",
              "      <td id=\"T_e7ae9_row5_col8\" class=\"data row5 col8\" >nan</td>\n",
              "      <td id=\"T_e7ae9_row5_col9\" class=\"data row5 col9\" >0.755556</td>\n",
              "      <td id=\"T_e7ae9_row5_col10\" class=\"data row5 col10\" >0.391304</td>\n",
              "      <td id=\"T_e7ae9_row5_col11\" class=\"data row5 col11\" >1.000000</td>\n",
              "      <td id=\"T_e7ae9_row5_col12\" class=\"data row5 col12\" >0.755556</td>\n",
              "      <td id=\"T_e7ae9_row5_col13\" class=\"data row5 col13\" >1.000000</td>\n",
              "      <td id=\"T_e7ae9_row5_col14\" class=\"data row5 col14\" >1.000000</td>\n",
              "      <td id=\"T_e7ae9_row5_col15\" class=\"data row5 col15\" >1.000000</td>\n",
              "      <td id=\"T_e7ae9_row5_col16\" class=\"data row5 col16\" >1.000000</td>\n",
              "      <td id=\"T_e7ae9_row5_col17\" class=\"data row5 col17\" >nan</td>\n",
              "      <td id=\"T_e7ae9_row5_col18\" class=\"data row5 col18\" >1.000000</td>\n",
              "      <td id=\"T_e7ae9_row5_col19\" class=\"data row5 col19\" >nan</td>\n",
              "      <td id=\"T_e7ae9_row5_col20\" class=\"data row5 col20\" >1.000000</td>\n",
              "      <td id=\"T_e7ae9_row5_col21\" class=\"data row5 col21\" >nan</td>\n",
              "      <td id=\"T_e7ae9_row5_col22\" class=\"data row5 col22\" >nan</td>\n",
              "      <td id=\"T_e7ae9_row5_col23\" class=\"data row5 col23\" >nan</td>\n",
              "      <td id=\"T_e7ae9_row5_col24\" class=\"data row5 col24\" >True</td>\n",
              "      <td id=\"T_e7ae9_row5_col25\" class=\"data row5 col25\" >nan</td>\n",
              "      <td id=\"T_e7ae9_row5_col26\" class=\"data row5 col26\" >nan</td>\n",
              "      <td id=\"T_e7ae9_row5_col27\" class=\"data row5 col27\" >True</td>\n",
              "      <td id=\"T_e7ae9_row5_col28\" class=\"data row5 col28\" >True</td>\n",
              "      <td id=\"T_e7ae9_row5_col29\" class=\"data row5 col29\" >True</td>\n",
              "      <td id=\"T_e7ae9_row5_col30\" class=\"data row5 col30\" >True</td>\n",
              "      <td id=\"T_e7ae9_row5_col31\" class=\"data row5 col31\" >True</td>\n",
              "      <td id=\"T_e7ae9_row5_col32\" class=\"data row5 col32\" >True</td>\n",
              "      <td id=\"T_e7ae9_row5_col33\" class=\"data row5 col33\" >True</td>\n",
              "      <td id=\"T_e7ae9_row5_col34\" class=\"data row5 col34\" >False</td>\n",
              "      <td id=\"T_e7ae9_row5_col35\" class=\"data row5 col35\" >nan</td>\n",
              "      <td id=\"T_e7ae9_row5_col36\" class=\"data row5 col36\" >nan</td>\n",
              "      <td id=\"T_e7ae9_row5_col37\" class=\"data row5 col37\" >True</td>\n",
              "    </tr>\n",
              "    <tr>\n",
              "      <th id=\"T_e7ae9_level0_row6\" class=\"row_heading level0 row6\" >6</th>\n",
              "      <td id=\"T_e7ae9_row6_col0\" class=\"data row6 col0\" >Property_Area</td>\n",
              "      <td id=\"T_e7ae9_row6_col1\" class=\"data row6 col1\" >2</td>\n",
              "      <td id=\"T_e7ae9_row6_col2\" class=\"data row6 col2\" >1.000000</td>\n",
              "      <td id=\"T_e7ae9_row6_col3\" class=\"data row6 col3\" >0.000000</td>\n",
              "      <td id=\"T_e7ae9_row6_col4\" class=\"data row6 col4\" >nan</td>\n",
              "      <td id=\"T_e7ae9_row6_col5\" class=\"data row6 col5\" >0.303030</td>\n",
              "      <td id=\"T_e7ae9_row6_col6\" class=\"data row6 col6\" >1.000000</td>\n",
              "      <td id=\"T_e7ae9_row6_col7\" class=\"data row6 col7\" >0.000000</td>\n",
              "      <td id=\"T_e7ae9_row6_col8\" class=\"data row6 col8\" >nan</td>\n",
              "      <td id=\"T_e7ae9_row6_col9\" class=\"data row6 col9\" >0.696970</td>\n",
              "      <td id=\"T_e7ae9_row6_col10\" class=\"data row6 col10\" >0.286957</td>\n",
              "      <td id=\"T_e7ae9_row6_col11\" class=\"data row6 col11\" >1.000000</td>\n",
              "      <td id=\"T_e7ae9_row6_col12\" class=\"data row6 col12\" >0.696970</td>\n",
              "      <td id=\"T_e7ae9_row6_col13\" class=\"data row6 col13\" >0.733333</td>\n",
              "      <td id=\"T_e7ae9_row6_col14\" class=\"data row6 col14\" >1.000000</td>\n",
              "      <td id=\"T_e7ae9_row6_col15\" class=\"data row6 col15\" >0.922460</td>\n",
              "      <td id=\"T_e7ae9_row6_col16\" class=\"data row6 col16\" >1.239669</td>\n",
              "      <td id=\"T_e7ae9_row6_col17\" class=\"data row6 col17\" >nan</td>\n",
              "      <td id=\"T_e7ae9_row6_col18\" class=\"data row6 col18\" >1.000000</td>\n",
              "      <td id=\"T_e7ae9_row6_col19\" class=\"data row6 col19\" >nan</td>\n",
              "      <td id=\"T_e7ae9_row6_col20\" class=\"data row6 col20\" >1.000000</td>\n",
              "      <td id=\"T_e7ae9_row6_col21\" class=\"data row6 col21\" >nan</td>\n",
              "      <td id=\"T_e7ae9_row6_col22\" class=\"data row6 col22\" >nan</td>\n",
              "      <td id=\"T_e7ae9_row6_col23\" class=\"data row6 col23\" >nan</td>\n",
              "      <td id=\"T_e7ae9_row6_col24\" class=\"data row6 col24\" >True</td>\n",
              "      <td id=\"T_e7ae9_row6_col25\" class=\"data row6 col25\" >nan</td>\n",
              "      <td id=\"T_e7ae9_row6_col26\" class=\"data row6 col26\" >nan</td>\n",
              "      <td id=\"T_e7ae9_row6_col27\" class=\"data row6 col27\" >True</td>\n",
              "      <td id=\"T_e7ae9_row6_col28\" class=\"data row6 col28\" >False</td>\n",
              "      <td id=\"T_e7ae9_row6_col29\" class=\"data row6 col29\" >True</td>\n",
              "      <td id=\"T_e7ae9_row6_col30\" class=\"data row6 col30\" >True</td>\n",
              "      <td id=\"T_e7ae9_row6_col31\" class=\"data row6 col31\" >True</td>\n",
              "      <td id=\"T_e7ae9_row6_col32\" class=\"data row6 col32\" >False</td>\n",
              "      <td id=\"T_e7ae9_row6_col33\" class=\"data row6 col33\" >True</td>\n",
              "      <td id=\"T_e7ae9_row6_col34\" class=\"data row6 col34\" >False</td>\n",
              "      <td id=\"T_e7ae9_row6_col35\" class=\"data row6 col35\" >nan</td>\n",
              "      <td id=\"T_e7ae9_row6_col36\" class=\"data row6 col36\" >nan</td>\n",
              "      <td id=\"T_e7ae9_row6_col37\" class=\"data row6 col37\" >True</td>\n",
              "    </tr>\n",
              "  </tbody>\n",
              "</table>\n"
            ]
          },
          "metadata": {},
          "execution_count": 170
        }
      ],
      "source": [
        "# displays table below with fairness metrics and parity determinations for each group.\n",
        "fdf[['attribute_name', 'attribute_value'] + absolute_metrics + calculated_disparities + parity_detrminations].style"
      ]
    },
    {
      "cell_type": "markdown",
      "source": [
        "Interpretation of parities: Our base groups are Gender, Married, and Property_Area.  By construction, the base group has supervised fairness. (The disparity ratio is 1). The fpr for most attributes are 1.0."
      ],
      "metadata": {
        "id": "P4mFiUNJo9ix"
      }
    },
    {
      "cell_type": "code",
      "source": [
        "female_df = test_df.loc[test_df['Gender'] == '0']\n",
        "male_df = test_df.loc[test_df['Gender'] == '1']"
      ],
      "metadata": {
        "id": "sEl-ENDWUKvN"
      },
      "execution_count": 171,
      "outputs": []
    },
    {
      "cell_type": "markdown",
      "source": [
        "Calculated the confusion matrix for the male_df dataframe, which represents the predicted versus actual values of the target variable (i.e., label_value) for the male subgroup of the data."
      ],
      "metadata": {
        "id": "PPeNDFT6pjH8"
      }
    },
    {
      "cell_type": "markdown",
      "source": [
        "display_labels parameter specifies the labels: False and True, representing the negative and positive labels of the target variable."
      ],
      "metadata": {
        "id": "AotP8VDepka9"
      }
    },
    {
      "cell_type": "code",
      "source": [
        "from sklearn import metrics\n",
        "mcm = metrics.confusion_matrix(male_df['label_value'], male_df['score'])\n",
        "metrics.ConfusionMatrixDisplay(confusion_matrix = mcm, display_labels = [False, True]).plot()"
      ],
      "metadata": {
        "id": "cX3QwqoDUOK_",
        "colab": {
          "base_uri": "https://localhost:8080/",
          "height": 1000
        },
        "outputId": "77eed7da-0d78-492f-8f4e-dc7a97c90160"
      },
      "execution_count": 172,
      "outputs": [
        {
          "output_type": "execute_result",
          "data": {
            "text/plain": [
              "<sklearn.metrics._plot.confusion_matrix.ConfusionMatrixDisplay at 0x7fc8ec6666d0>"
            ]
          },
          "metadata": {},
          "execution_count": 172
        },
        {
          "output_type": "display_data",
          "data": {
            "text/plain": [
              "<Figure size 720x1440 with 2 Axes>"
            ],
            "image/png": "[encoded data removed]"
          },
          "metadata": {
            "needs_background": "light"
          }
        }
      ]
    },
    {
      "cell_type": "markdown",
      "source": [
        "Calculated the confusion matrix for the female_df dataframe, which represents the predicted versus actual values of the target variable for the female subgroup of the data. "
      ],
      "metadata": {
        "id": "a4PMSLtNp9N9"
      }
    },
    {
      "cell_type": "code",
      "source": [
        "fcm = metrics.confusion_matrix(female_df['label_value'], female_df['score'])\n",
        "metrics.ConfusionMatrixDisplay(confusion_matrix = fcm, display_labels = [False, True]).plot()"
      ],
      "metadata": {
        "id": "VJMX-1DrUTZP",
        "colab": {
          "base_uri": "https://localhost:8080/",
          "height": 1000
        },
        "outputId": "5cd9b530-2644-42e9-ca16-652340d490fd"
      },
      "execution_count": 173,
      "outputs": [
        {
          "output_type": "execute_result",
          "data": {
            "text/plain": [
              "<sklearn.metrics._plot.confusion_matrix.ConfusionMatrixDisplay at 0x7fc8ec613ca0>"
            ]
          },
          "metadata": {},
          "execution_count": 173
        },
        {
          "output_type": "display_data",
          "data": {
            "text/plain": [
              "<Figure size 720x1440 with 2 Axes>"
            ],
            "image/png": "[encoded data removed]"
          },
          "metadata": {
            "needs_background": "light"
          }
        }
      ]
    },
    {
      "cell_type": "markdown",
      "source": [
        "Since out aequitas analysis returned several NA values, we decided to manually analyze the fainess in our model. "
      ],
      "metadata": {
        "id": "bgnFDZiwp263"
      }
    },
    {
      "cell_type": "code",
      "source": [
        "f_true_positive  = fcm[1][1]\n",
        "f_true_negative  = fcm[0][0]\n",
        "f_false_positive = fcm[0][1]\n",
        "f_false_negative = fcm[1][0]"
      ],
      "metadata": {
        "id": "NLHrZMoQodrp"
      },
      "execution_count": 174,
      "outputs": []
    },
    {
      "cell_type": "code",
      "source": [
        "m_true_positive  = mcm[1][1]\n",
        "m_true_negative  = mcm[0][0]\n",
        "m_false_positive = mcm[0][1]\n",
        "m_false_negative = mcm[1][0]"
      ],
      "metadata": {
        "id": "CsapW6yloel_"
      },
      "execution_count": 175,
      "outputs": []
    },
    {
      "cell_type": "code",
      "source": [
        "#Equal Opportunity ratio\n",
        "#positive predictions at the same rate for both groups\n",
        "m_tpr = m_true_positive / (m_true_positive + m_false_negative)\n",
        "f_tpr = f_true_positive / (f_true_positive + f_false_negative)\n",
        "print('Male tpr')\n",
        "print(m_tpr)\n",
        "print('Female tpr')\n",
        "print(f_tpr)"
      ],
      "metadata": {
        "colab": {
          "base_uri": "https://localhost:8080/"
        },
        "id": "1eSITHTTog30",
        "outputId": "1a6c22a0-6cf3-43ef-9e86-ccc49cf9233b"
      },
      "execution_count": 176,
      "outputs": [
        {
          "output_type": "stream",
          "name": "stdout",
          "text": [
            "Male tpr\n",
            "1.0\n",
            "Female tpr\n",
            "1.0\n"
          ]
        }
      ]
    },
    {
      "cell_type": "code",
      "source": [
        "#Predictive Parity Ratio\n",
        "m_ppv = m_true_positive / (m_true_positive + m_false_positive)\n",
        "f_ppv = f_true_positive / (f_true_positive + f_false_positive)\n",
        "\n",
        "print('Male ppv')\n",
        "print(m_ppv)\n",
        "print('Female ppv')\n",
        "print(f_ppv)"
      ],
      "metadata": {
        "colab": {
          "base_uri": "https://localhost:8080/"
        },
        "id": "rTYWSFztojaZ",
        "outputId": "d25a2209-81b0-473a-b598-948e2618a7ac"
      },
      "execution_count": 177,
      "outputs": [
        {
          "output_type": "stream",
          "name": "stdout",
          "text": [
            "Male ppv\n",
            "0.6739130434782609\n",
            "Female ppv\n",
            "0.6956521739130435\n"
          ]
        }
      ]
    },
    {
      "cell_type": "code",
      "source": [
        "#Predictive Equality Ratio\n",
        "# both the male and female FPR are 1.0, means both groups have the same rate of false positives\n",
        "m_fpr = m_false_positive / (m_false_positive + m_true_negative)\n",
        "f_fpr = f_false_positive / (f_false_positive + f_true_negative)\n",
        "\n",
        "print('Male fpr')\n",
        "print(m_fpr)\n",
        "print('Female fpr')\n",
        "print(f_fpr)"
      ],
      "metadata": {
        "colab": {
          "base_uri": "https://localhost:8080/"
        },
        "id": "2IQmw2Y3ol1N",
        "outputId": "df1a007e-ba7f-400f-cc58-85bd48f99ffc"
      },
      "execution_count": 178,
      "outputs": [
        {
          "output_type": "stream",
          "name": "stdout",
          "text": [
            "Male fpr\n",
            "1.0\n",
            "Female fpr\n",
            "1.0\n"
          ]
        }
      ]
    },
    {
      "cell_type": "markdown",
      "source": [
        "Below, the accuracy equality ratio measures the difference between the accuracy of two groups, with a value of 1 indicating perfect equality, and a value closer to 0 indicating greater inequality. The values indicates a relatively small difference in accuracy between the two groups."
      ],
      "metadata": {
        "id": "vWW8ypOSqvtn"
      }
    },
    {
      "cell_type": "code",
      "source": [
        "#Accuracy Equality Ratio\n",
        "m_acc = (m_true_positive + m_true_negative) / (m_true_positive + m_true_negative + m_false_positive + m_false_negative)\n",
        "f_acc = (f_true_positive + f_true_negative) / (f_true_positive + f_true_negative + f_false_positive + f_false_negative)\n",
        "\n",
        "print('Male acc')\n",
        "print(m_acc)\n",
        "print('Female acc')\n",
        "print(f_acc)"
      ],
      "metadata": {
        "colab": {
          "base_uri": "https://localhost:8080/"
        },
        "id": "cDGndeb_opEl",
        "outputId": "e53be6b7-c8a9-4780-fe15-71a8acacedbc"
      },
      "execution_count": 179,
      "outputs": [
        {
          "output_type": "stream",
          "name": "stdout",
          "text": [
            "Male acc\n",
            "0.6739130434782609\n",
            "Female acc\n",
            "0.6956521739130435\n"
          ]
        }
      ]
    },
    {
      "cell_type": "code",
      "source": [
        "#Statistical Parity Ratio\n",
        "m_stp = (m_true_positive + m_false_positive) / (m_true_positive + m_true_negative + m_false_positive + m_false_negative)\n",
        "f_stp = (f_true_positive + f_false_positive) / (f_true_positive + f_true_negative + f_false_positive + f_false_negative)\n",
        "\n",
        "print('Male stp')\n",
        "print(m_stp)\n",
        "print('Female stp')\n",
        "print(f_stp)"
      ],
      "metadata": {
        "colab": {
          "base_uri": "https://localhost:8080/"
        },
        "id": "IEr8S5dLorn6",
        "outputId": "89f1d5b5-d845-4247-a451-f5f082c4f513"
      },
      "execution_count": 180,
      "outputs": [
        {
          "output_type": "stream",
          "name": "stdout",
          "text": [
            "Male stp\n",
            "1.0\n",
            "Female stp\n",
            "1.0\n"
          ]
        }
      ]
    },
    {
      "cell_type": "markdown",
      "source": [
        "Above we calculated, equal opportunity ratio, predictive parity ratio, predictive equality ratio, accuracy equality ratio, and statistical parity ratio. Our results for all these metrics for both male and females were fairly close. "
      ],
      "metadata": {
        "id": "ncbFdHuV56h2"
      }
    },
    {
      "cell_type": "markdown",
      "source": [
        "From all the analysis in section and the results of the aequitas audit tool kit on their website, we can conclude that our model is fair and shows no gender bias."
      ],
      "metadata": {
        "id": "Udw5MIu77BC0"
      }
    },
    {
      "cell_type": "markdown",
      "metadata": {
        "id": "TJDb6-WBkeOi"
      },
      "source": [
        "# **Mitigating Bias**"
      ]
    },
    {
      "cell_type": "markdown",
      "metadata": {
        "id": "B0SyC21-kktq"
      },
      "source": [
        "To mitigate bias in the data, we can use two techniques: SMOTE oversampling and data normalization using MinMaxScaler. SMOTE will balance the data by creating more examples of underrepresented groups. Normalizing the data makes sure all features have a similar scale, so that no single feature dominates the results. This can prevent bias caused by features with larger ranges having more impact on the results compared to others. Conclusion: Before mitigating bias, we found that our model produces a 68% accuracy, and we can see that applying mitigating bias decreases our accuracy rate (about 64%) on the test data which occurs after balancing and scaling."
      ]
    },
    {
      "cell_type": "code",
      "execution_count": 181,
      "metadata": {
        "id": "L8-whHG5kgXN",
        "colab": {
          "base_uri": "https://localhost:8080/"
        },
        "outputId": "7b13177a-febf-47f1-9fe1-b691ba1742d2"
      },
      "outputs": [
        {
          "output_type": "stream",
          "name": "stdout",
          "text": [
            "Before balancing: Counter({1: 324, 0: 138})\n",
            "After balancing: Counter({0: 324, 1: 324})\n",
            "Epoch 1/10\n",
            "21/21 [==============================] - 0s 3ms/step - loss: 0.7020\n",
            "Epoch 2/10\n",
            "21/21 [==============================] - 0s 3ms/step - loss: 0.6990\n",
            "Epoch 3/10\n",
            "21/21 [==============================] - 0s 4ms/step - loss: 0.6974\n",
            "Epoch 4/10\n",
            "21/21 [==============================] - 0s 4ms/step - loss: 0.6959\n",
            "Epoch 5/10\n",
            "21/21 [==============================] - 0s 3ms/step - loss: 0.6950\n",
            "Epoch 6/10\n",
            "21/21 [==============================] - 0s 3ms/step - loss: 0.6944\n",
            "Epoch 7/10\n",
            "21/21 [==============================] - 0s 4ms/step - loss: 0.6931\n",
            "Epoch 8/10\n",
            "21/21 [==============================] - 0s 3ms/step - loss: 0.6926\n",
            "Epoch 9/10\n",
            "21/21 [==============================] - 0s 3ms/step - loss: 0.6916\n",
            "Epoch 10/10\n",
            "21/21 [==============================] - 0s 3ms/step - loss: 0.6907\n",
            "4/4 [==============================] - 0s 7ms/step - loss: 0.6797\n",
            "Accuracy: 67.97%\n"
          ]
        }
      ],
      "source": [
        "from collections import Counter\n",
        "from imblearn.over_sampling import SMOTE\n",
        "from sklearn.preprocessing import MinMaxScaler\n",
        "\n",
        "# Load and preprocess the data\n",
        "X_train, X_test, y_train, y_test = train_test_split(data2, labels2, test_size=0.20, random_state=42)\n",
        "\n",
        "# Print distribution before balancing\n",
        "print(\"Before balancing:\", Counter(y_train))\n",
        "\n",
        "S=SMOTE()\n",
        "X_train_data, y_train_data = S.fit_resample(X_train, y_train)\n",
        "\n",
        "# Print distribution after balancing\n",
        "print(\"After balancing:\", Counter(y_train_data))\n",
        "\n",
        "scalar = MinMaxScaler()\n",
        "scalar.fit(X_train_data)\n",
        "\n",
        "X_train_scaled = scalar.transform(X_train_data)\n",
        "X_test_scaled = scalar.transform(X_test)\n",
        "\n",
        "\n",
        "model.fit(X_train_scaled, y_train_data,epochs=10, batch_size=32)\n",
        "\n",
        "accuracy = model.evaluate(X_test_scaled, y_test)\n",
        "print(f\"Accuracy: {accuracy * 100:.2f}%\")"
      ]
    }
  ],
  "metadata": {
    "colab": {
      "provenance": []
    },
    "kernelspec": {
      "display_name": "Python 3",
      "name": "python3"
    },
    "language_info": {
      "name": "python"
    }
  },
  "nbformat": 4,
  "nbformat_minor": 0
}